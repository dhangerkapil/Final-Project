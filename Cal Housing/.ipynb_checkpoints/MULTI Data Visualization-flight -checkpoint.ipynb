{
 "cells": [
  {
   "cell_type": "markdown",
   "metadata": {},
   "source": [
    "Data Dictionary\n",
    "Variable\tDefinition\tKey\n",
    "survival\tSurvival\t0 = No, 1 = Yes\n",
    "pclass\tTicket class\t1 = 1st, 2 = 2nd, 3 = 3rd\n",
    "sex\tSex\t\n",
    "Age\tAge in years\t\n",
    "sibsp\t# of siblings / spouses aboard the Titanic\t\n",
    "parch\t# of parents / children aboard the Titanic\t\n",
    "ticket\tTicket number\t\n",
    "fare\tPassenger fare\t\n",
    "cabin\tCabin number\t\n",
    "embarked\tPort of Embarkation\tC = Cherbourg, Q = Queenstown, S = Southampton\n",
    "Variable Notes\n",
    "pclass: A proxy for socio-economic status (SES)\n",
    "1st = Upper\n",
    "2nd = Middle\n",
    "3rd = Lower\n",
    "\n",
    "age: Age is fractional if less than 1. If the age is estimated, is it in the form of xx.5\n",
    "\n",
    "sibsp: The dataset defines family relations in this way...\n",
    "Sibling = brother, sister, stepbrother, stepsister\n",
    "Spouse = husband, wife (mistresses and fiancés were ignored)\n",
    "\n",
    "parch: The dataset defines family relations in this way...\n",
    "Parent = mother, father\n",
    "Child = daughter, son, stepdaughter, stepson\n",
    "Some children travelled only with a nanny, therefore parch=0 for them.\n",
    "\n",
    "**survival:    Survival\n",
    "PassengerId: Unique Id of a passenger. \n",
    "pclass:    Ticket class     \n",
    "sex:    Sex     \n",
    "Age:    Age in years     \n",
    "sibsp:    # of siblings / spouses aboard the Titanic     \n",
    "parch:    # of parents / children aboard the Titanic     \n",
    "ticket:    Ticket number     \n",
    "fare:    Passenger fare     \n",
    "cabin:    Cabin number     \n",
    "embarked:    Port of Embarkation\n",
    "titanic_df.describe()**\n"
   ]
  },
  {
   "cell_type": "code",
   "execution_count": 1,
   "metadata": {},
   "outputs": [],
   "source": [
    "#Aref - updated for Cal housing dataset "
   ]
  },
  {
   "cell_type": "code",
   "execution_count": 2,
   "metadata": {},
   "outputs": [],
   "source": [
    "# linear algebra\n",
    "import numpy as np \n",
    "\n",
    "# data processing\n",
    "import pandas as pd \n",
    "\n",
    "# data visualization\n",
    "import seaborn as sns\n",
    "%matplotlib inline\n",
    "from matplotlib import pyplot as plt\n",
    "from matplotlib import style\n",
    "\n",
    "# Algorithms\n",
    "# from sklearn import linear_model\n",
    "# from sklearn.linear_model import LogisticRegression\n",
    "from sklearn.ensemble import RandomForestClassifier\n",
    "\n",
    "from sklearn import tree\n",
    "import pandas as pd\n",
    "import os\n",
    "from sklearn.neighbors import KNeighborsClassifier"
   ]
  },
  {
   "cell_type": "code",
   "execution_count": 3,
   "metadata": {},
   "outputs": [],
   "source": [
    "titanic_df = pd.read_csv(\"cal30.csv\")\n"
   ]
  },
  {
   "cell_type": "code",
   "execution_count": 4,
   "metadata": {},
   "outputs": [
    {
     "data": {
      "text/plain": [
       "<bound method NDFrame.head of     longitude  latitude  housingMedianAge  totalRooms  totalBedrooms  \\\n",
       "0     -122.28     37.85                49        1130            244   \n",
       "1     -122.27     37.84                52        1688            337   \n",
       "2     -122.28     37.85                52        1898            421   \n",
       "3     -122.28     37.85                41         535            123   \n",
       "4     -122.28     37.84                50        2082            492   \n",
       "5     -122.27     37.84                52        2436            541   \n",
       "6     -122.28     37.84                52         729            160   \n",
       "7     -122.27     37.84                52        2224            437   \n",
       "8     -122.26     37.85                50        1120            283   \n",
       "9     -122.27     37.85                40         751            184   \n",
       "10    -122.27     37.85                52        1966            347   \n",
       "11    -122.27     37.85                52        1228            293   \n",
       "12    -122.26     37.84                50        2239            455   \n",
       "13    -122.26     37.85                52        2643            626   \n",
       "14    -122.27     37.85                42        1639            367   \n",
       "15    -122.27     37.84                52        1503            298   \n",
       "16    -122.26     37.84                52         696            191   \n",
       "17    -122.26     37.85                52        2491            474   \n",
       "18    -122.26     37.84                42        2555            665   \n",
       "19    -122.25     37.84                52        3104            687   \n",
       "20    -122.26     37.85                52        3503            752   \n",
       "21    -122.25     37.84                52        3549            707   \n",
       "22    -122.25     37.85                52         919            213   \n",
       "23    -122.26     37.85                52        2202            434   \n",
       "24    -122.25     37.84                52        2535            489   \n",
       "25    -122.25     37.85                52        1274            235   \n",
       "26    -122.25     37.85                52        1627            280   \n",
       "27    -122.24     37.85                52        1467            190   \n",
       "28    -122.22     37.86                21        7099           1106   \n",
       "29    -122.23     37.88                41         880            129   \n",
       "\n",
       "    population  households  medianIncome  medianHouseValue  expensive  \n",
       "0          607         239        2.4597             93800          0  \n",
       "1          853         325        2.1806             99700          0  \n",
       "2         1102         397        1.8080            105500          0  \n",
       "3          317         119        2.4038            107500          0  \n",
       "4         1131         473        1.6424            108900          0  \n",
       "5         1015         478        1.7250            113900          0  \n",
       "6          395         155        1.6875            132000          0  \n",
       "7         1006         422        2.6000            132600          0  \n",
       "8          697         264        2.1250            140000          0  \n",
       "9          409         166        1.3578            147500          0  \n",
       "10         793         331        2.7750            152500          0  \n",
       "11         648         303        2.1202            155500          0  \n",
       "12         990         419        1.9911            158700          0  \n",
       "13        1212         620        1.9167            159200          0  \n",
       "14         929         366        1.7135            159800          0  \n",
       "15         690         275        2.6033            162900          0  \n",
       "16         345         174        2.6736            191300          0  \n",
       "17        1098         468        3.0750            213500          1  \n",
       "18        1206         595        2.0804            226700          1  \n",
       "19        1157         647        3.1200            241400          1  \n",
       "20        1504         734        3.2705            241800          1  \n",
       "21        1551         714        3.6912            261100          1  \n",
       "22         413         193        4.0368            269700          1  \n",
       "23         910         402        3.2031            281500          1  \n",
       "24        1094         514        3.6591            299200          1  \n",
       "25         558         219        5.6431            341300          1  \n",
       "26         565         259        3.8462            342200          1  \n",
       "27         496         177        7.2574            352100          1  \n",
       "28        2401        1138        8.3014            358500          1  \n",
       "29         322         126        8.3252            452600          1  >"
      ]
     },
     "execution_count": 4,
     "metadata": {},
     "output_type": "execute_result"
    }
   ],
   "source": [
    "titanic_df.head"
   ]
  },
  {
   "cell_type": "code",
   "execution_count": 6,
   "metadata": {},
   "outputs": [
    {
     "data": {
      "text/plain": [
       "0     0\n",
       "1     0\n",
       "2     0\n",
       "3     0\n",
       "4     0\n",
       "5     0\n",
       "6     0\n",
       "7     0\n",
       "8     0\n",
       "9     0\n",
       "10    0\n",
       "11    0\n",
       "12    0\n",
       "13    0\n",
       "14    0\n",
       "15    0\n",
       "16    0\n",
       "17    1\n",
       "18    1\n",
       "19    1\n",
       "20    1\n",
       "21    1\n",
       "22    1\n",
       "23    1\n",
       "24    1\n",
       "25    1\n",
       "26    1\n",
       "27    1\n",
       "28    1\n",
       "29    1\n",
       "Name: expensive, dtype: int64"
      ]
     },
     "execution_count": 6,
     "metadata": {},
     "output_type": "execute_result"
    }
   ],
   "source": [
    "titanic_df['expensive']"
   ]
  },
  {
   "cell_type": "code",
   "execution_count": 7,
   "metadata": {},
   "outputs": [
    {
     "data": {
      "text/plain": [
       "<bound method NDFrame.head of     longitude  latitude  housingMedianAge  totalRooms  totalBedrooms  \\\n",
       "0     -122.28     37.85                49        1130            244   \n",
       "1     -122.27     37.84                52        1688            337   \n",
       "2     -122.28     37.85                52        1898            421   \n",
       "3     -122.28     37.85                41         535            123   \n",
       "4     -122.28     37.84                50        2082            492   \n",
       "5     -122.27     37.84                52        2436            541   \n",
       "6     -122.28     37.84                52         729            160   \n",
       "7     -122.27     37.84                52        2224            437   \n",
       "8     -122.26     37.85                50        1120            283   \n",
       "9     -122.27     37.85                40         751            184   \n",
       "10    -122.27     37.85                52        1966            347   \n",
       "11    -122.27     37.85                52        1228            293   \n",
       "12    -122.26     37.84                50        2239            455   \n",
       "13    -122.26     37.85                52        2643            626   \n",
       "14    -122.27     37.85                42        1639            367   \n",
       "15    -122.27     37.84                52        1503            298   \n",
       "16    -122.26     37.84                52         696            191   \n",
       "17    -122.26     37.85                52        2491            474   \n",
       "18    -122.26     37.84                42        2555            665   \n",
       "19    -122.25     37.84                52        3104            687   \n",
       "20    -122.26     37.85                52        3503            752   \n",
       "21    -122.25     37.84                52        3549            707   \n",
       "22    -122.25     37.85                52         919            213   \n",
       "23    -122.26     37.85                52        2202            434   \n",
       "24    -122.25     37.84                52        2535            489   \n",
       "25    -122.25     37.85                52        1274            235   \n",
       "26    -122.25     37.85                52        1627            280   \n",
       "27    -122.24     37.85                52        1467            190   \n",
       "28    -122.22     37.86                21        7099           1106   \n",
       "29    -122.23     37.88                41         880            129   \n",
       "\n",
       "    population  households  medianIncome  medianHouseValue  expensive  \n",
       "0          607         239        2.4597             93800          0  \n",
       "1          853         325        2.1806             99700          0  \n",
       "2         1102         397        1.8080            105500          0  \n",
       "3          317         119        2.4038            107500          0  \n",
       "4         1131         473        1.6424            108900          0  \n",
       "5         1015         478        1.7250            113900          0  \n",
       "6          395         155        1.6875            132000          0  \n",
       "7         1006         422        2.6000            132600          0  \n",
       "8          697         264        2.1250            140000          0  \n",
       "9          409         166        1.3578            147500          0  \n",
       "10         793         331        2.7750            152500          0  \n",
       "11         648         303        2.1202            155500          0  \n",
       "12         990         419        1.9911            158700          0  \n",
       "13        1212         620        1.9167            159200          0  \n",
       "14         929         366        1.7135            159800          0  \n",
       "15         690         275        2.6033            162900          0  \n",
       "16         345         174        2.6736            191300          0  \n",
       "17        1098         468        3.0750            213500          1  \n",
       "18        1206         595        2.0804            226700          1  \n",
       "19        1157         647        3.1200            241400          1  \n",
       "20        1504         734        3.2705            241800          1  \n",
       "21        1551         714        3.6912            261100          1  \n",
       "22         413         193        4.0368            269700          1  \n",
       "23         910         402        3.2031            281500          1  \n",
       "24        1094         514        3.6591            299200          1  \n",
       "25         558         219        5.6431            341300          1  \n",
       "26         565         259        3.8462            342200          1  \n",
       "27         496         177        7.2574            352100          1  \n",
       "28        2401        1138        8.3014            358500          1  \n",
       "29         322         126        8.3252            452600          1  >"
      ]
     },
     "execution_count": 7,
     "metadata": {},
     "output_type": "execute_result"
    }
   ],
   "source": [
    "#titanic_df['cancelled'] = titanic_df['cancelled'].map({'cancelyes': 1.0, 'cancelno': 0.0})\n",
    "titanic_df.head"
   ]
  },
  {
   "cell_type": "code",
   "execution_count": 10,
   "metadata": {},
   "outputs": [
    {
     "data": {
      "text/html": [
       "<div>\n",
       "<style scoped>\n",
       "    .dataframe tbody tr th:only-of-type {\n",
       "        vertical-align: middle;\n",
       "    }\n",
       "\n",
       "    .dataframe tbody tr th {\n",
       "        vertical-align: top;\n",
       "    }\n",
       "\n",
       "    .dataframe thead th {\n",
       "        text-align: right;\n",
       "    }\n",
       "</style>\n",
       "<table border=\"1\" class=\"dataframe\">\n",
       "  <thead>\n",
       "    <tr style=\"text-align: right;\">\n",
       "      <th></th>\n",
       "      <th>longitude</th>\n",
       "      <th>latitude</th>\n",
       "      <th>housingMedianAge</th>\n",
       "      <th>totalRooms</th>\n",
       "      <th>totalBedrooms</th>\n",
       "      <th>population</th>\n",
       "      <th>households</th>\n",
       "      <th>medianIncome</th>\n",
       "      <th>medianHouseValue</th>\n",
       "      <th>expensive</th>\n",
       "    </tr>\n",
       "  </thead>\n",
       "  <tbody>\n",
       "    <tr>\n",
       "      <th>25</th>\n",
       "      <td>-122.25</td>\n",
       "      <td>37.85</td>\n",
       "      <td>52</td>\n",
       "      <td>1274</td>\n",
       "      <td>235</td>\n",
       "      <td>558</td>\n",
       "      <td>219</td>\n",
       "      <td>5.6431</td>\n",
       "      <td>341300</td>\n",
       "      <td>1</td>\n",
       "    </tr>\n",
       "    <tr>\n",
       "      <th>21</th>\n",
       "      <td>-122.25</td>\n",
       "      <td>37.84</td>\n",
       "      <td>52</td>\n",
       "      <td>3549</td>\n",
       "      <td>707</td>\n",
       "      <td>1551</td>\n",
       "      <td>714</td>\n",
       "      <td>3.6912</td>\n",
       "      <td>261100</td>\n",
       "      <td>1</td>\n",
       "    </tr>\n",
       "    <tr>\n",
       "      <th>10</th>\n",
       "      <td>-122.27</td>\n",
       "      <td>37.85</td>\n",
       "      <td>52</td>\n",
       "      <td>1966</td>\n",
       "      <td>347</td>\n",
       "      <td>793</td>\n",
       "      <td>331</td>\n",
       "      <td>2.7750</td>\n",
       "      <td>152500</td>\n",
       "      <td>0</td>\n",
       "    </tr>\n",
       "    <tr>\n",
       "      <th>15</th>\n",
       "      <td>-122.27</td>\n",
       "      <td>37.84</td>\n",
       "      <td>52</td>\n",
       "      <td>1503</td>\n",
       "      <td>298</td>\n",
       "      <td>690</td>\n",
       "      <td>275</td>\n",
       "      <td>2.6033</td>\n",
       "      <td>162900</td>\n",
       "      <td>0</td>\n",
       "    </tr>\n",
       "    <tr>\n",
       "      <th>12</th>\n",
       "      <td>-122.26</td>\n",
       "      <td>37.84</td>\n",
       "      <td>50</td>\n",
       "      <td>2239</td>\n",
       "      <td>455</td>\n",
       "      <td>990</td>\n",
       "      <td>419</td>\n",
       "      <td>1.9911</td>\n",
       "      <td>158700</td>\n",
       "      <td>0</td>\n",
       "    </tr>\n",
       "    <tr>\n",
       "      <th>14</th>\n",
       "      <td>-122.27</td>\n",
       "      <td>37.85</td>\n",
       "      <td>42</td>\n",
       "      <td>1639</td>\n",
       "      <td>367</td>\n",
       "      <td>929</td>\n",
       "      <td>366</td>\n",
       "      <td>1.7135</td>\n",
       "      <td>159800</td>\n",
       "      <td>0</td>\n",
       "    </tr>\n",
       "    <tr>\n",
       "      <th>23</th>\n",
       "      <td>-122.26</td>\n",
       "      <td>37.85</td>\n",
       "      <td>52</td>\n",
       "      <td>2202</td>\n",
       "      <td>434</td>\n",
       "      <td>910</td>\n",
       "      <td>402</td>\n",
       "      <td>3.2031</td>\n",
       "      <td>281500</td>\n",
       "      <td>1</td>\n",
       "    </tr>\n",
       "    <tr>\n",
       "      <th>13</th>\n",
       "      <td>-122.26</td>\n",
       "      <td>37.85</td>\n",
       "      <td>52</td>\n",
       "      <td>2643</td>\n",
       "      <td>626</td>\n",
       "      <td>1212</td>\n",
       "      <td>620</td>\n",
       "      <td>1.9167</td>\n",
       "      <td>159200</td>\n",
       "      <td>0</td>\n",
       "    </tr>\n",
       "    <tr>\n",
       "      <th>4</th>\n",
       "      <td>-122.28</td>\n",
       "      <td>37.84</td>\n",
       "      <td>50</td>\n",
       "      <td>2082</td>\n",
       "      <td>492</td>\n",
       "      <td>1131</td>\n",
       "      <td>473</td>\n",
       "      <td>1.6424</td>\n",
       "      <td>108900</td>\n",
       "      <td>0</td>\n",
       "    </tr>\n",
       "    <tr>\n",
       "      <th>5</th>\n",
       "      <td>-122.27</td>\n",
       "      <td>37.84</td>\n",
       "      <td>52</td>\n",
       "      <td>2436</td>\n",
       "      <td>541</td>\n",
       "      <td>1015</td>\n",
       "      <td>478</td>\n",
       "      <td>1.7250</td>\n",
       "      <td>113900</td>\n",
       "      <td>0</td>\n",
       "    </tr>\n",
       "  </tbody>\n",
       "</table>\n",
       "</div>"
      ],
      "text/plain": [
       "    longitude  latitude  housingMedianAge  totalRooms  totalBedrooms  \\\n",
       "25    -122.25     37.85                52        1274            235   \n",
       "21    -122.25     37.84                52        3549            707   \n",
       "10    -122.27     37.85                52        1966            347   \n",
       "15    -122.27     37.84                52        1503            298   \n",
       "12    -122.26     37.84                50        2239            455   \n",
       "14    -122.27     37.85                42        1639            367   \n",
       "23    -122.26     37.85                52        2202            434   \n",
       "13    -122.26     37.85                52        2643            626   \n",
       "4     -122.28     37.84                50        2082            492   \n",
       "5     -122.27     37.84                52        2436            541   \n",
       "\n",
       "    population  households  medianIncome  medianHouseValue  expensive  \n",
       "25         558         219        5.6431            341300          1  \n",
       "21        1551         714        3.6912            261100          1  \n",
       "10         793         331        2.7750            152500          0  \n",
       "15         690         275        2.6033            162900          0  \n",
       "12         990         419        1.9911            158700          0  \n",
       "14         929         366        1.7135            159800          0  \n",
       "23         910         402        3.2031            281500          1  \n",
       "13        1212         620        1.9167            159200          0  \n",
       "4         1131         473        1.6424            108900          0  \n",
       "5         1015         478        1.7250            113900          0  "
      ]
     },
     "execution_count": 10,
     "metadata": {},
     "output_type": "execute_result"
    }
   ],
   "source": [
    "data = titanic_df#.drop(columns=[\"flightdate\",\"origin\",'carrier', 'destination', \"depdelta\", \"arrtime\", \"arrdelta\"])\n",
    "data.sample(10)"
   ]
  },
  {
   "cell_type": "code",
   "execution_count": 17,
   "metadata": {},
   "outputs": [
    {
     "name": "stdout",
     "output_type": "stream",
     "text": [
      "Mean Median House Value\n"
     ]
    },
    {
     "data": {
      "text/plain": [
       "<Figure size 1224x720 with 0 Axes>"
      ]
     },
     "metadata": {},
     "output_type": "display_data"
    },
    {
     "data": {
      "image/png": "[encoded data removed]",
      "text/plain": [
       "<Figure size 432x288 with 1 Axes>"
      ]
     },
     "metadata": {},
     "output_type": "display_data"
    }
   ],
   "source": [
    "fig=plt.figure(figsize=(17,10))\n",
    "data.hist(column=\"medianHouseValue\", bins=30)\n",
    "plt.xlabel(\"medianIncome\",fontsize=15)\n",
    "plt.ylabel(\"medianHouseValue\",fontsize=15)\n",
    "plt.xlim([0.0,1000000.0])\n",
    "plt.axvline(data[\"medianIncome\"].mean(), color=\"red\")\n",
    "print('Mean Median House Value'.format(data[\"medianHouseValue\"].mean()))\n"
   ]
  },
  {
   "cell_type": "code",
   "execution_count": 18,
   "metadata": {},
   "outputs": [
    {
     "data": {
      "text/html": [
       "<div>\n",
       "<style scoped>\n",
       "    .dataframe tbody tr th:only-of-type {\n",
       "        vertical-align: middle;\n",
       "    }\n",
       "\n",
       "    .dataframe tbody tr th {\n",
       "        vertical-align: top;\n",
       "    }\n",
       "\n",
       "    .dataframe thead th {\n",
       "        text-align: right;\n",
       "    }\n",
       "</style>\n",
       "<table border=\"1\" class=\"dataframe\">\n",
       "  <thead>\n",
       "    <tr style=\"text-align: right;\">\n",
       "      <th></th>\n",
       "      <th>longitude</th>\n",
       "      <th>latitude</th>\n",
       "      <th>housingMedianAge</th>\n",
       "      <th>totalRooms</th>\n",
       "      <th>totalBedrooms</th>\n",
       "      <th>population</th>\n",
       "      <th>households</th>\n",
       "      <th>medianIncome</th>\n",
       "      <th>medianHouseValue</th>\n",
       "      <th>expensive</th>\n",
       "      <th>depdelay</th>\n",
       "    </tr>\n",
       "  </thead>\n",
       "  <tbody>\n",
       "    <tr>\n",
       "      <th>0</th>\n",
       "      <td>-122.28</td>\n",
       "      <td>37.85</td>\n",
       "      <td>49</td>\n",
       "      <td>1130</td>\n",
       "      <td>244</td>\n",
       "      <td>607</td>\n",
       "      <td>239</td>\n",
       "      <td>2.4597</td>\n",
       "      <td>93800</td>\n",
       "      <td>0</td>\n",
       "      <td>93800</td>\n",
       "    </tr>\n",
       "    <tr>\n",
       "      <th>1</th>\n",
       "      <td>-122.27</td>\n",
       "      <td>37.84</td>\n",
       "      <td>52</td>\n",
       "      <td>1688</td>\n",
       "      <td>337</td>\n",
       "      <td>853</td>\n",
       "      <td>325</td>\n",
       "      <td>2.1806</td>\n",
       "      <td>99700</td>\n",
       "      <td>0</td>\n",
       "      <td>99700</td>\n",
       "    </tr>\n",
       "    <tr>\n",
       "      <th>2</th>\n",
       "      <td>-122.28</td>\n",
       "      <td>37.85</td>\n",
       "      <td>52</td>\n",
       "      <td>1898</td>\n",
       "      <td>421</td>\n",
       "      <td>1102</td>\n",
       "      <td>397</td>\n",
       "      <td>1.8080</td>\n",
       "      <td>105500</td>\n",
       "      <td>0</td>\n",
       "      <td>105500</td>\n",
       "    </tr>\n",
       "    <tr>\n",
       "      <th>3</th>\n",
       "      <td>-122.28</td>\n",
       "      <td>37.85</td>\n",
       "      <td>41</td>\n",
       "      <td>535</td>\n",
       "      <td>123</td>\n",
       "      <td>317</td>\n",
       "      <td>119</td>\n",
       "      <td>2.4038</td>\n",
       "      <td>107500</td>\n",
       "      <td>0</td>\n",
       "      <td>107500</td>\n",
       "    </tr>\n",
       "    <tr>\n",
       "      <th>4</th>\n",
       "      <td>-122.28</td>\n",
       "      <td>37.84</td>\n",
       "      <td>50</td>\n",
       "      <td>2082</td>\n",
       "      <td>492</td>\n",
       "      <td>1131</td>\n",
       "      <td>473</td>\n",
       "      <td>1.6424</td>\n",
       "      <td>108900</td>\n",
       "      <td>0</td>\n",
       "      <td>108900</td>\n",
       "    </tr>\n",
       "    <tr>\n",
       "      <th>5</th>\n",
       "      <td>-122.27</td>\n",
       "      <td>37.84</td>\n",
       "      <td>52</td>\n",
       "      <td>2436</td>\n",
       "      <td>541</td>\n",
       "      <td>1015</td>\n",
       "      <td>478</td>\n",
       "      <td>1.7250</td>\n",
       "      <td>113900</td>\n",
       "      <td>0</td>\n",
       "      <td>113900</td>\n",
       "    </tr>\n",
       "    <tr>\n",
       "      <th>6</th>\n",
       "      <td>-122.28</td>\n",
       "      <td>37.84</td>\n",
       "      <td>52</td>\n",
       "      <td>729</td>\n",
       "      <td>160</td>\n",
       "      <td>395</td>\n",
       "      <td>155</td>\n",
       "      <td>1.6875</td>\n",
       "      <td>132000</td>\n",
       "      <td>0</td>\n",
       "      <td>132000</td>\n",
       "    </tr>\n",
       "    <tr>\n",
       "      <th>7</th>\n",
       "      <td>-122.27</td>\n",
       "      <td>37.84</td>\n",
       "      <td>52</td>\n",
       "      <td>2224</td>\n",
       "      <td>437</td>\n",
       "      <td>1006</td>\n",
       "      <td>422</td>\n",
       "      <td>2.6000</td>\n",
       "      <td>132600</td>\n",
       "      <td>0</td>\n",
       "      <td>132600</td>\n",
       "    </tr>\n",
       "    <tr>\n",
       "      <th>8</th>\n",
       "      <td>-122.26</td>\n",
       "      <td>37.85</td>\n",
       "      <td>50</td>\n",
       "      <td>1120</td>\n",
       "      <td>283</td>\n",
       "      <td>697</td>\n",
       "      <td>264</td>\n",
       "      <td>2.1250</td>\n",
       "      <td>140000</td>\n",
       "      <td>0</td>\n",
       "      <td>140000</td>\n",
       "    </tr>\n",
       "    <tr>\n",
       "      <th>9</th>\n",
       "      <td>-122.27</td>\n",
       "      <td>37.85</td>\n",
       "      <td>40</td>\n",
       "      <td>751</td>\n",
       "      <td>184</td>\n",
       "      <td>409</td>\n",
       "      <td>166</td>\n",
       "      <td>1.3578</td>\n",
       "      <td>147500</td>\n",
       "      <td>0</td>\n",
       "      <td>147500</td>\n",
       "    </tr>\n",
       "  </tbody>\n",
       "</table>\n",
       "</div>"
      ],
      "text/plain": [
       "   longitude  latitude  housingMedianAge  totalRooms  totalBedrooms  \\\n",
       "0    -122.28     37.85                49        1130            244   \n",
       "1    -122.27     37.84                52        1688            337   \n",
       "2    -122.28     37.85                52        1898            421   \n",
       "3    -122.28     37.85                41         535            123   \n",
       "4    -122.28     37.84                50        2082            492   \n",
       "5    -122.27     37.84                52        2436            541   \n",
       "6    -122.28     37.84                52         729            160   \n",
       "7    -122.27     37.84                52        2224            437   \n",
       "8    -122.26     37.85                50        1120            283   \n",
       "9    -122.27     37.85                40         751            184   \n",
       "\n",
       "   population  households  medianIncome  medianHouseValue  expensive  depdelay  \n",
       "0         607         239        2.4597             93800          0     93800  \n",
       "1         853         325        2.1806             99700          0     99700  \n",
       "2        1102         397        1.8080            105500          0    105500  \n",
       "3         317         119        2.4038            107500          0    107500  \n",
       "4        1131         473        1.6424            108900          0    108900  \n",
       "5        1015         478        1.7250            113900          0    113900  \n",
       "6         395         155        1.6875            132000          0    132000  \n",
       "7        1006         422        2.6000            132600          0    132600  \n",
       "8         697         264        2.1250            140000          0    140000  \n",
       "9         409         166        1.3578            147500          0    147500  "
      ]
     },
     "execution_count": 18,
     "metadata": {},
     "output_type": "execute_result"
    }
   ],
   "source": [
    "data_nona = data[\"medianHouseValue\"].fillna(data[\"medianHouseValue\"].mean())\n",
    "data[\"depdelay\"]=data_nona\n",
    "data.head(10)"
   ]
  },
  {
   "cell_type": "code",
   "execution_count": 42,
   "metadata": {},
   "outputs": [],
   "source": [
    "# data.info()"
   ]
  },
  {
   "cell_type": "markdown",
   "metadata": {},
   "source": [
    "# Decision Tree Algorithm"
   ]
  },
  {
   "cell_type": "code",
   "execution_count": 20,
   "metadata": {},
   "outputs": [],
   "source": [
    "target = data[\"expensive\"]\n",
    "target_names = [\"yes\", \"no\"]"
   ]
  },
  {
   "cell_type": "code",
   "execution_count": 22,
   "metadata": {},
   "outputs": [
    {
     "data": {
      "text/html": [
       "<div>\n",
       "<style scoped>\n",
       "    .dataframe tbody tr th:only-of-type {\n",
       "        vertical-align: middle;\n",
       "    }\n",
       "\n",
       "    .dataframe tbody tr th {\n",
       "        vertical-align: top;\n",
       "    }\n",
       "\n",
       "    .dataframe thead th {\n",
       "        text-align: right;\n",
       "    }\n",
       "</style>\n",
       "<table border=\"1\" class=\"dataframe\">\n",
       "  <thead>\n",
       "    <tr style=\"text-align: right;\">\n",
       "      <th></th>\n",
       "      <th>longitude</th>\n",
       "      <th>latitude</th>\n",
       "      <th>housingMedianAge</th>\n",
       "      <th>totalRooms</th>\n",
       "      <th>totalBedrooms</th>\n",
       "      <th>population</th>\n",
       "      <th>households</th>\n",
       "      <th>medianIncome</th>\n",
       "      <th>medianHouseValue</th>\n",
       "      <th>depdelay</th>\n",
       "    </tr>\n",
       "  </thead>\n",
       "  <tbody>\n",
       "    <tr>\n",
       "      <th>0</th>\n",
       "      <td>-122.28</td>\n",
       "      <td>37.85</td>\n",
       "      <td>49</td>\n",
       "      <td>1130</td>\n",
       "      <td>244</td>\n",
       "      <td>607</td>\n",
       "      <td>239</td>\n",
       "      <td>2.4597</td>\n",
       "      <td>93800</td>\n",
       "      <td>93800</td>\n",
       "    </tr>\n",
       "    <tr>\n",
       "      <th>1</th>\n",
       "      <td>-122.27</td>\n",
       "      <td>37.84</td>\n",
       "      <td>52</td>\n",
       "      <td>1688</td>\n",
       "      <td>337</td>\n",
       "      <td>853</td>\n",
       "      <td>325</td>\n",
       "      <td>2.1806</td>\n",
       "      <td>99700</td>\n",
       "      <td>99700</td>\n",
       "    </tr>\n",
       "    <tr>\n",
       "      <th>2</th>\n",
       "      <td>-122.28</td>\n",
       "      <td>37.85</td>\n",
       "      <td>52</td>\n",
       "      <td>1898</td>\n",
       "      <td>421</td>\n",
       "      <td>1102</td>\n",
       "      <td>397</td>\n",
       "      <td>1.8080</td>\n",
       "      <td>105500</td>\n",
       "      <td>105500</td>\n",
       "    </tr>\n",
       "    <tr>\n",
       "      <th>3</th>\n",
       "      <td>-122.28</td>\n",
       "      <td>37.85</td>\n",
       "      <td>41</td>\n",
       "      <td>535</td>\n",
       "      <td>123</td>\n",
       "      <td>317</td>\n",
       "      <td>119</td>\n",
       "      <td>2.4038</td>\n",
       "      <td>107500</td>\n",
       "      <td>107500</td>\n",
       "    </tr>\n",
       "    <tr>\n",
       "      <th>4</th>\n",
       "      <td>-122.28</td>\n",
       "      <td>37.84</td>\n",
       "      <td>50</td>\n",
       "      <td>2082</td>\n",
       "      <td>492</td>\n",
       "      <td>1131</td>\n",
       "      <td>473</td>\n",
       "      <td>1.6424</td>\n",
       "      <td>108900</td>\n",
       "      <td>108900</td>\n",
       "    </tr>\n",
       "  </tbody>\n",
       "</table>\n",
       "</div>"
      ],
      "text/plain": [
       "   longitude  latitude  housingMedianAge  totalRooms  totalBedrooms  \\\n",
       "0    -122.28     37.85                49        1130            244   \n",
       "1    -122.27     37.84                52        1688            337   \n",
       "2    -122.28     37.85                52        1898            421   \n",
       "3    -122.28     37.85                41         535            123   \n",
       "4    -122.28     37.84                50        2082            492   \n",
       "\n",
       "   population  households  medianIncome  medianHouseValue  depdelay  \n",
       "0         607         239        2.4597             93800     93800  \n",
       "1         853         325        2.1806             99700     99700  \n",
       "2        1102         397        1.8080            105500    105500  \n",
       "3         317         119        2.4038            107500    107500  \n",
       "4        1131         473        1.6424            108900    108900  "
      ]
     },
     "execution_count": 22,
     "metadata": {},
     "output_type": "execute_result"
    }
   ],
   "source": [
    "variable = data.drop(\"expensive\", axis=1)\n",
    "feature_names = variable.columns\n",
    "variable.head()"
   ]
  },
  {
   "cell_type": "code",
   "execution_count": 23,
   "metadata": {},
   "outputs": [],
   "source": [
    "from sklearn.model_selection import train_test_split\n",
    "X_train, X_test, y_train, y_test = train_test_split(variable, target, random_state=42)"
   ]
  },
  {
   "cell_type": "code",
   "execution_count": 24,
   "metadata": {},
   "outputs": [
    {
     "data": {
      "text/plain": [
       "1.0"
      ]
     },
     "execution_count": 24,
     "metadata": {},
     "output_type": "execute_result"
    }
   ],
   "source": [
    "# y_test is what the outcome is, and y_predict is what the decision tree predicts it. \n",
    "#y_test is the survive column entries, and X_test the rest of the columns or the \n",
    "# variables we think affect the survivie. \n",
    "clf = tree.DecisionTreeClassifier()\n",
    "clf = clf.fit(X_train, y_train)\n",
    "clf.score(X_test, y_test) "
   ]
  },
  {
   "cell_type": "code",
   "execution_count": 26,
   "metadata": {},
   "outputs": [
    {
     "data": {
      "text/plain": [
       "array([1, 0, 1, 1, 0, 0, 1, 1])"
      ]
     },
     "execution_count": 26,
     "metadata": {},
     "output_type": "execute_result"
    }
   ],
   "source": [
    "y_predict = clf.predict(X_test)\n",
    "y_predict"
   ]
  },
  {
   "cell_type": "markdown",
   "metadata": {},
   "source": [
    "# Random forest Algorithm"
   ]
  },
  {
   "cell_type": "code",
   "execution_count": 27,
   "metadata": {},
   "outputs": [
    {
     "data": {
      "text/plain": [
       "1.0"
      ]
     },
     "execution_count": 27,
     "metadata": {},
     "output_type": "execute_result"
    }
   ],
   "source": [
    "# Create a random forest classifier\n",
    "rf = RandomForestClassifier(n_estimators=200)\n",
    "rf = rf.fit(variable, target)\n",
    "rf.score(variable, target)\n",
    "# Have not done the cross validation"
   ]
  },
  {
   "cell_type": "code",
   "execution_count": 28,
   "metadata": {},
   "outputs": [
    {
     "data": {
      "text/plain": [
       "array([0.11602026, 0.0009596 , 0.00109119, 0.02079595, 0.01210734,\n",
       "       0.00846629, 0.00947129, 0.17667615, 0.32641353, 0.3279984 ])"
      ]
     },
     "execution_count": 28,
     "metadata": {},
     "output_type": "execute_result"
    }
   ],
   "source": [
    "# Random Forests in sklearn will automatically calculate feature importance\n",
    "importances = rf.feature_importances_\n",
    "importances"
   ]
  },
  {
   "cell_type": "code",
   "execution_count": 29,
   "metadata": {},
   "outputs": [
    {
     "data": {
      "text/plain": [
       "[(0.32799840420274917, 'depdelay'),\n",
       " (0.32641352633944043, 'medianHouseValue'),\n",
       " (0.1766761531259541, 'medianIncome'),\n",
       " (0.1160202556613846, 'longitude'),\n",
       " (0.02079595444301618, 'totalRooms'),\n",
       " (0.012107337558382449, 'totalBedrooms'),\n",
       " (0.009471293264456039, 'households'),\n",
       " (0.008466287569499645, 'population'),\n",
       " (0.0010911918755214778, 'housingMedianAge'),\n",
       " (0.0009595959595959602, 'latitude')]"
      ]
     },
     "execution_count": 29,
     "metadata": {},
     "output_type": "execute_result"
    }
   ],
   "source": [
    "# We can sort the features by their importance\n",
    "sorted(zip(rf.feature_importances_, feature_names), reverse=True)"
   ]
  },
  {
   "cell_type": "markdown",
   "metadata": {},
   "source": [
    "# Support Vector Machine\n",
    "With Radial-basis-function kernel"
   ]
  },
  {
   "cell_type": "code",
   "execution_count": 30,
   "metadata": {},
   "outputs": [
    {
     "name": "stderr",
     "output_type": "stream",
     "text": [
      "/anaconda3/envs/PythonData/lib/python3.6/site-packages/sklearn/svm/base.py:196: FutureWarning: The default value of gamma will change from 'auto' to 'scale' in version 0.22 to account better for unscaled features. Set gamma explicitly to 'auto' or 'scale' to avoid this warning.\n",
      "  \"avoid this warning.\", FutureWarning)\n"
     ]
    }
   ],
   "source": [
    "from sklearn.svm import SVC \n",
    "# using X_train, X_test, y_train, y_test\n",
    "model = SVC(kernel='rbf')\n",
    "model.fit(X_train, y_train)\n",
    "y_predict = model.predict(X_test)\n",
    "# compare y_predict to y_test"
   ]
  },
  {
   "cell_type": "code",
   "execution_count": 31,
   "metadata": {},
   "outputs": [],
   "source": [
    "# if good prediction, what is y_predict - y_test = 0 "
   ]
  },
  {
   "cell_type": "code",
   "execution_count": 32,
   "metadata": {},
   "outputs": [
    {
     "name": "stdout",
     "output_type": "stream",
     "text": [
      "0.375\n"
     ]
    }
   ],
   "source": [
    "accuracy = model.score(X_test, y_test)\n",
    "print(accuracy)"
   ]
  },
  {
   "cell_type": "code",
   "execution_count": 33,
   "metadata": {},
   "outputs": [
    {
     "data": {
      "text/plain": [
       "1.0"
      ]
     },
     "execution_count": 33,
     "metadata": {},
     "output_type": "execute_result"
    }
   ],
   "source": [
    "# How do I assess accuracy\n",
    "model.score(X_train, y_train)"
   ]
  },
  {
   "cell_type": "markdown",
   "metadata": {},
   "source": [
    "# Support Vector Machine with Polynomial Kernel "
   ]
  },
  {
   "cell_type": "code",
   "execution_count": 34,
   "metadata": {},
   "outputs": [],
   "source": [
    "# from sklearn.svm import SVC \n",
    "# # using X_train, X_test, y_train, y_test\n",
    "# model = SVC(kernel='pol')\n",
    "# model.fit(X_train, y_train)\n",
    "# y_predict = model.predict(X_test)\n",
    "# # compare y_predict to y_test"
   ]
  },
  {
   "cell_type": "code",
   "execution_count": 35,
   "metadata": {},
   "outputs": [],
   "source": [
    "# accuracy = model.score(X_test, y_test)\n",
    "# print(accuracy)"
   ]
  },
  {
   "cell_type": "code",
   "execution_count": 36,
   "metadata": {},
   "outputs": [],
   "source": [
    "# # How do I assess accuracy\n",
    "# model.score(X_train, y_train)"
   ]
  },
  {
   "cell_type": "markdown",
   "metadata": {},
   "source": [
    "# Logistic Regression"
   ]
  },
  {
   "cell_type": "code",
   "execution_count": 37,
   "metadata": {},
   "outputs": [
    {
     "data": {
      "text/plain": [
       "LogisticRegression(C=1.0, class_weight=None, dual=False, fit_intercept=True,\n",
       "          intercept_scaling=1, max_iter=100, multi_class='warn',\n",
       "          n_jobs=None, penalty='l2', random_state=None, solver='warn',\n",
       "          tol=0.0001, verbose=0, warm_start=False)"
      ]
     },
     "execution_count": 37,
     "metadata": {},
     "output_type": "execute_result"
    }
   ],
   "source": [
    "from sklearn.linear_model import LogisticRegression\n",
    "classifier = LogisticRegression()\n",
    "classifier"
   ]
  },
  {
   "cell_type": "code",
   "execution_count": 38,
   "metadata": {},
   "outputs": [
    {
     "name": "stderr",
     "output_type": "stream",
     "text": [
      "/anaconda3/envs/PythonData/lib/python3.6/site-packages/sklearn/linear_model/logistic.py:432: FutureWarning: Default solver will be changed to 'lbfgs' in 0.22. Specify a solver to silence this warning.\n",
      "  FutureWarning)\n"
     ]
    },
    {
     "data": {
      "text/plain": [
       "LogisticRegression(C=1.0, class_weight=None, dual=False, fit_intercept=True,\n",
       "          intercept_scaling=1, max_iter=100, multi_class='warn',\n",
       "          n_jobs=None, penalty='l2', random_state=None, solver='warn',\n",
       "          tol=0.0001, verbose=0, warm_start=False)"
      ]
     },
     "execution_count": 38,
     "metadata": {},
     "output_type": "execute_result"
    }
   ],
   "source": [
    "classifier.fit(X_train, y_train)"
   ]
  },
  {
   "cell_type": "code",
   "execution_count": 39,
   "metadata": {},
   "outputs": [
    {
     "name": "stdout",
     "output_type": "stream",
     "text": [
      "Training Data Score: 1.0\n",
      "Testing Data Score: 0.875\n"
     ]
    }
   ],
   "source": [
    "print(f\"Training Data Score: {classifier.score(X_train, y_train)}\")\n",
    "print(f\"Testing Data Score: {classifier.score(X_test, y_test)}\")"
   ]
  },
  {
   "cell_type": "code",
   "execution_count": 40,
   "metadata": {},
   "outputs": [
    {
     "data": {
      "text/html": [
       "<div>\n",
       "<style scoped>\n",
       "    .dataframe tbody tr th:only-of-type {\n",
       "        vertical-align: middle;\n",
       "    }\n",
       "\n",
       "    .dataframe tbody tr th {\n",
       "        vertical-align: top;\n",
       "    }\n",
       "\n",
       "    .dataframe thead th {\n",
       "        text-align: right;\n",
       "    }\n",
       "</style>\n",
       "<table border=\"1\" class=\"dataframe\">\n",
       "  <thead>\n",
       "    <tr style=\"text-align: right;\">\n",
       "      <th></th>\n",
       "      <th>Prediction</th>\n",
       "      <th>Actual</th>\n",
       "    </tr>\n",
       "  </thead>\n",
       "  <tbody>\n",
       "    <tr>\n",
       "      <th>27</th>\n",
       "      <td>1</td>\n",
       "      <td>1</td>\n",
       "    </tr>\n",
       "    <tr>\n",
       "      <th>15</th>\n",
       "      <td>0</td>\n",
       "      <td>0</td>\n",
       "    </tr>\n",
       "    <tr>\n",
       "      <th>23</th>\n",
       "      <td>1</td>\n",
       "      <td>1</td>\n",
       "    </tr>\n",
       "    <tr>\n",
       "      <th>17</th>\n",
       "      <td>0</td>\n",
       "      <td>1</td>\n",
       "    </tr>\n",
       "    <tr>\n",
       "      <th>8</th>\n",
       "      <td>0</td>\n",
       "      <td>0</td>\n",
       "    </tr>\n",
       "  </tbody>\n",
       "</table>\n",
       "</div>"
      ],
      "text/plain": [
       "    Prediction  Actual\n",
       "27           1       1\n",
       "15           0       0\n",
       "23           1       1\n",
       "17           0       1\n",
       "8            0       0"
      ]
     },
     "execution_count": 40,
     "metadata": {},
     "output_type": "execute_result"
    }
   ],
   "source": [
    "predictions = classifier.predict(X_test)\n",
    "pd.DataFrame({\"Prediction\": predictions, \"Actual\": y_test}).head()"
   ]
  },
  {
   "cell_type": "markdown",
   "metadata": {},
   "source": [
    "# K Nearest Neighbor"
   ]
  },
  {
   "cell_type": "code",
   "execution_count": 41,
   "metadata": {},
   "outputs": [
    {
     "name": "stdout",
     "output_type": "stream",
     "text": [
      "100.0\n"
     ]
    }
   ],
   "source": [
    "# KNN \n",
    "knn = KNeighborsClassifier(n_neighbors = 3) \n",
    "knn.fit(X_train, y_train)  \n",
    "Y_pred = knn.predict(X_test)  \n",
    "acc_knn = round(knn.score(X_train, y_train) * 100, 2)\n",
    "print(acc_knn)"
   ]
  },
  {
   "cell_type": "code",
   "execution_count": null,
   "metadata": {},
   "outputs": [],
   "source": []
  }
 ],
 "metadata": {
  "kernelspec": {
   "display_name": "Python 3",
   "language": "python",
   "name": "python3"
  },
  "language_info": {
   "codemirror_mode": {
    "name": "ipython",
    "version": 3
   },
   "file_extension": ".py",
   "mimetype": "text/x-python",
   "name": "python",
   "nbconvert_exporter": "python",
   "pygments_lexer": "ipython3",
   "version": "3.6.5"
  }
 },
 "nbformat": 4,
 "nbformat_minor": 2
}
