{
 "cells": [
  {
   "cell_type": "markdown",
   "metadata": {},
   "source": [
    "Data Dictionary\n",
    "Variable\tDefinition\tKey\n",
    "survival\tSurvival\t0 = No, 1 = Yes\n",
    "pclass\tTicket class\t1 = 1st, 2 = 2nd, 3 = 3rd\n",
    "sex\tSex\t\n",
    "Age\tAge in years\t\n",
    "sibsp\t# of siblings / spouses aboard the Titanic\t\n",
    "parch\t# of parents / children aboard the Titanic\t\n",
    "ticket\tTicket number\t\n",
    "fare\tPassenger fare\t\n",
    "cabin\tCabin number\t\n",
    "embarked\tPort of Embarkation\tC = Cherbourg, Q = Queenstown, S = Southampton\n",
    "Variable Notes\n",
    "pclass: A proxy for socio-economic status (SES)\n",
    "1st = Upper\n",
    "2nd = Middle\n",
    "3rd = Lower\n",
    "\n",
    "age: Age is fractional if less than 1. If the age is estimated, is it in the form of xx.5\n",
    "\n",
    "sibsp: The dataset defines family relations in this way...\n",
    "Sibling = brother, sister, stepbrother, stepsister\n",
    "Spouse = husband, wife (mistresses and fiancés were ignored)\n",
    "\n",
    "parch: The dataset defines family relations in this way...\n",
    "Parent = mother, father\n",
    "Child = daughter, son, stepdaughter, stepson\n",
    "Some children travelled only with a nanny, therefore parch=0 for them.\n",
    "\n",
    "**survival:    Survival\n",
    "PassengerId: Unique Id of a passenger. \n",
    "pclass:    Ticket class     \n",
    "sex:    Sex     \n",
    "Age:    Age in years     \n",
    "sibsp:    # of siblings / spouses aboard the Titanic     \n",
    "parch:    # of parents / children aboard the Titanic     \n",
    "ticket:    Ticket number     \n",
    "fare:    Passenger fare     \n",
    "cabin:    Cabin number     \n",
    "embarked:    Port of Embarkation\n",
    "titanic_df.describe()**\n"
   ]
  },
  {
   "cell_type": "code",
   "execution_count": 1,
   "metadata": {},
   "outputs": [],
   "source": [
    "#Aref - updated for USGS Earthquakes dataset "
   ]
  },
  {
   "cell_type": "code",
   "execution_count": 2,
   "metadata": {},
   "outputs": [],
   "source": [
    "# linear algebra\n",
    "import numpy as np \n",
    "\n",
    "# data processing\n",
    "import pandas as pd \n",
    "\n",
    "# data visualization\n",
    "import seaborn as sns\n",
    "%matplotlib inline\n",
    "from matplotlib import pyplot as plt\n",
    "from matplotlib import style\n",
    "\n",
    "# Algorithms\n",
    "# from sklearn import linear_model\n",
    "# from sklearn.linear_model import LogisticRegression\n",
    "from sklearn.ensemble import RandomForestClassifier\n",
    "\n",
    "from sklearn import tree\n",
    "import pandas as pd\n",
    "import os\n",
    "from sklearn.neighbors import KNeighborsClassifier"
   ]
  },
  {
   "cell_type": "code",
   "execution_count": 3,
   "metadata": {},
   "outputs": [],
   "source": [
    "titanic_df = pd.read_csv(\"e-100.csv\")\n"
   ]
  },
  {
   "cell_type": "code",
   "execution_count": 4,
   "metadata": {},
   "outputs": [
    {
     "data": {
      "text/plain": [
       "<bound method NDFrame.head of          id  tsunami    year   eq  region  deaths\n",
       "0   10330.0      0.0  2018.0  2.1    10.0     7.0\n",
       "1   10293.0      0.0  2018.0  3.4   120.0     0.0\n",
       "2   10331.0      0.0  2018.0  4.1   120.0     5.0\n",
       "3   10327.0      0.0  2018.0  4.4    60.0     3.0\n",
       "4   10326.0      0.0  2018.0  4.7   130.0     0.0\n",
       "5   10340.0      0.0  2018.0  4.9   160.0     2.0\n",
       "6   10292.0      0.0  2018.0  4.9   130.0     0.0\n",
       "7   10323.0      0.0  2018.0  4.9   160.0     0.0\n",
       "8   10290.0      0.0  2018.0  5.0   140.0     0.0\n",
       "9   10353.0      0.0  2018.0  5.0    30.0     0.0\n",
       "10  10339.0      0.0  2018.0  5.1    30.0     0.0\n",
       "11  10304.0      0.0  2018.0  5.2    60.0     1.0\n",
       "12  10348.0      0.0  2018.0  5.2    60.0     1.0\n",
       "13  10328.0      0.0  2018.0  5.2   140.0     0.0\n",
       "14  10346.0      0.0  2018.0  5.3    40.0     1.0\n",
       "15  10367.0      0.0  2018.0  5.3    60.0     1.0\n",
       "16  10322.0      0.0  2018.0  5.3   140.0     0.0\n",
       "17  10329.0      0.0  2018.0  5.3   140.0     0.0\n",
       "18  10362.0      0.0  2018.0  5.5   140.0     1.0\n",
       "19  10342.0      0.0  2018.0  5.5    30.0     5.0\n",
       "20  10294.0      0.0  2018.0  5.5   140.0     0.0\n",
       "21  10324.0      0.0  2018.0  5.6    30.0     0.0\n",
       "22  10334.0      0.0  2018.0  5.6   100.0     0.0\n",
       "23  10368.0      0.0  2018.0  5.6    30.0     0.0\n",
       "24  10337.0      0.0  2018.0  5.8    60.0     0.0\n",
       "25  10352.0      0.0  2018.0  5.9    60.0     2.0\n",
       "26  10370.0      0.0  2018.0  5.9    90.0    18.0\n",
       "27  10347.0      0.0  2018.0  5.9   140.0     0.0\n",
       "28  10299.0      0.0  2018.0  6.0    60.0     1.0\n",
       "29  10358.0      0.0  2018.0  6.0   140.0     2.0\n",
       "..      ...      ...     ...  ...     ...     ...\n",
       "70  10283.0      0.0  2017.0  5.6   160.0     1.0\n",
       "71  10257.0      0.0  2017.0  5.6    10.0     0.0\n",
       "72  10316.0      0.0  2017.0  5.7   170.0     1.0\n",
       "73  10226.0      0.0  2017.0  5.7    60.0     3.0\n",
       "74  10234.0      0.0  2017.0  5.7   130.0    29.0\n",
       "75  10269.0      0.0  2017.0  5.7   170.0     0.0\n",
       "76  10249.0      0.0  2017.0  5.8   140.0     2.0\n",
       "77  10282.0      0.0  2017.0  5.9   170.0     1.0\n",
       "78  10242.0      0.0  2017.0  5.9   170.0     0.0\n",
       "79  10286.0      0.0  2017.0  6.0   140.0     0.0\n",
       "80  10319.0      0.0  2017.0  6.1   170.0     1.0\n",
       "81  10240.0      0.0  2017.0  6.1   140.0     2.0\n",
       "82  10268.0      0.0  2017.0  6.1   150.0     5.0\n",
       "83  10247.0      1.0  2017.0  6.2   150.0     0.0\n",
       "84  10252.0      1.0  2017.0  6.3   130.0     1.0\n",
       "85  10237.0      0.0  2017.0  6.3    60.0     0.0\n",
       "86  10262.0      0.0  2017.0  6.3    40.0     0.0\n",
       "87  10284.0      0.0  2017.0  6.4   160.0     1.0\n",
       "88  10276.0      0.0  2017.0  6.5   100.0     2.0\n",
       "89  10258.0      0.0  2017.0  6.5   170.0     3.0\n",
       "90  10287.0      0.0  2017.0  6.5    60.0     4.0\n",
       "91  10238.0      0.0  2017.0  6.5   170.0     8.0\n",
       "92  10261.0      0.0  2017.0  6.5    30.0    25.0\n",
       "93  10273.0      1.0  2017.0  6.6   170.0     0.0\n",
       "94  10260.0      1.0  2017.0  6.7   140.0     2.0\n",
       "95  10272.0      1.0  2017.0  6.8   170.0     0.0\n",
       "96  10250.0      0.0  2017.0  6.8   170.0     0.0\n",
       "97  10256.0      0.0  2017.0  6.8   100.0     0.0\n",
       "98  10253.0      0.0  2017.0  6.9   100.0     5.0\n",
       "99  10225.0      1.0  2017.0  6.9   170.0     0.0\n",
       "\n",
       "[100 rows x 6 columns]>"
      ]
     },
     "execution_count": 4,
     "metadata": {},
     "output_type": "execute_result"
    }
   ],
   "source": [
    "titanic_df.head"
   ]
  },
  {
   "cell_type": "code",
   "execution_count": 5,
   "metadata": {},
   "outputs": [
    {
     "data": {
      "text/plain": [
       "0     0.0\n",
       "1     0.0\n",
       "2     0.0\n",
       "3     0.0\n",
       "4     0.0\n",
       "5     0.0\n",
       "6     0.0\n",
       "7     0.0\n",
       "8     0.0\n",
       "9     0.0\n",
       "10    0.0\n",
       "11    0.0\n",
       "12    0.0\n",
       "13    0.0\n",
       "14    0.0\n",
       "15    0.0\n",
       "16    0.0\n",
       "17    0.0\n",
       "18    0.0\n",
       "19    0.0\n",
       "20    0.0\n",
       "21    0.0\n",
       "22    0.0\n",
       "23    0.0\n",
       "24    0.0\n",
       "25    0.0\n",
       "26    0.0\n",
       "27    0.0\n",
       "28    0.0\n",
       "29    0.0\n",
       "     ... \n",
       "70    0.0\n",
       "71    0.0\n",
       "72    0.0\n",
       "73    0.0\n",
       "74    0.0\n",
       "75    0.0\n",
       "76    0.0\n",
       "77    0.0\n",
       "78    0.0\n",
       "79    0.0\n",
       "80    0.0\n",
       "81    0.0\n",
       "82    0.0\n",
       "83    1.0\n",
       "84    1.0\n",
       "85    0.0\n",
       "86    0.0\n",
       "87    0.0\n",
       "88    0.0\n",
       "89    0.0\n",
       "90    0.0\n",
       "91    0.0\n",
       "92    0.0\n",
       "93    1.0\n",
       "94    1.0\n",
       "95    1.0\n",
       "96    0.0\n",
       "97    0.0\n",
       "98    0.0\n",
       "99    1.0\n",
       "Name: tsunami, Length: 100, dtype: float64"
      ]
     },
     "execution_count": 5,
     "metadata": {},
     "output_type": "execute_result"
    }
   ],
   "source": [
    "titanic_df['tsunami']"
   ]
  },
  {
   "cell_type": "code",
   "execution_count": 6,
   "metadata": {},
   "outputs": [
    {
     "data": {
      "text/plain": [
       "<bound method NDFrame.head of          id  tsunami    year   eq  region  deaths\n",
       "0   10330.0      0.0  2018.0  2.1    10.0     7.0\n",
       "1   10293.0      0.0  2018.0  3.4   120.0     0.0\n",
       "2   10331.0      0.0  2018.0  4.1   120.0     5.0\n",
       "3   10327.0      0.0  2018.0  4.4    60.0     3.0\n",
       "4   10326.0      0.0  2018.0  4.7   130.0     0.0\n",
       "5   10340.0      0.0  2018.0  4.9   160.0     2.0\n",
       "6   10292.0      0.0  2018.0  4.9   130.0     0.0\n",
       "7   10323.0      0.0  2018.0  4.9   160.0     0.0\n",
       "8   10290.0      0.0  2018.0  5.0   140.0     0.0\n",
       "9   10353.0      0.0  2018.0  5.0    30.0     0.0\n",
       "10  10339.0      0.0  2018.0  5.1    30.0     0.0\n",
       "11  10304.0      0.0  2018.0  5.2    60.0     1.0\n",
       "12  10348.0      0.0  2018.0  5.2    60.0     1.0\n",
       "13  10328.0      0.0  2018.0  5.2   140.0     0.0\n",
       "14  10346.0      0.0  2018.0  5.3    40.0     1.0\n",
       "15  10367.0      0.0  2018.0  5.3    60.0     1.0\n",
       "16  10322.0      0.0  2018.0  5.3   140.0     0.0\n",
       "17  10329.0      0.0  2018.0  5.3   140.0     0.0\n",
       "18  10362.0      0.0  2018.0  5.5   140.0     1.0\n",
       "19  10342.0      0.0  2018.0  5.5    30.0     5.0\n",
       "20  10294.0      0.0  2018.0  5.5   140.0     0.0\n",
       "21  10324.0      0.0  2018.0  5.6    30.0     0.0\n",
       "22  10334.0      0.0  2018.0  5.6   100.0     0.0\n",
       "23  10368.0      0.0  2018.0  5.6    30.0     0.0\n",
       "24  10337.0      0.0  2018.0  5.8    60.0     0.0\n",
       "25  10352.0      0.0  2018.0  5.9    60.0     2.0\n",
       "26  10370.0      0.0  2018.0  5.9    90.0    18.0\n",
       "27  10347.0      0.0  2018.0  5.9   140.0     0.0\n",
       "28  10299.0      0.0  2018.0  6.0    60.0     1.0\n",
       "29  10358.0      0.0  2018.0  6.0   140.0     2.0\n",
       "..      ...      ...     ...  ...     ...     ...\n",
       "70  10283.0      0.0  2017.0  5.6   160.0     1.0\n",
       "71  10257.0      0.0  2017.0  5.6    10.0     0.0\n",
       "72  10316.0      0.0  2017.0  5.7   170.0     1.0\n",
       "73  10226.0      0.0  2017.0  5.7    60.0     3.0\n",
       "74  10234.0      0.0  2017.0  5.7   130.0    29.0\n",
       "75  10269.0      0.0  2017.0  5.7   170.0     0.0\n",
       "76  10249.0      0.0  2017.0  5.8   140.0     2.0\n",
       "77  10282.0      0.0  2017.0  5.9   170.0     1.0\n",
       "78  10242.0      0.0  2017.0  5.9   170.0     0.0\n",
       "79  10286.0      0.0  2017.0  6.0   140.0     0.0\n",
       "80  10319.0      0.0  2017.0  6.1   170.0     1.0\n",
       "81  10240.0      0.0  2017.0  6.1   140.0     2.0\n",
       "82  10268.0      0.0  2017.0  6.1   150.0     5.0\n",
       "83  10247.0      1.0  2017.0  6.2   150.0     0.0\n",
       "84  10252.0      1.0  2017.0  6.3   130.0     1.0\n",
       "85  10237.0      0.0  2017.0  6.3    60.0     0.0\n",
       "86  10262.0      0.0  2017.0  6.3    40.0     0.0\n",
       "87  10284.0      0.0  2017.0  6.4   160.0     1.0\n",
       "88  10276.0      0.0  2017.0  6.5   100.0     2.0\n",
       "89  10258.0      0.0  2017.0  6.5   170.0     3.0\n",
       "90  10287.0      0.0  2017.0  6.5    60.0     4.0\n",
       "91  10238.0      0.0  2017.0  6.5   170.0     8.0\n",
       "92  10261.0      0.0  2017.0  6.5    30.0    25.0\n",
       "93  10273.0      1.0  2017.0  6.6   170.0     0.0\n",
       "94  10260.0      1.0  2017.0  6.7   140.0     2.0\n",
       "95  10272.0      1.0  2017.0  6.8   170.0     0.0\n",
       "96  10250.0      0.0  2017.0  6.8   170.0     0.0\n",
       "97  10256.0      0.0  2017.0  6.8   100.0     0.0\n",
       "98  10253.0      0.0  2017.0  6.9   100.0     5.0\n",
       "99  10225.0      1.0  2017.0  6.9   170.0     0.0\n",
       "\n",
       "[100 rows x 6 columns]>"
      ]
     },
     "execution_count": 6,
     "metadata": {},
     "output_type": "execute_result"
    }
   ],
   "source": [
    "#titanic_df['cancelled'] = titanic_df['cancelled'].map({'cancelyes': 1.0, 'cancelno': 0.0})\n",
    "titanic_df.head"
   ]
  },
  {
   "cell_type": "code",
   "execution_count": 7,
   "metadata": {},
   "outputs": [
    {
     "data": {
      "text/html": [
       "<div>\n",
       "<style scoped>\n",
       "    .dataframe tbody tr th:only-of-type {\n",
       "        vertical-align: middle;\n",
       "    }\n",
       "\n",
       "    .dataframe tbody tr th {\n",
       "        vertical-align: top;\n",
       "    }\n",
       "\n",
       "    .dataframe thead th {\n",
       "        text-align: right;\n",
       "    }\n",
       "</style>\n",
       "<table border=\"1\" class=\"dataframe\">\n",
       "  <thead>\n",
       "    <tr style=\"text-align: right;\">\n",
       "      <th></th>\n",
       "      <th>tsunami</th>\n",
       "      <th>eq</th>\n",
       "      <th>region</th>\n",
       "      <th>deaths</th>\n",
       "    </tr>\n",
       "  </thead>\n",
       "  <tbody>\n",
       "    <tr>\n",
       "      <th>77</th>\n",
       "      <td>0.0</td>\n",
       "      <td>5.9</td>\n",
       "      <td>170.0</td>\n",
       "      <td>1.0</td>\n",
       "    </tr>\n",
       "    <tr>\n",
       "      <th>95</th>\n",
       "      <td>1.0</td>\n",
       "      <td>6.8</td>\n",
       "      <td>170.0</td>\n",
       "      <td>0.0</td>\n",
       "    </tr>\n",
       "    <tr>\n",
       "      <th>71</th>\n",
       "      <td>0.0</td>\n",
       "      <td>5.6</td>\n",
       "      <td>10.0</td>\n",
       "      <td>0.0</td>\n",
       "    </tr>\n",
       "    <tr>\n",
       "      <th>1</th>\n",
       "      <td>0.0</td>\n",
       "      <td>3.4</td>\n",
       "      <td>120.0</td>\n",
       "      <td>0.0</td>\n",
       "    </tr>\n",
       "    <tr>\n",
       "      <th>38</th>\n",
       "      <td>0.0</td>\n",
       "      <td>6.4</td>\n",
       "      <td>60.0</td>\n",
       "      <td>17.0</td>\n",
       "    </tr>\n",
       "    <tr>\n",
       "      <th>26</th>\n",
       "      <td>0.0</td>\n",
       "      <td>5.9</td>\n",
       "      <td>90.0</td>\n",
       "      <td>18.0</td>\n",
       "    </tr>\n",
       "    <tr>\n",
       "      <th>52</th>\n",
       "      <td>0.0</td>\n",
       "      <td>7.8</td>\n",
       "      <td>170.0</td>\n",
       "      <td>0.0</td>\n",
       "    </tr>\n",
       "    <tr>\n",
       "      <th>34</th>\n",
       "      <td>0.0</td>\n",
       "      <td>6.2</td>\n",
       "      <td>40.0</td>\n",
       "      <td>0.0</td>\n",
       "    </tr>\n",
       "    <tr>\n",
       "      <th>19</th>\n",
       "      <td>0.0</td>\n",
       "      <td>5.5</td>\n",
       "      <td>30.0</td>\n",
       "      <td>5.0</td>\n",
       "    </tr>\n",
       "    <tr>\n",
       "      <th>55</th>\n",
       "      <td>0.0</td>\n",
       "      <td>3.2</td>\n",
       "      <td>60.0</td>\n",
       "      <td>1.0</td>\n",
       "    </tr>\n",
       "  </tbody>\n",
       "</table>\n",
       "</div>"
      ],
      "text/plain": [
       "    tsunami   eq  region  deaths\n",
       "77      0.0  5.9   170.0     1.0\n",
       "95      1.0  6.8   170.0     0.0\n",
       "71      0.0  5.6    10.0     0.0\n",
       "1       0.0  3.4   120.0     0.0\n",
       "38      0.0  6.4    60.0    17.0\n",
       "26      0.0  5.9    90.0    18.0\n",
       "52      0.0  7.8   170.0     0.0\n",
       "34      0.0  6.2    40.0     0.0\n",
       "19      0.0  5.5    30.0     5.0\n",
       "55      0.0  3.2    60.0     1.0"
      ]
     },
     "execution_count": 7,
     "metadata": {},
     "output_type": "execute_result"
    }
   ],
   "source": [
    "data = titanic_df.drop(columns=[\"id\", \"year\"])\n",
    "data.sample(10)"
   ]
  },
  {
   "cell_type": "code",
   "execution_count": 8,
   "metadata": {},
   "outputs": [
    {
     "name": "stdout",
     "output_type": "stream",
     "text": [
      "Mean Deaths\n"
     ]
    },
    {
     "data": {
      "text/plain": [
       "<Figure size 1224x720 with 0 Axes>"
      ]
     },
     "metadata": {},
     "output_type": "display_data"
    },
    {
     "data": {
      "image/png": "[encoded data removed]",
      "text/plain": [
       "<Figure size 432x288 with 1 Axes>"
      ]
     },
     "metadata": {},
     "output_type": "display_data"
    }
   ],
   "source": [
    "fig=plt.figure(figsize=(17,10))\n",
    "data.hist(column=\"deaths\", bins=10)\n",
    "plt.xlabel(\"eq\",fontsize=15)\n",
    "plt.ylabel(\"deaths\",fontsize=15)\n",
    "plt.xlim([0.0,10.0])\n",
    "plt.ylim([0.0,100.0])\n",
    "\n",
    "plt.axvline(data[\"eq\"].mean(), color=\"red\")\n",
    "print('Mean Deaths'.format(data[\"deaths\"].mean()))\n"
   ]
  },
  {
   "cell_type": "code",
   "execution_count": 9,
   "metadata": {},
   "outputs": [
    {
     "data": {
      "text/html": [
       "<div>\n",
       "<style scoped>\n",
       "    .dataframe tbody tr th:only-of-type {\n",
       "        vertical-align: middle;\n",
       "    }\n",
       "\n",
       "    .dataframe tbody tr th {\n",
       "        vertical-align: top;\n",
       "    }\n",
       "\n",
       "    .dataframe thead th {\n",
       "        text-align: right;\n",
       "    }\n",
       "</style>\n",
       "<table border=\"1\" class=\"dataframe\">\n",
       "  <thead>\n",
       "    <tr style=\"text-align: right;\">\n",
       "      <th></th>\n",
       "      <th>tsunami</th>\n",
       "      <th>eq</th>\n",
       "      <th>region</th>\n",
       "      <th>deaths</th>\n",
       "    </tr>\n",
       "  </thead>\n",
       "  <tbody>\n",
       "    <tr>\n",
       "      <th>0</th>\n",
       "      <td>0.0</td>\n",
       "      <td>2.1</td>\n",
       "      <td>10.0</td>\n",
       "      <td>7.0</td>\n",
       "    </tr>\n",
       "    <tr>\n",
       "      <th>1</th>\n",
       "      <td>0.0</td>\n",
       "      <td>3.4</td>\n",
       "      <td>120.0</td>\n",
       "      <td>0.0</td>\n",
       "    </tr>\n",
       "    <tr>\n",
       "      <th>2</th>\n",
       "      <td>0.0</td>\n",
       "      <td>4.1</td>\n",
       "      <td>120.0</td>\n",
       "      <td>5.0</td>\n",
       "    </tr>\n",
       "    <tr>\n",
       "      <th>3</th>\n",
       "      <td>0.0</td>\n",
       "      <td>4.4</td>\n",
       "      <td>60.0</td>\n",
       "      <td>3.0</td>\n",
       "    </tr>\n",
       "    <tr>\n",
       "      <th>4</th>\n",
       "      <td>0.0</td>\n",
       "      <td>4.7</td>\n",
       "      <td>130.0</td>\n",
       "      <td>0.0</td>\n",
       "    </tr>\n",
       "    <tr>\n",
       "      <th>5</th>\n",
       "      <td>0.0</td>\n",
       "      <td>4.9</td>\n",
       "      <td>160.0</td>\n",
       "      <td>2.0</td>\n",
       "    </tr>\n",
       "    <tr>\n",
       "      <th>6</th>\n",
       "      <td>0.0</td>\n",
       "      <td>4.9</td>\n",
       "      <td>130.0</td>\n",
       "      <td>0.0</td>\n",
       "    </tr>\n",
       "    <tr>\n",
       "      <th>7</th>\n",
       "      <td>0.0</td>\n",
       "      <td>4.9</td>\n",
       "      <td>160.0</td>\n",
       "      <td>0.0</td>\n",
       "    </tr>\n",
       "    <tr>\n",
       "      <th>8</th>\n",
       "      <td>0.0</td>\n",
       "      <td>5.0</td>\n",
       "      <td>140.0</td>\n",
       "      <td>0.0</td>\n",
       "    </tr>\n",
       "    <tr>\n",
       "      <th>9</th>\n",
       "      <td>0.0</td>\n",
       "      <td>5.0</td>\n",
       "      <td>30.0</td>\n",
       "      <td>0.0</td>\n",
       "    </tr>\n",
       "  </tbody>\n",
       "</table>\n",
       "</div>"
      ],
      "text/plain": [
       "   tsunami   eq  region  deaths\n",
       "0      0.0  2.1    10.0     7.0\n",
       "1      0.0  3.4   120.0     0.0\n",
       "2      0.0  4.1   120.0     5.0\n",
       "3      0.0  4.4    60.0     3.0\n",
       "4      0.0  4.7   130.0     0.0\n",
       "5      0.0  4.9   160.0     2.0\n",
       "6      0.0  4.9   130.0     0.0\n",
       "7      0.0  4.9   160.0     0.0\n",
       "8      0.0  5.0   140.0     0.0\n",
       "9      0.0  5.0    30.0     0.0"
      ]
     },
     "execution_count": 9,
     "metadata": {},
     "output_type": "execute_result"
    }
   ],
   "source": [
    "data_nona = data[\"deaths\"].fillna(data[\"deaths\"].mean())\n",
    "data[\"deaths\"]=data_nona\n",
    "data.head(10)"
   ]
  },
  {
   "cell_type": "code",
   "execution_count": 10,
   "metadata": {},
   "outputs": [],
   "source": [
    "# data.info()"
   ]
  },
  {
   "cell_type": "markdown",
   "metadata": {},
   "source": [
    "# Decision Tree Algorithm"
   ]
  },
  {
   "cell_type": "code",
   "execution_count": 11,
   "metadata": {},
   "outputs": [],
   "source": [
    "target = data[\"tsunami\"]\n",
    "target_names = [\"yes\", \"no\"]"
   ]
  },
  {
   "cell_type": "code",
   "execution_count": 12,
   "metadata": {},
   "outputs": [
    {
     "data": {
      "text/plain": [
       "<bound method NDFrame.head of      eq  region  deaths\n",
       "0   2.1    10.0     7.0\n",
       "1   3.4   120.0     0.0\n",
       "2   4.1   120.0     5.0\n",
       "3   4.4    60.0     3.0\n",
       "4   4.7   130.0     0.0\n",
       "5   4.9   160.0     2.0\n",
       "6   4.9   130.0     0.0\n",
       "7   4.9   160.0     0.0\n",
       "8   5.0   140.0     0.0\n",
       "9   5.0    30.0     0.0\n",
       "10  5.1    30.0     0.0\n",
       "11  5.2    60.0     1.0\n",
       "12  5.2    60.0     1.0\n",
       "13  5.2   140.0     0.0\n",
       "14  5.3    40.0     1.0\n",
       "15  5.3    60.0     1.0\n",
       "16  5.3   140.0     0.0\n",
       "17  5.3   140.0     0.0\n",
       "18  5.5   140.0     1.0\n",
       "19  5.5    30.0     5.0\n",
       "20  5.5   140.0     0.0\n",
       "21  5.6    30.0     0.0\n",
       "22  5.6   100.0     0.0\n",
       "23  5.6    30.0     0.0\n",
       "24  5.8    60.0     0.0\n",
       "25  5.9    60.0     2.0\n",
       "26  5.9    90.0    18.0\n",
       "27  5.9   140.0     0.0\n",
       "28  6.0    60.0     1.0\n",
       "29  6.0   140.0     2.0\n",
       "..  ...     ...     ...\n",
       "70  5.6   160.0     1.0\n",
       "71  5.6    10.0     0.0\n",
       "72  5.7   170.0     1.0\n",
       "73  5.7    60.0     3.0\n",
       "74  5.7   130.0    29.0\n",
       "75  5.7   170.0     0.0\n",
       "76  5.8   140.0     2.0\n",
       "77  5.9   170.0     1.0\n",
       "78  5.9   170.0     0.0\n",
       "79  6.0   140.0     0.0\n",
       "80  6.1   170.0     1.0\n",
       "81  6.1   140.0     2.0\n",
       "82  6.1   150.0     5.0\n",
       "83  6.2   150.0     0.0\n",
       "84  6.3   130.0     1.0\n",
       "85  6.3    60.0     0.0\n",
       "86  6.3    40.0     0.0\n",
       "87  6.4   160.0     1.0\n",
       "88  6.5   100.0     2.0\n",
       "89  6.5   170.0     3.0\n",
       "90  6.5    60.0     4.0\n",
       "91  6.5   170.0     8.0\n",
       "92  6.5    30.0    25.0\n",
       "93  6.6   170.0     0.0\n",
       "94  6.7   140.0     2.0\n",
       "95  6.8   170.0     0.0\n",
       "96  6.8   170.0     0.0\n",
       "97  6.8   100.0     0.0\n",
       "98  6.9   100.0     5.0\n",
       "99  6.9   170.0     0.0\n",
       "\n",
       "[100 rows x 3 columns]>"
      ]
     },
     "execution_count": 12,
     "metadata": {},
     "output_type": "execute_result"
    }
   ],
   "source": [
    "variable = data.drop(\"tsunami\", axis=1)\n",
    "feature_names = variable.columns\n",
    "variable.head"
   ]
  },
  {
   "cell_type": "code",
   "execution_count": 13,
   "metadata": {},
   "outputs": [],
   "source": [
    "from sklearn.model_selection import train_test_split\n",
    "X_train, X_test, y_train, y_test = train_test_split(variable, target, random_state=42)"
   ]
  },
  {
   "cell_type": "code",
   "execution_count": 14,
   "metadata": {},
   "outputs": [
    {
     "data": {
      "text/plain": [
       "0.8"
      ]
     },
     "execution_count": 14,
     "metadata": {},
     "output_type": "execute_result"
    }
   ],
   "source": [
    "# y_test is what the outcome is, and y_predict is what the decision tree predicts it. \n",
    "#y_test is the survive column entries, and X_test the rest of the columns or the \n",
    "# variables we think affect the survivie. \n",
    "clf = tree.DecisionTreeClassifier()\n",
    "clf = clf.fit(X_train, y_train)\n",
    "clf.score(X_test, y_test) "
   ]
  },
  {
   "cell_type": "code",
   "execution_count": 15,
   "metadata": {},
   "outputs": [],
   "source": [
    "y_predict = clf.predict(X_test)"
   ]
  },
  {
   "cell_type": "markdown",
   "metadata": {},
   "source": [
    "# Random forest Algorithm"
   ]
  },
  {
   "cell_type": "code",
   "execution_count": 16,
   "metadata": {},
   "outputs": [
    {
     "data": {
      "text/plain": [
       "0.99"
      ]
     },
     "execution_count": 16,
     "metadata": {},
     "output_type": "execute_result"
    }
   ],
   "source": [
    "# Create a random forest classifier\n",
    "rf = RandomForestClassifier(n_estimators=200)\n",
    "rf = rf.fit(variable, target)\n",
    "rf.score(variable, target)\n",
    "# Have not done the cross validation"
   ]
  },
  {
   "cell_type": "code",
   "execution_count": 17,
   "metadata": {},
   "outputs": [
    {
     "data": {
      "text/plain": [
       "array([0.55823944, 0.24269305, 0.19906751])"
      ]
     },
     "execution_count": 17,
     "metadata": {},
     "output_type": "execute_result"
    }
   ],
   "source": [
    "# Random Forests in sklearn will automatically calculate feature importance\n",
    "importances = rf.feature_importances_\n",
    "importances"
   ]
  },
  {
   "cell_type": "code",
   "execution_count": 18,
   "metadata": {},
   "outputs": [
    {
     "data": {
      "text/plain": [
       "[(0.5582394415535198, 'eq'),\n",
       " (0.24269305337066405, 'region'),\n",
       " (0.199067505075816, 'deaths')]"
      ]
     },
     "execution_count": 18,
     "metadata": {},
     "output_type": "execute_result"
    }
   ],
   "source": [
    "# We can sort the features by their importance\n",
    "sorted(zip(rf.feature_importances_, feature_names), reverse=True)"
   ]
  },
  {
   "cell_type": "markdown",
   "metadata": {},
   "source": [
    "# Support Vector Machine\n",
    "With Radial-basis-function kernel"
   ]
  },
  {
   "cell_type": "code",
   "execution_count": 19,
   "metadata": {},
   "outputs": [
    {
     "name": "stderr",
     "output_type": "stream",
     "text": [
      "/anaconda3/envs/PythonData/lib/python3.6/site-packages/sklearn/svm/base.py:196: FutureWarning: The default value of gamma will change from 'auto' to 'scale' in version 0.22 to account better for unscaled features. Set gamma explicitly to 'auto' or 'scale' to avoid this warning.\n",
      "  \"avoid this warning.\", FutureWarning)\n"
     ]
    }
   ],
   "source": [
    "from sklearn.svm import SVC \n",
    "# using X_train, X_test, y_train, y_test\n",
    "model = SVC(kernel='rbf')\n",
    "model.fit(X_train, y_train)\n",
    "y_predict = model.predict(X_test)\n",
    "# compare y_predict to y_test"
   ]
  },
  {
   "cell_type": "code",
   "execution_count": 20,
   "metadata": {},
   "outputs": [],
   "source": [
    "# if good prediction, what is y_predict - y_test = 0 "
   ]
  },
  {
   "cell_type": "code",
   "execution_count": 21,
   "metadata": {},
   "outputs": [
    {
     "name": "stdout",
     "output_type": "stream",
     "text": [
      "0.88\n"
     ]
    }
   ],
   "source": [
    "accuracy = model.score(X_test, y_test)\n",
    "print(accuracy)"
   ]
  },
  {
   "cell_type": "code",
   "execution_count": 22,
   "metadata": {},
   "outputs": [
    {
     "data": {
      "text/plain": [
       "0.96"
      ]
     },
     "execution_count": 22,
     "metadata": {},
     "output_type": "execute_result"
    }
   ],
   "source": [
    "# How do I assess accuracy\n",
    "model.score(X_train, y_train)"
   ]
  },
  {
   "cell_type": "markdown",
   "metadata": {},
   "source": [
    "# Support Vector Machine with Polynomial Kernel "
   ]
  },
  {
   "cell_type": "code",
   "execution_count": 23,
   "metadata": {},
   "outputs": [],
   "source": [
    "# from sklearn.svm import SVC \n",
    "# # using X_train, X_test, y_train, y_test\n",
    "# model = SVC(kernel='pol')\n",
    "# model.fit(X_train, y_train)\n",
    "# y_predict = model.predict(X_test)\n",
    "# # compare y_predict to y_test"
   ]
  },
  {
   "cell_type": "code",
   "execution_count": 24,
   "metadata": {},
   "outputs": [],
   "source": [
    "# accuracy = model.score(X_test, y_test)\n",
    "# print(accuracy)"
   ]
  },
  {
   "cell_type": "code",
   "execution_count": 25,
   "metadata": {},
   "outputs": [],
   "source": [
    "# # How do I assess accuracy\n",
    "# model.score(X_train, y_train)"
   ]
  },
  {
   "cell_type": "markdown",
   "metadata": {},
   "source": [
    "# Logistic Regression"
   ]
  },
  {
   "cell_type": "code",
   "execution_count": 26,
   "metadata": {},
   "outputs": [
    {
     "data": {
      "text/plain": [
       "LogisticRegression(C=1.0, class_weight=None, dual=False, fit_intercept=True,\n",
       "          intercept_scaling=1, max_iter=100, multi_class='warn',\n",
       "          n_jobs=None, penalty='l2', random_state=None, solver='warn',\n",
       "          tol=0.0001, verbose=0, warm_start=False)"
      ]
     },
     "execution_count": 26,
     "metadata": {},
     "output_type": "execute_result"
    }
   ],
   "source": [
    "from sklearn.linear_model import LogisticRegression\n",
    "classifier = LogisticRegression()\n",
    "classifier"
   ]
  },
  {
   "cell_type": "code",
   "execution_count": 27,
   "metadata": {},
   "outputs": [
    {
     "name": "stderr",
     "output_type": "stream",
     "text": [
      "/anaconda3/envs/PythonData/lib/python3.6/site-packages/sklearn/linear_model/logistic.py:432: FutureWarning: Default solver will be changed to 'lbfgs' in 0.22. Specify a solver to silence this warning.\n",
      "  FutureWarning)\n"
     ]
    },
    {
     "data": {
      "text/plain": [
       "LogisticRegression(C=1.0, class_weight=None, dual=False, fit_intercept=True,\n",
       "          intercept_scaling=1, max_iter=100, multi_class='warn',\n",
       "          n_jobs=None, penalty='l2', random_state=None, solver='warn',\n",
       "          tol=0.0001, verbose=0, warm_start=False)"
      ]
     },
     "execution_count": 27,
     "metadata": {},
     "output_type": "execute_result"
    }
   ],
   "source": [
    "classifier.fit(X_train, y_train)"
   ]
  },
  {
   "cell_type": "code",
   "execution_count": 28,
   "metadata": {},
   "outputs": [
    {
     "name": "stdout",
     "output_type": "stream",
     "text": [
      "Training Data Score: 0.8666666666666667\n",
      "Testing Data Score: 0.88\n"
     ]
    }
   ],
   "source": [
    "print(f\"Training Data Score: {classifier.score(X_train, y_train)}\")\n",
    "print(f\"Testing Data Score: {classifier.score(X_test, y_test)}\")"
   ]
  },
  {
   "cell_type": "code",
   "execution_count": 29,
   "metadata": {},
   "outputs": [
    {
     "data": {
      "text/html": [
       "<div>\n",
       "<style scoped>\n",
       "    .dataframe tbody tr th:only-of-type {\n",
       "        vertical-align: middle;\n",
       "    }\n",
       "\n",
       "    .dataframe tbody tr th {\n",
       "        vertical-align: top;\n",
       "    }\n",
       "\n",
       "    .dataframe thead th {\n",
       "        text-align: right;\n",
       "    }\n",
       "</style>\n",
       "<table border=\"1\" class=\"dataframe\">\n",
       "  <thead>\n",
       "    <tr style=\"text-align: right;\">\n",
       "      <th></th>\n",
       "      <th>Prediction</th>\n",
       "      <th>Actual</th>\n",
       "    </tr>\n",
       "  </thead>\n",
       "  <tbody>\n",
       "    <tr>\n",
       "      <th>83</th>\n",
       "      <td>0.0</td>\n",
       "      <td>1.0</td>\n",
       "    </tr>\n",
       "    <tr>\n",
       "      <th>53</th>\n",
       "      <td>0.0</td>\n",
       "      <td>1.0</td>\n",
       "    </tr>\n",
       "    <tr>\n",
       "      <th>70</th>\n",
       "      <td>0.0</td>\n",
       "      <td>0.0</td>\n",
       "    </tr>\n",
       "    <tr>\n",
       "      <th>45</th>\n",
       "      <td>0.0</td>\n",
       "      <td>0.0</td>\n",
       "    </tr>\n",
       "    <tr>\n",
       "      <th>44</th>\n",
       "      <td>0.0</td>\n",
       "      <td>1.0</td>\n",
       "    </tr>\n",
       "  </tbody>\n",
       "</table>\n",
       "</div>"
      ],
      "text/plain": [
       "    Prediction  Actual\n",
       "83         0.0     1.0\n",
       "53         0.0     1.0\n",
       "70         0.0     0.0\n",
       "45         0.0     0.0\n",
       "44         0.0     1.0"
      ]
     },
     "execution_count": 29,
     "metadata": {},
     "output_type": "execute_result"
    }
   ],
   "source": [
    "predictions = classifier.predict(X_test)\n",
    "pd.DataFrame({\"Prediction\": predictions, \"Actual\": y_test}).head()"
   ]
  },
  {
   "cell_type": "markdown",
   "metadata": {},
   "source": [
    "# K Nearest Neighbor"
   ]
  },
  {
   "cell_type": "code",
   "execution_count": 30,
   "metadata": {},
   "outputs": [
    {
     "name": "stdout",
     "output_type": "stream",
     "text": [
      "93.33\n"
     ]
    }
   ],
   "source": [
    "# KNN \n",
    "knn = KNeighborsClassifier(n_neighbors = 3) \n",
    "knn.fit(X_train, y_train)  \n",
    "Y_pred = knn.predict(X_test)  \n",
    "acc_knn = round(knn.score(X_train, y_train) * 100, 2)\n",
    "print(acc_knn)"
   ]
  },
  {
   "cell_type": "code",
   "execution_count": null,
   "metadata": {},
   "outputs": [],
   "source": []
  },
  {
   "cell_type": "code",
   "execution_count": null,
   "metadata": {},
   "outputs": [],
   "source": []
  }
 ],
 "metadata": {
  "kernelspec": {
   "display_name": "Python 3",
   "language": "python",
   "name": "python3"
  },
  "language_info": {
   "codemirror_mode": {
    "name": "ipython",
    "version": 3
   },
   "file_extension": ".py",
   "mimetype": "text/x-python",
   "name": "python",
   "nbconvert_exporter": "python",
   "pygments_lexer": "ipython3",
   "version": "3.6.5"
  }
 },
 "nbformat": 4,
 "nbformat_minor": 2
}
