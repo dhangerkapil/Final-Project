{
 "cells": [
  {
   "cell_type": "code",
   "execution_count": 1,
   "metadata": {},
   "outputs": [
    {
     "data": {
      "text/html": [
       "<div>\n",
       "<style scoped>\n",
       "    .dataframe tbody tr th:only-of-type {\n",
       "        vertical-align: middle;\n",
       "    }\n",
       "\n",
       "    .dataframe tbody tr th {\n",
       "        vertical-align: top;\n",
       "    }\n",
       "\n",
       "    .dataframe thead th {\n",
       "        text-align: right;\n",
       "    }\n",
       "</style>\n",
       "<table border=\"1\" class=\"dataframe\">\n",
       "  <thead>\n",
       "    <tr style=\"text-align: right;\">\n",
       "      <th></th>\n",
       "      <th>id</th>\n",
       "      <th>tsunami</th>\n",
       "      <th>year</th>\n",
       "      <th>eq</th>\n",
       "      <th>region</th>\n",
       "      <th>deaths</th>\n",
       "    </tr>\n",
       "  </thead>\n",
       "  <tbody>\n",
       "    <tr>\n",
       "      <th>0</th>\n",
       "      <td>10330.0</td>\n",
       "      <td>0.0</td>\n",
       "      <td>2018.0</td>\n",
       "      <td>2.1</td>\n",
       "      <td>10.0</td>\n",
       "      <td>7.0</td>\n",
       "    </tr>\n",
       "    <tr>\n",
       "      <th>1</th>\n",
       "      <td>10293.0</td>\n",
       "      <td>0.0</td>\n",
       "      <td>2018.0</td>\n",
       "      <td>3.4</td>\n",
       "      <td>120.0</td>\n",
       "      <td>0.0</td>\n",
       "    </tr>\n",
       "    <tr>\n",
       "      <th>2</th>\n",
       "      <td>10331.0</td>\n",
       "      <td>0.0</td>\n",
       "      <td>2018.0</td>\n",
       "      <td>4.1</td>\n",
       "      <td>120.0</td>\n",
       "      <td>5.0</td>\n",
       "    </tr>\n",
       "    <tr>\n",
       "      <th>3</th>\n",
       "      <td>10327.0</td>\n",
       "      <td>0.0</td>\n",
       "      <td>2018.0</td>\n",
       "      <td>4.4</td>\n",
       "      <td>60.0</td>\n",
       "      <td>3.0</td>\n",
       "    </tr>\n",
       "    <tr>\n",
       "      <th>4</th>\n",
       "      <td>10326.0</td>\n",
       "      <td>0.0</td>\n",
       "      <td>2018.0</td>\n",
       "      <td>4.7</td>\n",
       "      <td>130.0</td>\n",
       "      <td>0.0</td>\n",
       "    </tr>\n",
       "  </tbody>\n",
       "</table>\n",
       "</div>"
      ],
      "text/plain": [
       "        id  tsunami    year   eq  region  deaths\n",
       "0  10330.0      0.0  2018.0  2.1    10.0     7.0\n",
       "1  10293.0      0.0  2018.0  3.4   120.0     0.0\n",
       "2  10331.0      0.0  2018.0  4.1   120.0     5.0\n",
       "3  10327.0      0.0  2018.0  4.4    60.0     3.0\n",
       "4  10326.0      0.0  2018.0  4.7   130.0     0.0"
      ]
     },
     "execution_count": 1,
     "metadata": {},
     "output_type": "execute_result"
    }
   ],
   "source": [
    "%matplotlib inline\n",
    "import matplotlib.pyplot as plt\n",
    "%matplotlib inline\n",
    "import numpy as np\n",
    "import pandas as pd\n",
    "foam = pd.read_csv('e-100.csv')\n",
    "foam.head()\n",
    "\n"
   ]
  },
  {
   "cell_type": "code",
   "execution_count": 2,
   "metadata": {},
   "outputs": [
    {
     "name": "stdout",
     "output_type": "stream",
     "text": [
      "(100, 2) (100, 1)\n"
     ]
    }
   ],
   "source": [
    "X = foam[[\"eq\", \"region\"]]\n",
    "y = foam[\"deaths\"].values.reshape(-1, 1)\n",
    "print(X.shape, y.shape)"
   ]
  },
  {
   "cell_type": "code",
   "execution_count": 3,
   "metadata": {},
   "outputs": [
    {
     "data": {
      "text/plain": [
       "array([[  2.1,  10. ],\n",
       "       [  3.4, 120. ],\n",
       "       [  4.1, 120. ],\n",
       "       [  4.4,  60. ],\n",
       "       [  4.7, 130. ],\n",
       "       [  4.9, 160. ],\n",
       "       [  4.9, 130. ],\n",
       "       [  4.9, 160. ],\n",
       "       [  5. , 140. ],\n",
       "       [  5. ,  30. ],\n",
       "       [  5.1,  30. ],\n",
       "       [  5.2,  60. ],\n",
       "       [  5.2,  60. ],\n",
       "       [  5.2, 140. ],\n",
       "       [  5.3,  40. ],\n",
       "       [  5.3,  60. ],\n",
       "       [  5.3, 140. ],\n",
       "       [  5.3, 140. ],\n",
       "       [  5.5, 140. ],\n",
       "       [  5.5,  30. ],\n",
       "       [  5.5, 140. ],\n",
       "       [  5.6,  30. ],\n",
       "       [  5.6, 100. ],\n",
       "       [  5.6,  30. ],\n",
       "       [  5.8,  60. ],\n",
       "       [  5.9,  60. ],\n",
       "       [  5.9,  90. ],\n",
       "       [  5.9, 140. ],\n",
       "       [  6. ,  60. ],\n",
       "       [  6. , 140. ],\n",
       "       [  6. ,  60. ],\n",
       "       [  6. , 170. ],\n",
       "       [  6.1, 170. ],\n",
       "       [  6.1,  40. ],\n",
       "       [  6.2,  40. ],\n",
       "       [  6.3,  60. ],\n",
       "       [  6.3, 170. ],\n",
       "       [  6.4,  30. ],\n",
       "       [  6.4,  60. ],\n",
       "       [  6.6,  30. ],\n",
       "       [  6.7, 170. ],\n",
       "       [  6.8, 130. ],\n",
       "       [  6.9,  60. ],\n",
       "       [  6.9,  60. ],\n",
       "       [  6.9, 150. ],\n",
       "       [  7.1, 160. ],\n",
       "       [  7.1, 170. ],\n",
       "       [  7.2, 150. ],\n",
       "       [  7.3,  90. ],\n",
       "       [  7.5, 170. ],\n",
       "       [  7.5,   0. ],\n",
       "       [  7.5,  90. ],\n",
       "       [  7.8, 170. ],\n",
       "       [  7.9, 150. ],\n",
       "       [  8.2, 170. ],\n",
       "       [  3.2,  60. ],\n",
       "       [  4. , 140. ],\n",
       "       [  4.2, 130. ],\n",
       "       [  4.4,  10. ],\n",
       "       [  4.8, 100. ],\n",
       "       [  4.9, 140. ],\n",
       "       [  5. , 170. ],\n",
       "       [  5. , 140. ],\n",
       "       [  5. , 140. ],\n",
       "       [  5.1,  60. ],\n",
       "       [  5.1,  30. ],\n",
       "       [  5.4, 160. ],\n",
       "       [  5.4,  40. ],\n",
       "       [  5.4,  30. ],\n",
       "       [  5.5,  60. ],\n",
       "       [  5.6, 160. ],\n",
       "       [  5.6,  10. ],\n",
       "       [  5.7, 170. ],\n",
       "       [  5.7,  60. ],\n",
       "       [  5.7, 130. ],\n",
       "       [  5.7, 170. ],\n",
       "       [  5.8, 140. ],\n",
       "       [  5.9, 170. ],\n",
       "       [  5.9, 170. ],\n",
       "       [  6. , 140. ],\n",
       "       [  6.1, 170. ],\n",
       "       [  6.1, 140. ],\n",
       "       [  6.1, 150. ],\n",
       "       [  6.2, 150. ],\n",
       "       [  6.3, 130. ],\n",
       "       [  6.3,  60. ],\n",
       "       [  6.3,  40. ],\n",
       "       [  6.4, 160. ],\n",
       "       [  6.5, 100. ],\n",
       "       [  6.5, 170. ],\n",
       "       [  6.5,  60. ],\n",
       "       [  6.5, 170. ],\n",
       "       [  6.5,  30. ],\n",
       "       [  6.6, 170. ],\n",
       "       [  6.7, 140. ],\n",
       "       [  6.8, 170. ],\n",
       "       [  6.8, 170. ],\n",
       "       [  6.8, 100. ],\n",
       "       [  6.9, 100. ],\n",
       "       [  6.9, 170. ]])"
      ]
     },
     "execution_count": 3,
     "metadata": {},
     "output_type": "execute_result"
    }
   ],
   "source": [
    "# Generate 4 clusters of random data.\n",
    "from sklearn.datasets.samples_generator import make_blobs\n",
    "\n",
    "#data, _ = make_blobs(n_samples=300, centers=4,\n",
    "#                     cluster_std=0.60, random_state=0)\n",
    "X=X.values\n",
    "X\n"
   ]
  },
  {
   "cell_type": "code",
   "execution_count": 4,
   "metadata": {},
   "outputs": [
    {
     "data": {
      "text/plain": [
       "<matplotlib.collections.PathCollection at 0x1165bec88>"
      ]
     },
     "execution_count": 4,
     "metadata": {},
     "output_type": "execute_result"
    },
    {
     "data": {
      "image/png": "[encoded data removed]",
      "text/plain": [
       "<Figure size 432x288 with 1 Axes>"
      ]
     },
     "metadata": {},
     "output_type": "display_data"
    }
   ],
   "source": [
    "# Plot the data\n",
    "plt.scatter(X[:, 0], X[:, 1])"
   ]
  },
  {
   "cell_type": "code",
   "execution_count": 5,
   "metadata": {},
   "outputs": [],
   "source": [
    "# Use n_clusters=4 as the k value\n",
    "# We can see from the plot above that there are 4 clusters\n",
    "from sklearn.cluster import KMeans\n",
    "kmeans = KMeans(n_clusters=4)"
   ]
  },
  {
   "cell_type": "code",
   "execution_count": 6,
   "metadata": {},
   "outputs": [
    {
     "data": {
      "text/plain": [
       "KMeans(algorithm='auto', copy_x=True, init='k-means++', max_iter=300,\n",
       "    n_clusters=4, n_init=10, n_jobs=None, precompute_distances='auto',\n",
       "    random_state=None, tol=0.0001, verbose=0)"
      ]
     },
     "execution_count": 6,
     "metadata": {},
     "output_type": "execute_result"
    }
   ],
   "source": [
    "# Fit the model to the data\n",
    "kmeans.fit(X)"
   ]
  },
  {
   "cell_type": "code",
   "execution_count": 7,
   "metadata": {},
   "outputs": [],
   "source": [
    "# Predict the clusters\n",
    "predicted_clusters = kmeans.predict(X)"
   ]
  },
  {
   "cell_type": "code",
   "execution_count": 8,
   "metadata": {},
   "outputs": [
    {
     "data": {
      "text/plain": [
       "<matplotlib.collections.PathCollection at 0x1a21e1fb38>"
      ]
     },
     "execution_count": 8,
     "metadata": {},
     "output_type": "execute_result"
    },
    {
     "data": {
      "image/png": "[encoded data removed]",
      "text/plain": [
       "<Figure size 432x288 with 1 Axes>"
      ]
     },
     "metadata": {},
     "output_type": "display_data"
    }
   ],
   "source": [
    "# Plot the predicted clusters to see if the model predicted the correct clusters\n",
    "# This is visual validation that the model was trained correctly.\n",
    "plt.scatter(X[:, 0], X[:, 1], c=predicted_clusters, s=50, cmap='viridis')"
   ]
  },
  {
   "cell_type": "code",
   "execution_count": null,
   "metadata": {},
   "outputs": [],
   "source": []
  },
  {
   "cell_type": "code",
   "execution_count": null,
   "metadata": {},
   "outputs": [],
   "source": []
  }
 ],
 "metadata": {
  "kernelspec": {
   "display_name": "Python 3",
   "language": "python",
   "name": "python3"
  },
  "language_info": {
   "codemirror_mode": {
    "name": "ipython",
    "version": 3
   },
   "file_extension": ".py",
   "mimetype": "text/x-python",
   "name": "python",
   "nbconvert_exporter": "python",
   "pygments_lexer": "ipython3",
   "version": "3.6.5"
  },
  "varInspector": {
   "cols": {
    "lenName": 16,
    "lenType": 16,
    "lenVar": 40
   },
   "kernels_config": {
    "python": {
     "delete_cmd_postfix": "",
     "delete_cmd_prefix": "del ",
     "library": "var_list.py",
     "varRefreshCmd": "print(var_dic_list())"
    },
    "r": {
     "delete_cmd_postfix": ") ",
     "delete_cmd_prefix": "rm(",
     "library": "var_list.r",
     "varRefreshCmd": "cat(var_dic_list()) "
    }
   },
   "types_to_exclude": [
    "module",
    "function",
    "builtin_function_or_method",
    "instance",
    "_Feature"
   ],
   "window_display": false
  }
 },
 "nbformat": 4,
 "nbformat_minor": 2
}
