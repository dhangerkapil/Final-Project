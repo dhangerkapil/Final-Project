{
 "cells": [
  {
   "cell_type": "markdown",
   "metadata": {},
   "source": [
    "Data Dictionary\n",
    "Variable\tDefinition\tKey\n",
    "survival\tSurvival\t0 = No, 1 = Yes\n",
    "pclass\tTicket class\t1 = 1st, 2 = 2nd, 3 = 3rd\n",
    "sex\tSex\t\n",
    "Age\tAge in years\t\n",
    "sibsp\t# of siblings / spouses aboard the Titanic\t\n",
    "parch\t# of parents / children aboard the Titanic\t\n",
    "ticket\tTicket number\t\n",
    "fare\tPassenger fare\t\n",
    "cabin\tCabin number\t\n",
    "embarked\tPort of Embarkation\tC = Cherbourg, Q = Queenstown, S = Southampton\n",
    "Variable Notes\n",
    "pclass: A proxy for socio-economic status (SES)\n",
    "1st = Upper\n",
    "2nd = Middle\n",
    "3rd = Lower\n",
    "\n",
    "age: Age is fractional if less than 1. If the age is estimated, is it in the form of xx.5\n",
    "\n",
    "sibsp: The dataset defines family relations in this way...\n",
    "Sibling = brother, sister, stepbrother, stepsister\n",
    "Spouse = husband, wife (mistresses and fiancés were ignored)\n",
    "\n",
    "parch: The dataset defines family relations in this way...\n",
    "Parent = mother, father\n",
    "Child = daughter, son, stepdaughter, stepson\n",
    "Some children travelled only with a nanny, therefore parch=0 for them.\n",
    "\n",
    "**survival:    Survival\n",
    "PassengerId: Unique Id of a passenger. \n",
    "pclass:    Ticket class     \n",
    "sex:    Sex     \n",
    "Age:    Age in years     \n",
    "sibsp:    # of siblings / spouses aboard the Titanic     \n",
    "parch:    # of parents / children aboard the Titanic     \n",
    "ticket:    Ticket number     \n",
    "fare:    Passenger fare     \n",
    "cabin:    Cabin number     \n",
    "embarked:    Port of Embarkation\n",
    "titanic_df.describe()**\n"
   ]
  },
  {
   "cell_type": "code",
   "execution_count": 27,
   "metadata": {},
   "outputs": [],
   "source": [
    "#Aref - updated for USGS Earthquakes dataset "
   ]
  },
  {
   "cell_type": "code",
   "execution_count": 28,
   "metadata": {},
   "outputs": [],
   "source": [
    "# linear algebra\n",
    "import numpy as np \n",
    "\n",
    "# data processing\n",
    "import pandas as pd \n",
    "\n",
    "# data visualization\n",
    "import seaborn as sns\n",
    "%matplotlib inline\n",
    "from matplotlib import pyplot as plt\n",
    "from matplotlib import style\n",
    "\n",
    "# Algorithms\n",
    "# from sklearn import linear_model\n",
    "# from sklearn.linear_model import LogisticRegression\n",
    "from sklearn.ensemble import RandomForestClassifier\n",
    "\n",
    "from sklearn import tree\n",
    "import pandas as pd\n",
    "import os\n",
    "from sklearn.neighbors import KNeighborsClassifier"
   ]
  },
  {
   "cell_type": "code",
   "execution_count": 29,
   "metadata": {},
   "outputs": [],
   "source": [
    "titanic_df = pd.read_csv(\"earthquakes-clean.csv\")\n"
   ]
  },
  {
   "cell_type": "code",
   "execution_count": 30,
   "metadata": {},
   "outputs": [
    {
     "data": {
      "text/plain": [
       "<bound method NDFrame.head of            id  tsunami    year   eq  region  deaths\n",
       "0      7614.0      0.0  2007.0  1.6   150.0     3.0\n",
       "1     10330.0      0.0  2018.0  2.1    10.0     7.0\n",
       "2     10036.0      0.0  2013.0  2.1   150.0    14.0\n",
       "3      5754.0      0.0  2004.0  2.2   110.0     0.0\n",
       "4      9832.0      0.0  2011.0  3.1   150.0     0.0\n",
       "5      8535.0      0.0  2009.0  3.1   170.0     0.0\n",
       "6     10317.0      0.0  2017.0  3.2    60.0     1.0\n",
       "7      9996.0      1.0  1703.0  3.2   130.0     0.0\n",
       "8      5514.0      0.0  1999.0  3.2    40.0     0.0\n",
       "9      8492.0      0.0  2009.0  3.4    30.0     2.0\n",
       "10    10293.0      0.0  2018.0  3.4   120.0     0.0\n",
       "11     9887.0      0.0  2011.0  3.5    60.0     2.0\n",
       "12     8792.0      0.0  2009.0  3.5    10.0     2.0\n",
       "13     7221.0      0.0  1982.0  3.5   150.0    10.0\n",
       "14     4641.0      0.0  1973.0  3.5   130.0     0.0\n",
       "15    10126.0      0.0  2015.0  3.6   130.0     4.0\n",
       "16    10099.0      0.0  2014.0  3.6   120.0     0.0\n",
       "17     6483.0      1.0  1992.0  3.7    30.0     0.0\n",
       "18     9826.0      0.0  2010.0  3.7   150.0     0.0\n",
       "19     5275.0      0.0  1991.0  3.8   120.0     9.0\n",
       "20     8126.0      0.0  2008.0  3.8    60.0     0.0\n",
       "21     7407.0      0.0  2006.0  3.8    10.0     0.0\n",
       "22    10314.0      0.0  2014.0  3.9   150.0     0.0\n",
       "23     7421.0      0.0  2006.0  3.9   120.0     0.0\n",
       "24    10289.0      0.0  2017.0  4.0   140.0     1.0\n",
       "25     5793.0      0.0  2004.0  4.0   140.0     1.0\n",
       "26     4884.0      0.0  1980.0  4.0   130.0     1.0\n",
       "27     4934.0      0.0  1981.0  4.0    60.0     6.0\n",
       "28     5261.0      0.0  1990.0  4.0    10.0    10.0\n",
       "29     9888.0      0.0  2011.0  4.0   160.0     0.0\n",
       "...       ...      ...     ...  ...     ...     ...\n",
       "5988     85.0      0.0   344.0  0.0   130.0     0.0\n",
       "5989     82.0      0.0   342.0  0.0   130.0     0.0\n",
       "5990     80.0      0.0   341.0  0.0   140.0     0.0\n",
       "5991     79.0      0.0   340.0  0.0   140.0     0.0\n",
       "5992     78.0      0.0   334.0  0.0   130.0     0.0\n",
       "5993     77.0      0.0   324.0  0.0   130.0     0.0\n",
       "5994     76.0      0.0   306.0  0.0   140.0     0.0\n",
       "5995     73.0      0.0   253.0  0.0   140.0     0.0\n",
       "5996     72.0      0.0   251.0  0.0   130.0     0.0\n",
       "5997     69.0      0.0   177.0  0.0   140.0     0.0\n",
       "5998     68.0      0.0   170.0  0.0   130.0     0.0\n",
       "5999     67.0      0.0   155.0  0.0   130.0     0.0\n",
       "6000   9970.0      0.0   109.0  0.0   140.0     0.0\n",
       "6001     63.0      0.0   105.0  0.0   140.0     0.0\n",
       "6002     61.0      0.0    93.0  0.0   140.0     0.0\n",
       "6003     58.0      0.0    79.0  0.0   130.0     0.0\n",
       "6004     53.0      0.0    63.0  0.0   130.0     0.0\n",
       "6005     52.0      0.0    60.0  0.0   140.0     0.0\n",
       "6006     51.0      0.0    57.0  0.0   130.0     0.0\n",
       "6007     50.0      0.0    55.0  0.0   130.0     0.0\n",
       "6008     49.0      0.0    52.0  0.0   130.0     0.0\n",
       "6009     48.0      0.0    52.0  0.0   140.0     0.0\n",
       "6010     46.0      0.0    50.0  0.0    40.0     0.0\n",
       "6011  10265.0      0.0    37.0  0.0   140.0     0.0\n",
       "6012   8178.0      0.0    33.0  0.0   140.0     0.0\n",
       "6013     44.0      0.0    29.0  0.0   140.0     0.0\n",
       "6014     42.0      0.0    25.0  0.0    60.0     0.0\n",
       "6015     41.0      0.0    23.0  0.0   130.0     0.0\n",
       "6016     40.0      0.0    17.0  0.0   140.0     0.0\n",
       "6017     39.0      0.0    11.0  0.0   140.0     0.0\n",
       "\n",
       "[6018 rows x 6 columns]>"
      ]
     },
     "execution_count": 30,
     "metadata": {},
     "output_type": "execute_result"
    }
   ],
   "source": [
    "titanic_df.head"
   ]
  },
  {
   "cell_type": "code",
   "execution_count": 31,
   "metadata": {},
   "outputs": [
    {
     "data": {
      "text/plain": [
       "0       0.0\n",
       "1       0.0\n",
       "2       0.0\n",
       "3       0.0\n",
       "4       0.0\n",
       "5       0.0\n",
       "6       0.0\n",
       "7       1.0\n",
       "8       0.0\n",
       "9       0.0\n",
       "10      0.0\n",
       "11      0.0\n",
       "12      0.0\n",
       "13      0.0\n",
       "14      0.0\n",
       "15      0.0\n",
       "16      0.0\n",
       "17      1.0\n",
       "18      0.0\n",
       "19      0.0\n",
       "20      0.0\n",
       "21      0.0\n",
       "22      0.0\n",
       "23      0.0\n",
       "24      0.0\n",
       "25      0.0\n",
       "26      0.0\n",
       "27      0.0\n",
       "28      0.0\n",
       "29      0.0\n",
       "       ... \n",
       "5988    0.0\n",
       "5989    0.0\n",
       "5990    0.0\n",
       "5991    0.0\n",
       "5992    0.0\n",
       "5993    0.0\n",
       "5994    0.0\n",
       "5995    0.0\n",
       "5996    0.0\n",
       "5997    0.0\n",
       "5998    0.0\n",
       "5999    0.0\n",
       "6000    0.0\n",
       "6001    0.0\n",
       "6002    0.0\n",
       "6003    0.0\n",
       "6004    0.0\n",
       "6005    0.0\n",
       "6006    0.0\n",
       "6007    0.0\n",
       "6008    0.0\n",
       "6009    0.0\n",
       "6010    0.0\n",
       "6011    0.0\n",
       "6012    0.0\n",
       "6013    0.0\n",
       "6014    0.0\n",
       "6015    0.0\n",
       "6016    0.0\n",
       "6017    0.0\n",
       "Name: tsunami, Length: 6018, dtype: float64"
      ]
     },
     "execution_count": 31,
     "metadata": {},
     "output_type": "execute_result"
    }
   ],
   "source": [
    "titanic_df['tsunami']"
   ]
  },
  {
   "cell_type": "code",
   "execution_count": 32,
   "metadata": {},
   "outputs": [
    {
     "data": {
      "text/plain": [
       "<bound method NDFrame.head of            id  tsunami    year   eq  region  deaths\n",
       "0      7614.0      0.0  2007.0  1.6   150.0     3.0\n",
       "1     10330.0      0.0  2018.0  2.1    10.0     7.0\n",
       "2     10036.0      0.0  2013.0  2.1   150.0    14.0\n",
       "3      5754.0      0.0  2004.0  2.2   110.0     0.0\n",
       "4      9832.0      0.0  2011.0  3.1   150.0     0.0\n",
       "5      8535.0      0.0  2009.0  3.1   170.0     0.0\n",
       "6     10317.0      0.0  2017.0  3.2    60.0     1.0\n",
       "7      9996.0      1.0  1703.0  3.2   130.0     0.0\n",
       "8      5514.0      0.0  1999.0  3.2    40.0     0.0\n",
       "9      8492.0      0.0  2009.0  3.4    30.0     2.0\n",
       "10    10293.0      0.0  2018.0  3.4   120.0     0.0\n",
       "11     9887.0      0.0  2011.0  3.5    60.0     2.0\n",
       "12     8792.0      0.0  2009.0  3.5    10.0     2.0\n",
       "13     7221.0      0.0  1982.0  3.5   150.0    10.0\n",
       "14     4641.0      0.0  1973.0  3.5   130.0     0.0\n",
       "15    10126.0      0.0  2015.0  3.6   130.0     4.0\n",
       "16    10099.0      0.0  2014.0  3.6   120.0     0.0\n",
       "17     6483.0      1.0  1992.0  3.7    30.0     0.0\n",
       "18     9826.0      0.0  2010.0  3.7   150.0     0.0\n",
       "19     5275.0      0.0  1991.0  3.8   120.0     9.0\n",
       "20     8126.0      0.0  2008.0  3.8    60.0     0.0\n",
       "21     7407.0      0.0  2006.0  3.8    10.0     0.0\n",
       "22    10314.0      0.0  2014.0  3.9   150.0     0.0\n",
       "23     7421.0      0.0  2006.0  3.9   120.0     0.0\n",
       "24    10289.0      0.0  2017.0  4.0   140.0     1.0\n",
       "25     5793.0      0.0  2004.0  4.0   140.0     1.0\n",
       "26     4884.0      0.0  1980.0  4.0   130.0     1.0\n",
       "27     4934.0      0.0  1981.0  4.0    60.0     6.0\n",
       "28     5261.0      0.0  1990.0  4.0    10.0    10.0\n",
       "29     9888.0      0.0  2011.0  4.0   160.0     0.0\n",
       "...       ...      ...     ...  ...     ...     ...\n",
       "5988     85.0      0.0   344.0  0.0   130.0     0.0\n",
       "5989     82.0      0.0   342.0  0.0   130.0     0.0\n",
       "5990     80.0      0.0   341.0  0.0   140.0     0.0\n",
       "5991     79.0      0.0   340.0  0.0   140.0     0.0\n",
       "5992     78.0      0.0   334.0  0.0   130.0     0.0\n",
       "5993     77.0      0.0   324.0  0.0   130.0     0.0\n",
       "5994     76.0      0.0   306.0  0.0   140.0     0.0\n",
       "5995     73.0      0.0   253.0  0.0   140.0     0.0\n",
       "5996     72.0      0.0   251.0  0.0   130.0     0.0\n",
       "5997     69.0      0.0   177.0  0.0   140.0     0.0\n",
       "5998     68.0      0.0   170.0  0.0   130.0     0.0\n",
       "5999     67.0      0.0   155.0  0.0   130.0     0.0\n",
       "6000   9970.0      0.0   109.0  0.0   140.0     0.0\n",
       "6001     63.0      0.0   105.0  0.0   140.0     0.0\n",
       "6002     61.0      0.0    93.0  0.0   140.0     0.0\n",
       "6003     58.0      0.0    79.0  0.0   130.0     0.0\n",
       "6004     53.0      0.0    63.0  0.0   130.0     0.0\n",
       "6005     52.0      0.0    60.0  0.0   140.0     0.0\n",
       "6006     51.0      0.0    57.0  0.0   130.0     0.0\n",
       "6007     50.0      0.0    55.0  0.0   130.0     0.0\n",
       "6008     49.0      0.0    52.0  0.0   130.0     0.0\n",
       "6009     48.0      0.0    52.0  0.0   140.0     0.0\n",
       "6010     46.0      0.0    50.0  0.0    40.0     0.0\n",
       "6011  10265.0      0.0    37.0  0.0   140.0     0.0\n",
       "6012   8178.0      0.0    33.0  0.0   140.0     0.0\n",
       "6013     44.0      0.0    29.0  0.0   140.0     0.0\n",
       "6014     42.0      0.0    25.0  0.0    60.0     0.0\n",
       "6015     41.0      0.0    23.0  0.0   130.0     0.0\n",
       "6016     40.0      0.0    17.0  0.0   140.0     0.0\n",
       "6017     39.0      0.0    11.0  0.0   140.0     0.0\n",
       "\n",
       "[6018 rows x 6 columns]>"
      ]
     },
     "execution_count": 32,
     "metadata": {},
     "output_type": "execute_result"
    }
   ],
   "source": [
    "#titanic_df['cancelled'] = titanic_df['cancelled'].map({'cancelyes': 1.0, 'cancelno': 0.0})\n",
    "titanic_df.head"
   ]
  },
  {
   "cell_type": "code",
   "execution_count": 33,
   "metadata": {},
   "outputs": [
    {
     "data": {
      "text/html": [
       "<div>\n",
       "<style scoped>\n",
       "    .dataframe tbody tr th:only-of-type {\n",
       "        vertical-align: middle;\n",
       "    }\n",
       "\n",
       "    .dataframe tbody tr th {\n",
       "        vertical-align: top;\n",
       "    }\n",
       "\n",
       "    .dataframe thead th {\n",
       "        text-align: right;\n",
       "    }\n",
       "</style>\n",
       "<table border=\"1\" class=\"dataframe\">\n",
       "  <thead>\n",
       "    <tr style=\"text-align: right;\">\n",
       "      <th></th>\n",
       "      <th>tsunami</th>\n",
       "      <th>eq</th>\n",
       "      <th>region</th>\n",
       "      <th>deaths</th>\n",
       "    </tr>\n",
       "  </thead>\n",
       "  <tbody>\n",
       "    <tr>\n",
       "      <th>2136</th>\n",
       "      <td>1.0</td>\n",
       "      <td>6.5</td>\n",
       "      <td>30.0</td>\n",
       "      <td>0.0</td>\n",
       "    </tr>\n",
       "    <tr>\n",
       "      <th>4942</th>\n",
       "      <td>1.0</td>\n",
       "      <td>0.0</td>\n",
       "      <td>90.0</td>\n",
       "      <td>0.0</td>\n",
       "    </tr>\n",
       "    <tr>\n",
       "      <th>5707</th>\n",
       "      <td>0.0</td>\n",
       "      <td>0.0</td>\n",
       "      <td>130.0</td>\n",
       "      <td>0.0</td>\n",
       "    </tr>\n",
       "    <tr>\n",
       "      <th>3295</th>\n",
       "      <td>1.0</td>\n",
       "      <td>7.5</td>\n",
       "      <td>30.0</td>\n",
       "      <td>1.0</td>\n",
       "    </tr>\n",
       "    <tr>\n",
       "      <th>1396</th>\n",
       "      <td>0.0</td>\n",
       "      <td>6.0</td>\n",
       "      <td>30.0</td>\n",
       "      <td>260.0</td>\n",
       "    </tr>\n",
       "    <tr>\n",
       "      <th>2223</th>\n",
       "      <td>1.0</td>\n",
       "      <td>6.6</td>\n",
       "      <td>30.0</td>\n",
       "      <td>59.0</td>\n",
       "    </tr>\n",
       "    <tr>\n",
       "      <th>137</th>\n",
       "      <td>0.0</td>\n",
       "      <td>4.5</td>\n",
       "      <td>60.0</td>\n",
       "      <td>0.0</td>\n",
       "    </tr>\n",
       "    <tr>\n",
       "      <th>2866</th>\n",
       "      <td>1.0</td>\n",
       "      <td>7.0</td>\n",
       "      <td>130.0</td>\n",
       "      <td>0.0</td>\n",
       "    </tr>\n",
       "    <tr>\n",
       "      <th>3038</th>\n",
       "      <td>1.0</td>\n",
       "      <td>7.2</td>\n",
       "      <td>150.0</td>\n",
       "      <td>0.0</td>\n",
       "    </tr>\n",
       "    <tr>\n",
       "      <th>5970</th>\n",
       "      <td>0.0</td>\n",
       "      <td>0.0</td>\n",
       "      <td>140.0</td>\n",
       "      <td>0.0</td>\n",
       "    </tr>\n",
       "  </tbody>\n",
       "</table>\n",
       "</div>"
      ],
      "text/plain": [
       "      tsunami   eq  region  deaths\n",
       "2136      1.0  6.5    30.0     0.0\n",
       "4942      1.0  0.0    90.0     0.0\n",
       "5707      0.0  0.0   130.0     0.0\n",
       "3295      1.0  7.5    30.0     1.0\n",
       "1396      0.0  6.0    30.0   260.0\n",
       "2223      1.0  6.6    30.0    59.0\n",
       "137       0.0  4.5    60.0     0.0\n",
       "2866      1.0  7.0   130.0     0.0\n",
       "3038      1.0  7.2   150.0     0.0\n",
       "5970      0.0  0.0   140.0     0.0"
      ]
     },
     "execution_count": 33,
     "metadata": {},
     "output_type": "execute_result"
    }
   ],
   "source": [
    "data = titanic_df.drop(columns=[\"id\", \"year\"])\n",
    "data.sample(10)"
   ]
  },
  {
   "cell_type": "code",
   "execution_count": 34,
   "metadata": {},
   "outputs": [
    {
     "name": "stdout",
     "output_type": "stream",
     "text": [
      "Mean Deaths\n"
     ]
    },
    {
     "data": {
      "text/plain": [
       "<Figure size 1224x720 with 0 Axes>"
      ]
     },
     "metadata": {},
     "output_type": "display_data"
    },
    {
     "data": {
      "image/png": "[encoded data removed]",
      "text/plain": [
       "<Figure size 432x288 with 1 Axes>"
      ]
     },
     "metadata": {},
     "output_type": "display_data"
    }
   ],
   "source": [
    "fig=plt.figure(figsize=(17,10))\n",
    "data.hist(column=\"deaths\", bins=10)\n",
    "plt.xlabel(\"eq\",fontsize=15)\n",
    "plt.ylabel(\"deaths\",fontsize=15)\n",
    "plt.xlim([0.0,10.0])\n",
    "plt.ylim([0.0,100.0])\n",
    "\n",
    "plt.axvline(data[\"eq\"].mean(), color=\"red\")\n",
    "print('Mean Deaths'.format(data[\"deaths\"].mean()))\n"
   ]
  },
  {
   "cell_type": "code",
   "execution_count": 35,
   "metadata": {},
   "outputs": [
    {
     "data": {
      "text/html": [
       "<div>\n",
       "<style scoped>\n",
       "    .dataframe tbody tr th:only-of-type {\n",
       "        vertical-align: middle;\n",
       "    }\n",
       "\n",
       "    .dataframe tbody tr th {\n",
       "        vertical-align: top;\n",
       "    }\n",
       "\n",
       "    .dataframe thead th {\n",
       "        text-align: right;\n",
       "    }\n",
       "</style>\n",
       "<table border=\"1\" class=\"dataframe\">\n",
       "  <thead>\n",
       "    <tr style=\"text-align: right;\">\n",
       "      <th></th>\n",
       "      <th>tsunami</th>\n",
       "      <th>eq</th>\n",
       "      <th>region</th>\n",
       "      <th>deaths</th>\n",
       "    </tr>\n",
       "  </thead>\n",
       "  <tbody>\n",
       "    <tr>\n",
       "      <th>0</th>\n",
       "      <td>0.0</td>\n",
       "      <td>1.6</td>\n",
       "      <td>150.0</td>\n",
       "      <td>3.0</td>\n",
       "    </tr>\n",
       "    <tr>\n",
       "      <th>1</th>\n",
       "      <td>0.0</td>\n",
       "      <td>2.1</td>\n",
       "      <td>10.0</td>\n",
       "      <td>7.0</td>\n",
       "    </tr>\n",
       "    <tr>\n",
       "      <th>2</th>\n",
       "      <td>0.0</td>\n",
       "      <td>2.1</td>\n",
       "      <td>150.0</td>\n",
       "      <td>14.0</td>\n",
       "    </tr>\n",
       "    <tr>\n",
       "      <th>3</th>\n",
       "      <td>0.0</td>\n",
       "      <td>2.2</td>\n",
       "      <td>110.0</td>\n",
       "      <td>0.0</td>\n",
       "    </tr>\n",
       "    <tr>\n",
       "      <th>4</th>\n",
       "      <td>0.0</td>\n",
       "      <td>3.1</td>\n",
       "      <td>150.0</td>\n",
       "      <td>0.0</td>\n",
       "    </tr>\n",
       "    <tr>\n",
       "      <th>5</th>\n",
       "      <td>0.0</td>\n",
       "      <td>3.1</td>\n",
       "      <td>170.0</td>\n",
       "      <td>0.0</td>\n",
       "    </tr>\n",
       "    <tr>\n",
       "      <th>6</th>\n",
       "      <td>0.0</td>\n",
       "      <td>3.2</td>\n",
       "      <td>60.0</td>\n",
       "      <td>1.0</td>\n",
       "    </tr>\n",
       "    <tr>\n",
       "      <th>7</th>\n",
       "      <td>1.0</td>\n",
       "      <td>3.2</td>\n",
       "      <td>130.0</td>\n",
       "      <td>0.0</td>\n",
       "    </tr>\n",
       "    <tr>\n",
       "      <th>8</th>\n",
       "      <td>0.0</td>\n",
       "      <td>3.2</td>\n",
       "      <td>40.0</td>\n",
       "      <td>0.0</td>\n",
       "    </tr>\n",
       "    <tr>\n",
       "      <th>9</th>\n",
       "      <td>0.0</td>\n",
       "      <td>3.4</td>\n",
       "      <td>30.0</td>\n",
       "      <td>2.0</td>\n",
       "    </tr>\n",
       "  </tbody>\n",
       "</table>\n",
       "</div>"
      ],
      "text/plain": [
       "   tsunami   eq  region  deaths\n",
       "0      0.0  1.6   150.0     3.0\n",
       "1      0.0  2.1    10.0     7.0\n",
       "2      0.0  2.1   150.0    14.0\n",
       "3      0.0  2.2   110.0     0.0\n",
       "4      0.0  3.1   150.0     0.0\n",
       "5      0.0  3.1   170.0     0.0\n",
       "6      0.0  3.2    60.0     1.0\n",
       "7      1.0  3.2   130.0     0.0\n",
       "8      0.0  3.2    40.0     0.0\n",
       "9      0.0  3.4    30.0     2.0"
      ]
     },
     "execution_count": 35,
     "metadata": {},
     "output_type": "execute_result"
    }
   ],
   "source": [
    "data_nona = data[\"deaths\"].fillna(data[\"deaths\"].mean())\n",
    "data[\"deaths\"]=data_nona\n",
    "data.head(10)"
   ]
  },
  {
   "cell_type": "code",
   "execution_count": 36,
   "metadata": {},
   "outputs": [],
   "source": [
    "# data.info()"
   ]
  },
  {
   "cell_type": "markdown",
   "metadata": {},
   "source": [
    "# Decision Tree Algorithm"
   ]
  },
  {
   "cell_type": "code",
   "execution_count": 37,
   "metadata": {},
   "outputs": [],
   "source": [
    "target = data[\"tsunami\"]\n",
    "target_names = [\"yes\", \"no\"]"
   ]
  },
  {
   "cell_type": "code",
   "execution_count": 38,
   "metadata": {},
   "outputs": [
    {
     "data": {
      "text/plain": [
       "<bound method NDFrame.head of        eq  region  deaths\n",
       "0     1.6   150.0     3.0\n",
       "1     2.1    10.0     7.0\n",
       "2     2.1   150.0    14.0\n",
       "3     2.2   110.0     0.0\n",
       "4     3.1   150.0     0.0\n",
       "5     3.1   170.0     0.0\n",
       "6     3.2    60.0     1.0\n",
       "7     3.2   130.0     0.0\n",
       "8     3.2    40.0     0.0\n",
       "9     3.4    30.0     2.0\n",
       "10    3.4   120.0     0.0\n",
       "11    3.5    60.0     2.0\n",
       "12    3.5    10.0     2.0\n",
       "13    3.5   150.0    10.0\n",
       "14    3.5   130.0     0.0\n",
       "15    3.6   130.0     4.0\n",
       "16    3.6   120.0     0.0\n",
       "17    3.7    30.0     0.0\n",
       "18    3.7   150.0     0.0\n",
       "19    3.8   120.0     9.0\n",
       "20    3.8    60.0     0.0\n",
       "21    3.8    10.0     0.0\n",
       "22    3.9   150.0     0.0\n",
       "23    3.9   120.0     0.0\n",
       "24    4.0   140.0     1.0\n",
       "25    4.0   140.0     1.0\n",
       "26    4.0   130.0     1.0\n",
       "27    4.0    60.0     6.0\n",
       "28    4.0    10.0    10.0\n",
       "29    4.0   160.0     0.0\n",
       "...   ...     ...     ...\n",
       "5988  0.0   130.0     0.0\n",
       "5989  0.0   130.0     0.0\n",
       "5990  0.0   140.0     0.0\n",
       "5991  0.0   140.0     0.0\n",
       "5992  0.0   130.0     0.0\n",
       "5993  0.0   130.0     0.0\n",
       "5994  0.0   140.0     0.0\n",
       "5995  0.0   140.0     0.0\n",
       "5996  0.0   130.0     0.0\n",
       "5997  0.0   140.0     0.0\n",
       "5998  0.0   130.0     0.0\n",
       "5999  0.0   130.0     0.0\n",
       "6000  0.0   140.0     0.0\n",
       "6001  0.0   140.0     0.0\n",
       "6002  0.0   140.0     0.0\n",
       "6003  0.0   130.0     0.0\n",
       "6004  0.0   130.0     0.0\n",
       "6005  0.0   140.0     0.0\n",
       "6006  0.0   130.0     0.0\n",
       "6007  0.0   130.0     0.0\n",
       "6008  0.0   130.0     0.0\n",
       "6009  0.0   140.0     0.0\n",
       "6010  0.0    40.0     0.0\n",
       "6011  0.0   140.0     0.0\n",
       "6012  0.0   140.0     0.0\n",
       "6013  0.0   140.0     0.0\n",
       "6014  0.0    60.0     0.0\n",
       "6015  0.0   130.0     0.0\n",
       "6016  0.0   140.0     0.0\n",
       "6017  0.0   140.0     0.0\n",
       "\n",
       "[6018 rows x 3 columns]>"
      ]
     },
     "execution_count": 38,
     "metadata": {},
     "output_type": "execute_result"
    }
   ],
   "source": [
    "variable = data.drop(\"tsunami\", axis=1)\n",
    "feature_names = variable.columns\n",
    "variable.head"
   ]
  },
  {
   "cell_type": "code",
   "execution_count": 39,
   "metadata": {},
   "outputs": [],
   "source": [
    "from sklearn.model_selection import train_test_split\n",
    "X_train, X_test, y_train, y_test = train_test_split(variable, target, random_state=42)"
   ]
  },
  {
   "cell_type": "code",
   "execution_count": 40,
   "metadata": {},
   "outputs": [
    {
     "data": {
      "text/plain": [
       "0.7561461794019934"
      ]
     },
     "execution_count": 40,
     "metadata": {},
     "output_type": "execute_result"
    }
   ],
   "source": [
    "# y_test is what the outcome is, and y_predict is what the decision tree predicts it. \n",
    "#y_test is the survive column entries, and X_test the rest of the columns or the \n",
    "# variables we think affect the survivie. \n",
    "clf = tree.DecisionTreeClassifier()\n",
    "clf = clf.fit(X_train, y_train)\n",
    "clf.score(X_test, y_test) "
   ]
  },
  {
   "cell_type": "code",
   "execution_count": 41,
   "metadata": {},
   "outputs": [
    {
     "data": {
      "text/plain": [
       "0.8546421449146909"
      ]
     },
     "execution_count": 41,
     "metadata": {},
     "output_type": "execute_result"
    }
   ],
   "source": [
    "y_predict = clf.predict(X_test)\n",
    "y_predict.shape\n",
    "clf.score(X_train,y_train)"
   ]
  },
  {
   "cell_type": "markdown",
   "metadata": {},
   "source": [
    "# Random forest Algorithm"
   ]
  },
  {
   "cell_type": "code",
   "execution_count": 45,
   "metadata": {},
   "outputs": [
    {
     "data": {
      "text/plain": [
       "0.8492854769026255"
      ]
     },
     "execution_count": 45,
     "metadata": {},
     "output_type": "execute_result"
    }
   ],
   "source": [
    "# Create a random forest classifier\n",
    "\n",
    "rf = RandomForestClassifier(n_estimators=200)\n",
    "rf = rf.fit(variable, target)\n",
    "rf.score(variable, target)\n",
    "# Have not done the cross validation"
   ]
  },
  {
   "cell_type": "code",
   "execution_count": 50,
   "metadata": {},
   "outputs": [
    {
     "data": {
      "text/plain": [
       "1315    0.0\n",
       "5824    0.0\n",
       "1744    1.0\n",
       "1860    0.0\n",
       "1559    0.0\n",
       "5503    0.0\n",
       "263     0.0\n",
       "2252    1.0\n",
       "5038    0.0\n",
       "1330    0.0\n",
       "2865    1.0\n",
       "811     1.0\n",
       "4087    1.0\n",
       "4641    1.0\n",
       "84      0.0\n",
       "1892    0.0\n",
       "1197    0.0\n",
       "530     1.0\n",
       "1919    1.0\n",
       "5214    0.0\n",
       "4517    0.0\n",
       "5861    0.0\n",
       "3684    0.0\n",
       "5888    0.0\n",
       "4153    1.0\n",
       "3168    1.0\n",
       "1741    0.0\n",
       "5002    1.0\n",
       "79      0.0\n",
       "2091    0.0\n",
       "       ... \n",
       "2173    0.0\n",
       "5545    0.0\n",
       "731     0.0\n",
       "3198    1.0\n",
       "291     0.0\n",
       "184     0.0\n",
       "5763    0.0\n",
       "2004    1.0\n",
       "4822    1.0\n",
       "533     0.0\n",
       "2846    1.0\n",
       "5849    0.0\n",
       "2110    1.0\n",
       "5273    0.0\n",
       "657     0.0\n",
       "1255    0.0\n",
       "5781    0.0\n",
       "3887    0.0\n",
       "5601    0.0\n",
       "4801    1.0\n",
       "898     0.0\n",
       "428     0.0\n",
       "4141    1.0\n",
       "5671    0.0\n",
       "5231    0.0\n",
       "1436    1.0\n",
       "5651    0.0\n",
       "1222    0.0\n",
       "1623    0.0\n",
       "1837    0.0\n",
       "Name: tsunami, Length: 1505, dtype: float64"
      ]
     },
     "execution_count": 50,
     "metadata": {},
     "output_type": "execute_result"
    }
   ],
   "source": [
    "y_test"
   ]
  },
  {
   "cell_type": "raw",
   "metadata": {},
   "source": [
    "rf1 = rf.fit(X_train, y_train)\n",
    "rf1.score(X_train, y_train)\n"
   ]
  },
  {
   "cell_type": "code",
   "execution_count": 53,
   "metadata": {},
   "outputs": [
    {
     "data": {
      "text/plain": [
       "0.8451827242524917"
      ]
     },
     "execution_count": 53,
     "metadata": {},
     "output_type": "execute_result"
    }
   ],
   "source": [
    "rf.score(X_test, y_test)\n"
   ]
  },
  {
   "cell_type": "code",
   "execution_count": 43,
   "metadata": {},
   "outputs": [
    {
     "data": {
      "text/plain": [
       "array([0.47873577, 0.29865351, 0.22261072])"
      ]
     },
     "execution_count": 43,
     "metadata": {},
     "output_type": "execute_result"
    }
   ],
   "source": [
    "# Random Forests in sklearn will automatically calculate feature importance\n",
    "importances = rf.feature_importances_\n",
    "importances"
   ]
  },
  {
   "cell_type": "code",
   "execution_count": 18,
   "metadata": {},
   "outputs": [
    {
     "data": {
      "text/plain": [
       "[(0.48273837731329555, 'eq'),\n",
       " (0.2926319804349699, 'region'),\n",
       " (0.2246296422517349, 'deaths')]"
      ]
     },
     "execution_count": 18,
     "metadata": {},
     "output_type": "execute_result"
    }
   ],
   "source": [
    "# We can sort the features by their importance\n",
    "sorted(zip(rf.feature_importances_, feature_names), reverse=True)"
   ]
  },
  {
   "cell_type": "markdown",
   "metadata": {},
   "source": [
    "# Support Vector Machine\n",
    "With Radial-basis-function kernel"
   ]
  },
  {
   "cell_type": "code",
   "execution_count": 19,
   "metadata": {},
   "outputs": [
    {
     "name": "stderr",
     "output_type": "stream",
     "text": [
      "/anaconda3/envs/PythonData/lib/python3.6/site-packages/sklearn/svm/base.py:196: FutureWarning: The default value of gamma will change from 'auto' to 'scale' in version 0.22 to account better for unscaled features. Set gamma explicitly to 'auto' or 'scale' to avoid this warning.\n",
      "  \"avoid this warning.\", FutureWarning)\n"
     ]
    }
   ],
   "source": [
    "from sklearn.svm import SVC \n",
    "# using X_train, X_test, y_train, y_test\n",
    "model = SVC(kernel='rbf')\n",
    "model.fit(X_train, y_train)\n",
    "y_predict = model.predict(X_test)\n",
    "# compare y_predict to y_test"
   ]
  },
  {
   "cell_type": "code",
   "execution_count": 20,
   "metadata": {},
   "outputs": [],
   "source": [
    "# if good prediction, what is y_predict - y_test = 0 "
   ]
  },
  {
   "cell_type": "code",
   "execution_count": 21,
   "metadata": {},
   "outputs": [
    {
     "name": "stdout",
     "output_type": "stream",
     "text": [
      "0.7681063122923588\n"
     ]
    }
   ],
   "source": [
    "accuracy = model.score(X_test, y_test)\n",
    "print(accuracy)"
   ]
  },
  {
   "cell_type": "code",
   "execution_count": 22,
   "metadata": {},
   "outputs": [
    {
     "data": {
      "text/plain": [
       "0.7934854863727011"
      ]
     },
     "execution_count": 22,
     "metadata": {},
     "output_type": "execute_result"
    }
   ],
   "source": [
    "# How do I assess accuracy\n",
    "model.score(X_train, y_train)\n"
   ]
  },
  {
   "cell_type": "markdown",
   "metadata": {},
   "source": [
    "# Support Vector Machine with Polynomial Kernel "
   ]
  },
  {
   "cell_type": "code",
   "execution_count": 23,
   "metadata": {},
   "outputs": [],
   "source": [
    "# from sklearn.svm import SVC \n",
    "# # using X_train, X_test, y_train, y_test\n",
    "# model = SVC(kernel='pol')\n",
    "# model.fit(X_train, y_train)\n",
    "# y_predict = model.predict(X_test)\n",
    "# # compare y_predict to y_test"
   ]
  },
  {
   "cell_type": "code",
   "execution_count": 24,
   "metadata": {},
   "outputs": [],
   "source": [
    "# accuracy = model.score(X_test, y_test)\n",
    "# print(accuracy)"
   ]
  },
  {
   "cell_type": "code",
   "execution_count": 25,
   "metadata": {},
   "outputs": [],
   "source": [
    "# # How do I assess accuracy\n",
    "# model.score(X_train, y_train)"
   ]
  },
  {
   "cell_type": "markdown",
   "metadata": {},
   "source": [
    "# Logistic Regression"
   ]
  },
  {
   "cell_type": "code",
   "execution_count": 26,
   "metadata": {},
   "outputs": [
    {
     "data": {
      "text/plain": [
       "LogisticRegression(C=1.0, class_weight=None, dual=False, fit_intercept=True,\n",
       "          intercept_scaling=1, max_iter=100, multi_class='warn',\n",
       "          n_jobs=None, penalty='l2', random_state=None, solver='warn',\n",
       "          tol=0.0001, verbose=0, warm_start=False)"
      ]
     },
     "execution_count": 26,
     "metadata": {},
     "output_type": "execute_result"
    }
   ],
   "source": [
    "from sklearn.linear_model import LogisticRegression\n",
    "classifier = LogisticRegression()\n",
    "classifier"
   ]
  },
  {
   "cell_type": "code",
   "execution_count": 27,
   "metadata": {},
   "outputs": [
    {
     "name": "stderr",
     "output_type": "stream",
     "text": [
      "/anaconda3/envs/PythonData/lib/python3.6/site-packages/sklearn/linear_model/logistic.py:432: FutureWarning: Default solver will be changed to 'lbfgs' in 0.22. Specify a solver to silence this warning.\n",
      "  FutureWarning)\n"
     ]
    },
    {
     "data": {
      "text/plain": [
       "LogisticRegression(C=1.0, class_weight=None, dual=False, fit_intercept=True,\n",
       "          intercept_scaling=1, max_iter=100, multi_class='warn',\n",
       "          n_jobs=None, penalty='l2', random_state=None, solver='warn',\n",
       "          tol=0.0001, verbose=0, warm_start=False)"
      ]
     },
     "execution_count": 27,
     "metadata": {},
     "output_type": "execute_result"
    }
   ],
   "source": [
    "classifier.fit(X_train, y_train)"
   ]
  },
  {
   "cell_type": "code",
   "execution_count": 28,
   "metadata": {},
   "outputs": [
    {
     "name": "stdout",
     "output_type": "stream",
     "text": [
      "Training Data Score: 0.7010857522712165\n",
      "Testing Data Score: 0.7136212624584718\n"
     ]
    }
   ],
   "source": [
    "print(f\"Training Data Score: {classifier.score(X_train, y_train)}\")\n",
    "print(f\"Testing Data Score: {classifier.score(X_test, y_test)}\")"
   ]
  },
  {
   "cell_type": "code",
   "execution_count": 29,
   "metadata": {},
   "outputs": [
    {
     "data": {
      "text/html": [
       "<div>\n",
       "<style scoped>\n",
       "    .dataframe tbody tr th:only-of-type {\n",
       "        vertical-align: middle;\n",
       "    }\n",
       "\n",
       "    .dataframe tbody tr th {\n",
       "        vertical-align: top;\n",
       "    }\n",
       "\n",
       "    .dataframe thead th {\n",
       "        text-align: right;\n",
       "    }\n",
       "</style>\n",
       "<table border=\"1\" class=\"dataframe\">\n",
       "  <thead>\n",
       "    <tr style=\"text-align: right;\">\n",
       "      <th></th>\n",
       "      <th>Prediction</th>\n",
       "      <th>Actual</th>\n",
       "    </tr>\n",
       "  </thead>\n",
       "  <tbody>\n",
       "    <tr>\n",
       "      <th>1315</th>\n",
       "      <td>0.0</td>\n",
       "      <td>0.0</td>\n",
       "    </tr>\n",
       "    <tr>\n",
       "      <th>5824</th>\n",
       "      <td>0.0</td>\n",
       "      <td>0.0</td>\n",
       "    </tr>\n",
       "    <tr>\n",
       "      <th>1744</th>\n",
       "      <td>0.0</td>\n",
       "      <td>1.0</td>\n",
       "    </tr>\n",
       "    <tr>\n",
       "      <th>1860</th>\n",
       "      <td>0.0</td>\n",
       "      <td>0.0</td>\n",
       "    </tr>\n",
       "    <tr>\n",
       "      <th>1559</th>\n",
       "      <td>0.0</td>\n",
       "      <td>0.0</td>\n",
       "    </tr>\n",
       "  </tbody>\n",
       "</table>\n",
       "</div>"
      ],
      "text/plain": [
       "      Prediction  Actual\n",
       "1315         0.0     0.0\n",
       "5824         0.0     0.0\n",
       "1744         0.0     1.0\n",
       "1860         0.0     0.0\n",
       "1559         0.0     0.0"
      ]
     },
     "execution_count": 29,
     "metadata": {},
     "output_type": "execute_result"
    }
   ],
   "source": [
    "predictions = classifier.predict(X_test)\n",
    "pd.DataFrame({\"Prediction\": predictions, \"Actual\": y_test}).head()"
   ]
  },
  {
   "cell_type": "markdown",
   "metadata": {},
   "source": [
    "# K Nearest Neighbor"
   ]
  },
  {
   "cell_type": "code",
   "execution_count": 23,
   "metadata": {},
   "outputs": [
    {
     "name": "stdout",
     "output_type": "stream",
     "text": [
      "79.46\n"
     ]
    }
   ],
   "source": [
    "# KNN \n",
    "knn = KNeighborsClassifier(n_neighbors = 3) \n",
    "knn.fit(X_train, y_train)  \n",
    "Y_pred = knn.predict(X_test)  \n",
    "acc_knn = round(knn.score(X_train, y_train) * 100, 2)\n",
    "ac2_knn = round(knn.score(X_test, y_test) * 100, 2)\n",
    "\n",
    "print(acc_knn)"
   ]
  },
  {
   "cell_type": "code",
   "execution_count": 24,
   "metadata": {},
   "outputs": [
    {
     "name": "stdout",
     "output_type": "stream",
     "text": [
      "75.08\n"
     ]
    }
   ],
   "source": [
    "print(ac2_knn)"
   ]
  },
  {
   "cell_type": "code",
   "execution_count": null,
   "metadata": {},
   "outputs": [],
   "source": []
  }
 ],
 "metadata": {
  "kernelspec": {
   "display_name": "Python 3",
   "language": "python",
   "name": "python3"
  },
  "language_info": {
   "codemirror_mode": {
    "name": "ipython",
    "version": 3
   },
   "file_extension": ".py",
   "mimetype": "text/x-python",
   "name": "python",
   "nbconvert_exporter": "python",
   "pygments_lexer": "ipython3",
   "version": "3.6.5"
  }
 },
 "nbformat": 4,
 "nbformat_minor": 2
}
