{
 "cells": [
  {
   "cell_type": "markdown",
   "metadata": {},
   "source": [
    "Data Dictionary\n",
    "Variable\tDefinition\tKey\n",
    "survival\tSurvival\t0 = No, 1 = Yes\n",
    "pclass\tTicket class\t1 = 1st, 2 = 2nd, 3 = 3rd\n",
    "sex\tSex\t\n",
    "Age\tAge in years\t\n",
    "sibsp\t# of siblings / spouses aboard the Titanic\t\n",
    "parch\t# of parents / children aboard the Titanic\t\n",
    "ticket\tTicket number\t\n",
    "fare\tPassenger fare\t\n",
    "cabin\tCabin number\t\n",
    "embarked\tPort of Embarkation\tC = Cherbourg, Q = Queenstown, S = Southampton\n",
    "Variable Notes\n",
    "pclass: A proxy for socio-economic status (SES)\n",
    "1st = Upper\n",
    "2nd = Middle\n",
    "3rd = Lower\n",
    "\n",
    "age: Age is fractional if less than 1. If the age is estimated, is it in the form of xx.5\n",
    "\n",
    "sibsp: The dataset defines family relations in this way...\n",
    "Sibling = brother, sister, stepbrother, stepsister\n",
    "Spouse = husband, wife (mistresses and fiancés were ignored)\n",
    "\n",
    "parch: The dataset defines family relations in this way...\n",
    "Parent = mother, father\n",
    "Child = daughter, son, stepdaughter, stepson\n",
    "Some children travelled only with a nanny, therefore parch=0 for them.\n",
    "\n",
    "**survival:    Survival\n",
    "PassengerId: Unique Id of a passenger. \n",
    "pclass:    Ticket class     \n",
    "sex:    Sex     \n",
    "Age:    Age in years     \n",
    "sibsp:    # of siblings / spouses aboard the Titanic     \n",
    "parch:    # of parents / children aboard the Titanic     \n",
    "ticket:    Ticket number     \n",
    "fare:    Passenger fare     \n",
    "cabin:    Cabin number     \n",
    "embarked:    Port of Embarkation\n",
    "titanic_df.describe()**\n"
   ]
  },
  {
   "cell_type": "code",
   "execution_count": 12,
   "metadata": {},
   "outputs": [],
   "source": [
    "#Aref - updated for USGS Earthquakes dataset "
   ]
  },
  {
   "cell_type": "code",
   "execution_count": 13,
   "metadata": {},
   "outputs": [],
   "source": [
    "# linear algebra\n",
    "import numpy as np \n",
    "\n",
    "# data processing\n",
    "import pandas as pd \n",
    "\n",
    "# data visualization\n",
    "import seaborn as sns\n",
    "%matplotlib inline\n",
    "from matplotlib import pyplot as plt\n",
    "from matplotlib import style\n",
    "\n",
    "# Algorithms\n",
    "# from sklearn import linear_model\n",
    "# from sklearn.linear_model import LogisticRegression\n",
    "from sklearn.ensemble import RandomForestClassifier\n",
    "\n",
    "from sklearn import tree\n",
    "import pandas as pd\n",
    "import os\n",
    "from sklearn.neighbors import KNeighborsClassifier"
   ]
  },
  {
   "cell_type": "code",
   "execution_count": 14,
   "metadata": {},
   "outputs": [],
   "source": [
    "titanic_df = pd.read_csv(\"earthquakes-death.csv\")\n"
   ]
  },
  {
   "cell_type": "code",
   "execution_count": 15,
   "metadata": {},
   "outputs": [
    {
     "data": {
      "text/plain": [
       "<bound method NDFrame.head of            id  tsunami    year   eq  region   deaths\n",
       "0      7614.0      0.0  2007.0  1.6   150.0      3.0\n",
       "1     10036.0      0.0  2013.0  2.1   150.0     14.0\n",
       "2     10330.0      0.0  2018.0  2.1    10.0      7.0\n",
       "3     10317.0      0.0  2017.0  3.2    60.0      1.0\n",
       "4      8492.0      0.0  2009.0  3.4    30.0      2.0\n",
       "5      7221.0      0.0  1982.0  3.5   150.0     10.0\n",
       "6      9887.0      0.0  2011.0  3.5    60.0      2.0\n",
       "7      8792.0      0.0  2009.0  3.5    10.0      2.0\n",
       "8     10126.0      0.0  2015.0  3.6   130.0      4.0\n",
       "9      5275.0      0.0  1991.0  3.8   120.0      9.0\n",
       "10     5261.0      0.0  1990.0  4.0    10.0     10.0\n",
       "11     4934.0      0.0  1981.0  4.0    60.0      6.0\n",
       "12    10289.0      0.0  2017.0  4.0   140.0      1.0\n",
       "13     5793.0      0.0  2004.0  4.0   140.0      1.0\n",
       "14     4884.0      0.0  1980.0  4.0   130.0      1.0\n",
       "15    10331.0      0.0  2018.0  4.1   120.0      5.0\n",
       "16     8208.0      0.0  2008.0  4.1   110.0      2.0\n",
       "17     7601.0      0.0  2007.0  4.2   150.0      9.0\n",
       "18     5526.0      0.0  1999.0  4.2    60.0      6.0\n",
       "19    10263.0      0.0  2017.0  4.2   130.0      2.0\n",
       "20     5259.0      0.0  1990.0  4.2    10.0      2.0\n",
       "21     6825.0      0.0  2005.0  4.2    30.0      1.0\n",
       "22     5575.0      0.0  2000.0  4.2    30.0      1.0\n",
       "23     5170.0      0.0  1988.0  4.3   170.0     74.0\n",
       "24     5634.0      0.0  2002.0  4.3    40.0      5.0\n",
       "25     9833.0      0.0  2011.0  4.3   140.0      2.0\n",
       "26     5850.0      0.0  2005.0  4.3    10.0      2.0\n",
       "27     7765.0      0.0  2008.0  4.3    60.0      1.0\n",
       "28     5124.0      0.0  1987.0  4.3    15.0      1.0\n",
       "29     9865.0      0.0  1985.0  4.3   130.0      1.0\n",
       "...       ...      ...     ...  ...     ...      ...\n",
       "1609   1521.0      1.0  1793.0  8.3    30.0     25.0\n",
       "1610   5392.0      1.0  1994.0  8.3    50.0     11.0\n",
       "1611   2804.0      1.0  1907.0  8.3   150.0      8.0\n",
       "1612  10156.0      1.0  2015.0  8.3   160.0      7.0\n",
       "1613   2411.0      0.0  1891.0  8.4    30.0   7273.0\n",
       "1614   1178.0      1.0  1707.0  8.4    30.0   5000.0\n",
       "1615    375.0      1.0  1096.0  8.4    30.0    400.0\n",
       "1616   5601.0      1.0  2001.0  8.4   160.0     77.0\n",
       "1617   7574.0      1.0  2007.0  8.4    60.0     25.0\n",
       "1618   1339.0      1.0  1755.0  8.5   130.0  50000.0\n",
       "1619   1054.0      1.0  1668.0  8.5    30.0  42578.0\n",
       "1620   2139.0      1.0  1868.0  8.5   160.0  25000.0\n",
       "1621   1101.0      1.0  1687.0  8.5   160.0   5000.0\n",
       "1622    970.0      0.0  1647.0  8.5   160.0   1000.0\n",
       "1623    826.0      1.0  1604.0  8.5   160.0    100.0\n",
       "1624   1669.0      1.0  1822.0  8.5   160.0     72.0\n",
       "1625    786.0      1.0  1586.0  8.5   160.0     22.0\n",
       "1626    767.0      1.0  1575.0  8.5   160.0     21.0\n",
       "1627   3950.0      1.0  1950.0  8.6    60.0   1530.0\n",
       "1628   6657.0      1.0  2005.0  8.6   170.0   1303.0\n",
       "1629   2748.0      1.0  1906.0  8.6   160.0   1000.0\n",
       "1630    885.0      0.0  1619.0  8.6   160.0    350.0\n",
       "1631   9879.0      1.0  2012.0  8.6    60.0     10.0\n",
       "1632   3202.0      1.0  1922.0  8.7   160.0    500.0\n",
       "1633   1246.0      1.0  1730.0  8.7   160.0      2.0\n",
       "1634   8872.0      1.0  2010.0  8.8   160.0    402.0\n",
       "1635   9799.0      1.0  2011.0  9.1    30.0   1476.0\n",
       "1636   5823.0      1.0  2004.0  9.1   170.0   1001.0\n",
       "1637   4311.0      1.0  1964.0  9.2   150.0     15.0\n",
       "1638   4227.0      1.0  1960.0  9.5   160.0   2000.0\n",
       "\n",
       "[1639 rows x 6 columns]>"
      ]
     },
     "execution_count": 15,
     "metadata": {},
     "output_type": "execute_result"
    }
   ],
   "source": [
    "titanic_df.head"
   ]
  },
  {
   "cell_type": "code",
   "execution_count": 16,
   "metadata": {},
   "outputs": [
    {
     "data": {
      "text/plain": [
       "0       0.0\n",
       "1       0.0\n",
       "2       0.0\n",
       "3       0.0\n",
       "4       0.0\n",
       "5       0.0\n",
       "6       0.0\n",
       "7       0.0\n",
       "8       0.0\n",
       "9       0.0\n",
       "10      0.0\n",
       "11      0.0\n",
       "12      0.0\n",
       "13      0.0\n",
       "14      0.0\n",
       "15      0.0\n",
       "16      0.0\n",
       "17      0.0\n",
       "18      0.0\n",
       "19      0.0\n",
       "20      0.0\n",
       "21      0.0\n",
       "22      0.0\n",
       "23      0.0\n",
       "24      0.0\n",
       "25      0.0\n",
       "26      0.0\n",
       "27      0.0\n",
       "28      0.0\n",
       "29      0.0\n",
       "       ... \n",
       "1609    1.0\n",
       "1610    1.0\n",
       "1611    1.0\n",
       "1612    1.0\n",
       "1613    0.0\n",
       "1614    1.0\n",
       "1615    1.0\n",
       "1616    1.0\n",
       "1617    1.0\n",
       "1618    1.0\n",
       "1619    1.0\n",
       "1620    1.0\n",
       "1621    1.0\n",
       "1622    0.0\n",
       "1623    1.0\n",
       "1624    1.0\n",
       "1625    1.0\n",
       "1626    1.0\n",
       "1627    1.0\n",
       "1628    1.0\n",
       "1629    1.0\n",
       "1630    0.0\n",
       "1631    1.0\n",
       "1632    1.0\n",
       "1633    1.0\n",
       "1634    1.0\n",
       "1635    1.0\n",
       "1636    1.0\n",
       "1637    1.0\n",
       "1638    1.0\n",
       "Name: tsunami, Length: 1639, dtype: float64"
      ]
     },
     "execution_count": 16,
     "metadata": {},
     "output_type": "execute_result"
    }
   ],
   "source": [
    "titanic_df['tsunami']"
   ]
  },
  {
   "cell_type": "code",
   "execution_count": 17,
   "metadata": {},
   "outputs": [
    {
     "data": {
      "text/plain": [
       "<bound method NDFrame.head of            id  tsunami    year   eq  region   deaths\n",
       "0      7614.0      0.0  2007.0  1.6   150.0      3.0\n",
       "1     10036.0      0.0  2013.0  2.1   150.0     14.0\n",
       "2     10330.0      0.0  2018.0  2.1    10.0      7.0\n",
       "3     10317.0      0.0  2017.0  3.2    60.0      1.0\n",
       "4      8492.0      0.0  2009.0  3.4    30.0      2.0\n",
       "5      7221.0      0.0  1982.0  3.5   150.0     10.0\n",
       "6      9887.0      0.0  2011.0  3.5    60.0      2.0\n",
       "7      8792.0      0.0  2009.0  3.5    10.0      2.0\n",
       "8     10126.0      0.0  2015.0  3.6   130.0      4.0\n",
       "9      5275.0      0.0  1991.0  3.8   120.0      9.0\n",
       "10     5261.0      0.0  1990.0  4.0    10.0     10.0\n",
       "11     4934.0      0.0  1981.0  4.0    60.0      6.0\n",
       "12    10289.0      0.0  2017.0  4.0   140.0      1.0\n",
       "13     5793.0      0.0  2004.0  4.0   140.0      1.0\n",
       "14     4884.0      0.0  1980.0  4.0   130.0      1.0\n",
       "15    10331.0      0.0  2018.0  4.1   120.0      5.0\n",
       "16     8208.0      0.0  2008.0  4.1   110.0      2.0\n",
       "17     7601.0      0.0  2007.0  4.2   150.0      9.0\n",
       "18     5526.0      0.0  1999.0  4.2    60.0      6.0\n",
       "19    10263.0      0.0  2017.0  4.2   130.0      2.0\n",
       "20     5259.0      0.0  1990.0  4.2    10.0      2.0\n",
       "21     6825.0      0.0  2005.0  4.2    30.0      1.0\n",
       "22     5575.0      0.0  2000.0  4.2    30.0      1.0\n",
       "23     5170.0      0.0  1988.0  4.3   170.0     74.0\n",
       "24     5634.0      0.0  2002.0  4.3    40.0      5.0\n",
       "25     9833.0      0.0  2011.0  4.3   140.0      2.0\n",
       "26     5850.0      0.0  2005.0  4.3    10.0      2.0\n",
       "27     7765.0      0.0  2008.0  4.3    60.0      1.0\n",
       "28     5124.0      0.0  1987.0  4.3    15.0      1.0\n",
       "29     9865.0      0.0  1985.0  4.3   130.0      1.0\n",
       "...       ...      ...     ...  ...     ...      ...\n",
       "1609   1521.0      1.0  1793.0  8.3    30.0     25.0\n",
       "1610   5392.0      1.0  1994.0  8.3    50.0     11.0\n",
       "1611   2804.0      1.0  1907.0  8.3   150.0      8.0\n",
       "1612  10156.0      1.0  2015.0  8.3   160.0      7.0\n",
       "1613   2411.0      0.0  1891.0  8.4    30.0   7273.0\n",
       "1614   1178.0      1.0  1707.0  8.4    30.0   5000.0\n",
       "1615    375.0      1.0  1096.0  8.4    30.0    400.0\n",
       "1616   5601.0      1.0  2001.0  8.4   160.0     77.0\n",
       "1617   7574.0      1.0  2007.0  8.4    60.0     25.0\n",
       "1618   1339.0      1.0  1755.0  8.5   130.0  50000.0\n",
       "1619   1054.0      1.0  1668.0  8.5    30.0  42578.0\n",
       "1620   2139.0      1.0  1868.0  8.5   160.0  25000.0\n",
       "1621   1101.0      1.0  1687.0  8.5   160.0   5000.0\n",
       "1622    970.0      0.0  1647.0  8.5   160.0   1000.0\n",
       "1623    826.0      1.0  1604.0  8.5   160.0    100.0\n",
       "1624   1669.0      1.0  1822.0  8.5   160.0     72.0\n",
       "1625    786.0      1.0  1586.0  8.5   160.0     22.0\n",
       "1626    767.0      1.0  1575.0  8.5   160.0     21.0\n",
       "1627   3950.0      1.0  1950.0  8.6    60.0   1530.0\n",
       "1628   6657.0      1.0  2005.0  8.6   170.0   1303.0\n",
       "1629   2748.0      1.0  1906.0  8.6   160.0   1000.0\n",
       "1630    885.0      0.0  1619.0  8.6   160.0    350.0\n",
       "1631   9879.0      1.0  2012.0  8.6    60.0     10.0\n",
       "1632   3202.0      1.0  1922.0  8.7   160.0    500.0\n",
       "1633   1246.0      1.0  1730.0  8.7   160.0      2.0\n",
       "1634   8872.0      1.0  2010.0  8.8   160.0    402.0\n",
       "1635   9799.0      1.0  2011.0  9.1    30.0   1476.0\n",
       "1636   5823.0      1.0  2004.0  9.1   170.0   1001.0\n",
       "1637   4311.0      1.0  1964.0  9.2   150.0     15.0\n",
       "1638   4227.0      1.0  1960.0  9.5   160.0   2000.0\n",
       "\n",
       "[1639 rows x 6 columns]>"
      ]
     },
     "execution_count": 17,
     "metadata": {},
     "output_type": "execute_result"
    }
   ],
   "source": [
    "#titanic_df['cancelled'] = titanic_df['cancelled'].map({'cancelyes': 1.0, 'cancelno': 0.0})\n",
    "titanic_df.head"
   ]
  },
  {
   "cell_type": "code",
   "execution_count": 18,
   "metadata": {},
   "outputs": [
    {
     "data": {
      "text/html": [
       "<div>\n",
       "<style scoped>\n",
       "    .dataframe tbody tr th:only-of-type {\n",
       "        vertical-align: middle;\n",
       "    }\n",
       "\n",
       "    .dataframe tbody tr th {\n",
       "        vertical-align: top;\n",
       "    }\n",
       "\n",
       "    .dataframe thead th {\n",
       "        text-align: right;\n",
       "    }\n",
       "</style>\n",
       "<table border=\"1\" class=\"dataframe\">\n",
       "  <thead>\n",
       "    <tr style=\"text-align: right;\">\n",
       "      <th></th>\n",
       "      <th>tsunami</th>\n",
       "      <th>eq</th>\n",
       "      <th>region</th>\n",
       "      <th>deaths</th>\n",
       "    </tr>\n",
       "  </thead>\n",
       "  <tbody>\n",
       "    <tr>\n",
       "      <th>882</th>\n",
       "      <td>0.0</td>\n",
       "      <td>6.5</td>\n",
       "      <td>30.0</td>\n",
       "      <td>15.0</td>\n",
       "    </tr>\n",
       "    <tr>\n",
       "      <th>906</th>\n",
       "      <td>0.0</td>\n",
       "      <td>6.5</td>\n",
       "      <td>170.0</td>\n",
       "      <td>2.0</td>\n",
       "    </tr>\n",
       "    <tr>\n",
       "      <th>461</th>\n",
       "      <td>0.0</td>\n",
       "      <td>5.9</td>\n",
       "      <td>130.0</td>\n",
       "      <td>4.0</td>\n",
       "    </tr>\n",
       "    <tr>\n",
       "      <th>615</th>\n",
       "      <td>0.0</td>\n",
       "      <td>6.1</td>\n",
       "      <td>140.0</td>\n",
       "      <td>5.0</td>\n",
       "    </tr>\n",
       "    <tr>\n",
       "      <th>1259</th>\n",
       "      <td>0.0</td>\n",
       "      <td>7.2</td>\n",
       "      <td>60.0</td>\n",
       "      <td>3.0</td>\n",
       "    </tr>\n",
       "    <tr>\n",
       "      <th>233</th>\n",
       "      <td>0.0</td>\n",
       "      <td>5.4</td>\n",
       "      <td>40.0</td>\n",
       "      <td>1.0</td>\n",
       "    </tr>\n",
       "    <tr>\n",
       "      <th>1175</th>\n",
       "      <td>0.0</td>\n",
       "      <td>7.0</td>\n",
       "      <td>150.0</td>\n",
       "      <td>20.0</td>\n",
       "    </tr>\n",
       "    <tr>\n",
       "      <th>1337</th>\n",
       "      <td>0.0</td>\n",
       "      <td>7.4</td>\n",
       "      <td>30.0</td>\n",
       "      <td>12000.0</td>\n",
       "    </tr>\n",
       "    <tr>\n",
       "      <th>358</th>\n",
       "      <td>0.0</td>\n",
       "      <td>5.7</td>\n",
       "      <td>140.0</td>\n",
       "      <td>3.0</td>\n",
       "    </tr>\n",
       "    <tr>\n",
       "      <th>1562</th>\n",
       "      <td>1.0</td>\n",
       "      <td>8.0</td>\n",
       "      <td>150.0</td>\n",
       "      <td>49.0</td>\n",
       "    </tr>\n",
       "  </tbody>\n",
       "</table>\n",
       "</div>"
      ],
      "text/plain": [
       "      tsunami   eq  region   deaths\n",
       "882       0.0  6.5    30.0     15.0\n",
       "906       0.0  6.5   170.0      2.0\n",
       "461       0.0  5.9   130.0      4.0\n",
       "615       0.0  6.1   140.0      5.0\n",
       "1259      0.0  7.2    60.0      3.0\n",
       "233       0.0  5.4    40.0      1.0\n",
       "1175      0.0  7.0   150.0     20.0\n",
       "1337      0.0  7.4    30.0  12000.0\n",
       "358       0.0  5.7   140.0      3.0\n",
       "1562      1.0  8.0   150.0     49.0"
      ]
     },
     "execution_count": 18,
     "metadata": {},
     "output_type": "execute_result"
    }
   ],
   "source": [
    "data = titanic_df.drop(columns=[\"id\", \"year\"])\n",
    "data.sample(10)"
   ]
  },
  {
   "cell_type": "code",
   "execution_count": 19,
   "metadata": {},
   "outputs": [
    {
     "name": "stdout",
     "output_type": "stream",
     "text": [
      "Mean Deaths\n"
     ]
    },
    {
     "data": {
      "text/plain": [
       "<Figure size 1224x720 with 0 Axes>"
      ]
     },
     "metadata": {},
     "output_type": "display_data"
    },
    {
     "data": {
      "image/png": "[encoded data removed]",
      "text/plain": [
       "<Figure size 432x288 with 1 Axes>"
      ]
     },
     "metadata": {},
     "output_type": "display_data"
    }
   ],
   "source": [
    "fig=plt.figure(figsize=(17,10))\n",
    "data.hist(column=\"deaths\", bins=100)\n",
    "plt.xlabel(\"deaths\",fontsize=15)\n",
    "plt.ylabel(\"level of EQ\",fontsize=15)\n",
    "#plt.xlim([0.0,100000.0])\n",
    "plt.ylim([0,10])\n",
    "\n",
    "plt.axvline(data[\"deaths\"].mean(), color=\"red\")\n",
    "print('Mean Deaths'.format(data[\"deaths\"].mean()))\n"
   ]
  },
  {
   "cell_type": "code",
   "execution_count": 20,
   "metadata": {},
   "outputs": [
    {
     "data": {
      "image/png": "[encoded data removed]",
      "text/plain": [
       "<Figure size 432x288 with 1 Axes>"
      ]
     },
     "metadata": {},
     "output_type": "display_data"
    }
   ],
   "source": [
    "import matplotlib.pyplot as plt\n",
    "import pandas as pd\n",
    "#data.hist(column=\"deaths\", bins=10000)\n",
    "\n",
    "# a scatter plot comparing quake level and deaths\n",
    "titanic_df.plot(kind='scatter',x='eq',y='deaths',color='red')\n",
    "plt.xlabel(\"eq\",fontsize=15)\n",
    "plt.ylabel(\"deaths\",fontsize=15)\n",
    "plt.show()"
   ]
  },
  {
   "cell_type": "code",
   "execution_count": null,
   "metadata": {},
   "outputs": [],
   "source": [
    "data_nona = data[\"deaths\"].fillna(data[\"deaths\"].mean())\n",
    "data[\"deaths\"]=data_nona\n",
    "data.head(10)"
   ]
  },
  {
   "cell_type": "code",
   "execution_count": null,
   "metadata": {},
   "outputs": [],
   "source": [
    "# data.info()"
   ]
  },
  {
   "cell_type": "markdown",
   "metadata": {},
   "source": [
    "# Decision Tree Algorithm"
   ]
  },
  {
   "cell_type": "code",
   "execution_count": null,
   "metadata": {},
   "outputs": [],
   "source": [
    "target = data[\"tsunami\"]\n",
    "target_names = [\"yes\", \"no\"]"
   ]
  },
  {
   "cell_type": "code",
   "execution_count": null,
   "metadata": {},
   "outputs": [],
   "source": [
    "variable = data.drop(\"tsunami\", axis=1)\n",
    "feature_names = variable.columns\n",
    "variable.head"
   ]
  },
  {
   "cell_type": "code",
   "execution_count": null,
   "metadata": {},
   "outputs": [],
   "source": [
    "from sklearn.model_selection import train_test_split\n",
    "X_train, X_test, y_train, y_test = train_test_split(variable, target, random_state=42)"
   ]
  },
  {
   "cell_type": "code",
   "execution_count": null,
   "metadata": {},
   "outputs": [],
   "source": [
    "# y_test is what the outcome is, and y_predict is what the decision tree predicts it. \n",
    "#y_test is the survive column entries, and X_test the rest of the columns or the \n",
    "# variables we think affect the survivie. \n",
    "clf = tree.DecisionTreeClassifier()\n",
    "clf = clf.fit(X_train, y_train)\n",
    "clf.score(X_test, y_test) "
   ]
  },
  {
   "cell_type": "code",
   "execution_count": null,
   "metadata": {},
   "outputs": [],
   "source": [
    "y_predict = clf.predict(X_test)\n",
    "y_predict.shape\n",
    "clf.score(X_train,y_train)"
   ]
  },
  {
   "cell_type": "markdown",
   "metadata": {},
   "source": [
    "# Random forest Algorithm"
   ]
  },
  {
   "cell_type": "code",
   "execution_count": null,
   "metadata": {},
   "outputs": [],
   "source": [
    "# Create a random forest classifier\n",
    "\n",
    "rf = RandomForestClassifier(n_estimators=200)\n",
    "rf = rf.fit(variable, target)\n",
    "rf.score(variable, target)\n",
    "# Have not done the cross validation"
   ]
  },
  {
   "cell_type": "code",
   "execution_count": null,
   "metadata": {},
   "outputs": [],
   "source": [
    "y_test"
   ]
  },
  {
   "cell_type": "raw",
   "metadata": {},
   "source": [
    "rf1 = rf.fit(X_train, y_train)\n",
    "rf1.score(X_train, y_train)\n"
   ]
  },
  {
   "cell_type": "code",
   "execution_count": null,
   "metadata": {},
   "outputs": [],
   "source": [
    "rf.score(X_test, y_test)\n"
   ]
  },
  {
   "cell_type": "code",
   "execution_count": null,
   "metadata": {},
   "outputs": [],
   "source": [
    "# Random Forests in sklearn will automatically calculate feature importance\n",
    "importances = rf.feature_importances_\n",
    "importances"
   ]
  },
  {
   "cell_type": "code",
   "execution_count": null,
   "metadata": {},
   "outputs": [],
   "source": [
    "# We can sort the features by their importance\n",
    "sorted(zip(rf.feature_importances_, feature_names), reverse=True)"
   ]
  },
  {
   "cell_type": "markdown",
   "metadata": {},
   "source": [
    "# Support Vector Machine\n",
    "With Radial-basis-function kernel"
   ]
  },
  {
   "cell_type": "code",
   "execution_count": null,
   "metadata": {},
   "outputs": [],
   "source": [
    "from sklearn.svm import SVC \n",
    "# using X_train, X_test, y_train, y_test\n",
    "model = SVC(kernel='rbf')\n",
    "model.fit(X_train, y_train)\n",
    "y_predict = model.predict(X_test)\n",
    "# compare y_predict to y_test"
   ]
  },
  {
   "cell_type": "code",
   "execution_count": null,
   "metadata": {},
   "outputs": [],
   "source": [
    "# if good prediction, what is y_predict - y_test = 0 "
   ]
  },
  {
   "cell_type": "code",
   "execution_count": null,
   "metadata": {},
   "outputs": [],
   "source": [
    "accuracy = model.score(X_test, y_test)\n",
    "print(accuracy)"
   ]
  },
  {
   "cell_type": "code",
   "execution_count": null,
   "metadata": {},
   "outputs": [],
   "source": [
    "# How do I assess accuracy\n",
    "model.score(X_train, y_train)\n"
   ]
  },
  {
   "cell_type": "markdown",
   "metadata": {},
   "source": [
    "# Support Vector Machine with Polynomial Kernel "
   ]
  },
  {
   "cell_type": "code",
   "execution_count": null,
   "metadata": {},
   "outputs": [],
   "source": [
    "# from sklearn.svm import SVC \n",
    "# # using X_train, X_test, y_train, y_test\n",
    "# model = SVC(kernel='pol')\n",
    "# model.fit(X_train, y_train)\n",
    "# y_predict = model.predict(X_test)\n",
    "# # compare y_predict to y_test"
   ]
  },
  {
   "cell_type": "code",
   "execution_count": null,
   "metadata": {},
   "outputs": [],
   "source": [
    "# accuracy = model.score(X_test, y_test)\n",
    "# print(accuracy)"
   ]
  },
  {
   "cell_type": "code",
   "execution_count": null,
   "metadata": {},
   "outputs": [],
   "source": [
    "# # How do I assess accuracy\n",
    "# model.score(X_train, y_train)"
   ]
  },
  {
   "cell_type": "markdown",
   "metadata": {},
   "source": [
    "# Logistic Regression"
   ]
  },
  {
   "cell_type": "code",
   "execution_count": null,
   "metadata": {},
   "outputs": [],
   "source": [
    "from sklearn.linear_model import LogisticRegression\n",
    "classifier = LogisticRegression()\n",
    "classifier"
   ]
  },
  {
   "cell_type": "code",
   "execution_count": null,
   "metadata": {},
   "outputs": [],
   "source": [
    "classifier.fit(X_train, y_train)"
   ]
  },
  {
   "cell_type": "code",
   "execution_count": null,
   "metadata": {},
   "outputs": [],
   "source": [
    "print(f\"Training Data Score: {classifier.score(X_train, y_train)}\")\n",
    "print(f\"Testing Data Score: {classifier.score(X_test, y_test)}\")"
   ]
  },
  {
   "cell_type": "code",
   "execution_count": null,
   "metadata": {},
   "outputs": [],
   "source": [
    "predictions = classifier.predict(X_test)\n",
    "pd.DataFrame({\"Prediction\": predictions, \"Actual\": y_test}).head()"
   ]
  },
  {
   "cell_type": "markdown",
   "metadata": {},
   "source": [
    "# K Nearest Neighbor"
   ]
  },
  {
   "cell_type": "code",
   "execution_count": null,
   "metadata": {},
   "outputs": [],
   "source": [
    "# KNN \n",
    "knn = KNeighborsClassifier(n_neighbors = 3) \n",
    "knn.fit(X_train, y_train)  \n",
    "Y_pred = knn.predict(X_test)  \n",
    "acc_knn = round(knn.score(X_train, y_train) * 100, 2)\n",
    "ac2_knn = round(knn.score(X_test, y_test) * 100, 2)\n",
    "\n",
    "print(acc_knn)"
   ]
  },
  {
   "cell_type": "code",
   "execution_count": null,
   "metadata": {},
   "outputs": [],
   "source": [
    "print(ac2_knn)"
   ]
  },
  {
   "cell_type": "code",
   "execution_count": null,
   "metadata": {},
   "outputs": [],
   "source": []
  }
 ],
 "metadata": {
  "kernelspec": {
   "display_name": "Python 3",
   "language": "python",
   "name": "python3"
  },
  "language_info": {
   "codemirror_mode": {
    "name": "ipython",
    "version": 3
   },
   "file_extension": ".py",
   "mimetype": "text/x-python",
   "name": "python",
   "nbconvert_exporter": "python",
   "pygments_lexer": "ipython3",
   "version": "3.6.5"
  }
 },
 "nbformat": 4,
 "nbformat_minor": 2
}
