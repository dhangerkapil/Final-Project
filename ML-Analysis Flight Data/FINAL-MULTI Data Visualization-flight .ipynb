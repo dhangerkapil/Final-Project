{
 "cells": [
  {
   "cell_type": "markdown",
   "metadata": {},
   "source": [
    "Data Dictionary\n",
    "Variable\tDefinition\tKey\n",
    "survival\tSurvival\t0 = No, 1 = Yes\n",
    "pclass\tTicket class\t1 = 1st, 2 = 2nd, 3 = 3rd\n",
    "sex\tSex\t\n",
    "Age\tAge in years\t\n",
    "sibsp\t# of siblings / spouses aboard the Titanic\t\n",
    "parch\t# of parents / children aboard the Titanic\t\n",
    "ticket\tTicket number\t\n",
    "fare\tPassenger fare\t\n",
    "cabin\tCabin number\t\n",
    "embarked\tPort of Embarkation\tC = Cherbourg, Q = Queenstown, S = Southampton\n",
    "Variable Notes\n",
    "pclass: A proxy for socio-economic status (SES)\n",
    "1st = Upper\n",
    "2nd = Middle\n",
    "3rd = Lower\n",
    "\n",
    "age: Age is fractional if less than 1. If the age is estimated, is it in the form of xx.5\n",
    "\n",
    "sibsp: The dataset defines family relations in this way...\n",
    "Sibling = brother, sister, stepbrother, stepsister\n",
    "Spouse = husband, wife (mistresses and fiancés were ignored)\n",
    "\n",
    "parch: The dataset defines family relations in this way...\n",
    "Parent = mother, father\n",
    "Child = daughter, son, stepdaughter, stepson\n",
    "Some children travelled only with a nanny, therefore parch=0 for them.\n",
    "\n",
    "**survival:    Survival\n",
    "PassengerId: Unique Id of a passenger. \n",
    "pclass:    Ticket class     \n",
    "sex:    Sex     \n",
    "Age:    Age in years     \n",
    "sibsp:    # of siblings / spouses aboard the Titanic     \n",
    "parch:    # of parents / children aboard the Titanic     \n",
    "ticket:    Ticket number     \n",
    "fare:    Passenger fare     \n",
    "cabin:    Cabin number     \n",
    "embarked:    Port of Embarkation\n",
    "titanic_df.describe()**\n"
   ]
  },
  {
   "cell_type": "code",
   "execution_count": 1,
   "metadata": {},
   "outputs": [],
   "source": [
    "#NOV 4 2018 - Aref - updated for Flight dataset / PoC code / feeds into next layer ML analysis / code not for Prod "
   ]
  },
  {
   "cell_type": "code",
   "execution_count": 2,
   "metadata": {},
   "outputs": [],
   "source": [
    "# linear algebra\n",
    "import numpy as np \n",
    "\n",
    "# data processing\n",
    "import pandas as pd \n",
    "\n",
    "# data visualization\n",
    "import seaborn as sns\n",
    "%matplotlib inline\n",
    "from matplotlib import pyplot as plt\n",
    "from matplotlib import style\n",
    "\n",
    "# Algorithms\n",
    "# from sklearn import linear_model\n",
    "# from sklearn.linear_model import LogisticRegression\n",
    "from sklearn.ensemble import RandomForestClassifier\n",
    "\n",
    "from sklearn import tree\n",
    "import pandas as pd\n",
    "import os\n",
    "from sklearn.neighbors import KNeighborsClassifier"
   ]
  },
  {
   "cell_type": "code",
   "execution_count": 3,
   "metadata": {},
   "outputs": [],
   "source": [
    "titanic_df = pd.read_csv(\"flights-clean.csv\")\n",
    "fifty_df = pd.read_csv(\"flights-clean-50krows.csv\")\n",
    "# the 500k/200k/100k row files cannot be run on a regular laptop so using 50k out of 500k rows"
   ]
  },
  {
   "cell_type": "code",
   "execution_count": 4,
   "metadata": {},
   "outputs": [
    {
     "data": {
      "text/plain": [
       "<bound method NDFrame.head of         airline  orignum  deptime  depdelay  arrdelay  cancelled  distance\n",
       "0       19805.0     74.0    854.0       0.0       2.0        0.0    2475.0\n",
       "1       19805.0     76.0    944.0      14.0       0.0        0.0    2475.0\n",
       "2       19805.0     74.0   1224.0       0.0      39.0        0.0    2475.0\n",
       "3       19805.0     76.0   1240.0      25.0       0.0        0.0    2475.0\n",
       "4       19805.0     68.0   1300.0       0.0      15.0        0.0    3784.0\n",
       "5       19805.0     79.0   1901.0     126.0      95.0        0.0    3711.0\n",
       "6       19805.0     68.0   1410.0     125.0     138.0        0.0    3711.0\n",
       "7       19805.0     72.0   1659.0       4.0       0.0        0.0    3784.0\n",
       "8       19805.0     74.0    648.0       0.0      19.0        0.0    2475.0\n",
       "9       19805.0     76.0   2156.0      21.0       1.0        0.0    2475.0\n",
       "10      19805.0     76.0   1113.0       0.0       0.0        0.0    2475.0\n",
       "11      19805.0     79.0   2235.0       5.0       0.0        0.0    2486.0\n",
       "12      19805.0     66.0    611.0       0.0       0.0        0.0     867.0\n",
       "13      19805.0     83.0   1312.0      17.0       0.0        0.0    2586.0\n",
       "14      19805.0     65.0    630.0       0.0       0.0        0.0     594.0\n",
       "15      19805.0     83.0     22.0     112.0      88.0        0.0    2586.0\n",
       "16      19805.0     74.0   1024.0       0.0      18.0        0.0    2475.0\n",
       "17      19805.0     83.0   1715.0     135.0     120.0        0.0    2586.0\n",
       "18      19805.0     74.0   1906.0       0.0      16.0        0.0    2475.0\n",
       "19      19805.0     76.0   1458.0       0.0      11.0        0.0    2475.0\n",
       "20      19805.0     68.0    706.0       0.0       0.0        0.0     919.0\n",
       "21      19805.0     83.0    724.0      24.0       0.0        0.0    2586.0\n",
       "22      19805.0     66.0    730.0       0.0      14.0        0.0    2611.0\n",
       "23      19805.0     66.0   1045.0       0.0       0.0        0.0     867.0\n",
       "24      19805.0     79.0    649.0       0.0       0.0        0.0     867.0\n",
       "25      19805.0     77.0   1746.0     136.0     130.0        0.0    2342.0\n",
       "26      19805.0     76.0    553.0       0.0       0.0        0.0    2342.0\n",
       "27      19805.0     76.0    720.0       0.0       0.0        0.0    1035.0\n",
       "28      19805.0     80.0   1110.0       0.0       0.0        0.0    1035.0\n",
       "29      19805.0     76.0     23.0      48.0       8.0        0.0    2475.0\n",
       "...         ...      ...      ...       ...       ...        ...       ...\n",
       "483469  19393.0     83.0    613.0       0.0      11.0        0.0    1069.0\n",
       "483470  19393.0     83.0   1827.0      52.0      72.0        0.0    1069.0\n",
       "483471  19393.0     83.0   1139.0      14.0      25.0        0.0    1069.0\n",
       "483472  19393.0     83.0   1939.0      24.0      19.0        0.0    1211.0\n",
       "483473  19393.0     83.0   1054.0       0.0       0.0        0.0    1211.0\n",
       "483474  19393.0     83.0   1316.0      11.0       0.0        0.0    1041.0\n",
       "483475  19393.0     83.0    647.0       0.0       3.0        0.0    1041.0\n",
       "483476  19393.0     83.0   1737.0      17.0       4.0        0.0    1036.0\n",
       "483477  19393.0     83.0    544.0       0.0       0.0        0.0    1036.0\n",
       "483478  19393.0     83.0   1238.0      48.0      48.0        0.0     843.0\n",
       "483479  19393.0     83.0   2128.0     128.0     123.0        0.0     843.0\n",
       "483480  19393.0     83.0    746.0      16.0      15.0        0.0     843.0\n",
       "483481  19393.0     83.0   1845.0      20.0      18.0        0.0    1129.0\n",
       "483482  19393.0     83.0   1201.0       0.0       0.0        0.0    1129.0\n",
       "483483  19393.0     83.0    552.0       0.0       0.0        0.0     786.0\n",
       "483484  19393.0     83.0   1434.0       0.0       0.0        0.0     786.0\n",
       "483485  19393.0     83.0   1549.0       0.0       0.0        0.0     972.0\n",
       "483486  19393.0     83.0    556.0       0.0       0.0        0.0     321.0\n",
       "483487  19393.0     83.0   1226.0       0.0       0.0        0.0     495.0\n",
       "483488  19393.0     83.0   1839.0      19.0      12.0        0.0     495.0\n",
       "483489  19393.0     83.0    749.0       0.0       0.0        0.0     495.0\n",
       "483490  19393.0     83.0   1626.0       6.0      10.0        0.0     495.0\n",
       "483491  19393.0     83.0    926.0       0.0       0.0        0.0    1024.0\n",
       "483492  19393.0     83.0   1910.0     145.0     139.0        0.0    1624.0\n",
       "483493  19393.0     83.0   1721.0      96.0      99.0        0.0     719.0\n",
       "483494  19393.0     83.0   2147.0     117.0     106.0        0.0     271.0\n",
       "483495  19393.0     83.0   1250.0      10.0       0.0        0.0     271.0\n",
       "483496  19393.0     83.0   1801.0      16.0      23.0        0.0     271.0\n",
       "483497  19393.0     83.0   1037.0      17.0       8.0        0.0     271.0\n",
       "483498  19393.0     83.0    557.0       0.0       0.0        0.0     271.0\n",
       "\n",
       "[483499 rows x 7 columns]>"
      ]
     },
     "execution_count": 4,
     "metadata": {},
     "output_type": "execute_result"
    }
   ],
   "source": [
    "titanic_df.head"
   ]
  },
  {
   "cell_type": "code",
   "execution_count": 5,
   "metadata": {},
   "outputs": [
    {
     "data": {
      "text/plain": [
       "0         0.0\n",
       "1         0.0\n",
       "2         0.0\n",
       "3         0.0\n",
       "4         0.0\n",
       "5         0.0\n",
       "6         0.0\n",
       "7         0.0\n",
       "8         0.0\n",
       "9         0.0\n",
       "10        0.0\n",
       "11        0.0\n",
       "12        0.0\n",
       "13        0.0\n",
       "14        0.0\n",
       "15        0.0\n",
       "16        0.0\n",
       "17        0.0\n",
       "18        0.0\n",
       "19        0.0\n",
       "20        0.0\n",
       "21        0.0\n",
       "22        0.0\n",
       "23        0.0\n",
       "24        0.0\n",
       "25        0.0\n",
       "26        0.0\n",
       "27        0.0\n",
       "28        0.0\n",
       "29        0.0\n",
       "         ... \n",
       "483469    0.0\n",
       "483470    0.0\n",
       "483471    0.0\n",
       "483472    0.0\n",
       "483473    0.0\n",
       "483474    0.0\n",
       "483475    0.0\n",
       "483476    0.0\n",
       "483477    0.0\n",
       "483478    0.0\n",
       "483479    0.0\n",
       "483480    0.0\n",
       "483481    0.0\n",
       "483482    0.0\n",
       "483483    0.0\n",
       "483484    0.0\n",
       "483485    0.0\n",
       "483486    0.0\n",
       "483487    0.0\n",
       "483488    0.0\n",
       "483489    0.0\n",
       "483490    0.0\n",
       "483491    0.0\n",
       "483492    0.0\n",
       "483493    0.0\n",
       "483494    0.0\n",
       "483495    0.0\n",
       "483496    0.0\n",
       "483497    0.0\n",
       "483498    0.0\n",
       "Name: cancelled, Length: 483499, dtype: float64"
      ]
     },
     "execution_count": 5,
     "metadata": {},
     "output_type": "execute_result"
    }
   ],
   "source": [
    "titanic_df['cancelled']"
   ]
  },
  {
   "cell_type": "code",
   "execution_count": 6,
   "metadata": {},
   "outputs": [
    {
     "data": {
      "text/plain": [
       "<bound method NDFrame.head of         airline  orignum  deptime  depdelay  arrdelay  cancelled  distance\n",
       "0       19805.0     74.0    854.0       0.0       2.0        0.0    2475.0\n",
       "1       19805.0     76.0    944.0      14.0       0.0        0.0    2475.0\n",
       "2       19805.0     74.0   1224.0       0.0      39.0        0.0    2475.0\n",
       "3       19805.0     76.0   1240.0      25.0       0.0        0.0    2475.0\n",
       "4       19805.0     68.0   1300.0       0.0      15.0        0.0    3784.0\n",
       "5       19805.0     79.0   1901.0     126.0      95.0        0.0    3711.0\n",
       "6       19805.0     68.0   1410.0     125.0     138.0        0.0    3711.0\n",
       "7       19805.0     72.0   1659.0       4.0       0.0        0.0    3784.0\n",
       "8       19805.0     74.0    648.0       0.0      19.0        0.0    2475.0\n",
       "9       19805.0     76.0   2156.0      21.0       1.0        0.0    2475.0\n",
       "10      19805.0     76.0   1113.0       0.0       0.0        0.0    2475.0\n",
       "11      19805.0     79.0   2235.0       5.0       0.0        0.0    2486.0\n",
       "12      19805.0     66.0    611.0       0.0       0.0        0.0     867.0\n",
       "13      19805.0     83.0   1312.0      17.0       0.0        0.0    2586.0\n",
       "14      19805.0     65.0    630.0       0.0       0.0        0.0     594.0\n",
       "15      19805.0     83.0     22.0     112.0      88.0        0.0    2586.0\n",
       "16      19805.0     74.0   1024.0       0.0      18.0        0.0    2475.0\n",
       "17      19805.0     83.0   1715.0     135.0     120.0        0.0    2586.0\n",
       "18      19805.0     74.0   1906.0       0.0      16.0        0.0    2475.0\n",
       "19      19805.0     76.0   1458.0       0.0      11.0        0.0    2475.0\n",
       "20      19805.0     68.0    706.0       0.0       0.0        0.0     919.0\n",
       "21      19805.0     83.0    724.0      24.0       0.0        0.0    2586.0\n",
       "22      19805.0     66.0    730.0       0.0      14.0        0.0    2611.0\n",
       "23      19805.0     66.0   1045.0       0.0       0.0        0.0     867.0\n",
       "24      19805.0     79.0    649.0       0.0       0.0        0.0     867.0\n",
       "25      19805.0     77.0   1746.0     136.0     130.0        0.0    2342.0\n",
       "26      19805.0     76.0    553.0       0.0       0.0        0.0    2342.0\n",
       "27      19805.0     76.0    720.0       0.0       0.0        0.0    1035.0\n",
       "28      19805.0     80.0   1110.0       0.0       0.0        0.0    1035.0\n",
       "29      19805.0     76.0     23.0      48.0       8.0        0.0    2475.0\n",
       "...         ...      ...      ...       ...       ...        ...       ...\n",
       "483469  19393.0     83.0    613.0       0.0      11.0        0.0    1069.0\n",
       "483470  19393.0     83.0   1827.0      52.0      72.0        0.0    1069.0\n",
       "483471  19393.0     83.0   1139.0      14.0      25.0        0.0    1069.0\n",
       "483472  19393.0     83.0   1939.0      24.0      19.0        0.0    1211.0\n",
       "483473  19393.0     83.0   1054.0       0.0       0.0        0.0    1211.0\n",
       "483474  19393.0     83.0   1316.0      11.0       0.0        0.0    1041.0\n",
       "483475  19393.0     83.0    647.0       0.0       3.0        0.0    1041.0\n",
       "483476  19393.0     83.0   1737.0      17.0       4.0        0.0    1036.0\n",
       "483477  19393.0     83.0    544.0       0.0       0.0        0.0    1036.0\n",
       "483478  19393.0     83.0   1238.0      48.0      48.0        0.0     843.0\n",
       "483479  19393.0     83.0   2128.0     128.0     123.0        0.0     843.0\n",
       "483480  19393.0     83.0    746.0      16.0      15.0        0.0     843.0\n",
       "483481  19393.0     83.0   1845.0      20.0      18.0        0.0    1129.0\n",
       "483482  19393.0     83.0   1201.0       0.0       0.0        0.0    1129.0\n",
       "483483  19393.0     83.0    552.0       0.0       0.0        0.0     786.0\n",
       "483484  19393.0     83.0   1434.0       0.0       0.0        0.0     786.0\n",
       "483485  19393.0     83.0   1549.0       0.0       0.0        0.0     972.0\n",
       "483486  19393.0     83.0    556.0       0.0       0.0        0.0     321.0\n",
       "483487  19393.0     83.0   1226.0       0.0       0.0        0.0     495.0\n",
       "483488  19393.0     83.0   1839.0      19.0      12.0        0.0     495.0\n",
       "483489  19393.0     83.0    749.0       0.0       0.0        0.0     495.0\n",
       "483490  19393.0     83.0   1626.0       6.0      10.0        0.0     495.0\n",
       "483491  19393.0     83.0    926.0       0.0       0.0        0.0    1024.0\n",
       "483492  19393.0     83.0   1910.0     145.0     139.0        0.0    1624.0\n",
       "483493  19393.0     83.0   1721.0      96.0      99.0        0.0     719.0\n",
       "483494  19393.0     83.0   2147.0     117.0     106.0        0.0     271.0\n",
       "483495  19393.0     83.0   1250.0      10.0       0.0        0.0     271.0\n",
       "483496  19393.0     83.0   1801.0      16.0      23.0        0.0     271.0\n",
       "483497  19393.0     83.0   1037.0      17.0       8.0        0.0     271.0\n",
       "483498  19393.0     83.0    557.0       0.0       0.0        0.0     271.0\n",
       "\n",
       "[483499 rows x 7 columns]>"
      ]
     },
     "execution_count": 6,
     "metadata": {},
     "output_type": "execute_result"
    }
   ],
   "source": [
    "#titanic_df['cancelled'] = titanic_df['cancelled'].map({'cancelyes': 1.0, 'cancelno': 0.0})\n",
    "titanic_df.head"
   ]
  },
  {
   "cell_type": "code",
   "execution_count": 7,
   "metadata": {},
   "outputs": [
    {
     "data": {
      "text/html": [
       "<div>\n",
       "<style scoped>\n",
       "    .dataframe tbody tr th:only-of-type {\n",
       "        vertical-align: middle;\n",
       "    }\n",
       "\n",
       "    .dataframe tbody tr th {\n",
       "        vertical-align: top;\n",
       "    }\n",
       "\n",
       "    .dataframe thead th {\n",
       "        text-align: right;\n",
       "    }\n",
       "</style>\n",
       "<table border=\"1\" class=\"dataframe\">\n",
       "  <thead>\n",
       "    <tr style=\"text-align: right;\">\n",
       "      <th></th>\n",
       "      <th>airline</th>\n",
       "      <th>orignum</th>\n",
       "      <th>deptime</th>\n",
       "      <th>depdelay</th>\n",
       "      <th>arrdelay</th>\n",
       "      <th>cancelled</th>\n",
       "      <th>distance</th>\n",
       "    </tr>\n",
       "  </thead>\n",
       "  <tbody>\n",
       "    <tr>\n",
       "      <th>155317</th>\n",
       "      <td>20304.0</td>\n",
       "      <td>77.0</td>\n",
       "      <td>1332.0</td>\n",
       "      <td>22.0</td>\n",
       "      <td>28.0</td>\n",
       "      <td>0.0</td>\n",
       "      <td>67.0</td>\n",
       "    </tr>\n",
       "    <tr>\n",
       "      <th>363195</th>\n",
       "      <td>20304.0</td>\n",
       "      <td>83.0</td>\n",
       "      <td>1042.0</td>\n",
       "      <td>0.0</td>\n",
       "      <td>0.0</td>\n",
       "      <td>0.0</td>\n",
       "      <td>908.0</td>\n",
       "    </tr>\n",
       "    <tr>\n",
       "      <th>170180</th>\n",
       "      <td>20436.0</td>\n",
       "      <td>68.0</td>\n",
       "      <td>1617.0</td>\n",
       "      <td>12.0</td>\n",
       "      <td>5.0</td>\n",
       "      <td>0.0</td>\n",
       "      <td>1533.0</td>\n",
       "    </tr>\n",
       "    <tr>\n",
       "      <th>270519</th>\n",
       "      <td>19977.0</td>\n",
       "      <td>83.0</td>\n",
       "      <td>1258.0</td>\n",
       "      <td>0.0</td>\n",
       "      <td>0.0</td>\n",
       "      <td>0.0</td>\n",
       "      <td>1346.0</td>\n",
       "    </tr>\n",
       "    <tr>\n",
       "      <th>275156</th>\n",
       "      <td>19393.0</td>\n",
       "      <td>68.0</td>\n",
       "      <td>2249.0</td>\n",
       "      <td>54.0</td>\n",
       "      <td>36.0</td>\n",
       "      <td>0.0</td>\n",
       "      <td>546.0</td>\n",
       "    </tr>\n",
       "    <tr>\n",
       "      <th>448484</th>\n",
       "      <td>19393.0</td>\n",
       "      <td>83.0</td>\n",
       "      <td>0.0</td>\n",
       "      <td>0.0</td>\n",
       "      <td>0.0</td>\n",
       "      <td>1.0</td>\n",
       "      <td>397.0</td>\n",
       "    </tr>\n",
       "    <tr>\n",
       "      <th>102069</th>\n",
       "      <td>20366.0</td>\n",
       "      <td>73.0</td>\n",
       "      <td>1423.0</td>\n",
       "      <td>38.0</td>\n",
       "      <td>40.0</td>\n",
       "      <td>0.0</td>\n",
       "      <td>376.0</td>\n",
       "    </tr>\n",
       "    <tr>\n",
       "      <th>398008</th>\n",
       "      <td>20304.0</td>\n",
       "      <td>83.0</td>\n",
       "      <td>600.0</td>\n",
       "      <td>0.0</td>\n",
       "      <td>0.0</td>\n",
       "      <td>0.0</td>\n",
       "      <td>391.0</td>\n",
       "    </tr>\n",
       "    <tr>\n",
       "      <th>283604</th>\n",
       "      <td>20398.0</td>\n",
       "      <td>68.0</td>\n",
       "      <td>1544.0</td>\n",
       "      <td>0.0</td>\n",
       "      <td>6.0</td>\n",
       "      <td>0.0</td>\n",
       "      <td>539.0</td>\n",
       "    </tr>\n",
       "    <tr>\n",
       "      <th>426079</th>\n",
       "      <td>20398.0</td>\n",
       "      <td>84.0</td>\n",
       "      <td>1217.0</td>\n",
       "      <td>2.0</td>\n",
       "      <td>7.0</td>\n",
       "      <td>0.0</td>\n",
       "      <td>181.0</td>\n",
       "    </tr>\n",
       "  </tbody>\n",
       "</table>\n",
       "</div>"
      ],
      "text/plain": [
       "        airline  orignum  deptime  depdelay  arrdelay  cancelled  distance\n",
       "155317  20304.0     77.0   1332.0      22.0      28.0        0.0      67.0\n",
       "363195  20304.0     83.0   1042.0       0.0       0.0        0.0     908.0\n",
       "170180  20436.0     68.0   1617.0      12.0       5.0        0.0    1533.0\n",
       "270519  19977.0     83.0   1258.0       0.0       0.0        0.0    1346.0\n",
       "275156  19393.0     68.0   2249.0      54.0      36.0        0.0     546.0\n",
       "448484  19393.0     83.0      0.0       0.0       0.0        1.0     397.0\n",
       "102069  20366.0     73.0   1423.0      38.0      40.0        0.0     376.0\n",
       "398008  20304.0     83.0    600.0       0.0       0.0        0.0     391.0\n",
       "283604  20398.0     68.0   1544.0       0.0       6.0        0.0     539.0\n",
       "426079  20398.0     84.0   1217.0       2.0       7.0        0.0     181.0"
      ]
     },
     "execution_count": 7,
     "metadata": {},
     "output_type": "execute_result"
    }
   ],
   "source": [
    "data = titanic_df\n",
    "data50 = fifty_df\n",
    "#.drop(columns=[\"flightdate\",\"origin\",'carrier', 'destination', \"depdelta\", \"arrtime\", \"arrdelta\"])\n",
    "#cleaned data for a clean set\n",
    "data.sample(10)"
   ]
  },
  {
   "cell_type": "code",
   "execution_count": 8,
   "metadata": {},
   "outputs": [
    {
     "name": "stdout",
     "output_type": "stream",
     "text": [
      "Mean Departure Delay\n"
     ]
    },
    {
     "data": {
      "text/plain": [
       "<Figure size 1224x720 with 0 Axes>"
      ]
     },
     "metadata": {},
     "output_type": "display_data"
    },
    {
     "data": {
      "image/png": "[encoded data removed]",
      "text/plain": [
       "<Figure size 432x288 with 1 Axes>"
      ]
     },
     "metadata": {},
     "output_type": "display_data"
    }
   ],
   "source": [
    "fig=plt.figure(figsize=(17,10))\n",
    "data.hist(column=\"depdelay\", bins=30)\n",
    "plt.xlabel(\"orignum\",fontsize=15)\n",
    "plt.ylabel(\"depdelay\",fontsize=15)\n",
    "plt.xlim([0.0,100.0])\n",
    "plt.axvline(data[\"orignum\"].mean(), color=\"red\")\n",
    "print('Mean Departure Delay'.format(data[\"depdelay\"].mean()))\n"
   ]
  },
  {
   "cell_type": "code",
   "execution_count": 9,
   "metadata": {},
   "outputs": [
    {
     "data": {
      "text/html": [
       "<div>\n",
       "<style scoped>\n",
       "    .dataframe tbody tr th:only-of-type {\n",
       "        vertical-align: middle;\n",
       "    }\n",
       "\n",
       "    .dataframe tbody tr th {\n",
       "        vertical-align: top;\n",
       "    }\n",
       "\n",
       "    .dataframe thead th {\n",
       "        text-align: right;\n",
       "    }\n",
       "</style>\n",
       "<table border=\"1\" class=\"dataframe\">\n",
       "  <thead>\n",
       "    <tr style=\"text-align: right;\">\n",
       "      <th></th>\n",
       "      <th>airline</th>\n",
       "      <th>orignum</th>\n",
       "      <th>deptime</th>\n",
       "      <th>depdelay</th>\n",
       "      <th>arrdelay</th>\n",
       "      <th>cancelled</th>\n",
       "      <th>distance</th>\n",
       "    </tr>\n",
       "  </thead>\n",
       "  <tbody>\n",
       "    <tr>\n",
       "      <th>0</th>\n",
       "      <td>19805.0</td>\n",
       "      <td>74.0</td>\n",
       "      <td>854.0</td>\n",
       "      <td>0.0</td>\n",
       "      <td>2.0</td>\n",
       "      <td>0.0</td>\n",
       "      <td>2475.0</td>\n",
       "    </tr>\n",
       "    <tr>\n",
       "      <th>1</th>\n",
       "      <td>19805.0</td>\n",
       "      <td>76.0</td>\n",
       "      <td>944.0</td>\n",
       "      <td>14.0</td>\n",
       "      <td>0.0</td>\n",
       "      <td>0.0</td>\n",
       "      <td>2475.0</td>\n",
       "    </tr>\n",
       "    <tr>\n",
       "      <th>2</th>\n",
       "      <td>19805.0</td>\n",
       "      <td>74.0</td>\n",
       "      <td>1224.0</td>\n",
       "      <td>0.0</td>\n",
       "      <td>39.0</td>\n",
       "      <td>0.0</td>\n",
       "      <td>2475.0</td>\n",
       "    </tr>\n",
       "    <tr>\n",
       "      <th>3</th>\n",
       "      <td>19805.0</td>\n",
       "      <td>76.0</td>\n",
       "      <td>1240.0</td>\n",
       "      <td>25.0</td>\n",
       "      <td>0.0</td>\n",
       "      <td>0.0</td>\n",
       "      <td>2475.0</td>\n",
       "    </tr>\n",
       "    <tr>\n",
       "      <th>4</th>\n",
       "      <td>19805.0</td>\n",
       "      <td>68.0</td>\n",
       "      <td>1300.0</td>\n",
       "      <td>0.0</td>\n",
       "      <td>15.0</td>\n",
       "      <td>0.0</td>\n",
       "      <td>3784.0</td>\n",
       "    </tr>\n",
       "    <tr>\n",
       "      <th>5</th>\n",
       "      <td>19805.0</td>\n",
       "      <td>79.0</td>\n",
       "      <td>1901.0</td>\n",
       "      <td>126.0</td>\n",
       "      <td>95.0</td>\n",
       "      <td>0.0</td>\n",
       "      <td>3711.0</td>\n",
       "    </tr>\n",
       "    <tr>\n",
       "      <th>6</th>\n",
       "      <td>19805.0</td>\n",
       "      <td>68.0</td>\n",
       "      <td>1410.0</td>\n",
       "      <td>125.0</td>\n",
       "      <td>138.0</td>\n",
       "      <td>0.0</td>\n",
       "      <td>3711.0</td>\n",
       "    </tr>\n",
       "    <tr>\n",
       "      <th>7</th>\n",
       "      <td>19805.0</td>\n",
       "      <td>72.0</td>\n",
       "      <td>1659.0</td>\n",
       "      <td>4.0</td>\n",
       "      <td>0.0</td>\n",
       "      <td>0.0</td>\n",
       "      <td>3784.0</td>\n",
       "    </tr>\n",
       "    <tr>\n",
       "      <th>8</th>\n",
       "      <td>19805.0</td>\n",
       "      <td>74.0</td>\n",
       "      <td>648.0</td>\n",
       "      <td>0.0</td>\n",
       "      <td>19.0</td>\n",
       "      <td>0.0</td>\n",
       "      <td>2475.0</td>\n",
       "    </tr>\n",
       "    <tr>\n",
       "      <th>9</th>\n",
       "      <td>19805.0</td>\n",
       "      <td>76.0</td>\n",
       "      <td>2156.0</td>\n",
       "      <td>21.0</td>\n",
       "      <td>1.0</td>\n",
       "      <td>0.0</td>\n",
       "      <td>2475.0</td>\n",
       "    </tr>\n",
       "  </tbody>\n",
       "</table>\n",
       "</div>"
      ],
      "text/plain": [
       "   airline  orignum  deptime  depdelay  arrdelay  cancelled  distance\n",
       "0  19805.0     74.0    854.0       0.0       2.0        0.0    2475.0\n",
       "1  19805.0     76.0    944.0      14.0       0.0        0.0    2475.0\n",
       "2  19805.0     74.0   1224.0       0.0      39.0        0.0    2475.0\n",
       "3  19805.0     76.0   1240.0      25.0       0.0        0.0    2475.0\n",
       "4  19805.0     68.0   1300.0       0.0      15.0        0.0    3784.0\n",
       "5  19805.0     79.0   1901.0     126.0      95.0        0.0    3711.0\n",
       "6  19805.0     68.0   1410.0     125.0     138.0        0.0    3711.0\n",
       "7  19805.0     72.0   1659.0       4.0       0.0        0.0    3784.0\n",
       "8  19805.0     74.0    648.0       0.0      19.0        0.0    2475.0\n",
       "9  19805.0     76.0   2156.0      21.0       1.0        0.0    2475.0"
      ]
     },
     "execution_count": 9,
     "metadata": {},
     "output_type": "execute_result"
    }
   ],
   "source": [
    "data_nona = data[\"depdelay\"].fillna(data[\"depdelay\"].mean())\n",
    "data[\"depdelay\"]=data_nona\n",
    "data.head(10)"
   ]
  },
  {
   "cell_type": "code",
   "execution_count": 10,
   "metadata": {},
   "outputs": [],
   "source": [
    "# data.info()"
   ]
  },
  {
   "cell_type": "markdown",
   "metadata": {},
   "source": [
    "# Decision Tree Algorithm"
   ]
  },
  {
   "cell_type": "code",
   "execution_count": 11,
   "metadata": {},
   "outputs": [],
   "source": [
    "target = data[\"cancelled\"]\n",
    "target_names = [\"yes\", \"no\"]\n",
    "target50 = data50[\"cancelled\"]\n",
    "target50_names = [\"yes\", \"no\"]"
   ]
  },
  {
   "cell_type": "code",
   "execution_count": 12,
   "metadata": {},
   "outputs": [
    {
     "data": {
      "text/html": [
       "<div>\n",
       "<style scoped>\n",
       "    .dataframe tbody tr th:only-of-type {\n",
       "        vertical-align: middle;\n",
       "    }\n",
       "\n",
       "    .dataframe tbody tr th {\n",
       "        vertical-align: top;\n",
       "    }\n",
       "\n",
       "    .dataframe thead th {\n",
       "        text-align: right;\n",
       "    }\n",
       "</style>\n",
       "<table border=\"1\" class=\"dataframe\">\n",
       "  <thead>\n",
       "    <tr style=\"text-align: right;\">\n",
       "      <th></th>\n",
       "      <th>airline</th>\n",
       "      <th>orignum</th>\n",
       "      <th>deptime</th>\n",
       "      <th>depdelay</th>\n",
       "      <th>arrdelay</th>\n",
       "      <th>distance</th>\n",
       "    </tr>\n",
       "  </thead>\n",
       "  <tbody>\n",
       "    <tr>\n",
       "      <th>0</th>\n",
       "      <td>19805.0</td>\n",
       "      <td>74.0</td>\n",
       "      <td>854.0</td>\n",
       "      <td>0.0</td>\n",
       "      <td>2.0</td>\n",
       "      <td>2475.0</td>\n",
       "    </tr>\n",
       "    <tr>\n",
       "      <th>1</th>\n",
       "      <td>19805.0</td>\n",
       "      <td>76.0</td>\n",
       "      <td>944.0</td>\n",
       "      <td>14.0</td>\n",
       "      <td>0.0</td>\n",
       "      <td>2475.0</td>\n",
       "    </tr>\n",
       "    <tr>\n",
       "      <th>2</th>\n",
       "      <td>19805.0</td>\n",
       "      <td>74.0</td>\n",
       "      <td>1224.0</td>\n",
       "      <td>0.0</td>\n",
       "      <td>39.0</td>\n",
       "      <td>2475.0</td>\n",
       "    </tr>\n",
       "    <tr>\n",
       "      <th>3</th>\n",
       "      <td>19805.0</td>\n",
       "      <td>76.0</td>\n",
       "      <td>1240.0</td>\n",
       "      <td>25.0</td>\n",
       "      <td>0.0</td>\n",
       "      <td>2475.0</td>\n",
       "    </tr>\n",
       "    <tr>\n",
       "      <th>4</th>\n",
       "      <td>19805.0</td>\n",
       "      <td>68.0</td>\n",
       "      <td>1300.0</td>\n",
       "      <td>0.0</td>\n",
       "      <td>15.0</td>\n",
       "      <td>3784.0</td>\n",
       "    </tr>\n",
       "  </tbody>\n",
       "</table>\n",
       "</div>"
      ],
      "text/plain": [
       "   airline  orignum  deptime  depdelay  arrdelay  distance\n",
       "0  19805.0     74.0    854.0       0.0       2.0    2475.0\n",
       "1  19805.0     76.0    944.0      14.0       0.0    2475.0\n",
       "2  19805.0     74.0   1224.0       0.0      39.0    2475.0\n",
       "3  19805.0     76.0   1240.0      25.0       0.0    2475.0\n",
       "4  19805.0     68.0   1300.0       0.0      15.0    3784.0"
      ]
     },
     "execution_count": 12,
     "metadata": {},
     "output_type": "execute_result"
    }
   ],
   "source": [
    "variable = data.drop(\"cancelled\", axis=1)\n",
    "variable50 = data50.drop(\"cancelled\", axis=1)\n",
    "feature_names = variable.columns\n",
    "featrue50 = variable50.columns\n",
    "variable.head()"
   ]
  },
  {
   "cell_type": "code",
   "execution_count": 13,
   "metadata": {},
   "outputs": [],
   "source": [
    "from sklearn.model_selection import train_test_split\n",
    "X_train, X_test, y_train, y_test = train_test_split(variable, target, random_state=42)\n",
    "from sklearn.model_selection import train_test_split\n",
    "X50_train, X50_test, y50_train, y50_test = train_test_split(variable50, target50, random_state=42)"
   ]
  },
  {
   "cell_type": "code",
   "execution_count": 14,
   "metadata": {},
   "outputs": [
    {
     "data": {
      "text/plain": [
       "0.9991644260599793"
      ]
     },
     "execution_count": 14,
     "metadata": {},
     "output_type": "execute_result"
    }
   ],
   "source": [
    "# y_test is what the outcome is, and y_predict is what the decision tree predicts it. \n",
    "#y_test is the survive column entries, and X_test the rest of the columns or the \n",
    "# variables we think affect the survivie. \n",
    "clf = tree.DecisionTreeClassifier()\n",
    "clf = clf.fit(X_train, y_train)\n",
    "clf.score(X_test, y_test) "
   ]
  },
  {
   "cell_type": "code",
   "execution_count": 15,
   "metadata": {},
   "outputs": [
    {
     "data": {
      "text/plain": [
       "array([0., 1., 0., ..., 0., 0., 0.])"
      ]
     },
     "execution_count": 15,
     "metadata": {},
     "output_type": "execute_result"
    }
   ],
   "source": [
    "y_predict = clf.predict(X_test)\n",
    "y_predict"
   ]
  },
  {
   "cell_type": "markdown",
   "metadata": {},
   "source": [
    "# Random forest Algorithm"
   ]
  },
  {
   "cell_type": "code",
   "execution_count": 16,
   "metadata": {},
   "outputs": [
    {
     "data": {
      "text/plain": [
       "0.9998531537810833"
      ]
     },
     "execution_count": 16,
     "metadata": {},
     "output_type": "execute_result"
    }
   ],
   "source": [
    "# Create a random forest classifier\n",
    "rf = RandomForestClassifier(n_estimators=200)\n",
    "rf = rf.fit(variable, target)\n",
    "rf.score(variable, target)\n",
    "# Have not done the cross validation"
   ]
  },
  {
   "cell_type": "code",
   "execution_count": 17,
   "metadata": {},
   "outputs": [
    {
     "data": {
      "text/plain": [
       "array([0.00624762, 0.00376744, 0.96555076, 0.01066846, 0.004447  ,\n",
       "       0.00931871])"
      ]
     },
     "execution_count": 17,
     "metadata": {},
     "output_type": "execute_result"
    }
   ],
   "source": [
    "# Random Forests in sklearn will automatically calculate feature importance\n",
    "importances = rf.feature_importances_\n",
    "importances"
   ]
  },
  {
   "cell_type": "code",
   "execution_count": 18,
   "metadata": {},
   "outputs": [
    {
     "data": {
      "text/plain": [
       "[(0.9655507615016196, 'deptime'),\n",
       " (0.010668460953285377, 'depdelay'),\n",
       " (0.009318713253277756, 'distance'),\n",
       " (0.006247618105385925, 'airline'),\n",
       " (0.004447003676235826, 'arrdelay'),\n",
       " (0.003767442510195952, 'orignum')]"
      ]
     },
     "execution_count": 18,
     "metadata": {},
     "output_type": "execute_result"
    }
   ],
   "source": [
    "# We can sort the features by their importance\n",
    "sorted(zip(rf.feature_importances_, feature_names), reverse=True)"
   ]
  },
  {
   "cell_type": "markdown",
   "metadata": {},
   "source": [
    "# Support Vector Machine\n",
    "With Radial-basis-function kernel"
   ]
  },
  {
   "cell_type": "code",
   "execution_count": 19,
   "metadata": {},
   "outputs": [
    {
     "name": "stderr",
     "output_type": "stream",
     "text": [
      "/anaconda3/envs/PythonData/lib/python3.6/site-packages/sklearn/svm/base.py:196: FutureWarning: The default value of gamma will change from 'auto' to 'scale' in version 0.22 to account better for unscaled features. Set gamma explicitly to 'auto' or 'scale' to avoid this warning.\n",
      "  \"avoid this warning.\", FutureWarning)\n"
     ]
    }
   ],
   "source": [
    "\n",
    "\n",
    "\n",
    "from sklearn.svm import SVC \n",
    "# using X_train, X_test, y_train, y_test\n",
    "model = SVC(kernel='rbf')\n",
    "model.fit(X50_train, y50_train)\n",
    "y50_predict = model.predict(X50_test)\n",
    "# compare y_predict to y_test"
   ]
  },
  {
   "cell_type": "code",
   "execution_count": 20,
   "metadata": {},
   "outputs": [
    {
     "name": "stdout",
     "output_type": "stream",
     "text": [
      "SVM Checkpoint1 - 50krows\n"
     ]
    }
   ],
   "source": [
    "# if good prediction, what is y_predict - y_test = 0 \n",
    "print(\"SVM Checkpoint1 - 50krows\")"
   ]
  },
  {
   "cell_type": "code",
   "execution_count": 21,
   "metadata": {},
   "outputs": [
    {
     "name": "stdout",
     "output_type": "stream",
     "text": [
      "0.98048\n"
     ]
    }
   ],
   "source": [
    "accuracy = model.score(X50_test, y50_test)\n",
    "print(accuracy)"
   ]
  },
  {
   "cell_type": "code",
   "execution_count": 22,
   "metadata": {},
   "outputs": [
    {
     "data": {
      "text/plain": [
       "0.9997333333333334"
      ]
     },
     "execution_count": 22,
     "metadata": {},
     "output_type": "execute_result"
    }
   ],
   "source": [
    "# How do I assess accuracy\n",
    "model.score(X50_train, y50_train)"
   ]
  },
  {
   "cell_type": "markdown",
   "metadata": {},
   "source": [
    "# Support Vector Machine with Polynomial Kernel "
   ]
  },
  {
   "cell_type": "code",
   "execution_count": 23,
   "metadata": {},
   "outputs": [],
   "source": [
    "# from sklearn.svm import SVC \n",
    "# # using X_train, X_test, y_train, y_test\n",
    "# model = SVC(kernel='pol')\n",
    "# model.fit(X_train, y_train)\n",
    "# y_predict = model.predict(X_test)\n",
    "# # compare y_predict to y_test"
   ]
  },
  {
   "cell_type": "code",
   "execution_count": 24,
   "metadata": {},
   "outputs": [],
   "source": [
    "# accuracy = model.score(X_test, y_test)\n",
    "# print(accuracy)"
   ]
  },
  {
   "cell_type": "code",
   "execution_count": 25,
   "metadata": {},
   "outputs": [
    {
     "name": "stdout",
     "output_type": "stream",
     "text": [
      "end of SVM PK\n"
     ]
    }
   ],
   "source": [
    "# # How do I assess accuracy\n",
    "# model.score(X_train, y_train)\n",
    "print(\"end of SVM PK\")"
   ]
  },
  {
   "cell_type": "markdown",
   "metadata": {},
   "source": [
    "# Logistic Regression"
   ]
  },
  {
   "cell_type": "code",
   "execution_count": 26,
   "metadata": {},
   "outputs": [
    {
     "data": {
      "text/plain": [
       "LogisticRegression(C=1.0, class_weight=None, dual=False, fit_intercept=True,\n",
       "          intercept_scaling=1, max_iter=100, multi_class='warn',\n",
       "          n_jobs=None, penalty='l2', random_state=None, solver='warn',\n",
       "          tol=0.0001, verbose=0, warm_start=False)"
      ]
     },
     "execution_count": 26,
     "metadata": {},
     "output_type": "execute_result"
    }
   ],
   "source": [
    "from sklearn.linear_model import LogisticRegression\n",
    "classifier = LogisticRegression()\n",
    "classifier"
   ]
  },
  {
   "cell_type": "code",
   "execution_count": 27,
   "metadata": {},
   "outputs": [
    {
     "name": "stderr",
     "output_type": "stream",
     "text": [
      "/anaconda3/envs/PythonData/lib/python3.6/site-packages/sklearn/linear_model/logistic.py:432: FutureWarning: Default solver will be changed to 'lbfgs' in 0.22. Specify a solver to silence this warning.\n",
      "  FutureWarning)\n"
     ]
    },
    {
     "data": {
      "text/plain": [
       "LogisticRegression(C=1.0, class_weight=None, dual=False, fit_intercept=True,\n",
       "          intercept_scaling=1, max_iter=100, multi_class='warn',\n",
       "          n_jobs=None, penalty='l2', random_state=None, solver='warn',\n",
       "          tol=0.0001, verbose=0, warm_start=False)"
      ]
     },
     "execution_count": 27,
     "metadata": {},
     "output_type": "execute_result"
    }
   ],
   "source": [
    "classifier.fit(X_train, y_train)"
   ]
  },
  {
   "cell_type": "code",
   "execution_count": 28,
   "metadata": {},
   "outputs": [
    {
     "name": "stdout",
     "output_type": "stream",
     "text": [
      "Training Data Score: 0.9988059256971409\n",
      "Testing Data Score: 0.998775594622544\n"
     ]
    }
   ],
   "source": [
    "print(f\"Training Data Score: {classifier.score(X_train, y_train)}\")\n",
    "print(f\"Testing Data Score: {classifier.score(X_test, y_test)}\")"
   ]
  },
  {
   "cell_type": "code",
   "execution_count": 29,
   "metadata": {},
   "outputs": [
    {
     "data": {
      "text/html": [
       "<div>\n",
       "<style scoped>\n",
       "    .dataframe tbody tr th:only-of-type {\n",
       "        vertical-align: middle;\n",
       "    }\n",
       "\n",
       "    .dataframe tbody tr th {\n",
       "        vertical-align: top;\n",
       "    }\n",
       "\n",
       "    .dataframe thead th {\n",
       "        text-align: right;\n",
       "    }\n",
       "</style>\n",
       "<table border=\"1\" class=\"dataframe\">\n",
       "  <thead>\n",
       "    <tr style=\"text-align: right;\">\n",
       "      <th></th>\n",
       "      <th>Prediction</th>\n",
       "      <th>Actual</th>\n",
       "    </tr>\n",
       "  </thead>\n",
       "  <tbody>\n",
       "    <tr>\n",
       "      <th>105346</th>\n",
       "      <td>0.0</td>\n",
       "      <td>0.0</td>\n",
       "    </tr>\n",
       "    <tr>\n",
       "      <th>459028</th>\n",
       "      <td>1.0</td>\n",
       "      <td>1.0</td>\n",
       "    </tr>\n",
       "    <tr>\n",
       "      <th>36873</th>\n",
       "      <td>0.0</td>\n",
       "      <td>0.0</td>\n",
       "    </tr>\n",
       "    <tr>\n",
       "      <th>114365</th>\n",
       "      <td>0.0</td>\n",
       "      <td>0.0</td>\n",
       "    </tr>\n",
       "    <tr>\n",
       "      <th>292953</th>\n",
       "      <td>0.0</td>\n",
       "      <td>0.0</td>\n",
       "    </tr>\n",
       "  </tbody>\n",
       "</table>\n",
       "</div>"
      ],
      "text/plain": [
       "        Prediction  Actual\n",
       "105346         0.0     0.0\n",
       "459028         1.0     1.0\n",
       "36873          0.0     0.0\n",
       "114365         0.0     0.0\n",
       "292953         0.0     0.0"
      ]
     },
     "execution_count": 29,
     "metadata": {},
     "output_type": "execute_result"
    }
   ],
   "source": [
    "predictions = classifier.predict(X_test)\n",
    "pd.DataFrame({\"Prediction\": predictions, \"Actual\": y_test}).head()"
   ]
  },
  {
   "cell_type": "markdown",
   "metadata": {},
   "source": [
    "# K Nearest Neighbor"
   ]
  },
  {
   "cell_type": "code",
   "execution_count": 30,
   "metadata": {},
   "outputs": [
    {
     "name": "stdout",
     "output_type": "stream",
     "text": [
      "99.94\n"
     ]
    }
   ],
   "source": [
    "# KNN \n",
    "knn = KNeighborsClassifier(n_neighbors = 3) \n",
    "knn.fit(X_train, y_train)  \n",
    "Y_pred = knn.predict(X_test)  \n",
    "acc_knn = round(knn.score(X_train, y_train) * 100, 2)\n",
    "print(acc_knn)"
   ]
  },
  {
   "cell_type": "code",
   "execution_count": null,
   "metadata": {},
   "outputs": [],
   "source": []
  }
 ],
 "metadata": {
  "kernelspec": {
   "display_name": "Python 3",
   "language": "python",
   "name": "python3"
  },
  "language_info": {
   "codemirror_mode": {
    "name": "ipython",
    "version": 3
   },
   "file_extension": ".py",
   "mimetype": "text/x-python",
   "name": "python",
   "nbconvert_exporter": "python",
   "pygments_lexer": "ipython3",
   "version": "3.6.5"
  }
 },
 "nbformat": 4,
 "nbformat_minor": 2
}
