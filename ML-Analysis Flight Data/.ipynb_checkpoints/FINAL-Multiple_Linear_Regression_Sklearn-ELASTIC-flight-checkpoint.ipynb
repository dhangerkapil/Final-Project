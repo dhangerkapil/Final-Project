{
 "cells": [
  {
   "cell_type": "code",
   "execution_count": 13,
   "metadata": {
    "slideshow": {
     "slide_type": "skip"
    }
   },
   "outputs": [],
   "source": [
    "%matplotlib inline\n",
    "import matplotlib.pyplot as plt\n",
    "import numpy as np\n",
    "import pandas as pd\n",
    "from sklearn.datasets.samples_generator import make_blobs\n",
    "from sklearn.linear_model import ElasticNet\n",
    "from sklearn.datasets import make_regression\n",
    "\n",
    "\n",
    "\n",
    "\n",
    "\n",
    "\n"
   ]
  },
  {
   "cell_type": "code",
   "execution_count": 14,
   "metadata": {},
   "outputs": [
    {
     "data": {
      "text/html": [
       "<div>\n",
       "<style scoped>\n",
       "    .dataframe tbody tr th:only-of-type {\n",
       "        vertical-align: middle;\n",
       "    }\n",
       "\n",
       "    .dataframe tbody tr th {\n",
       "        vertical-align: top;\n",
       "    }\n",
       "\n",
       "    .dataframe thead th {\n",
       "        text-align: right;\n",
       "    }\n",
       "</style>\n",
       "<table border=\"1\" class=\"dataframe\">\n",
       "  <thead>\n",
       "    <tr style=\"text-align: right;\">\n",
       "      <th></th>\n",
       "      <th>airline</th>\n",
       "      <th>orignum</th>\n",
       "      <th>deptime</th>\n",
       "      <th>depdelay</th>\n",
       "      <th>arrdelay</th>\n",
       "      <th>cancelled</th>\n",
       "      <th>distance</th>\n",
       "    </tr>\n",
       "  </thead>\n",
       "  <tbody>\n",
       "    <tr>\n",
       "      <th>0</th>\n",
       "      <td>19805.0</td>\n",
       "      <td>74.0</td>\n",
       "      <td>854.0</td>\n",
       "      <td>0.0</td>\n",
       "      <td>2.0</td>\n",
       "      <td>0.0</td>\n",
       "      <td>2475.0</td>\n",
       "    </tr>\n",
       "    <tr>\n",
       "      <th>1</th>\n",
       "      <td>19805.0</td>\n",
       "      <td>76.0</td>\n",
       "      <td>944.0</td>\n",
       "      <td>14.0</td>\n",
       "      <td>0.0</td>\n",
       "      <td>0.0</td>\n",
       "      <td>2475.0</td>\n",
       "    </tr>\n",
       "    <tr>\n",
       "      <th>2</th>\n",
       "      <td>19805.0</td>\n",
       "      <td>74.0</td>\n",
       "      <td>1224.0</td>\n",
       "      <td>0.0</td>\n",
       "      <td>39.0</td>\n",
       "      <td>0.0</td>\n",
       "      <td>2475.0</td>\n",
       "    </tr>\n",
       "    <tr>\n",
       "      <th>3</th>\n",
       "      <td>19805.0</td>\n",
       "      <td>76.0</td>\n",
       "      <td>1240.0</td>\n",
       "      <td>25.0</td>\n",
       "      <td>0.0</td>\n",
       "      <td>0.0</td>\n",
       "      <td>2475.0</td>\n",
       "    </tr>\n",
       "    <tr>\n",
       "      <th>4</th>\n",
       "      <td>19805.0</td>\n",
       "      <td>68.0</td>\n",
       "      <td>1300.0</td>\n",
       "      <td>0.0</td>\n",
       "      <td>15.0</td>\n",
       "      <td>0.0</td>\n",
       "      <td>3784.0</td>\n",
       "    </tr>\n",
       "  </tbody>\n",
       "</table>\n",
       "</div>"
      ],
      "text/plain": [
       "   airline  orignum  deptime  depdelay  arrdelay  cancelled  distance\n",
       "0  19805.0     74.0    854.0       0.0       2.0        0.0    2475.0\n",
       "1  19805.0     76.0    944.0      14.0       0.0        0.0    2475.0\n",
       "2  19805.0     74.0   1224.0       0.0      39.0        0.0    2475.0\n",
       "3  19805.0     76.0   1240.0      25.0       0.0        0.0    2475.0\n",
       "4  19805.0     68.0   1300.0       0.0      15.0        0.0    3784.0"
      ]
     },
     "execution_count": 14,
     "metadata": {},
     "output_type": "execute_result"
    }
   ],
   "source": [
    "calhouse = pd.read_csv('flights-clean.csv')\n",
    "calhouse.head()"
   ]
  },
  {
   "cell_type": "code",
   "execution_count": 15,
   "metadata": {},
   "outputs": [
    {
     "name": "stdout",
     "output_type": "stream",
     "text": [
      "(483499, 3) (483499, 1)\n"
     ]
    },
    {
     "data": {
      "text/html": [
       "<div>\n",
       "<style scoped>\n",
       "    .dataframe tbody tr th:only-of-type {\n",
       "        vertical-align: middle;\n",
       "    }\n",
       "\n",
       "    .dataframe tbody tr th {\n",
       "        vertical-align: top;\n",
       "    }\n",
       "\n",
       "    .dataframe thead th {\n",
       "        text-align: right;\n",
       "    }\n",
       "</style>\n",
       "<table border=\"1\" class=\"dataframe\">\n",
       "  <thead>\n",
       "    <tr style=\"text-align: right;\">\n",
       "      <th></th>\n",
       "      <th>orignum</th>\n",
       "      <th>deptime</th>\n",
       "      <th>arrdelay</th>\n",
       "    </tr>\n",
       "  </thead>\n",
       "  <tbody>\n",
       "    <tr>\n",
       "      <th>0</th>\n",
       "      <td>74.0</td>\n",
       "      <td>854.0</td>\n",
       "      <td>2.0</td>\n",
       "    </tr>\n",
       "    <tr>\n",
       "      <th>1</th>\n",
       "      <td>76.0</td>\n",
       "      <td>944.0</td>\n",
       "      <td>0.0</td>\n",
       "    </tr>\n",
       "    <tr>\n",
       "      <th>2</th>\n",
       "      <td>74.0</td>\n",
       "      <td>1224.0</td>\n",
       "      <td>39.0</td>\n",
       "    </tr>\n",
       "    <tr>\n",
       "      <th>3</th>\n",
       "      <td>76.0</td>\n",
       "      <td>1240.0</td>\n",
       "      <td>0.0</td>\n",
       "    </tr>\n",
       "    <tr>\n",
       "      <th>4</th>\n",
       "      <td>68.0</td>\n",
       "      <td>1300.0</td>\n",
       "      <td>15.0</td>\n",
       "    </tr>\n",
       "    <tr>\n",
       "      <th>5</th>\n",
       "      <td>79.0</td>\n",
       "      <td>1901.0</td>\n",
       "      <td>95.0</td>\n",
       "    </tr>\n",
       "    <tr>\n",
       "      <th>6</th>\n",
       "      <td>68.0</td>\n",
       "      <td>1410.0</td>\n",
       "      <td>138.0</td>\n",
       "    </tr>\n",
       "    <tr>\n",
       "      <th>7</th>\n",
       "      <td>72.0</td>\n",
       "      <td>1659.0</td>\n",
       "      <td>0.0</td>\n",
       "    </tr>\n",
       "    <tr>\n",
       "      <th>8</th>\n",
       "      <td>74.0</td>\n",
       "      <td>648.0</td>\n",
       "      <td>19.0</td>\n",
       "    </tr>\n",
       "    <tr>\n",
       "      <th>9</th>\n",
       "      <td>76.0</td>\n",
       "      <td>2156.0</td>\n",
       "      <td>1.0</td>\n",
       "    </tr>\n",
       "    <tr>\n",
       "      <th>10</th>\n",
       "      <td>76.0</td>\n",
       "      <td>1113.0</td>\n",
       "      <td>0.0</td>\n",
       "    </tr>\n",
       "    <tr>\n",
       "      <th>11</th>\n",
       "      <td>79.0</td>\n",
       "      <td>2235.0</td>\n",
       "      <td>0.0</td>\n",
       "    </tr>\n",
       "    <tr>\n",
       "      <th>12</th>\n",
       "      <td>66.0</td>\n",
       "      <td>611.0</td>\n",
       "      <td>0.0</td>\n",
       "    </tr>\n",
       "    <tr>\n",
       "      <th>13</th>\n",
       "      <td>83.0</td>\n",
       "      <td>1312.0</td>\n",
       "      <td>0.0</td>\n",
       "    </tr>\n",
       "    <tr>\n",
       "      <th>14</th>\n",
       "      <td>65.0</td>\n",
       "      <td>630.0</td>\n",
       "      <td>0.0</td>\n",
       "    </tr>\n",
       "    <tr>\n",
       "      <th>15</th>\n",
       "      <td>83.0</td>\n",
       "      <td>22.0</td>\n",
       "      <td>88.0</td>\n",
       "    </tr>\n",
       "    <tr>\n",
       "      <th>16</th>\n",
       "      <td>74.0</td>\n",
       "      <td>1024.0</td>\n",
       "      <td>18.0</td>\n",
       "    </tr>\n",
       "    <tr>\n",
       "      <th>17</th>\n",
       "      <td>83.0</td>\n",
       "      <td>1715.0</td>\n",
       "      <td>120.0</td>\n",
       "    </tr>\n",
       "    <tr>\n",
       "      <th>18</th>\n",
       "      <td>74.0</td>\n",
       "      <td>1906.0</td>\n",
       "      <td>16.0</td>\n",
       "    </tr>\n",
       "    <tr>\n",
       "      <th>19</th>\n",
       "      <td>76.0</td>\n",
       "      <td>1458.0</td>\n",
       "      <td>11.0</td>\n",
       "    </tr>\n",
       "    <tr>\n",
       "      <th>20</th>\n",
       "      <td>68.0</td>\n",
       "      <td>706.0</td>\n",
       "      <td>0.0</td>\n",
       "    </tr>\n",
       "    <tr>\n",
       "      <th>21</th>\n",
       "      <td>83.0</td>\n",
       "      <td>724.0</td>\n",
       "      <td>0.0</td>\n",
       "    </tr>\n",
       "    <tr>\n",
       "      <th>22</th>\n",
       "      <td>66.0</td>\n",
       "      <td>730.0</td>\n",
       "      <td>14.0</td>\n",
       "    </tr>\n",
       "    <tr>\n",
       "      <th>23</th>\n",
       "      <td>66.0</td>\n",
       "      <td>1045.0</td>\n",
       "      <td>0.0</td>\n",
       "    </tr>\n",
       "    <tr>\n",
       "      <th>24</th>\n",
       "      <td>79.0</td>\n",
       "      <td>649.0</td>\n",
       "      <td>0.0</td>\n",
       "    </tr>\n",
       "    <tr>\n",
       "      <th>25</th>\n",
       "      <td>77.0</td>\n",
       "      <td>1746.0</td>\n",
       "      <td>130.0</td>\n",
       "    </tr>\n",
       "    <tr>\n",
       "      <th>26</th>\n",
       "      <td>76.0</td>\n",
       "      <td>553.0</td>\n",
       "      <td>0.0</td>\n",
       "    </tr>\n",
       "    <tr>\n",
       "      <th>27</th>\n",
       "      <td>76.0</td>\n",
       "      <td>720.0</td>\n",
       "      <td>0.0</td>\n",
       "    </tr>\n",
       "    <tr>\n",
       "      <th>28</th>\n",
       "      <td>80.0</td>\n",
       "      <td>1110.0</td>\n",
       "      <td>0.0</td>\n",
       "    </tr>\n",
       "    <tr>\n",
       "      <th>29</th>\n",
       "      <td>76.0</td>\n",
       "      <td>23.0</td>\n",
       "      <td>8.0</td>\n",
       "    </tr>\n",
       "    <tr>\n",
       "      <th>...</th>\n",
       "      <td>...</td>\n",
       "      <td>...</td>\n",
       "      <td>...</td>\n",
       "    </tr>\n",
       "    <tr>\n",
       "      <th>483469</th>\n",
       "      <td>83.0</td>\n",
       "      <td>613.0</td>\n",
       "      <td>11.0</td>\n",
       "    </tr>\n",
       "    <tr>\n",
       "      <th>483470</th>\n",
       "      <td>83.0</td>\n",
       "      <td>1827.0</td>\n",
       "      <td>72.0</td>\n",
       "    </tr>\n",
       "    <tr>\n",
       "      <th>483471</th>\n",
       "      <td>83.0</td>\n",
       "      <td>1139.0</td>\n",
       "      <td>25.0</td>\n",
       "    </tr>\n",
       "    <tr>\n",
       "      <th>483472</th>\n",
       "      <td>83.0</td>\n",
       "      <td>1939.0</td>\n",
       "      <td>19.0</td>\n",
       "    </tr>\n",
       "    <tr>\n",
       "      <th>483473</th>\n",
       "      <td>83.0</td>\n",
       "      <td>1054.0</td>\n",
       "      <td>0.0</td>\n",
       "    </tr>\n",
       "    <tr>\n",
       "      <th>483474</th>\n",
       "      <td>83.0</td>\n",
       "      <td>1316.0</td>\n",
       "      <td>0.0</td>\n",
       "    </tr>\n",
       "    <tr>\n",
       "      <th>483475</th>\n",
       "      <td>83.0</td>\n",
       "      <td>647.0</td>\n",
       "      <td>3.0</td>\n",
       "    </tr>\n",
       "    <tr>\n",
       "      <th>483476</th>\n",
       "      <td>83.0</td>\n",
       "      <td>1737.0</td>\n",
       "      <td>4.0</td>\n",
       "    </tr>\n",
       "    <tr>\n",
       "      <th>483477</th>\n",
       "      <td>83.0</td>\n",
       "      <td>544.0</td>\n",
       "      <td>0.0</td>\n",
       "    </tr>\n",
       "    <tr>\n",
       "      <th>483478</th>\n",
       "      <td>83.0</td>\n",
       "      <td>1238.0</td>\n",
       "      <td>48.0</td>\n",
       "    </tr>\n",
       "    <tr>\n",
       "      <th>483479</th>\n",
       "      <td>83.0</td>\n",
       "      <td>2128.0</td>\n",
       "      <td>123.0</td>\n",
       "    </tr>\n",
       "    <tr>\n",
       "      <th>483480</th>\n",
       "      <td>83.0</td>\n",
       "      <td>746.0</td>\n",
       "      <td>15.0</td>\n",
       "    </tr>\n",
       "    <tr>\n",
       "      <th>483481</th>\n",
       "      <td>83.0</td>\n",
       "      <td>1845.0</td>\n",
       "      <td>18.0</td>\n",
       "    </tr>\n",
       "    <tr>\n",
       "      <th>483482</th>\n",
       "      <td>83.0</td>\n",
       "      <td>1201.0</td>\n",
       "      <td>0.0</td>\n",
       "    </tr>\n",
       "    <tr>\n",
       "      <th>483483</th>\n",
       "      <td>83.0</td>\n",
       "      <td>552.0</td>\n",
       "      <td>0.0</td>\n",
       "    </tr>\n",
       "    <tr>\n",
       "      <th>483484</th>\n",
       "      <td>83.0</td>\n",
       "      <td>1434.0</td>\n",
       "      <td>0.0</td>\n",
       "    </tr>\n",
       "    <tr>\n",
       "      <th>483485</th>\n",
       "      <td>83.0</td>\n",
       "      <td>1549.0</td>\n",
       "      <td>0.0</td>\n",
       "    </tr>\n",
       "    <tr>\n",
       "      <th>483486</th>\n",
       "      <td>83.0</td>\n",
       "      <td>556.0</td>\n",
       "      <td>0.0</td>\n",
       "    </tr>\n",
       "    <tr>\n",
       "      <th>483487</th>\n",
       "      <td>83.0</td>\n",
       "      <td>1226.0</td>\n",
       "      <td>0.0</td>\n",
       "    </tr>\n",
       "    <tr>\n",
       "      <th>483488</th>\n",
       "      <td>83.0</td>\n",
       "      <td>1839.0</td>\n",
       "      <td>12.0</td>\n",
       "    </tr>\n",
       "    <tr>\n",
       "      <th>483489</th>\n",
       "      <td>83.0</td>\n",
       "      <td>749.0</td>\n",
       "      <td>0.0</td>\n",
       "    </tr>\n",
       "    <tr>\n",
       "      <th>483490</th>\n",
       "      <td>83.0</td>\n",
       "      <td>1626.0</td>\n",
       "      <td>10.0</td>\n",
       "    </tr>\n",
       "    <tr>\n",
       "      <th>483491</th>\n",
       "      <td>83.0</td>\n",
       "      <td>926.0</td>\n",
       "      <td>0.0</td>\n",
       "    </tr>\n",
       "    <tr>\n",
       "      <th>483492</th>\n",
       "      <td>83.0</td>\n",
       "      <td>1910.0</td>\n",
       "      <td>139.0</td>\n",
       "    </tr>\n",
       "    <tr>\n",
       "      <th>483493</th>\n",
       "      <td>83.0</td>\n",
       "      <td>1721.0</td>\n",
       "      <td>99.0</td>\n",
       "    </tr>\n",
       "    <tr>\n",
       "      <th>483494</th>\n",
       "      <td>83.0</td>\n",
       "      <td>2147.0</td>\n",
       "      <td>106.0</td>\n",
       "    </tr>\n",
       "    <tr>\n",
       "      <th>483495</th>\n",
       "      <td>83.0</td>\n",
       "      <td>1250.0</td>\n",
       "      <td>0.0</td>\n",
       "    </tr>\n",
       "    <tr>\n",
       "      <th>483496</th>\n",
       "      <td>83.0</td>\n",
       "      <td>1801.0</td>\n",
       "      <td>23.0</td>\n",
       "    </tr>\n",
       "    <tr>\n",
       "      <th>483497</th>\n",
       "      <td>83.0</td>\n",
       "      <td>1037.0</td>\n",
       "      <td>8.0</td>\n",
       "    </tr>\n",
       "    <tr>\n",
       "      <th>483498</th>\n",
       "      <td>83.0</td>\n",
       "      <td>557.0</td>\n",
       "      <td>0.0</td>\n",
       "    </tr>\n",
       "  </tbody>\n",
       "</table>\n",
       "<p>483499 rows × 3 columns</p>\n",
       "</div>"
      ],
      "text/plain": [
       "        orignum  deptime  arrdelay\n",
       "0          74.0    854.0       2.0\n",
       "1          76.0    944.0       0.0\n",
       "2          74.0   1224.0      39.0\n",
       "3          76.0   1240.0       0.0\n",
       "4          68.0   1300.0      15.0\n",
       "5          79.0   1901.0      95.0\n",
       "6          68.0   1410.0     138.0\n",
       "7          72.0   1659.0       0.0\n",
       "8          74.0    648.0      19.0\n",
       "9          76.0   2156.0       1.0\n",
       "10         76.0   1113.0       0.0\n",
       "11         79.0   2235.0       0.0\n",
       "12         66.0    611.0       0.0\n",
       "13         83.0   1312.0       0.0\n",
       "14         65.0    630.0       0.0\n",
       "15         83.0     22.0      88.0\n",
       "16         74.0   1024.0      18.0\n",
       "17         83.0   1715.0     120.0\n",
       "18         74.0   1906.0      16.0\n",
       "19         76.0   1458.0      11.0\n",
       "20         68.0    706.0       0.0\n",
       "21         83.0    724.0       0.0\n",
       "22         66.0    730.0      14.0\n",
       "23         66.0   1045.0       0.0\n",
       "24         79.0    649.0       0.0\n",
       "25         77.0   1746.0     130.0\n",
       "26         76.0    553.0       0.0\n",
       "27         76.0    720.0       0.0\n",
       "28         80.0   1110.0       0.0\n",
       "29         76.0     23.0       8.0\n",
       "...         ...      ...       ...\n",
       "483469     83.0    613.0      11.0\n",
       "483470     83.0   1827.0      72.0\n",
       "483471     83.0   1139.0      25.0\n",
       "483472     83.0   1939.0      19.0\n",
       "483473     83.0   1054.0       0.0\n",
       "483474     83.0   1316.0       0.0\n",
       "483475     83.0    647.0       3.0\n",
       "483476     83.0   1737.0       4.0\n",
       "483477     83.0    544.0       0.0\n",
       "483478     83.0   1238.0      48.0\n",
       "483479     83.0   2128.0     123.0\n",
       "483480     83.0    746.0      15.0\n",
       "483481     83.0   1845.0      18.0\n",
       "483482     83.0   1201.0       0.0\n",
       "483483     83.0    552.0       0.0\n",
       "483484     83.0   1434.0       0.0\n",
       "483485     83.0   1549.0       0.0\n",
       "483486     83.0    556.0       0.0\n",
       "483487     83.0   1226.0       0.0\n",
       "483488     83.0   1839.0      12.0\n",
       "483489     83.0    749.0       0.0\n",
       "483490     83.0   1626.0      10.0\n",
       "483491     83.0    926.0       0.0\n",
       "483492     83.0   1910.0     139.0\n",
       "483493     83.0   1721.0      99.0\n",
       "483494     83.0   2147.0     106.0\n",
       "483495     83.0   1250.0       0.0\n",
       "483496     83.0   1801.0      23.0\n",
       "483497     83.0   1037.0       8.0\n",
       "483498     83.0    557.0       0.0\n",
       "\n",
       "[483499 rows x 3 columns]"
      ]
     },
     "execution_count": 15,
     "metadata": {},
     "output_type": "execute_result"
    }
   ],
   "source": [
    "\n",
    "\n",
    "X = calhouse[[\"orignum\", \"deptime\", \"arrdelay\"]]\n",
    "y = calhouse[\"depdelay\"].values.reshape(-1, 1)\n",
    "print(X.shape, y.shape)\n",
    "A=X\n",
    "b=y\n",
    "X"
   ]
  },
  {
   "cell_type": "markdown",
   "metadata": {
    "slideshow": {
     "slide_type": "slide"
    }
   },
   "source": [
    "# Multiple Linear Regression"
   ]
  },
  {
   "cell_type": "markdown",
   "metadata": {
    "slideshow": {
     "slide_type": "subslide"
    }
   },
   "source": [
    "Multiple Linear Regression simply means that you have more than one feature variable.\n",
    "\n",
    "For the Housing Price example, you may have features like this:\n",
    "\n",
    "$Y_i$ = $Bias_0$ + $Weight_1$ sq_feet + $Weight_2$ num_bedrooms + $Weight_3$ num_bathrooms\n",
    "\n",
    "Note: The weights are how important each feature is to the equation. This is the part that the algorithm has to learn."
   ]
  },
  {
   "cell_type": "markdown",
   "metadata": {
    "slideshow": {
     "slide_type": "fragment"
    }
   },
   "source": [
    "The generic formula is:\n",
    "\n",
    "$Y_i = Bias_0 + Weight_1 Feature_1 + Weight_2 Feature_2 + \\ldots + Weight_p Feature_p$"
   ]
  },
  {
   "cell_type": "markdown",
   "metadata": {
    "slideshow": {
     "slide_type": "fragment"
    }
   },
   "source": [
    "The equation is often written as:\n",
    "\n",
    "$Y_i = \\theta_0 + \\theta_1 X_{i1} + \\theta_2 X_{i2} + \\ldots + \\theta_p X_{ip}$"
   ]
  },
  {
   "cell_type": "markdown",
   "metadata": {
    "slideshow": {
     "slide_type": "subslide"
    }
   },
   "source": [
    "Generate a linear dataset with 3 features"
   ]
  },
  {
   "cell_type": "code",
   "execution_count": 16,
   "metadata": {
    "slideshow": {
     "slide_type": "fragment"
    }
   },
   "outputs": [
    {
     "name": "stdout",
     "output_type": "stream",
     "text": [
      "(483499, 3)\n",
      "        orignum  deptime  arrdelay\n",
      "0          74.0    854.0       2.0\n",
      "1          76.0    944.0       0.0\n",
      "2          74.0   1224.0      39.0\n",
      "3          76.0   1240.0       0.0\n",
      "4          68.0   1300.0      15.0\n",
      "5          79.0   1901.0      95.0\n",
      "6          68.0   1410.0     138.0\n",
      "7          72.0   1659.0       0.0\n",
      "8          74.0    648.0      19.0\n",
      "9          76.0   2156.0       1.0\n",
      "10         76.0   1113.0       0.0\n",
      "11         79.0   2235.0       0.0\n",
      "12         66.0    611.0       0.0\n",
      "13         83.0   1312.0       0.0\n",
      "14         65.0    630.0       0.0\n",
      "15         83.0     22.0      88.0\n",
      "16         74.0   1024.0      18.0\n",
      "17         83.0   1715.0     120.0\n",
      "18         74.0   1906.0      16.0\n",
      "19         76.0   1458.0      11.0\n",
      "20         68.0    706.0       0.0\n",
      "21         83.0    724.0       0.0\n",
      "22         66.0    730.0      14.0\n",
      "23         66.0   1045.0       0.0\n",
      "24         79.0    649.0       0.0\n",
      "25         77.0   1746.0     130.0\n",
      "26         76.0    553.0       0.0\n",
      "27         76.0    720.0       0.0\n",
      "28         80.0   1110.0       0.0\n",
      "29         76.0     23.0       8.0\n",
      "...         ...      ...       ...\n",
      "483469     83.0    613.0      11.0\n",
      "483470     83.0   1827.0      72.0\n",
      "483471     83.0   1139.0      25.0\n",
      "483472     83.0   1939.0      19.0\n",
      "483473     83.0   1054.0       0.0\n",
      "483474     83.0   1316.0       0.0\n",
      "483475     83.0    647.0       3.0\n",
      "483476     83.0   1737.0       4.0\n",
      "483477     83.0    544.0       0.0\n",
      "483478     83.0   1238.0      48.0\n",
      "483479     83.0   2128.0     123.0\n",
      "483480     83.0    746.0      15.0\n",
      "483481     83.0   1845.0      18.0\n",
      "483482     83.0   1201.0       0.0\n",
      "483483     83.0    552.0       0.0\n",
      "483484     83.0   1434.0       0.0\n",
      "483485     83.0   1549.0       0.0\n",
      "483486     83.0    556.0       0.0\n",
      "483487     83.0   1226.0       0.0\n",
      "483488     83.0   1839.0      12.0\n",
      "483489     83.0    749.0       0.0\n",
      "483490     83.0   1626.0      10.0\n",
      "483491     83.0    926.0       0.0\n",
      "483492     83.0   1910.0     139.0\n",
      "483493     83.0   1721.0      99.0\n",
      "483494     83.0   2147.0     106.0\n",
      "483495     83.0   1250.0       0.0\n",
      "483496     83.0   1801.0      23.0\n",
      "483497     83.0   1037.0       8.0\n",
      "483498     83.0    557.0       0.0\n",
      "\n",
      "[483499 rows x 3 columns]\n"
     ]
    }
   ],
   "source": [
    "from sklearn.datasets import make_regression\n",
    "\n",
    "#n_features = 3\n",
    "#X, y = make_regression(n_samples=30, n_features=n_features, \n",
    "#                     n_informative=n_features, random_state=42, \n",
    "#                       noise=0.5, bias=100.0)\n",
    "\n",
    "print(X.shape)\n",
    "df = pd.DataFrame(data=X)\n",
    "#del df['index']\n",
    "\n",
    "print (df)\n"
   ]
  },
  {
   "cell_type": "code",
   "execution_count": 17,
   "metadata": {},
   "outputs": [],
   "source": [
    "#X=X.values\n"
   ]
  },
  {
   "cell_type": "markdown",
   "metadata": {
    "slideshow": {
     "slide_type": "subslide"
    }
   },
   "source": [
    "With 3 or more dimensions, it becomes harder to visualize the linear trends in our data"
   ]
  },
  {
   "cell_type": "code",
   "execution_count": 18,
   "metadata": {
    "slideshow": {
     "slide_type": "fragment"
    }
   },
   "outputs": [
    {
     "data": {
      "image/png": "[encoded data removed]",
      "text/plain": [
       "<Figure size 360x360 with 1 Axes>"
      ]
     },
     "metadata": {},
     "output_type": "display_data"
    }
   ],
   "source": [
    "from mpl_toolkits.mplot3d import Axes3D\n",
    "X=X.values\n",
    "fig = plt.figure(1, figsize=(5, 5))\n",
    "axes = Axes3D(fig, elev=20, azim=45)\n",
    "axes.scatter(X[:,0], X[:,1], X[:,2], cmap=plt.cm.get_cmap(\"Spectral\"))\n",
    "plt.show()"
   ]
  },
  {
   "cell_type": "markdown",
   "metadata": {
    "slideshow": {
     "slide_type": "subslide"
    }
   },
   "source": [
    "We can still visualize 3 features as a 3D plot, but what about n-dimensions? This becomes very difficult for the human brain to visualize. "
   ]
  },
  {
   "cell_type": "markdown",
   "metadata": {
    "slideshow": {
     "slide_type": "notes"
    }
   },
   "source": [
    "We could pick just one feature from X to fit our model, but what we really want it to find a line that best fits the data in n-dimensional space. To achieve this, Linear Regression can be solved using the analytical approach called [Ordinary Least Squares](https://en.wikipedia.org/wiki/Ordinary_least_squares) or a computational approach [Gradient Descent](https://en.wikipedia.org/wiki/Gradient_descent) for estimating the parameters. Note that there are [tradeoffs](https://stats.stackexchange.com/questions/23128/solving-for-regression-parameters-in-closed-form-vs-gradient-descent) between using either approach. The Linear Regression model in Sklearn uses the Ordinary Least Squares method."
   ]
  },
  {
   "cell_type": "markdown",
   "metadata": {
    "slideshow": {
     "slide_type": "fragment"
    }
   },
   "source": [
    "Luckily, we can just supply our n-dimensional features and sklearn will fit the model using all of our features."
   ]
  },
  {
   "cell_type": "code",
   "execution_count": 19,
   "metadata": {
    "slideshow": {
     "slide_type": "subslide"
    }
   },
   "outputs": [
    {
     "data": {
      "text/plain": [
       "LinearRegression(copy_X=True, fit_intercept=True, n_jobs=None,\n",
       "         normalize=False)"
      ]
     },
     "execution_count": 19,
     "metadata": {},
     "output_type": "execute_result"
    }
   ],
   "source": [
    "from sklearn.linear_model import LinearRegression\n",
    "model = LinearRegression()\n",
    "\n",
    "# Fitting our model with all of our features in X\n",
    "model.fit(X, y)\n",
    "\n"
   ]
  },
  {
   "cell_type": "code",
   "execution_count": null,
   "metadata": {},
   "outputs": [],
   "source": []
  },
  {
   "cell_type": "code",
   "execution_count": 20,
   "metadata": {},
   "outputs": [
    {
     "name": "stdout",
     "output_type": "stream",
     "text": [
      "R2 Score: 0.9195876333782896\n"
     ]
    }
   ],
   "source": [
    "score = model.score(X, y)\n",
    "print(f\"R2 Score: {score}\")"
   ]
  },
  {
   "cell_type": "markdown",
   "metadata": {
    "slideshow": {
     "slide_type": "slide"
    }
   },
   "source": [
    "## Residuals"
   ]
  },
  {
   "cell_type": "markdown",
   "metadata": {
    "slideshow": {
     "slide_type": "fragment"
    }
   },
   "source": [
    "Because we can't easily plot our line in 3D space, we can use a residual plot to check our predictions."
   ]
  },
  {
   "cell_type": "markdown",
   "metadata": {
    "slideshow": {
     "slide_type": "fragment"
    }
   },
   "source": [
    "Residuals are the difference between the true values of y and the predicted values of y."
   ]
  },
  {
   "cell_type": "code",
   "execution_count": 21,
   "metadata": {
    "slideshow": {
     "slide_type": "subslide"
    }
   },
   "outputs": [
    {
     "data": {
      "image/png": "[encoded data removed]",
      "text/plain": [
       "<Figure size 432x288 with 1 Axes>"
      ]
     },
     "metadata": {},
     "output_type": "display_data"
    }
   ],
   "source": [
    "predictions = model.predict(X)\n",
    "# Plot Residuals\n",
    "plt.scatter(predictions, predictions - y)\n",
    "plt.hlines(y=0, xmin=predictions.min(), xmax=predictions.max())\n",
    "plt.show()"
   ]
  },
  {
   "cell_type": "code",
   "execution_count": 22,
   "metadata": {},
   "outputs": [],
   "source": [
    "#We want our predictions to be close to zero on the y-axis in this plot."
   ]
  },
  {
   "cell_type": "code",
   "execution_count": 23,
   "metadata": {},
   "outputs": [],
   "source": [
    "#ELASTICNET ANALYSIS"
   ]
  },
  {
   "cell_type": "code",
   "execution_count": 24,
   "metadata": {},
   "outputs": [
    {
     "name": "stdout",
     "output_type": "stream",
     "text": [
      "[0.01847755 0.00206471 0.95452325]\n",
      "[-3.78300348]\n"
     ]
    }
   ],
   "source": [
    "#X, y = make_regression(n_features=2, random_state=0)\n",
    "# A and b are same as X and y\n",
    "\n",
    "regr = ElasticNet(random_state=0)\n",
    "\n",
    "#n12 = np.squeeze(np.asarray(n2))\n",
    "\n",
    "#X12 = np.squeeze(np.asarray(x1))\n",
    "\n",
    "regr.fit(A, b)\n",
    "\n",
    "ElasticNet(alpha=1.0, copy_X=True, fit_intercept=True, l1_ratio=0.5,\n",
    "      max_iter=1000, normalize=False, positive=False, precompute=False,\n",
    "      random_state=0, selection='cyclic', tol=0.0001, warm_start=False)\n",
    "      \n",
    "print(regr.coef_) \n",
    "\n",
    "print(regr.intercept_) \n",
    "\n",
    "#print(regr.predict([[0,0]])) "
   ]
  },
  {
   "cell_type": "markdown",
   "metadata": {
    "slideshow": {
     "slide_type": "fragment"
    }
   },
   "source": []
  },
  {
   "cell_type": "code",
   "execution_count": null,
   "metadata": {},
   "outputs": [],
   "source": []
  }
 ],
 "metadata": {
  "anaconda-cloud": {},
  "celltoolbar": "Slideshow",
  "kernelspec": {
   "display_name": "Python 3",
   "language": "python",
   "name": "python3"
  },
  "language_info": {
   "codemirror_mode": {
    "name": "ipython",
    "version": 3
   },
   "file_extension": ".py",
   "mimetype": "text/x-python",
   "name": "python",
   "nbconvert_exporter": "python",
   "pygments_lexer": "ipython3",
   "version": "3.6.5"
  },
  "varInspector": {
   "cols": {
    "lenName": 16,
    "lenType": 16,
    "lenVar": 40
   },
   "kernels_config": {
    "python": {
     "delete_cmd_postfix": "",
     "delete_cmd_prefix": "del ",
     "library": "var_list.py",
     "varRefreshCmd": "print(var_dic_list())"
    },
    "r": {
     "delete_cmd_postfix": ") ",
     "delete_cmd_prefix": "rm(",
     "library": "var_list.r",
     "varRefreshCmd": "cat(var_dic_list()) "
    }
   },
   "types_to_exclude": [
    "module",
    "function",
    "builtin_function_or_method",
    "instance",
    "_Feature"
   ],
   "window_display": false
  }
 },
 "nbformat": 4,
 "nbformat_minor": 2
}
