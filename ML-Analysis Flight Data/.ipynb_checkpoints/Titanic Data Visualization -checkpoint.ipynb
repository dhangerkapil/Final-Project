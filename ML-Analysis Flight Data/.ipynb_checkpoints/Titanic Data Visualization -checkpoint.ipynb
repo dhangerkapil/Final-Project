{
 "cells": [
  {
   "cell_type": "markdown",
   "metadata": {},
   "source": [
    "Data Dictionary\n",
    "Variable\tDefinition\tKey\n",
    "survival\tSurvival\t0 = No, 1 = Yes\n",
    "pclass\tTicket class\t1 = 1st, 2 = 2nd, 3 = 3rd\n",
    "sex\tSex\t\n",
    "Age\tAge in years\t\n",
    "sibsp\t# of siblings / spouses aboard the Titanic\t\n",
    "parch\t# of parents / children aboard the Titanic\t\n",
    "ticket\tTicket number\t\n",
    "fare\tPassenger fare\t\n",
    "cabin\tCabin number\t\n",
    "embarked\tPort of Embarkation\tC = Cherbourg, Q = Queenstown, S = Southampton\n",
    "Variable Notes\n",
    "pclass: A proxy for socio-economic status (SES)\n",
    "1st = Upper\n",
    "2nd = Middle\n",
    "3rd = Lower\n",
    "\n",
    "age: Age is fractional if less than 1. If the age is estimated, is it in the form of xx.5\n",
    "\n",
    "sibsp: The dataset defines family relations in this way...\n",
    "Sibling = brother, sister, stepbrother, stepsister\n",
    "Spouse = husband, wife (mistresses and fiancés were ignored)\n",
    "\n",
    "parch: The dataset defines family relations in this way...\n",
    "Parent = mother, father\n",
    "Child = daughter, son, stepdaughter, stepson\n",
    "Some children travelled only with a nanny, therefore parch=0 for them.\n",
    "\n",
    "**survival:    Survival\n",
    "PassengerId: Unique Id of a passenger. \n",
    "pclass:    Ticket class     \n",
    "sex:    Sex     \n",
    "Age:    Age in years     \n",
    "sibsp:    # of siblings / spouses aboard the Titanic     \n",
    "parch:    # of parents / children aboard the Titanic     \n",
    "ticket:    Ticket number     \n",
    "fare:    Passenger fare     \n",
    "cabin:    Cabin number     \n",
    "embarked:    Port of Embarkation\n",
    "titanic_df.describe()**\n"
   ]
  },
  {
   "cell_type": "code",
   "execution_count": 9,
   "metadata": {},
   "outputs": [],
   "source": [
    "#Aref - updated for Flight dataset "
   ]
  },
  {
   "cell_type": "code",
   "execution_count": 10,
   "metadata": {},
   "outputs": [],
   "source": [
    "# linear algebra\n",
    "import numpy as np \n",
    "\n",
    "# data processing\n",
    "import pandas as pd \n",
    "\n",
    "# data visualization\n",
    "import seaborn as sns\n",
    "%matplotlib inline\n",
    "from matplotlib import pyplot as plt\n",
    "from matplotlib import style\n",
    "\n",
    "# Algorithms\n",
    "# from sklearn import linear_model\n",
    "# from sklearn.linear_model import LogisticRegression\n",
    "from sklearn.ensemble import RandomForestClassifier\n",
    "\n",
    "from sklearn import tree\n",
    "import pandas as pd\n",
    "import os\n",
    "from sklearn.neighbors import KNeighborsClassifier"
   ]
  },
  {
   "cell_type": "code",
   "execution_count": 11,
   "metadata": {},
   "outputs": [],
   "source": [
    "titanic_df = pd.read_csv(\"flights200-2.csv\")\n"
   ]
  },
  {
   "cell_type": "code",
   "execution_count": 12,
   "metadata": {},
   "outputs": [
    {
     "data": {
      "text/plain": [
       "<bound method NDFrame.head of     flightdate  airline carrier origin  orignum  cancelled destination  \\\n",
       "0      4/17/14    20409      B6    ABQ        1        0.0         JFK   \n",
       "1       4/6/14    19977      UA    AGS        2        0.0         ATL   \n",
       "2       4/2/14    19977      UA    ANC        3        0.0         DEN   \n",
       "3       4/1/14    19977      UA    ANC        3        0.0         DEN   \n",
       "4      4/10/14    19977      UA    ANC        3        0.0         DEN   \n",
       "5      4/12/14    19977      UA    ANC        3        0.0         DEN   \n",
       "6      4/26/14    19977      UA    ANC        3        0.0         DEN   \n",
       "7      4/30/14    19790      DL    ATL        4        0.0         BOS   \n",
       "8      4/30/14    19393      WN    ATL        4        0.0         MSY   \n",
       "9      4/30/14    20366      EV    ATL        4        0.0         CHA   \n",
       "10      4/6/14    19790      DL    ATL        4        0.0         MSY   \n",
       "11     4/13/14    19393      WN    ATL        4        0.0         STL   \n",
       "12     4/28/14    19790      DL    ATL        4        0.0         TYS   \n",
       "13     4/25/14    20366      EV    ATL        4        0.0         CAE   \n",
       "14     4/14/14    19790      DL    ATL        4        0.0         CHS   \n",
       "15      4/7/14    19790      DL    ATL        4        0.0         MCO   \n",
       "16     4/28/14    20366      EV    ATL        4        1.0         TRI   \n",
       "17     4/30/14    20409      B6    BOS        5        0.0         EWR   \n",
       "18     4/23/14    20409      B6    BOS        5        0.0         SJU   \n",
       "19     4/14/14    20409      B6    BOS        5        0.0         SJU   \n",
       "20     4/10/14    19977      UA    BOS        5        0.0         IAD   \n",
       "21      4/6/14    20355      US    CLT        6        0.0         MCO   \n",
       "22      4/6/14    20355      US    CLT        6        0.0         SYR   \n",
       "23     4/29/14    20355      US    CLT        6        0.0         MSP   \n",
       "24     4/15/14    20355      US    CLT        6        0.0         ORD   \n",
       "25     4/27/14    20355      US    CLT        6        0.0         BOS   \n",
       "26     4/28/14    20366      EV    CVG        7        0.0         ORD   \n",
       "27      4/7/14    19393      WN    DAL        8        0.0         MSY   \n",
       "28     4/12/14    20409      B6    DEN        9        0.0         JFK   \n",
       "29     4/25/14    20409      B6    DEN        9        0.0         JFK   \n",
       "..         ...      ...     ...    ...      ...        ...         ...   \n",
       "171     4/3/14    19790      DL    SEA       33        0.0         ATL   \n",
       "172    4/20/14    20437      FL    SFO       34        0.0         ATL   \n",
       "173    4/17/14    19977      UA    SFO       34        0.0         IAD   \n",
       "174    4/25/14    21171      VX    SFO       34        0.0         IAD   \n",
       "175    4/24/14    19977      UA    SFO       34        0.0         PHL   \n",
       "176     4/2/14    19790      DL    SFO       34        0.0         ATL   \n",
       "177    4/14/14    21171      VX    SFO       34        0.0         BOS   \n",
       "178     4/5/14    19977      UA    SFO       34        0.0         IAH   \n",
       "179    4/13/14    19977      UA    SFO       34        0.0         ORD   \n",
       "180     4/2/14    20437      FL    SFO       34        0.0         ATL   \n",
       "181     4/5/14    20437      FL    SFO       34        0.0         ATL   \n",
       "182     4/6/14    20437      FL    SFO       34        0.0         ATL   \n",
       "183     4/9/14    20437      FL    SFO       34        0.0         ATL   \n",
       "184     4/1/14    20304      OO    SFO       34        0.0         CIC   \n",
       "185    4/20/14    20355      US    SFO       34        0.0         CLT   \n",
       "186     4/1/14    20304      OO    SFO       34        0.0         RDD   \n",
       "187    4/19/14    20355      US    SFO       34        0.0         CLT   \n",
       "188     4/1/14    20304      OO    SFO       34        1.0         TUS   \n",
       "189    4/23/14    20409      B6    SJC       35        0.0         JFK   \n",
       "190     4/9/14    20409      B6    SJU       36        1.0         TPA   \n",
       "191     4/3/14    20409      B6    SLC       37        0.0         JFK   \n",
       "192     4/5/14    19790      DL    SLC       37        0.0         JFK   \n",
       "193     4/8/14    20355      US    SLC       37        0.0         CLT   \n",
       "194     4/9/14    20355      US    SLC       37        0.0         CLT   \n",
       "195    4/24/14    20355      US    SLC       37        0.0         CLT   \n",
       "196     4/9/14    20409      B6    SLC       37        0.0         JFK   \n",
       "197    4/30/14    19790      DL    SLC       37        1.0         STL   \n",
       "198    4/30/14    19393      WN    SMF       38        0.0         SEA   \n",
       "199    4/30/14    19393      WN    TPA       39        0.0         BWI   \n",
       "200    4/14/14    20366      EV    XNA       40        0.0         IAH   \n",
       "\n",
       "     deptime  depdelta  depdelay  arrtime  arrdelta  arrdelayy  \n",
       "0          4         5         5    603.0       2.0          2  \n",
       "1          1        86        86    101.0      81.0         81  \n",
       "2          3         4         4    726.0      21.0         21  \n",
       "3          4         5         5    702.0      -3.0          0  \n",
       "4          4         5         5    642.0     -23.0          0  \n",
       "5          6         7         7    705.0       0.0          0  \n",
       "6          6         7         7    727.0      22.0         22  \n",
       "7          1       141       141    207.0     116.0        116  \n",
       "8          2       122       122     29.0     109.0        109  \n",
       "9          3        68        68     38.0      60.0         60  \n",
       "10         3        65        65     32.0      64.0         64  \n",
       "11         3       123       123     31.0      96.0         96  \n",
       "12         4        69        69    141.0     117.0        117  \n",
       "13         6        74        74    101.0      74.0         74  \n",
       "14         6       137       137    106.0     129.0        129  \n",
       "15         6        71        71    121.0      65.0         65  \n",
       "16         0         0         0      0.0       0.0          0  \n",
       "17         1       187       187    117.0     178.0        178  \n",
       "18         1         6         6    335.0     -10.0          0  \n",
       "19         3         8         8    339.0      -6.0          0  \n",
       "20         5       275       275    128.0     259.0        259  \n",
       "21         1       101       101    130.0     102.0        102  \n",
       "22         1       107       107    127.0      91.0         91  \n",
       "23         2       107       107    120.0      89.0         89  \n",
       "24         3        88        88     43.0      70.0         70  \n",
       "25         7       116       116    217.0     122.0        122  \n",
       "26         2       206       206     14.0     205.0        205  \n",
       "27         6       191       191    118.0     188.0        188  \n",
       "28         1         2         2    534.0      -2.0          0  \n",
       "29         1         2         2    521.0     -15.0          0  \n",
       "..       ...       ...       ...      ...       ...        ...  \n",
       "171        7        82        82    746.0      86.0         86  \n",
       "172        1         2         2    719.0     -20.0          0  \n",
       "173        1        50        50    749.0      26.0         26  \n",
       "174        1        26        26    742.0       2.0          2  \n",
       "175        2        84        84    805.0      60.0         60  \n",
       "176        3        18        18    722.0      14.0         14  \n",
       "177        3        63        63    827.0      47.0         47  \n",
       "178        3         4         4    527.0     -17.0          0  \n",
       "179        3         4         4    605.0      -3.0          0  \n",
       "180        4         5         5    730.0       1.0          1  \n",
       "181        4         5         5    720.0      -9.0          0  \n",
       "182        4         5         5    725.0      -4.0          0  \n",
       "183        4         5         5    716.0     -23.0          0  \n",
       "184        6       126       126    100.0     122.0        122  \n",
       "185        6        -9         0    827.0      21.0         21  \n",
       "186        6       154       154    102.0     147.0        147  \n",
       "187        7        -8         0    819.0      13.0         13  \n",
       "188        0         0         0      NaN       NaN          0  \n",
       "189        3        58        58    813.0      46.0         46  \n",
       "190        0         0         0      NaN       NaN          0  \n",
       "191        1        29        29    609.0      21.0         21  \n",
       "192        1         6         6    605.0      -6.0          0  \n",
       "193        2         3         3    541.0      -6.0          0  \n",
       "194        3         4         4    553.0       6.0          6  \n",
       "195        3         4         4    539.0      -8.0          0  \n",
       "196        6        34        34    600.0      12.0         12  \n",
       "197        0         0         0      NaN       NaN          0  \n",
       "198        1       191       191    131.0     166.0        166  \n",
       "199        5       185       185    202.0     162.0        162  \n",
       "200        3       345       345    138.0     339.0        339  \n",
       "\n",
       "[201 rows x 13 columns]>"
      ]
     },
     "execution_count": 12,
     "metadata": {},
     "output_type": "execute_result"
    }
   ],
   "source": [
    "titanic_df.head"
   ]
  },
  {
   "cell_type": "code",
   "execution_count": 13,
   "metadata": {},
   "outputs": [
    {
     "data": {
      "text/plain": [
       "0      0.0\n",
       "1      0.0\n",
       "2      0.0\n",
       "3      0.0\n",
       "4      0.0\n",
       "5      0.0\n",
       "6      0.0\n",
       "7      0.0\n",
       "8      0.0\n",
       "9      0.0\n",
       "10     0.0\n",
       "11     0.0\n",
       "12     0.0\n",
       "13     0.0\n",
       "14     0.0\n",
       "15     0.0\n",
       "16     1.0\n",
       "17     0.0\n",
       "18     0.0\n",
       "19     0.0\n",
       "20     0.0\n",
       "21     0.0\n",
       "22     0.0\n",
       "23     0.0\n",
       "24     0.0\n",
       "25     0.0\n",
       "26     0.0\n",
       "27     0.0\n",
       "28     0.0\n",
       "29     0.0\n",
       "      ... \n",
       "171    0.0\n",
       "172    0.0\n",
       "173    0.0\n",
       "174    0.0\n",
       "175    0.0\n",
       "176    0.0\n",
       "177    0.0\n",
       "178    0.0\n",
       "179    0.0\n",
       "180    0.0\n",
       "181    0.0\n",
       "182    0.0\n",
       "183    0.0\n",
       "184    0.0\n",
       "185    0.0\n",
       "186    0.0\n",
       "187    0.0\n",
       "188    1.0\n",
       "189    0.0\n",
       "190    1.0\n",
       "191    0.0\n",
       "192    0.0\n",
       "193    0.0\n",
       "194    0.0\n",
       "195    0.0\n",
       "196    0.0\n",
       "197    1.0\n",
       "198    0.0\n",
       "199    0.0\n",
       "200    0.0\n",
       "Name: cancelled, Length: 201, dtype: float64"
      ]
     },
     "execution_count": 13,
     "metadata": {},
     "output_type": "execute_result"
    }
   ],
   "source": [
    "titanic_df['cancelled']"
   ]
  },
  {
   "cell_type": "code",
   "execution_count": 17,
   "metadata": {},
   "outputs": [
    {
     "data": {
      "text/plain": [
       "<bound method NDFrame.head of     flightdate  airline carrier origin  orignum  cancelled destination  \\\n",
       "0      4/17/14    20409      B6    ABQ        1        0.0         JFK   \n",
       "1       4/6/14    19977      UA    AGS        2        0.0         ATL   \n",
       "2       4/2/14    19977      UA    ANC        3        0.0         DEN   \n",
       "3       4/1/14    19977      UA    ANC        3        0.0         DEN   \n",
       "4      4/10/14    19977      UA    ANC        3        0.0         DEN   \n",
       "5      4/12/14    19977      UA    ANC        3        0.0         DEN   \n",
       "6      4/26/14    19977      UA    ANC        3        0.0         DEN   \n",
       "7      4/30/14    19790      DL    ATL        4        0.0         BOS   \n",
       "8      4/30/14    19393      WN    ATL        4        0.0         MSY   \n",
       "9      4/30/14    20366      EV    ATL        4        0.0         CHA   \n",
       "10      4/6/14    19790      DL    ATL        4        0.0         MSY   \n",
       "11     4/13/14    19393      WN    ATL        4        0.0         STL   \n",
       "12     4/28/14    19790      DL    ATL        4        0.0         TYS   \n",
       "13     4/25/14    20366      EV    ATL        4        0.0         CAE   \n",
       "14     4/14/14    19790      DL    ATL        4        0.0         CHS   \n",
       "15      4/7/14    19790      DL    ATL        4        0.0         MCO   \n",
       "16     4/28/14    20366      EV    ATL        4        1.0         TRI   \n",
       "17     4/30/14    20409      B6    BOS        5        0.0         EWR   \n",
       "18     4/23/14    20409      B6    BOS        5        0.0         SJU   \n",
       "19     4/14/14    20409      B6    BOS        5        0.0         SJU   \n",
       "20     4/10/14    19977      UA    BOS        5        0.0         IAD   \n",
       "21      4/6/14    20355      US    CLT        6        0.0         MCO   \n",
       "22      4/6/14    20355      US    CLT        6        0.0         SYR   \n",
       "23     4/29/14    20355      US    CLT        6        0.0         MSP   \n",
       "24     4/15/14    20355      US    CLT        6        0.0         ORD   \n",
       "25     4/27/14    20355      US    CLT        6        0.0         BOS   \n",
       "26     4/28/14    20366      EV    CVG        7        0.0         ORD   \n",
       "27      4/7/14    19393      WN    DAL        8        0.0         MSY   \n",
       "28     4/12/14    20409      B6    DEN        9        0.0         JFK   \n",
       "29     4/25/14    20409      B6    DEN        9        0.0         JFK   \n",
       "..         ...      ...     ...    ...      ...        ...         ...   \n",
       "171     4/3/14    19790      DL    SEA       33        0.0         ATL   \n",
       "172    4/20/14    20437      FL    SFO       34        0.0         ATL   \n",
       "173    4/17/14    19977      UA    SFO       34        0.0         IAD   \n",
       "174    4/25/14    21171      VX    SFO       34        0.0         IAD   \n",
       "175    4/24/14    19977      UA    SFO       34        0.0         PHL   \n",
       "176     4/2/14    19790      DL    SFO       34        0.0         ATL   \n",
       "177    4/14/14    21171      VX    SFO       34        0.0         BOS   \n",
       "178     4/5/14    19977      UA    SFO       34        0.0         IAH   \n",
       "179    4/13/14    19977      UA    SFO       34        0.0         ORD   \n",
       "180     4/2/14    20437      FL    SFO       34        0.0         ATL   \n",
       "181     4/5/14    20437      FL    SFO       34        0.0         ATL   \n",
       "182     4/6/14    20437      FL    SFO       34        0.0         ATL   \n",
       "183     4/9/14    20437      FL    SFO       34        0.0         ATL   \n",
       "184     4/1/14    20304      OO    SFO       34        0.0         CIC   \n",
       "185    4/20/14    20355      US    SFO       34        0.0         CLT   \n",
       "186     4/1/14    20304      OO    SFO       34        0.0         RDD   \n",
       "187    4/19/14    20355      US    SFO       34        0.0         CLT   \n",
       "188     4/1/14    20304      OO    SFO       34        1.0         TUS   \n",
       "189    4/23/14    20409      B6    SJC       35        0.0         JFK   \n",
       "190     4/9/14    20409      B6    SJU       36        1.0         TPA   \n",
       "191     4/3/14    20409      B6    SLC       37        0.0         JFK   \n",
       "192     4/5/14    19790      DL    SLC       37        0.0         JFK   \n",
       "193     4/8/14    20355      US    SLC       37        0.0         CLT   \n",
       "194     4/9/14    20355      US    SLC       37        0.0         CLT   \n",
       "195    4/24/14    20355      US    SLC       37        0.0         CLT   \n",
       "196     4/9/14    20409      B6    SLC       37        0.0         JFK   \n",
       "197    4/30/14    19790      DL    SLC       37        1.0         STL   \n",
       "198    4/30/14    19393      WN    SMF       38        0.0         SEA   \n",
       "199    4/30/14    19393      WN    TPA       39        0.0         BWI   \n",
       "200    4/14/14    20366      EV    XNA       40        0.0         IAH   \n",
       "\n",
       "     deptime  depdelta  depdelay  arrtime  arrdelta  arrdelayy  \n",
       "0          4         5         5    603.0       2.0          2  \n",
       "1          1        86        86    101.0      81.0         81  \n",
       "2          3         4         4    726.0      21.0         21  \n",
       "3          4         5         5    702.0      -3.0          0  \n",
       "4          4         5         5    642.0     -23.0          0  \n",
       "5          6         7         7    705.0       0.0          0  \n",
       "6          6         7         7    727.0      22.0         22  \n",
       "7          1       141       141    207.0     116.0        116  \n",
       "8          2       122       122     29.0     109.0        109  \n",
       "9          3        68        68     38.0      60.0         60  \n",
       "10         3        65        65     32.0      64.0         64  \n",
       "11         3       123       123     31.0      96.0         96  \n",
       "12         4        69        69    141.0     117.0        117  \n",
       "13         6        74        74    101.0      74.0         74  \n",
       "14         6       137       137    106.0     129.0        129  \n",
       "15         6        71        71    121.0      65.0         65  \n",
       "16         0         0         0      0.0       0.0          0  \n",
       "17         1       187       187    117.0     178.0        178  \n",
       "18         1         6         6    335.0     -10.0          0  \n",
       "19         3         8         8    339.0      -6.0          0  \n",
       "20         5       275       275    128.0     259.0        259  \n",
       "21         1       101       101    130.0     102.0        102  \n",
       "22         1       107       107    127.0      91.0         91  \n",
       "23         2       107       107    120.0      89.0         89  \n",
       "24         3        88        88     43.0      70.0         70  \n",
       "25         7       116       116    217.0     122.0        122  \n",
       "26         2       206       206     14.0     205.0        205  \n",
       "27         6       191       191    118.0     188.0        188  \n",
       "28         1         2         2    534.0      -2.0          0  \n",
       "29         1         2         2    521.0     -15.0          0  \n",
       "..       ...       ...       ...      ...       ...        ...  \n",
       "171        7        82        82    746.0      86.0         86  \n",
       "172        1         2         2    719.0     -20.0          0  \n",
       "173        1        50        50    749.0      26.0         26  \n",
       "174        1        26        26    742.0       2.0          2  \n",
       "175        2        84        84    805.0      60.0         60  \n",
       "176        3        18        18    722.0      14.0         14  \n",
       "177        3        63        63    827.0      47.0         47  \n",
       "178        3         4         4    527.0     -17.0          0  \n",
       "179        3         4         4    605.0      -3.0          0  \n",
       "180        4         5         5    730.0       1.0          1  \n",
       "181        4         5         5    720.0      -9.0          0  \n",
       "182        4         5         5    725.0      -4.0          0  \n",
       "183        4         5         5    716.0     -23.0          0  \n",
       "184        6       126       126    100.0     122.0        122  \n",
       "185        6        -9         0    827.0      21.0         21  \n",
       "186        6       154       154    102.0     147.0        147  \n",
       "187        7        -8         0    819.0      13.0         13  \n",
       "188        0         0         0      NaN       NaN          0  \n",
       "189        3        58        58    813.0      46.0         46  \n",
       "190        0         0         0      NaN       NaN          0  \n",
       "191        1        29        29    609.0      21.0         21  \n",
       "192        1         6         6    605.0      -6.0          0  \n",
       "193        2         3         3    541.0      -6.0          0  \n",
       "194        3         4         4    553.0       6.0          6  \n",
       "195        3         4         4    539.0      -8.0          0  \n",
       "196        6        34        34    600.0      12.0         12  \n",
       "197        0         0         0      NaN       NaN          0  \n",
       "198        1       191       191    131.0     166.0        166  \n",
       "199        5       185       185    202.0     162.0        162  \n",
       "200        3       345       345    138.0     339.0        339  \n",
       "\n",
       "[201 rows x 13 columns]>"
      ]
     },
     "execution_count": 17,
     "metadata": {},
     "output_type": "execute_result"
    }
   ],
   "source": [
    "#titanic_df['cancelled'] = titanic_df['cancelled'].map({'cancelyes': 1.0, 'cancelno': 0.0})\n",
    "titanic_df.head"
   ]
  },
  {
   "cell_type": "code",
   "execution_count": 39,
   "metadata": {},
   "outputs": [
    {
     "data": {
      "text/html": [
       "<div>\n",
       "<style scoped>\n",
       "    .dataframe tbody tr th:only-of-type {\n",
       "        vertical-align: middle;\n",
       "    }\n",
       "\n",
       "    .dataframe tbody tr th {\n",
       "        vertical-align: top;\n",
       "    }\n",
       "\n",
       "    .dataframe thead th {\n",
       "        text-align: right;\n",
       "    }\n",
       "</style>\n",
       "<table border=\"1\" class=\"dataframe\">\n",
       "  <thead>\n",
       "    <tr style=\"text-align: right;\">\n",
       "      <th></th>\n",
       "      <th>airline</th>\n",
       "      <th>orignum</th>\n",
       "      <th>cancelled</th>\n",
       "      <th>deptime</th>\n",
       "      <th>depdelay</th>\n",
       "      <th>arrdelayy</th>\n",
       "    </tr>\n",
       "  </thead>\n",
       "  <tbody>\n",
       "    <tr>\n",
       "      <th>185</th>\n",
       "      <td>20355</td>\n",
       "      <td>34</td>\n",
       "      <td>0.0</td>\n",
       "      <td>6</td>\n",
       "      <td>0</td>\n",
       "      <td>21</td>\n",
       "    </tr>\n",
       "    <tr>\n",
       "      <th>99</th>\n",
       "      <td>19805</td>\n",
       "      <td>19</td>\n",
       "      <td>0.0</td>\n",
       "      <td>1</td>\n",
       "      <td>0</td>\n",
       "      <td>0</td>\n",
       "    </tr>\n",
       "    <tr>\n",
       "      <th>90</th>\n",
       "      <td>20409</td>\n",
       "      <td>18</td>\n",
       "      <td>0.0</td>\n",
       "      <td>5</td>\n",
       "      <td>10</td>\n",
       "      <td>9</td>\n",
       "    </tr>\n",
       "    <tr>\n",
       "      <th>193</th>\n",
       "      <td>20355</td>\n",
       "      <td>37</td>\n",
       "      <td>0.0</td>\n",
       "      <td>2</td>\n",
       "      <td>3</td>\n",
       "      <td>0</td>\n",
       "    </tr>\n",
       "    <tr>\n",
       "      <th>146</th>\n",
       "      <td>20304</td>\n",
       "      <td>27</td>\n",
       "      <td>1.0</td>\n",
       "      <td>0</td>\n",
       "      <td>0</td>\n",
       "      <td>0</td>\n",
       "    </tr>\n",
       "    <tr>\n",
       "      <th>86</th>\n",
       "      <td>20409</td>\n",
       "      <td>18</td>\n",
       "      <td>0.0</td>\n",
       "      <td>3</td>\n",
       "      <td>8</td>\n",
       "      <td>28</td>\n",
       "    </tr>\n",
       "    <tr>\n",
       "      <th>41</th>\n",
       "      <td>20366</td>\n",
       "      <td>11</td>\n",
       "      <td>1.0</td>\n",
       "      <td>0</td>\n",
       "      <td>0</td>\n",
       "      <td>0</td>\n",
       "    </tr>\n",
       "    <tr>\n",
       "      <th>125</th>\n",
       "      <td>20398</td>\n",
       "      <td>20</td>\n",
       "      <td>1.0</td>\n",
       "      <td>0</td>\n",
       "      <td>0</td>\n",
       "      <td>0</td>\n",
       "    </tr>\n",
       "    <tr>\n",
       "      <th>83</th>\n",
       "      <td>20437</td>\n",
       "      <td>18</td>\n",
       "      <td>0.0</td>\n",
       "      <td>2</td>\n",
       "      <td>7</td>\n",
       "      <td>0</td>\n",
       "    </tr>\n",
       "    <tr>\n",
       "      <th>178</th>\n",
       "      <td>19977</td>\n",
       "      <td>34</td>\n",
       "      <td>0.0</td>\n",
       "      <td>3</td>\n",
       "      <td>4</td>\n",
       "      <td>0</td>\n",
       "    </tr>\n",
       "  </tbody>\n",
       "</table>\n",
       "</div>"
      ],
      "text/plain": [
       "     airline  orignum  cancelled  deptime  depdelay  arrdelayy\n",
       "185    20355       34        0.0        6         0         21\n",
       "99     19805       19        0.0        1         0          0\n",
       "90     20409       18        0.0        5        10          9\n",
       "193    20355       37        0.0        2         3          0\n",
       "146    20304       27        1.0        0         0          0\n",
       "86     20409       18        0.0        3         8         28\n",
       "41     20366       11        1.0        0         0          0\n",
       "125    20398       20        1.0        0         0          0\n",
       "83     20437       18        0.0        2         7          0\n",
       "178    19977       34        0.0        3         4          0"
      ]
     },
     "execution_count": 39,
     "metadata": {},
     "output_type": "execute_result"
    }
   ],
   "source": [
    "data = titanic_df.drop(columns=[\"flightdate\",\"origin\",'carrier', 'destination', \"depdelta\", \"arrtime\", \"arrdelta\"])\n",
    "data.sample(10)"
   ]
  },
  {
   "cell_type": "code",
   "execution_count": 40,
   "metadata": {},
   "outputs": [
    {
     "name": "stdout",
     "output_type": "stream",
     "text": [
      "Mean Departure Delay\n"
     ]
    },
    {
     "data": {
      "text/plain": [
       "<Figure size 1224x720 with 0 Axes>"
      ]
     },
     "metadata": {},
     "output_type": "display_data"
    },
    {
     "data": {
      "image/png": "[encoded data removed]",
      "text/plain": [
       "<Figure size 432x288 with 1 Axes>"
      ]
     },
     "metadata": {},
     "output_type": "display_data"
    }
   ],
   "source": [
    "fig=plt.figure(figsize=(17,10))\n",
    "data.hist(column=\"depdelay\", bins=30)\n",
    "plt.xlabel(\"orignum\",fontsize=15)\n",
    "plt.ylabel(\"depdelay\",fontsize=15)\n",
    "plt.xlim([0.0,25.0])\n",
    "plt.axvline(data[\"orignum\"].mean(), color=\"red\")\n",
    "print('Mean Departure Delay'.format(data[\"depdelay\"].mean()))\n"
   ]
  },
  {
   "cell_type": "code",
   "execution_count": 41,
   "metadata": {},
   "outputs": [
    {
     "data": {
      "text/html": [
       "<div>\n",
       "<style scoped>\n",
       "    .dataframe tbody tr th:only-of-type {\n",
       "        vertical-align: middle;\n",
       "    }\n",
       "\n",
       "    .dataframe tbody tr th {\n",
       "        vertical-align: top;\n",
       "    }\n",
       "\n",
       "    .dataframe thead th {\n",
       "        text-align: right;\n",
       "    }\n",
       "</style>\n",
       "<table border=\"1\" class=\"dataframe\">\n",
       "  <thead>\n",
       "    <tr style=\"text-align: right;\">\n",
       "      <th></th>\n",
       "      <th>airline</th>\n",
       "      <th>orignum</th>\n",
       "      <th>cancelled</th>\n",
       "      <th>deptime</th>\n",
       "      <th>depdelay</th>\n",
       "      <th>arrdelayy</th>\n",
       "    </tr>\n",
       "  </thead>\n",
       "  <tbody>\n",
       "    <tr>\n",
       "      <th>0</th>\n",
       "      <td>20409</td>\n",
       "      <td>1</td>\n",
       "      <td>0.0</td>\n",
       "      <td>4</td>\n",
       "      <td>5</td>\n",
       "      <td>2</td>\n",
       "    </tr>\n",
       "    <tr>\n",
       "      <th>1</th>\n",
       "      <td>19977</td>\n",
       "      <td>2</td>\n",
       "      <td>0.0</td>\n",
       "      <td>1</td>\n",
       "      <td>86</td>\n",
       "      <td>81</td>\n",
       "    </tr>\n",
       "    <tr>\n",
       "      <th>2</th>\n",
       "      <td>19977</td>\n",
       "      <td>3</td>\n",
       "      <td>0.0</td>\n",
       "      <td>3</td>\n",
       "      <td>4</td>\n",
       "      <td>21</td>\n",
       "    </tr>\n",
       "    <tr>\n",
       "      <th>3</th>\n",
       "      <td>19977</td>\n",
       "      <td>3</td>\n",
       "      <td>0.0</td>\n",
       "      <td>4</td>\n",
       "      <td>5</td>\n",
       "      <td>0</td>\n",
       "    </tr>\n",
       "    <tr>\n",
       "      <th>4</th>\n",
       "      <td>19977</td>\n",
       "      <td>3</td>\n",
       "      <td>0.0</td>\n",
       "      <td>4</td>\n",
       "      <td>5</td>\n",
       "      <td>0</td>\n",
       "    </tr>\n",
       "    <tr>\n",
       "      <th>5</th>\n",
       "      <td>19977</td>\n",
       "      <td>3</td>\n",
       "      <td>0.0</td>\n",
       "      <td>6</td>\n",
       "      <td>7</td>\n",
       "      <td>0</td>\n",
       "    </tr>\n",
       "    <tr>\n",
       "      <th>6</th>\n",
       "      <td>19977</td>\n",
       "      <td>3</td>\n",
       "      <td>0.0</td>\n",
       "      <td>6</td>\n",
       "      <td>7</td>\n",
       "      <td>22</td>\n",
       "    </tr>\n",
       "    <tr>\n",
       "      <th>7</th>\n",
       "      <td>19790</td>\n",
       "      <td>4</td>\n",
       "      <td>0.0</td>\n",
       "      <td>1</td>\n",
       "      <td>141</td>\n",
       "      <td>116</td>\n",
       "    </tr>\n",
       "    <tr>\n",
       "      <th>8</th>\n",
       "      <td>19393</td>\n",
       "      <td>4</td>\n",
       "      <td>0.0</td>\n",
       "      <td>2</td>\n",
       "      <td>122</td>\n",
       "      <td>109</td>\n",
       "    </tr>\n",
       "    <tr>\n",
       "      <th>9</th>\n",
       "      <td>20366</td>\n",
       "      <td>4</td>\n",
       "      <td>0.0</td>\n",
       "      <td>3</td>\n",
       "      <td>68</td>\n",
       "      <td>60</td>\n",
       "    </tr>\n",
       "  </tbody>\n",
       "</table>\n",
       "</div>"
      ],
      "text/plain": [
       "   airline  orignum  cancelled  deptime  depdelay  arrdelayy\n",
       "0    20409        1        0.0        4         5          2\n",
       "1    19977        2        0.0        1        86         81\n",
       "2    19977        3        0.0        3         4         21\n",
       "3    19977        3        0.0        4         5          0\n",
       "4    19977        3        0.0        4         5          0\n",
       "5    19977        3        0.0        6         7          0\n",
       "6    19977        3        0.0        6         7         22\n",
       "7    19790        4        0.0        1       141        116\n",
       "8    19393        4        0.0        2       122        109\n",
       "9    20366        4        0.0        3        68         60"
      ]
     },
     "execution_count": 41,
     "metadata": {},
     "output_type": "execute_result"
    }
   ],
   "source": [
    "data_nona = data[\"depdelay\"].fillna(data[\"depdelay\"].mean())\n",
    "data[\"depdelay\"]=data_nona\n",
    "data.head(10)"
   ]
  },
  {
   "cell_type": "code",
   "execution_count": 42,
   "metadata": {},
   "outputs": [],
   "source": [
    "# data.info()"
   ]
  },
  {
   "cell_type": "markdown",
   "metadata": {},
   "source": [
    "# Decision Tree Algorithm"
   ]
  },
  {
   "cell_type": "code",
   "execution_count": 43,
   "metadata": {},
   "outputs": [],
   "source": [
    "target = data[\"cancelled\"]\n",
    "target_names = [\"yes\", \"no\"]"
   ]
  },
  {
   "cell_type": "code",
   "execution_count": 44,
   "metadata": {},
   "outputs": [
    {
     "data": {
      "text/html": [
       "<div>\n",
       "<style scoped>\n",
       "    .dataframe tbody tr th:only-of-type {\n",
       "        vertical-align: middle;\n",
       "    }\n",
       "\n",
       "    .dataframe tbody tr th {\n",
       "        vertical-align: top;\n",
       "    }\n",
       "\n",
       "    .dataframe thead th {\n",
       "        text-align: right;\n",
       "    }\n",
       "</style>\n",
       "<table border=\"1\" class=\"dataframe\">\n",
       "  <thead>\n",
       "    <tr style=\"text-align: right;\">\n",
       "      <th></th>\n",
       "      <th>airline</th>\n",
       "      <th>orignum</th>\n",
       "      <th>deptime</th>\n",
       "      <th>depdelay</th>\n",
       "      <th>arrdelayy</th>\n",
       "    </tr>\n",
       "  </thead>\n",
       "  <tbody>\n",
       "    <tr>\n",
       "      <th>0</th>\n",
       "      <td>20409</td>\n",
       "      <td>1</td>\n",
       "      <td>4</td>\n",
       "      <td>5</td>\n",
       "      <td>2</td>\n",
       "    </tr>\n",
       "    <tr>\n",
       "      <th>1</th>\n",
       "      <td>19977</td>\n",
       "      <td>2</td>\n",
       "      <td>1</td>\n",
       "      <td>86</td>\n",
       "      <td>81</td>\n",
       "    </tr>\n",
       "    <tr>\n",
       "      <th>2</th>\n",
       "      <td>19977</td>\n",
       "      <td>3</td>\n",
       "      <td>3</td>\n",
       "      <td>4</td>\n",
       "      <td>21</td>\n",
       "    </tr>\n",
       "    <tr>\n",
       "      <th>3</th>\n",
       "      <td>19977</td>\n",
       "      <td>3</td>\n",
       "      <td>4</td>\n",
       "      <td>5</td>\n",
       "      <td>0</td>\n",
       "    </tr>\n",
       "    <tr>\n",
       "      <th>4</th>\n",
       "      <td>19977</td>\n",
       "      <td>3</td>\n",
       "      <td>4</td>\n",
       "      <td>5</td>\n",
       "      <td>0</td>\n",
       "    </tr>\n",
       "  </tbody>\n",
       "</table>\n",
       "</div>"
      ],
      "text/plain": [
       "   airline  orignum  deptime  depdelay  arrdelayy\n",
       "0    20409        1        4         5          2\n",
       "1    19977        2        1        86         81\n",
       "2    19977        3        3         4         21\n",
       "3    19977        3        4         5          0\n",
       "4    19977        3        4         5          0"
      ]
     },
     "execution_count": 44,
     "metadata": {},
     "output_type": "execute_result"
    }
   ],
   "source": [
    "variable = data.drop(\"cancelled\", axis=1)\n",
    "feature_names = variable.columns\n",
    "variable.head()"
   ]
  },
  {
   "cell_type": "code",
   "execution_count": 45,
   "metadata": {},
   "outputs": [],
   "source": [
    "from sklearn.model_selection import train_test_split\n",
    "X_train, X_test, y_train, y_test = train_test_split(variable, target, random_state=42)"
   ]
  },
  {
   "cell_type": "code",
   "execution_count": 46,
   "metadata": {},
   "outputs": [
    {
     "data": {
      "text/plain": [
       "1.0"
      ]
     },
     "execution_count": 46,
     "metadata": {},
     "output_type": "execute_result"
    }
   ],
   "source": [
    "# y_test is what the outcome is, and y_predict is what the decision tree predicts it. \n",
    "#y_test is the survive column entries, and X_test the rest of the columns or the \n",
    "# variables we think affect the survivie. \n",
    "clf = tree.DecisionTreeClassifier()\n",
    "clf = clf.fit(X_train, y_train)\n",
    "clf.score(X_test, y_test) "
   ]
  },
  {
   "cell_type": "code",
   "execution_count": 47,
   "metadata": {},
   "outputs": [],
   "source": [
    "y_predict = clf.predict(X_test)"
   ]
  },
  {
   "cell_type": "markdown",
   "metadata": {},
   "source": [
    "# Random forest Algorithm"
   ]
  },
  {
   "cell_type": "code",
   "execution_count": 48,
   "metadata": {},
   "outputs": [
    {
     "data": {
      "text/plain": [
       "1.0"
      ]
     },
     "execution_count": 48,
     "metadata": {},
     "output_type": "execute_result"
    }
   ],
   "source": [
    "# Create a random forest classifier\n",
    "rf = RandomForestClassifier(n_estimators=200)\n",
    "rf = rf.fit(variable, target)\n",
    "rf.score(variable, target)\n",
    "# Have not done the cross validation"
   ]
  },
  {
   "cell_type": "code",
   "execution_count": 49,
   "metadata": {},
   "outputs": [
    {
     "data": {
      "text/plain": [
       "array([0.03523829, 0.01919695, 0.55732079, 0.31027505, 0.07796891])"
      ]
     },
     "execution_count": 49,
     "metadata": {},
     "output_type": "execute_result"
    }
   ],
   "source": [
    "# Random Forests in sklearn will automatically calculate feature importance\n",
    "importances = rf.feature_importances_\n",
    "importances"
   ]
  },
  {
   "cell_type": "code",
   "execution_count": 50,
   "metadata": {},
   "outputs": [
    {
     "data": {
      "text/plain": [
       "[(0.5573207937674157, 'deptime'),\n",
       " (0.3102750500901851, 'depdelay'),\n",
       " (0.07796891212250856, 'arrdelayy'),\n",
       " (0.03523829000413173, 'airline'),\n",
       " (0.019196954015758782, 'orignum')]"
      ]
     },
     "execution_count": 50,
     "metadata": {},
     "output_type": "execute_result"
    }
   ],
   "source": [
    "# We can sort the features by their importance\n",
    "sorted(zip(rf.feature_importances_, feature_names), reverse=True)"
   ]
  },
  {
   "cell_type": "markdown",
   "metadata": {},
   "source": [
    "# Support Vector Machine\n",
    "With Radial-basis-function kernel"
   ]
  },
  {
   "cell_type": "code",
   "execution_count": 51,
   "metadata": {},
   "outputs": [
    {
     "name": "stderr",
     "output_type": "stream",
     "text": [
      "/anaconda3/envs/PythonData/lib/python3.6/site-packages/sklearn/svm/base.py:196: FutureWarning: The default value of gamma will change from 'auto' to 'scale' in version 0.22 to account better for unscaled features. Set gamma explicitly to 'auto' or 'scale' to avoid this warning.\n",
      "  \"avoid this warning.\", FutureWarning)\n"
     ]
    }
   ],
   "source": [
    "from sklearn.svm import SVC \n",
    "# using X_train, X_test, y_train, y_test\n",
    "model = SVC(kernel='rbf')\n",
    "model.fit(X_train, y_train)\n",
    "y_predict = model.predict(X_test)\n",
    "# compare y_predict to y_test"
   ]
  },
  {
   "cell_type": "code",
   "execution_count": 52,
   "metadata": {},
   "outputs": [],
   "source": [
    "# if good prediction, what is y_predict - y_test = 0 "
   ]
  },
  {
   "cell_type": "code",
   "execution_count": 53,
   "metadata": {},
   "outputs": [
    {
     "name": "stdout",
     "output_type": "stream",
     "text": [
      "0.9215686274509803\n"
     ]
    }
   ],
   "source": [
    "accuracy = model.score(X_test, y_test)\n",
    "print(accuracy)"
   ]
  },
  {
   "cell_type": "code",
   "execution_count": 54,
   "metadata": {},
   "outputs": [
    {
     "data": {
      "text/plain": [
       "1.0"
      ]
     },
     "execution_count": 54,
     "metadata": {},
     "output_type": "execute_result"
    }
   ],
   "source": [
    "# How do I assess accuracy\n",
    "model.score(X_train, y_train)"
   ]
  },
  {
   "cell_type": "markdown",
   "metadata": {},
   "source": [
    "# Support Vector Machine with Polynomial Kernel "
   ]
  },
  {
   "cell_type": "code",
   "execution_count": 55,
   "metadata": {},
   "outputs": [],
   "source": [
    "# from sklearn.svm import SVC \n",
    "# # using X_train, X_test, y_train, y_test\n",
    "# model = SVC(kernel='pol')\n",
    "# model.fit(X_train, y_train)\n",
    "# y_predict = model.predict(X_test)\n",
    "# # compare y_predict to y_test"
   ]
  },
  {
   "cell_type": "code",
   "execution_count": 56,
   "metadata": {},
   "outputs": [],
   "source": [
    "# accuracy = model.score(X_test, y_test)\n",
    "# print(accuracy)"
   ]
  },
  {
   "cell_type": "code",
   "execution_count": 57,
   "metadata": {},
   "outputs": [],
   "source": [
    "# # How do I assess accuracy\n",
    "# model.score(X_train, y_train)"
   ]
  },
  {
   "cell_type": "markdown",
   "metadata": {},
   "source": [
    "# Logistic Regression"
   ]
  },
  {
   "cell_type": "code",
   "execution_count": 58,
   "metadata": {},
   "outputs": [
    {
     "data": {
      "text/plain": [
       "LogisticRegression(C=1.0, class_weight=None, dual=False, fit_intercept=True,\n",
       "          intercept_scaling=1, max_iter=100, multi_class='warn',\n",
       "          n_jobs=None, penalty='l2', random_state=None, solver='warn',\n",
       "          tol=0.0001, verbose=0, warm_start=False)"
      ]
     },
     "execution_count": 58,
     "metadata": {},
     "output_type": "execute_result"
    }
   ],
   "source": [
    "from sklearn.linear_model import LogisticRegression\n",
    "classifier = LogisticRegression()\n",
    "classifier"
   ]
  },
  {
   "cell_type": "code",
   "execution_count": 59,
   "metadata": {},
   "outputs": [
    {
     "name": "stderr",
     "output_type": "stream",
     "text": [
      "/anaconda3/envs/PythonData/lib/python3.6/site-packages/sklearn/linear_model/logistic.py:432: FutureWarning: Default solver will be changed to 'lbfgs' in 0.22. Specify a solver to silence this warning.\n",
      "  FutureWarning)\n"
     ]
    },
    {
     "data": {
      "text/plain": [
       "LogisticRegression(C=1.0, class_weight=None, dual=False, fit_intercept=True,\n",
       "          intercept_scaling=1, max_iter=100, multi_class='warn',\n",
       "          n_jobs=None, penalty='l2', random_state=None, solver='warn',\n",
       "          tol=0.0001, verbose=0, warm_start=False)"
      ]
     },
     "execution_count": 59,
     "metadata": {},
     "output_type": "execute_result"
    }
   ],
   "source": [
    "classifier.fit(X_train, y_train)"
   ]
  },
  {
   "cell_type": "code",
   "execution_count": 60,
   "metadata": {},
   "outputs": [
    {
     "name": "stdout",
     "output_type": "stream",
     "text": [
      "Training Data Score: 0.9666666666666667\n",
      "Testing Data Score: 1.0\n"
     ]
    }
   ],
   "source": [
    "print(f\"Training Data Score: {classifier.score(X_train, y_train)}\")\n",
    "print(f\"Testing Data Score: {classifier.score(X_test, y_test)}\")"
   ]
  },
  {
   "cell_type": "code",
   "execution_count": 61,
   "metadata": {},
   "outputs": [
    {
     "data": {
      "text/html": [
       "<div>\n",
       "<style scoped>\n",
       "    .dataframe tbody tr th:only-of-type {\n",
       "        vertical-align: middle;\n",
       "    }\n",
       "\n",
       "    .dataframe tbody tr th {\n",
       "        vertical-align: top;\n",
       "    }\n",
       "\n",
       "    .dataframe thead th {\n",
       "        text-align: right;\n",
       "    }\n",
       "</style>\n",
       "<table border=\"1\" class=\"dataframe\">\n",
       "  <thead>\n",
       "    <tr style=\"text-align: right;\">\n",
       "      <th></th>\n",
       "      <th>Prediction</th>\n",
       "      <th>Actual</th>\n",
       "    </tr>\n",
       "  </thead>\n",
       "  <tbody>\n",
       "    <tr>\n",
       "      <th>95</th>\n",
       "      <td>0.0</td>\n",
       "      <td>0.0</td>\n",
       "    </tr>\n",
       "    <tr>\n",
       "      <th>15</th>\n",
       "      <td>0.0</td>\n",
       "      <td>0.0</td>\n",
       "    </tr>\n",
       "    <tr>\n",
       "      <th>30</th>\n",
       "      <td>0.0</td>\n",
       "      <td>0.0</td>\n",
       "    </tr>\n",
       "    <tr>\n",
       "      <th>158</th>\n",
       "      <td>0.0</td>\n",
       "      <td>0.0</td>\n",
       "    </tr>\n",
       "    <tr>\n",
       "      <th>128</th>\n",
       "      <td>1.0</td>\n",
       "      <td>1.0</td>\n",
       "    </tr>\n",
       "  </tbody>\n",
       "</table>\n",
       "</div>"
      ],
      "text/plain": [
       "     Prediction  Actual\n",
       "95          0.0     0.0\n",
       "15          0.0     0.0\n",
       "30          0.0     0.0\n",
       "158         0.0     0.0\n",
       "128         1.0     1.0"
      ]
     },
     "execution_count": 61,
     "metadata": {},
     "output_type": "execute_result"
    }
   ],
   "source": [
    "predictions = classifier.predict(X_test)\n",
    "pd.DataFrame({\"Prediction\": predictions, \"Actual\": y_test}).head()"
   ]
  },
  {
   "cell_type": "markdown",
   "metadata": {},
   "source": [
    "# K Nearest Neighbor"
   ]
  },
  {
   "cell_type": "code",
   "execution_count": 62,
   "metadata": {},
   "outputs": [
    {
     "name": "stdout",
     "output_type": "stream",
     "text": [
      "98.67\n"
     ]
    }
   ],
   "source": [
    "# KNN \n",
    "knn = KNeighborsClassifier(n_neighbors = 3) \n",
    "knn.fit(X_train, y_train)  \n",
    "Y_pred = knn.predict(X_test)  \n",
    "acc_knn = round(knn.score(X_train, y_train) * 100, 2)\n",
    "print(acc_knn)"
   ]
  },
  {
   "cell_type": "code",
   "execution_count": null,
   "metadata": {},
   "outputs": [],
   "source": []
  }
 ],
 "metadata": {
  "kernelspec": {
   "display_name": "Python 3",
   "language": "python",
   "name": "python3"
  },
  "language_info": {
   "codemirror_mode": {
    "name": "ipython",
    "version": 3
   },
   "file_extension": ".py",
   "mimetype": "text/x-python",
   "name": "python",
   "nbconvert_exporter": "python",
   "pygments_lexer": "ipython3",
   "version": "3.6.5"
  }
 },
 "nbformat": 4,
 "nbformat_minor": 2
}
