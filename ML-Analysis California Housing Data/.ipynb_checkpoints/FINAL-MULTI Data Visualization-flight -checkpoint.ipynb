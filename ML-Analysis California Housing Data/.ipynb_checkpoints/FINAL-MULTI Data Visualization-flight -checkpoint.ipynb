{
 "cells": [
  {
   "cell_type": "markdown",
   "metadata": {},
   "source": [
    "Data Dictionary\n",
    "Variable\tDefinition\tKey\n",
    "survival\tSurvival\t0 = No, 1 = Yes\n",
    "pclass\tTicket class\t1 = 1st, 2 = 2nd, 3 = 3rd\n",
    "sex\tSex\t\n",
    "Age\tAge in years\t\n",
    "sibsp\t# of siblings / spouses aboard the Titanic\t\n",
    "parch\t# of parents / children aboard the Titanic\t\n",
    "ticket\tTicket number\t\n",
    "fare\tPassenger fare\t\n",
    "cabin\tCabin number\t\n",
    "embarked\tPort of Embarkation\tC = Cherbourg, Q = Queenstown, S = Southampton\n",
    "Variable Notes\n",
    "pclass: A proxy for socio-economic status (SES)\n",
    "1st = Upper\n",
    "2nd = Middle\n",
    "3rd = Lower\n",
    "\n",
    "age: Age is fractional if less than 1. If the age is estimated, is it in the form of xx.5\n",
    "\n",
    "sibsp: The dataset defines family relations in this way...\n",
    "Sibling = brother, sister, stepbrother, stepsister\n",
    "Spouse = husband, wife (mistresses and fiancés were ignored)\n",
    "\n",
    "parch: The dataset defines family relations in this way...\n",
    "Parent = mother, father\n",
    "Child = daughter, son, stepdaughter, stepson\n",
    "Some children travelled only with a nanny, therefore parch=0 for them.\n",
    "\n",
    "**survival:    Survival\n",
    "PassengerId: Unique Id of a passenger. \n",
    "pclass:    Ticket class     \n",
    "sex:    Sex     \n",
    "Age:    Age in years     \n",
    "sibsp:    # of siblings / spouses aboard the Titanic     \n",
    "parch:    # of parents / children aboard the Titanic     \n",
    "ticket:    Ticket number     \n",
    "fare:    Passenger fare     \n",
    "cabin:    Cabin number     \n",
    "embarked:    Port of Embarkation\n",
    "titanic_df.describe()**\n"
   ]
  },
  {
   "cell_type": "code",
   "execution_count": 11,
   "metadata": {},
   "outputs": [],
   "source": [
    "#Aref - updated for Cal housing dataset "
   ]
  },
  {
   "cell_type": "code",
   "execution_count": 12,
   "metadata": {},
   "outputs": [],
   "source": [
    "# linear algebra\n",
    "import numpy as np \n",
    "\n",
    "# data processing\n",
    "import pandas as pd \n",
    "\n",
    "# data visualization\n",
    "import seaborn as sns\n",
    "%matplotlib inline\n",
    "from matplotlib import pyplot as plt\n",
    "from matplotlib import style\n",
    "\n",
    "# Algorithms\n",
    "# from sklearn import linear_model\n",
    "# from sklearn.linear_model import LogisticRegression\n",
    "from sklearn.ensemble import RandomForestClassifier\n",
    "\n",
    "from sklearn import tree\n",
    "import pandas as pd\n",
    "import os\n",
    "from sklearn.neighbors import KNeighborsClassifier"
   ]
  },
  {
   "cell_type": "code",
   "execution_count": 13,
   "metadata": {},
   "outputs": [],
   "source": [
    "titanic_df = pd.read_csv(\"cal_housingdata-clean.csv\")\n"
   ]
  },
  {
   "cell_type": "code",
   "execution_count": 14,
   "metadata": {},
   "outputs": [
    {
     "data": {
      "text/plain": [
       "<bound method NDFrame.head of        longitude  latitude  housingMedianAge  totalRooms  totalBedrooms  \\\n",
       "0        -117.86     34.24              52.0       803.0          267.0   \n",
       "1        -117.02     36.40              19.0       619.0          239.0   \n",
       "2        -122.74     39.71              16.0       255.0           73.0   \n",
       "3        -123.17     40.31              36.0        98.0           28.0   \n",
       "4        -118.33     34.15              39.0       493.0          168.0   \n",
       "5        -116.57     35.43               8.0      9975.0         1743.0   \n",
       "6        -122.32     37.93              33.0       296.0           73.0   \n",
       "7        -117.16     32.71              52.0       845.0          451.0   \n",
       "8        -121.29     37.95              52.0       107.0           79.0   \n",
       "9        -114.65     32.79              21.0        44.0           33.0   \n",
       "10       -119.45     35.13              34.0      1440.0          309.0   \n",
       "11       -119.46     35.13              46.0      2745.0          543.0   \n",
       "12       -114.67     33.92              17.0        97.0           24.0   \n",
       "13       -120.59     34.70              29.0     17738.0         3114.0   \n",
       "14       -119.45     35.07              45.0       973.0          183.0   \n",
       "15       -115.73     33.35              23.0      1586.0          448.0   \n",
       "16       -115.88     32.93              15.0       208.0           49.0   \n",
       "17       -122.41     37.78              52.0      1014.0          422.0   \n",
       "18       -121.36     38.56              20.0      1232.0          332.0   \n",
       "19       -121.52     38.58              24.0       938.0          275.0   \n",
       "20       -116.22     36.00              14.0      1372.0          386.0   \n",
       "21       -118.98     35.35              21.0       496.0          131.0   \n",
       "22       -121.76     41.50              31.0       602.0          153.0   \n",
       "23       -119.78     36.72              22.0       354.0          121.0   \n",
       "24       -120.87     41.54              21.0      1091.0          208.0   \n",
       "25       -117.37     34.59              39.0      8193.0         1747.0   \n",
       "26       -118.99     35.32              26.0       875.0          199.0   \n",
       "27       -123.85     41.32              31.0       938.0          238.0   \n",
       "28       -119.48     35.17              36.0       116.0           20.0   \n",
       "29       -119.28     35.52              36.0       786.0          194.0   \n",
       "...          ...       ...               ...         ...            ...   \n",
       "20610    -122.43     37.79              50.0      3312.0         1095.0   \n",
       "20611    -118.48     34.00              52.0      1359.0          395.0   \n",
       "20612    -117.22     33.87              16.0        56.0            7.0   \n",
       "20613    -122.41     37.80              52.0       812.0          252.0   \n",
       "20614    -122.24     37.49              19.0       322.0          112.0   \n",
       "20615    -119.14     34.23               8.0       243.0           75.0   \n",
       "20616    -118.36     34.10              36.0      2963.0          838.0   \n",
       "20617    -118.35     34.06              52.0      3446.0         1360.0   \n",
       "20618    -117.66     33.48              22.0       809.0          180.0   \n",
       "20619    -118.31     34.07              20.0      3264.0         1248.0   \n",
       "20620    -122.42     37.78              26.0       812.0          507.0   \n",
       "20621    -117.36     33.17              24.0      2046.0          442.0   \n",
       "20622    -118.51     34.00              52.0      1241.0          502.0   \n",
       "20623    -118.44     34.06              14.0       520.0          292.0   \n",
       "20624    -118.14     34.15              41.0      1256.0          407.0   \n",
       "20625    -118.49     34.01              28.0       651.0          252.0   \n",
       "20626    -117.70     33.72               6.0       211.0           51.0   \n",
       "20627    -122.41     37.81              31.0      3991.0         1311.0   \n",
       "20628    -120.10     38.91              33.0      1561.0          282.0   \n",
       "20629    -118.34     34.10              29.0      3193.0         1452.0   \n",
       "20630    -121.90     37.39              42.0        42.0           14.0   \n",
       "20631    -117.67     33.47              22.0      2728.0          616.0   \n",
       "20632    -122.27     37.80              52.0       249.0           78.0   \n",
       "20633    -122.25     37.87              52.0       609.0          236.0   \n",
       "20634    -118.15     34.15              52.0       275.0          123.0   \n",
       "20635    -122.41     37.80              52.0      3260.0         1535.0   \n",
       "20636    -122.42     37.78              27.0      1728.0          884.0   \n",
       "20637    -120.67     35.30              19.0      1540.0          715.0   \n",
       "20638    -118.28     34.02              29.0       515.0          229.0   \n",
       "20639    -118.08     34.15              28.0       238.0           58.0   \n",
       "\n",
       "       population  households  medianIncome  medianHouseValue  expensive  \n",
       "0           628.0       225.0          4.19           14999.0        0.0  \n",
       "1           490.0       164.0          2.10           14999.0        0.0  \n",
       "2            85.0        38.0          1.66           14999.0        0.0  \n",
       "3            18.0         8.0          0.54           14999.0        0.0  \n",
       "4           259.0       138.0          2.37           17500.0        0.0  \n",
       "5          6835.0      1439.0          2.71           22500.0        0.0  \n",
       "6           216.0        63.0          2.68           22500.0        0.0  \n",
       "7          1230.0       375.0          1.09           22500.0        0.0  \n",
       "8           167.0        53.0          0.79           22500.0        0.0  \n",
       "9            64.0        27.0          0.86           25000.0        0.0  \n",
       "10          808.0       294.0          2.30           26600.0        0.0  \n",
       "11         1423.0       482.0          2.20           26900.0        0.0  \n",
       "12           29.0        15.0          1.27           27500.0        0.0  \n",
       "13        12427.0      2826.0          2.74           28300.0        0.0  \n",
       "14          500.0       177.0          2.64           30000.0        0.0  \n",
       "15          338.0       182.0          1.21           30000.0        0.0  \n",
       "16           51.0        20.0          4.02           32500.0        0.0  \n",
       "17         1055.0       382.0          1.85           32500.0        0.0  \n",
       "18          667.0       288.0          1.83           32500.0        0.0  \n",
       "19          508.0       253.0          1.64           32500.0        0.0  \n",
       "20          436.0       213.0          1.15           32900.0        0.0  \n",
       "21          511.0       124.0          1.76           33200.0        0.0  \n",
       "22          112.0        47.0          1.07           34200.0        0.0  \n",
       "23          530.0       115.0          2.15           34400.0        0.0  \n",
       "24          660.0       188.0          2.23           34600.0        0.0  \n",
       "25         6852.0      1597.0          2.38           35000.0        0.0  \n",
       "26          567.0       204.0          0.93           36600.0        0.0  \n",
       "27          425.0       157.0          1.05           36700.0        0.0  \n",
       "28           39.0        18.0          3.13           37500.0        0.0  \n",
       "29          573.0       134.0          2.23           37500.0        0.0  \n",
       "...           ...         ...           ...               ...        ...  \n",
       "20610      1475.0       997.0          2.72          500001.0        1.0  \n",
       "20611       521.0       368.0          2.67          500001.0        1.0  \n",
       "20612        39.0        14.0          2.63          500001.0        1.0  \n",
       "20613       629.0       247.0          2.59          500001.0        1.0  \n",
       "20614       191.0       102.0          2.58          500001.0        1.0  \n",
       "20615       102.0        80.0          2.57          500001.0        1.0  \n",
       "20616      1129.0       745.0          2.56          500001.0        1.0  \n",
       "20617      1768.0      1245.0          2.47          500001.0        1.0  \n",
       "20618       334.0       157.0          2.38          500001.0        1.0  \n",
       "20619      2919.0      1191.0          2.37          500001.0        1.0  \n",
       "20620       628.0       445.0          2.33          500001.0        1.0  \n",
       "20621       812.0       367.0          2.32          500001.0        1.0  \n",
       "20622       679.0       459.0          2.31          500001.0        1.0  \n",
       "20623       282.0       213.0          2.29          500001.0        1.0  \n",
       "20624       855.0       383.0          1.99          500001.0        1.0  \n",
       "20625       333.0       174.0          1.97          500001.0        1.0  \n",
       "20626       125.0        44.0          1.97          500001.0        1.0  \n",
       "20627      2305.0      1201.0          1.90          500001.0        1.0  \n",
       "20628        30.0        11.0          1.88          500001.0        1.0  \n",
       "20629      2039.0      1265.0          1.82          500001.0        1.0  \n",
       "20630        26.0        14.0          1.74          500001.0        1.0  \n",
       "20631      1081.0       566.0          1.64          500001.0        1.0  \n",
       "20632       396.0        85.0          1.24          500001.0        1.0  \n",
       "20633      1349.0       250.0          1.17          500001.0        1.0  \n",
       "20634       273.0       111.0          1.17          500001.0        1.0  \n",
       "20635      3260.0      1457.0          0.90          500001.0        1.0  \n",
       "20636      1211.0       752.0          0.85          500001.0        1.0  \n",
       "20637      1799.0       635.0          0.70          500001.0        1.0  \n",
       "20638      2690.0       217.0          0.50          500001.0        1.0  \n",
       "20639       142.0        31.0          0.50          500001.0        1.0  \n",
       "\n",
       "[20640 rows x 10 columns]>"
      ]
     },
     "execution_count": 14,
     "metadata": {},
     "output_type": "execute_result"
    }
   ],
   "source": [
    "titanic_df.head"
   ]
  },
  {
   "cell_type": "code",
   "execution_count": 15,
   "metadata": {},
   "outputs": [
    {
     "data": {
      "text/plain": [
       "0        0.0\n",
       "1        0.0\n",
       "2        0.0\n",
       "3        0.0\n",
       "4        0.0\n",
       "5        0.0\n",
       "6        0.0\n",
       "7        0.0\n",
       "8        0.0\n",
       "9        0.0\n",
       "10       0.0\n",
       "11       0.0\n",
       "12       0.0\n",
       "13       0.0\n",
       "14       0.0\n",
       "15       0.0\n",
       "16       0.0\n",
       "17       0.0\n",
       "18       0.0\n",
       "19       0.0\n",
       "20       0.0\n",
       "21       0.0\n",
       "22       0.0\n",
       "23       0.0\n",
       "24       0.0\n",
       "25       0.0\n",
       "26       0.0\n",
       "27       0.0\n",
       "28       0.0\n",
       "29       0.0\n",
       "        ... \n",
       "20610    1.0\n",
       "20611    1.0\n",
       "20612    1.0\n",
       "20613    1.0\n",
       "20614    1.0\n",
       "20615    1.0\n",
       "20616    1.0\n",
       "20617    1.0\n",
       "20618    1.0\n",
       "20619    1.0\n",
       "20620    1.0\n",
       "20621    1.0\n",
       "20622    1.0\n",
       "20623    1.0\n",
       "20624    1.0\n",
       "20625    1.0\n",
       "20626    1.0\n",
       "20627    1.0\n",
       "20628    1.0\n",
       "20629    1.0\n",
       "20630    1.0\n",
       "20631    1.0\n",
       "20632    1.0\n",
       "20633    1.0\n",
       "20634    1.0\n",
       "20635    1.0\n",
       "20636    1.0\n",
       "20637    1.0\n",
       "20638    1.0\n",
       "20639    1.0\n",
       "Name: expensive, Length: 20640, dtype: float64"
      ]
     },
     "execution_count": 15,
     "metadata": {},
     "output_type": "execute_result"
    }
   ],
   "source": [
    "titanic_df['expensive']"
   ]
  },
  {
   "cell_type": "code",
   "execution_count": 16,
   "metadata": {},
   "outputs": [
    {
     "data": {
      "text/plain": [
       "<bound method NDFrame.head of        longitude  latitude  housingMedianAge  totalRooms  totalBedrooms  \\\n",
       "0        -117.86     34.24              52.0       803.0          267.0   \n",
       "1        -117.02     36.40              19.0       619.0          239.0   \n",
       "2        -122.74     39.71              16.0       255.0           73.0   \n",
       "3        -123.17     40.31              36.0        98.0           28.0   \n",
       "4        -118.33     34.15              39.0       493.0          168.0   \n",
       "5        -116.57     35.43               8.0      9975.0         1743.0   \n",
       "6        -122.32     37.93              33.0       296.0           73.0   \n",
       "7        -117.16     32.71              52.0       845.0          451.0   \n",
       "8        -121.29     37.95              52.0       107.0           79.0   \n",
       "9        -114.65     32.79              21.0        44.0           33.0   \n",
       "10       -119.45     35.13              34.0      1440.0          309.0   \n",
       "11       -119.46     35.13              46.0      2745.0          543.0   \n",
       "12       -114.67     33.92              17.0        97.0           24.0   \n",
       "13       -120.59     34.70              29.0     17738.0         3114.0   \n",
       "14       -119.45     35.07              45.0       973.0          183.0   \n",
       "15       -115.73     33.35              23.0      1586.0          448.0   \n",
       "16       -115.88     32.93              15.0       208.0           49.0   \n",
       "17       -122.41     37.78              52.0      1014.0          422.0   \n",
       "18       -121.36     38.56              20.0      1232.0          332.0   \n",
       "19       -121.52     38.58              24.0       938.0          275.0   \n",
       "20       -116.22     36.00              14.0      1372.0          386.0   \n",
       "21       -118.98     35.35              21.0       496.0          131.0   \n",
       "22       -121.76     41.50              31.0       602.0          153.0   \n",
       "23       -119.78     36.72              22.0       354.0          121.0   \n",
       "24       -120.87     41.54              21.0      1091.0          208.0   \n",
       "25       -117.37     34.59              39.0      8193.0         1747.0   \n",
       "26       -118.99     35.32              26.0       875.0          199.0   \n",
       "27       -123.85     41.32              31.0       938.0          238.0   \n",
       "28       -119.48     35.17              36.0       116.0           20.0   \n",
       "29       -119.28     35.52              36.0       786.0          194.0   \n",
       "...          ...       ...               ...         ...            ...   \n",
       "20610    -122.43     37.79              50.0      3312.0         1095.0   \n",
       "20611    -118.48     34.00              52.0      1359.0          395.0   \n",
       "20612    -117.22     33.87              16.0        56.0            7.0   \n",
       "20613    -122.41     37.80              52.0       812.0          252.0   \n",
       "20614    -122.24     37.49              19.0       322.0          112.0   \n",
       "20615    -119.14     34.23               8.0       243.0           75.0   \n",
       "20616    -118.36     34.10              36.0      2963.0          838.0   \n",
       "20617    -118.35     34.06              52.0      3446.0         1360.0   \n",
       "20618    -117.66     33.48              22.0       809.0          180.0   \n",
       "20619    -118.31     34.07              20.0      3264.0         1248.0   \n",
       "20620    -122.42     37.78              26.0       812.0          507.0   \n",
       "20621    -117.36     33.17              24.0      2046.0          442.0   \n",
       "20622    -118.51     34.00              52.0      1241.0          502.0   \n",
       "20623    -118.44     34.06              14.0       520.0          292.0   \n",
       "20624    -118.14     34.15              41.0      1256.0          407.0   \n",
       "20625    -118.49     34.01              28.0       651.0          252.0   \n",
       "20626    -117.70     33.72               6.0       211.0           51.0   \n",
       "20627    -122.41     37.81              31.0      3991.0         1311.0   \n",
       "20628    -120.10     38.91              33.0      1561.0          282.0   \n",
       "20629    -118.34     34.10              29.0      3193.0         1452.0   \n",
       "20630    -121.90     37.39              42.0        42.0           14.0   \n",
       "20631    -117.67     33.47              22.0      2728.0          616.0   \n",
       "20632    -122.27     37.80              52.0       249.0           78.0   \n",
       "20633    -122.25     37.87              52.0       609.0          236.0   \n",
       "20634    -118.15     34.15              52.0       275.0          123.0   \n",
       "20635    -122.41     37.80              52.0      3260.0         1535.0   \n",
       "20636    -122.42     37.78              27.0      1728.0          884.0   \n",
       "20637    -120.67     35.30              19.0      1540.0          715.0   \n",
       "20638    -118.28     34.02              29.0       515.0          229.0   \n",
       "20639    -118.08     34.15              28.0       238.0           58.0   \n",
       "\n",
       "       population  households  medianIncome  medianHouseValue  expensive  \n",
       "0           628.0       225.0          4.19           14999.0        0.0  \n",
       "1           490.0       164.0          2.10           14999.0        0.0  \n",
       "2            85.0        38.0          1.66           14999.0        0.0  \n",
       "3            18.0         8.0          0.54           14999.0        0.0  \n",
       "4           259.0       138.0          2.37           17500.0        0.0  \n",
       "5          6835.0      1439.0          2.71           22500.0        0.0  \n",
       "6           216.0        63.0          2.68           22500.0        0.0  \n",
       "7          1230.0       375.0          1.09           22500.0        0.0  \n",
       "8           167.0        53.0          0.79           22500.0        0.0  \n",
       "9            64.0        27.0          0.86           25000.0        0.0  \n",
       "10          808.0       294.0          2.30           26600.0        0.0  \n",
       "11         1423.0       482.0          2.20           26900.0        0.0  \n",
       "12           29.0        15.0          1.27           27500.0        0.0  \n",
       "13        12427.0      2826.0          2.74           28300.0        0.0  \n",
       "14          500.0       177.0          2.64           30000.0        0.0  \n",
       "15          338.0       182.0          1.21           30000.0        0.0  \n",
       "16           51.0        20.0          4.02           32500.0        0.0  \n",
       "17         1055.0       382.0          1.85           32500.0        0.0  \n",
       "18          667.0       288.0          1.83           32500.0        0.0  \n",
       "19          508.0       253.0          1.64           32500.0        0.0  \n",
       "20          436.0       213.0          1.15           32900.0        0.0  \n",
       "21          511.0       124.0          1.76           33200.0        0.0  \n",
       "22          112.0        47.0          1.07           34200.0        0.0  \n",
       "23          530.0       115.0          2.15           34400.0        0.0  \n",
       "24          660.0       188.0          2.23           34600.0        0.0  \n",
       "25         6852.0      1597.0          2.38           35000.0        0.0  \n",
       "26          567.0       204.0          0.93           36600.0        0.0  \n",
       "27          425.0       157.0          1.05           36700.0        0.0  \n",
       "28           39.0        18.0          3.13           37500.0        0.0  \n",
       "29          573.0       134.0          2.23           37500.0        0.0  \n",
       "...           ...         ...           ...               ...        ...  \n",
       "20610      1475.0       997.0          2.72          500001.0        1.0  \n",
       "20611       521.0       368.0          2.67          500001.0        1.0  \n",
       "20612        39.0        14.0          2.63          500001.0        1.0  \n",
       "20613       629.0       247.0          2.59          500001.0        1.0  \n",
       "20614       191.0       102.0          2.58          500001.0        1.0  \n",
       "20615       102.0        80.0          2.57          500001.0        1.0  \n",
       "20616      1129.0       745.0          2.56          500001.0        1.0  \n",
       "20617      1768.0      1245.0          2.47          500001.0        1.0  \n",
       "20618       334.0       157.0          2.38          500001.0        1.0  \n",
       "20619      2919.0      1191.0          2.37          500001.0        1.0  \n",
       "20620       628.0       445.0          2.33          500001.0        1.0  \n",
       "20621       812.0       367.0          2.32          500001.0        1.0  \n",
       "20622       679.0       459.0          2.31          500001.0        1.0  \n",
       "20623       282.0       213.0          2.29          500001.0        1.0  \n",
       "20624       855.0       383.0          1.99          500001.0        1.0  \n",
       "20625       333.0       174.0          1.97          500001.0        1.0  \n",
       "20626       125.0        44.0          1.97          500001.0        1.0  \n",
       "20627      2305.0      1201.0          1.90          500001.0        1.0  \n",
       "20628        30.0        11.0          1.88          500001.0        1.0  \n",
       "20629      2039.0      1265.0          1.82          500001.0        1.0  \n",
       "20630        26.0        14.0          1.74          500001.0        1.0  \n",
       "20631      1081.0       566.0          1.64          500001.0        1.0  \n",
       "20632       396.0        85.0          1.24          500001.0        1.0  \n",
       "20633      1349.0       250.0          1.17          500001.0        1.0  \n",
       "20634       273.0       111.0          1.17          500001.0        1.0  \n",
       "20635      3260.0      1457.0          0.90          500001.0        1.0  \n",
       "20636      1211.0       752.0          0.85          500001.0        1.0  \n",
       "20637      1799.0       635.0          0.70          500001.0        1.0  \n",
       "20638      2690.0       217.0          0.50          500001.0        1.0  \n",
       "20639       142.0        31.0          0.50          500001.0        1.0  \n",
       "\n",
       "[20640 rows x 10 columns]>"
      ]
     },
     "execution_count": 16,
     "metadata": {},
     "output_type": "execute_result"
    }
   ],
   "source": [
    "#titanic_df['cancelled'] = titanic_df['cancelled'].map({'cancelyes': 1.0, 'cancelno': 0.0})\n",
    "titanic_df.head"
   ]
  },
  {
   "cell_type": "code",
   "execution_count": 17,
   "metadata": {},
   "outputs": [
    {
     "data": {
      "text/html": [
       "<div>\n",
       "<style scoped>\n",
       "    .dataframe tbody tr th:only-of-type {\n",
       "        vertical-align: middle;\n",
       "    }\n",
       "\n",
       "    .dataframe tbody tr th {\n",
       "        vertical-align: top;\n",
       "    }\n",
       "\n",
       "    .dataframe thead th {\n",
       "        text-align: right;\n",
       "    }\n",
       "</style>\n",
       "<table border=\"1\" class=\"dataframe\">\n",
       "  <thead>\n",
       "    <tr style=\"text-align: right;\">\n",
       "      <th></th>\n",
       "      <th>longitude</th>\n",
       "      <th>latitude</th>\n",
       "      <th>housingMedianAge</th>\n",
       "      <th>totalRooms</th>\n",
       "      <th>totalBedrooms</th>\n",
       "      <th>population</th>\n",
       "      <th>households</th>\n",
       "      <th>medianIncome</th>\n",
       "      <th>medianHouseValue</th>\n",
       "      <th>expensive</th>\n",
       "    </tr>\n",
       "  </thead>\n",
       "  <tbody>\n",
       "    <tr>\n",
       "      <th>14868</th>\n",
       "      <td>-122.41</td>\n",
       "      <td>37.66</td>\n",
       "      <td>37.0</td>\n",
       "      <td>2155.0</td>\n",
       "      <td>446.0</td>\n",
       "      <td>1255.0</td>\n",
       "      <td>428.0</td>\n",
       "      <td>3.84</td>\n",
       "      <td>250700.0</td>\n",
       "      <td>1.0</td>\n",
       "    </tr>\n",
       "    <tr>\n",
       "      <th>13943</th>\n",
       "      <td>-117.85</td>\n",
       "      <td>33.77</td>\n",
       "      <td>23.0</td>\n",
       "      <td>5928.0</td>\n",
       "      <td>1204.0</td>\n",
       "      <td>3570.0</td>\n",
       "      <td>1150.0</td>\n",
       "      <td>4.04</td>\n",
       "      <td>233100.0</td>\n",
       "      <td>1.0</td>\n",
       "    </tr>\n",
       "    <tr>\n",
       "      <th>5201</th>\n",
       "      <td>-117.43</td>\n",
       "      <td>34.09</td>\n",
       "      <td>18.0</td>\n",
       "      <td>3172.0</td>\n",
       "      <td>632.0</td>\n",
       "      <td>1621.0</td>\n",
       "      <td>573.0</td>\n",
       "      <td>2.74</td>\n",
       "      <td>120200.0</td>\n",
       "      <td>0.0</td>\n",
       "    </tr>\n",
       "    <tr>\n",
       "      <th>17781</th>\n",
       "      <td>-122.39</td>\n",
       "      <td>37.60</td>\n",
       "      <td>34.0</td>\n",
       "      <td>707.0</td>\n",
       "      <td>159.0</td>\n",
       "      <td>381.0</td>\n",
       "      <td>156.0</td>\n",
       "      <td>4.38</td>\n",
       "      <td>340900.0</td>\n",
       "      <td>1.0</td>\n",
       "    </tr>\n",
       "    <tr>\n",
       "      <th>5807</th>\n",
       "      <td>-120.81</td>\n",
       "      <td>38.73</td>\n",
       "      <td>42.0</td>\n",
       "      <td>1276.0</td>\n",
       "      <td>260.0</td>\n",
       "      <td>799.0</td>\n",
       "      <td>259.0</td>\n",
       "      <td>2.73</td>\n",
       "      <td>128600.0</td>\n",
       "      <td>0.0</td>\n",
       "    </tr>\n",
       "    <tr>\n",
       "      <th>323</th>\n",
       "      <td>-122.66</td>\n",
       "      <td>39.03</td>\n",
       "      <td>27.0</td>\n",
       "      <td>1446.0</td>\n",
       "      <td>329.0</td>\n",
       "      <td>594.0</td>\n",
       "      <td>255.0</td>\n",
       "      <td>1.17</td>\n",
       "      <td>53300.0</td>\n",
       "      <td>0.0</td>\n",
       "    </tr>\n",
       "    <tr>\n",
       "      <th>9722</th>\n",
       "      <td>-120.97</td>\n",
       "      <td>38.91</td>\n",
       "      <td>7.0</td>\n",
       "      <td>4341.0</td>\n",
       "      <td>716.0</td>\n",
       "      <td>1978.0</td>\n",
       "      <td>682.0</td>\n",
       "      <td>4.83</td>\n",
       "      <td>172200.0</td>\n",
       "      <td>0.0</td>\n",
       "    </tr>\n",
       "    <tr>\n",
       "      <th>12624</th>\n",
       "      <td>-121.99</td>\n",
       "      <td>36.97</td>\n",
       "      <td>15.0</td>\n",
       "      <td>3044.0</td>\n",
       "      <td>786.0</td>\n",
       "      <td>1306.0</td>\n",
       "      <td>693.0</td>\n",
       "      <td>2.18</td>\n",
       "      <td>213200.0</td>\n",
       "      <td>1.0</td>\n",
       "    </tr>\n",
       "    <tr>\n",
       "      <th>1131</th>\n",
       "      <td>-124.15</td>\n",
       "      <td>40.81</td>\n",
       "      <td>50.0</td>\n",
       "      <td>340.0</td>\n",
       "      <td>74.0</td>\n",
       "      <td>235.0</td>\n",
       "      <td>83.0</td>\n",
       "      <td>1.75</td>\n",
       "      <td>67500.0</td>\n",
       "      <td>0.0</td>\n",
       "    </tr>\n",
       "    <tr>\n",
       "      <th>13040</th>\n",
       "      <td>-118.14</td>\n",
       "      <td>33.87</td>\n",
       "      <td>44.0</td>\n",
       "      <td>1661.0</td>\n",
       "      <td>315.0</td>\n",
       "      <td>985.0</td>\n",
       "      <td>319.0</td>\n",
       "      <td>4.39</td>\n",
       "      <td>219500.0</td>\n",
       "      <td>1.0</td>\n",
       "    </tr>\n",
       "  </tbody>\n",
       "</table>\n",
       "</div>"
      ],
      "text/plain": [
       "       longitude  latitude  housingMedianAge  totalRooms  totalBedrooms  \\\n",
       "14868    -122.41     37.66              37.0      2155.0          446.0   \n",
       "13943    -117.85     33.77              23.0      5928.0         1204.0   \n",
       "5201     -117.43     34.09              18.0      3172.0          632.0   \n",
       "17781    -122.39     37.60              34.0       707.0          159.0   \n",
       "5807     -120.81     38.73              42.0      1276.0          260.0   \n",
       "323      -122.66     39.03              27.0      1446.0          329.0   \n",
       "9722     -120.97     38.91               7.0      4341.0          716.0   \n",
       "12624    -121.99     36.97              15.0      3044.0          786.0   \n",
       "1131     -124.15     40.81              50.0       340.0           74.0   \n",
       "13040    -118.14     33.87              44.0      1661.0          315.0   \n",
       "\n",
       "       population  households  medianIncome  medianHouseValue  expensive  \n",
       "14868      1255.0       428.0          3.84          250700.0        1.0  \n",
       "13943      3570.0      1150.0          4.04          233100.0        1.0  \n",
       "5201       1621.0       573.0          2.74          120200.0        0.0  \n",
       "17781       381.0       156.0          4.38          340900.0        1.0  \n",
       "5807        799.0       259.0          2.73          128600.0        0.0  \n",
       "323         594.0       255.0          1.17           53300.0        0.0  \n",
       "9722       1978.0       682.0          4.83          172200.0        0.0  \n",
       "12624      1306.0       693.0          2.18          213200.0        1.0  \n",
       "1131        235.0        83.0          1.75           67500.0        0.0  \n",
       "13040       985.0       319.0          4.39          219500.0        1.0  "
      ]
     },
     "execution_count": 17,
     "metadata": {},
     "output_type": "execute_result"
    }
   ],
   "source": [
    "data = titanic_df#.drop(columns=[\"flightdate\",\"origin\",'carrier', 'destination', \"depdelta\", \"arrtime\", \"arrdelta\"])\n",
    "data.sample(10)"
   ]
  },
  {
   "cell_type": "code",
   "execution_count": 18,
   "metadata": {},
   "outputs": [
    {
     "name": "stdout",
     "output_type": "stream",
     "text": [
      "Mean Median House Value\n"
     ]
    },
    {
     "data": {
      "text/plain": [
       "<Figure size 1224x720 with 0 Axes>"
      ]
     },
     "metadata": {},
     "output_type": "display_data"
    },
    {
     "data": {
      "image/png": "[encoded data removed]",
      "text/plain": [
       "<Figure size 432x288 with 1 Axes>"
      ]
     },
     "metadata": {},
     "output_type": "display_data"
    }
   ],
   "source": [
    "fig=plt.figure(figsize=(17,10))\n",
    "data.hist(column=\"medianHouseValue\", bins=30)\n",
    "plt.xlabel(\"medianIncome\",fontsize=15)\n",
    "plt.ylabel(\"medianHouseValue\",fontsize=15)\n",
    "plt.xlim([0.0,1000000.0])\n",
    "plt.axvline(data[\"medianIncome\"].mean(), color=\"red\")\n",
    "print('Mean Median House Value'.format(data[\"medianHouseValue\"].mean()))\n"
   ]
  },
  {
   "cell_type": "code",
   "execution_count": 19,
   "metadata": {},
   "outputs": [
    {
     "data": {
      "text/html": [
       "<div>\n",
       "<style scoped>\n",
       "    .dataframe tbody tr th:only-of-type {\n",
       "        vertical-align: middle;\n",
       "    }\n",
       "\n",
       "    .dataframe tbody tr th {\n",
       "        vertical-align: top;\n",
       "    }\n",
       "\n",
       "    .dataframe thead th {\n",
       "        text-align: right;\n",
       "    }\n",
       "</style>\n",
       "<table border=\"1\" class=\"dataframe\">\n",
       "  <thead>\n",
       "    <tr style=\"text-align: right;\">\n",
       "      <th></th>\n",
       "      <th>longitude</th>\n",
       "      <th>latitude</th>\n",
       "      <th>housingMedianAge</th>\n",
       "      <th>totalRooms</th>\n",
       "      <th>totalBedrooms</th>\n",
       "      <th>population</th>\n",
       "      <th>households</th>\n",
       "      <th>medianIncome</th>\n",
       "      <th>medianHouseValue</th>\n",
       "      <th>expensive</th>\n",
       "      <th>depdelay</th>\n",
       "    </tr>\n",
       "  </thead>\n",
       "  <tbody>\n",
       "    <tr>\n",
       "      <th>0</th>\n",
       "      <td>-117.86</td>\n",
       "      <td>34.24</td>\n",
       "      <td>52.0</td>\n",
       "      <td>803.0</td>\n",
       "      <td>267.0</td>\n",
       "      <td>628.0</td>\n",
       "      <td>225.0</td>\n",
       "      <td>4.19</td>\n",
       "      <td>14999.0</td>\n",
       "      <td>0.0</td>\n",
       "      <td>14999.0</td>\n",
       "    </tr>\n",
       "    <tr>\n",
       "      <th>1</th>\n",
       "      <td>-117.02</td>\n",
       "      <td>36.40</td>\n",
       "      <td>19.0</td>\n",
       "      <td>619.0</td>\n",
       "      <td>239.0</td>\n",
       "      <td>490.0</td>\n",
       "      <td>164.0</td>\n",
       "      <td>2.10</td>\n",
       "      <td>14999.0</td>\n",
       "      <td>0.0</td>\n",
       "      <td>14999.0</td>\n",
       "    </tr>\n",
       "    <tr>\n",
       "      <th>2</th>\n",
       "      <td>-122.74</td>\n",
       "      <td>39.71</td>\n",
       "      <td>16.0</td>\n",
       "      <td>255.0</td>\n",
       "      <td>73.0</td>\n",
       "      <td>85.0</td>\n",
       "      <td>38.0</td>\n",
       "      <td>1.66</td>\n",
       "      <td>14999.0</td>\n",
       "      <td>0.0</td>\n",
       "      <td>14999.0</td>\n",
       "    </tr>\n",
       "    <tr>\n",
       "      <th>3</th>\n",
       "      <td>-123.17</td>\n",
       "      <td>40.31</td>\n",
       "      <td>36.0</td>\n",
       "      <td>98.0</td>\n",
       "      <td>28.0</td>\n",
       "      <td>18.0</td>\n",
       "      <td>8.0</td>\n",
       "      <td>0.54</td>\n",
       "      <td>14999.0</td>\n",
       "      <td>0.0</td>\n",
       "      <td>14999.0</td>\n",
       "    </tr>\n",
       "    <tr>\n",
       "      <th>4</th>\n",
       "      <td>-118.33</td>\n",
       "      <td>34.15</td>\n",
       "      <td>39.0</td>\n",
       "      <td>493.0</td>\n",
       "      <td>168.0</td>\n",
       "      <td>259.0</td>\n",
       "      <td>138.0</td>\n",
       "      <td>2.37</td>\n",
       "      <td>17500.0</td>\n",
       "      <td>0.0</td>\n",
       "      <td>17500.0</td>\n",
       "    </tr>\n",
       "    <tr>\n",
       "      <th>5</th>\n",
       "      <td>-116.57</td>\n",
       "      <td>35.43</td>\n",
       "      <td>8.0</td>\n",
       "      <td>9975.0</td>\n",
       "      <td>1743.0</td>\n",
       "      <td>6835.0</td>\n",
       "      <td>1439.0</td>\n",
       "      <td>2.71</td>\n",
       "      <td>22500.0</td>\n",
       "      <td>0.0</td>\n",
       "      <td>22500.0</td>\n",
       "    </tr>\n",
       "    <tr>\n",
       "      <th>6</th>\n",
       "      <td>-122.32</td>\n",
       "      <td>37.93</td>\n",
       "      <td>33.0</td>\n",
       "      <td>296.0</td>\n",
       "      <td>73.0</td>\n",
       "      <td>216.0</td>\n",
       "      <td>63.0</td>\n",
       "      <td>2.68</td>\n",
       "      <td>22500.0</td>\n",
       "      <td>0.0</td>\n",
       "      <td>22500.0</td>\n",
       "    </tr>\n",
       "    <tr>\n",
       "      <th>7</th>\n",
       "      <td>-117.16</td>\n",
       "      <td>32.71</td>\n",
       "      <td>52.0</td>\n",
       "      <td>845.0</td>\n",
       "      <td>451.0</td>\n",
       "      <td>1230.0</td>\n",
       "      <td>375.0</td>\n",
       "      <td>1.09</td>\n",
       "      <td>22500.0</td>\n",
       "      <td>0.0</td>\n",
       "      <td>22500.0</td>\n",
       "    </tr>\n",
       "    <tr>\n",
       "      <th>8</th>\n",
       "      <td>-121.29</td>\n",
       "      <td>37.95</td>\n",
       "      <td>52.0</td>\n",
       "      <td>107.0</td>\n",
       "      <td>79.0</td>\n",
       "      <td>167.0</td>\n",
       "      <td>53.0</td>\n",
       "      <td>0.79</td>\n",
       "      <td>22500.0</td>\n",
       "      <td>0.0</td>\n",
       "      <td>22500.0</td>\n",
       "    </tr>\n",
       "    <tr>\n",
       "      <th>9</th>\n",
       "      <td>-114.65</td>\n",
       "      <td>32.79</td>\n",
       "      <td>21.0</td>\n",
       "      <td>44.0</td>\n",
       "      <td>33.0</td>\n",
       "      <td>64.0</td>\n",
       "      <td>27.0</td>\n",
       "      <td>0.86</td>\n",
       "      <td>25000.0</td>\n",
       "      <td>0.0</td>\n",
       "      <td>25000.0</td>\n",
       "    </tr>\n",
       "  </tbody>\n",
       "</table>\n",
       "</div>"
      ],
      "text/plain": [
       "   longitude  latitude  housingMedianAge  totalRooms  totalBedrooms  \\\n",
       "0    -117.86     34.24              52.0       803.0          267.0   \n",
       "1    -117.02     36.40              19.0       619.0          239.0   \n",
       "2    -122.74     39.71              16.0       255.0           73.0   \n",
       "3    -123.17     40.31              36.0        98.0           28.0   \n",
       "4    -118.33     34.15              39.0       493.0          168.0   \n",
       "5    -116.57     35.43               8.0      9975.0         1743.0   \n",
       "6    -122.32     37.93              33.0       296.0           73.0   \n",
       "7    -117.16     32.71              52.0       845.0          451.0   \n",
       "8    -121.29     37.95              52.0       107.0           79.0   \n",
       "9    -114.65     32.79              21.0        44.0           33.0   \n",
       "\n",
       "   population  households  medianIncome  medianHouseValue  expensive  depdelay  \n",
       "0       628.0       225.0          4.19           14999.0        0.0   14999.0  \n",
       "1       490.0       164.0          2.10           14999.0        0.0   14999.0  \n",
       "2        85.0        38.0          1.66           14999.0        0.0   14999.0  \n",
       "3        18.0         8.0          0.54           14999.0        0.0   14999.0  \n",
       "4       259.0       138.0          2.37           17500.0        0.0   17500.0  \n",
       "5      6835.0      1439.0          2.71           22500.0        0.0   22500.0  \n",
       "6       216.0        63.0          2.68           22500.0        0.0   22500.0  \n",
       "7      1230.0       375.0          1.09           22500.0        0.0   22500.0  \n",
       "8       167.0        53.0          0.79           22500.0        0.0   22500.0  \n",
       "9        64.0        27.0          0.86           25000.0        0.0   25000.0  "
      ]
     },
     "execution_count": 19,
     "metadata": {},
     "output_type": "execute_result"
    }
   ],
   "source": [
    "data_nona = data[\"medianHouseValue\"].fillna(data[\"medianHouseValue\"].mean())\n",
    "data[\"depdelay\"]=data_nona\n",
    "data.head(10)"
   ]
  },
  {
   "cell_type": "code",
   "execution_count": 20,
   "metadata": {},
   "outputs": [],
   "source": [
    "# data.info()"
   ]
  },
  {
   "cell_type": "markdown",
   "metadata": {},
   "source": [
    "# Decision Tree Algorithm"
   ]
  },
  {
   "cell_type": "code",
   "execution_count": 21,
   "metadata": {},
   "outputs": [],
   "source": [
    "target = data[\"expensive\"]\n",
    "target_names = [\"yes\", \"no\"]"
   ]
  },
  {
   "cell_type": "code",
   "execution_count": 22,
   "metadata": {},
   "outputs": [
    {
     "data": {
      "text/html": [
       "<div>\n",
       "<style scoped>\n",
       "    .dataframe tbody tr th:only-of-type {\n",
       "        vertical-align: middle;\n",
       "    }\n",
       "\n",
       "    .dataframe tbody tr th {\n",
       "        vertical-align: top;\n",
       "    }\n",
       "\n",
       "    .dataframe thead th {\n",
       "        text-align: right;\n",
       "    }\n",
       "</style>\n",
       "<table border=\"1\" class=\"dataframe\">\n",
       "  <thead>\n",
       "    <tr style=\"text-align: right;\">\n",
       "      <th></th>\n",
       "      <th>longitude</th>\n",
       "      <th>latitude</th>\n",
       "      <th>housingMedianAge</th>\n",
       "      <th>totalRooms</th>\n",
       "      <th>totalBedrooms</th>\n",
       "      <th>population</th>\n",
       "      <th>households</th>\n",
       "      <th>medianIncome</th>\n",
       "      <th>medianHouseValue</th>\n",
       "      <th>depdelay</th>\n",
       "    </tr>\n",
       "  </thead>\n",
       "  <tbody>\n",
       "    <tr>\n",
       "      <th>0</th>\n",
       "      <td>-117.86</td>\n",
       "      <td>34.24</td>\n",
       "      <td>52.0</td>\n",
       "      <td>803.0</td>\n",
       "      <td>267.0</td>\n",
       "      <td>628.0</td>\n",
       "      <td>225.0</td>\n",
       "      <td>4.19</td>\n",
       "      <td>14999.0</td>\n",
       "      <td>14999.0</td>\n",
       "    </tr>\n",
       "    <tr>\n",
       "      <th>1</th>\n",
       "      <td>-117.02</td>\n",
       "      <td>36.40</td>\n",
       "      <td>19.0</td>\n",
       "      <td>619.0</td>\n",
       "      <td>239.0</td>\n",
       "      <td>490.0</td>\n",
       "      <td>164.0</td>\n",
       "      <td>2.10</td>\n",
       "      <td>14999.0</td>\n",
       "      <td>14999.0</td>\n",
       "    </tr>\n",
       "    <tr>\n",
       "      <th>2</th>\n",
       "      <td>-122.74</td>\n",
       "      <td>39.71</td>\n",
       "      <td>16.0</td>\n",
       "      <td>255.0</td>\n",
       "      <td>73.0</td>\n",
       "      <td>85.0</td>\n",
       "      <td>38.0</td>\n",
       "      <td>1.66</td>\n",
       "      <td>14999.0</td>\n",
       "      <td>14999.0</td>\n",
       "    </tr>\n",
       "    <tr>\n",
       "      <th>3</th>\n",
       "      <td>-123.17</td>\n",
       "      <td>40.31</td>\n",
       "      <td>36.0</td>\n",
       "      <td>98.0</td>\n",
       "      <td>28.0</td>\n",
       "      <td>18.0</td>\n",
       "      <td>8.0</td>\n",
       "      <td>0.54</td>\n",
       "      <td>14999.0</td>\n",
       "      <td>14999.0</td>\n",
       "    </tr>\n",
       "    <tr>\n",
       "      <th>4</th>\n",
       "      <td>-118.33</td>\n",
       "      <td>34.15</td>\n",
       "      <td>39.0</td>\n",
       "      <td>493.0</td>\n",
       "      <td>168.0</td>\n",
       "      <td>259.0</td>\n",
       "      <td>138.0</td>\n",
       "      <td>2.37</td>\n",
       "      <td>17500.0</td>\n",
       "      <td>17500.0</td>\n",
       "    </tr>\n",
       "  </tbody>\n",
       "</table>\n",
       "</div>"
      ],
      "text/plain": [
       "   longitude  latitude  housingMedianAge  totalRooms  totalBedrooms  \\\n",
       "0    -117.86     34.24              52.0       803.0          267.0   \n",
       "1    -117.02     36.40              19.0       619.0          239.0   \n",
       "2    -122.74     39.71              16.0       255.0           73.0   \n",
       "3    -123.17     40.31              36.0        98.0           28.0   \n",
       "4    -118.33     34.15              39.0       493.0          168.0   \n",
       "\n",
       "   population  households  medianIncome  medianHouseValue  depdelay  \n",
       "0       628.0       225.0          4.19           14999.0   14999.0  \n",
       "1       490.0       164.0          2.10           14999.0   14999.0  \n",
       "2        85.0        38.0          1.66           14999.0   14999.0  \n",
       "3        18.0         8.0          0.54           14999.0   14999.0  \n",
       "4       259.0       138.0          2.37           17500.0   17500.0  "
      ]
     },
     "execution_count": 22,
     "metadata": {},
     "output_type": "execute_result"
    }
   ],
   "source": [
    "variable = data.drop(\"expensive\", axis=1)\n",
    "feature_names = variable.columns\n",
    "variable.head()"
   ]
  },
  {
   "cell_type": "code",
   "execution_count": 23,
   "metadata": {},
   "outputs": [],
   "source": [
    "from sklearn.model_selection import train_test_split\n",
    "X_train, X_test, y_train, y_test = train_test_split(variable, target, random_state=42)"
   ]
  },
  {
   "cell_type": "code",
   "execution_count": 24,
   "metadata": {},
   "outputs": [
    {
     "data": {
      "text/plain": [
       "1.0"
      ]
     },
     "execution_count": 24,
     "metadata": {},
     "output_type": "execute_result"
    }
   ],
   "source": [
    "# y_test is what the outcome is, and y_predict is what the decision tree predicts it. \n",
    "#y_test is the survive column entries, and X_test the rest of the columns or the \n",
    "# variables we think affect the survivie. \n",
    "clf = tree.DecisionTreeClassifier()\n",
    "clf = clf.fit(X_train, y_train)\n",
    "clf.score(X_test, y_test) "
   ]
  },
  {
   "cell_type": "code",
   "execution_count": 25,
   "metadata": {},
   "outputs": [
    {
     "data": {
      "text/plain": [
       "1.0"
      ]
     },
     "execution_count": 25,
     "metadata": {},
     "output_type": "execute_result"
    }
   ],
   "source": [
    "y_predict = clf.predict(X_test)\n",
    "y_predict.shape\n",
    "clf.score(X_train,y_train)"
   ]
  },
  {
   "cell_type": "code",
   "execution_count": 74,
   "metadata": {},
   "outputs": [
    {
     "data": {
      "text/plain": [
       "array([1., 0., 1., ..., 0., 1., 0.])"
      ]
     },
     "execution_count": 74,
     "metadata": {},
     "output_type": "execute_result"
    }
   ],
   "source": [
    "y_predict = clf.predict(X_test)\n",
    "y_predict"
   ]
  },
  {
   "cell_type": "markdown",
   "metadata": {},
   "source": [
    "# Random forest Algorithm"
   ]
  },
  {
   "cell_type": "code",
   "execution_count": 75,
   "metadata": {},
   "outputs": [
    {
     "data": {
      "text/plain": [
       "1.0"
      ]
     },
     "execution_count": 75,
     "metadata": {},
     "output_type": "execute_result"
    }
   ],
   "source": [
    "# Create a random forest classifier\n",
    "rf = RandomForestClassifier(n_estimators=200)\n",
    "rf = rf.fit(variable, target)\n",
    "rf.score(variable, target)\n",
    "# Have not done the cross validation"
   ]
  },
  {
   "cell_type": "code",
   "execution_count": 76,
   "metadata": {},
   "outputs": [
    {
     "data": {
      "text/plain": [
       "array([1.13511200e-02, 1.03383902e-02, 7.70623050e-04, 1.81924231e-03,\n",
       "       2.05143896e-04, 5.58737622e-04, 2.16767109e-04, 5.58134138e-02,\n",
       "       5.05927910e-01, 4.12998652e-01])"
      ]
     },
     "execution_count": 76,
     "metadata": {},
     "output_type": "execute_result"
    }
   ],
   "source": [
    "# Random Forests in sklearn will automatically calculate feature importance\n",
    "importances = rf.feature_importances_\n",
    "importances"
   ]
  },
  {
   "cell_type": "code",
   "execution_count": 77,
   "metadata": {},
   "outputs": [
    {
     "data": {
      "text/plain": [
       "[(0.5059279095517626, 'medianHouseValue'),\n",
       " (0.41299865246959394, 'depdelay'),\n",
       " (0.0558134138453363, 'medianIncome'),\n",
       " (0.011351119983505374, 'longitude'),\n",
       " (0.010338390160733714, 'latitude'),\n",
       " (0.001819242312719582, 'totalRooms'),\n",
       " (0.0007706230499372597, 'housingMedianAge'),\n",
       " (0.0005587376215099128, 'population'),\n",
       " (0.00021676710877254743, 'households'),\n",
       " (0.00020514389612845939, 'totalBedrooms')]"
      ]
     },
     "execution_count": 77,
     "metadata": {},
     "output_type": "execute_result"
    }
   ],
   "source": [
    "# We can sort the features by their importance\n",
    "sorted(zip(rf.feature_importances_, feature_names), reverse=True)"
   ]
  },
  {
   "cell_type": "markdown",
   "metadata": {},
   "source": [
    "# Support Vector Machine\n",
    "With Radial-basis-function kernel"
   ]
  },
  {
   "cell_type": "code",
   "execution_count": 78,
   "metadata": {},
   "outputs": [
    {
     "name": "stderr",
     "output_type": "stream",
     "text": [
      "/anaconda3/envs/PythonData/lib/python3.6/site-packages/sklearn/svm/base.py:196: FutureWarning: The default value of gamma will change from 'auto' to 'scale' in version 0.22 to account better for unscaled features. Set gamma explicitly to 'auto' or 'scale' to avoid this warning.\n",
      "  \"avoid this warning.\", FutureWarning)\n"
     ]
    }
   ],
   "source": [
    "from sklearn.svm import SVC \n",
    "# using X_train, X_test, y_train, y_test\n",
    "model = SVC(kernel='rbf')\n",
    "model.fit(X_train, y_train)\n",
    "y_predict = model.predict(X_test)\n",
    "# compare y_predict to y_test"
   ]
  },
  {
   "cell_type": "code",
   "execution_count": 79,
   "metadata": {},
   "outputs": [],
   "source": [
    "# if good prediction, what is y_predict - y_test = 0 "
   ]
  },
  {
   "cell_type": "code",
   "execution_count": 80,
   "metadata": {},
   "outputs": [
    {
     "name": "stdout",
     "output_type": "stream",
     "text": [
      "0.5945736434108527\n"
     ]
    }
   ],
   "source": [
    "accuracy = model.score(X_test, y_test)\n",
    "print(accuracy)"
   ]
  },
  {
   "cell_type": "code",
   "execution_count": 81,
   "metadata": {},
   "outputs": [
    {
     "data": {
      "text/plain": [
       "1.0"
      ]
     },
     "execution_count": 81,
     "metadata": {},
     "output_type": "execute_result"
    }
   ],
   "source": [
    "# How do I assess accuracy\n",
    "model.score(X_train, y_train)"
   ]
  },
  {
   "cell_type": "markdown",
   "metadata": {},
   "source": [
    "# Support Vector Machine with Polynomial Kernel "
   ]
  },
  {
   "cell_type": "code",
   "execution_count": 82,
   "metadata": {},
   "outputs": [],
   "source": [
    "# from sklearn.svm import SVC \n",
    "# # using X_train, X_test, y_train, y_test\n",
    "# model = SVC(kernel='pol')\n",
    "# model.fit(X_train, y_train)\n",
    "# y_predict = model.predict(X_test)\n",
    "# # compare y_predict to y_test"
   ]
  },
  {
   "cell_type": "code",
   "execution_count": 83,
   "metadata": {},
   "outputs": [],
   "source": [
    "# accuracy = model.score(X_test, y_test)\n",
    "# print(accuracy)"
   ]
  },
  {
   "cell_type": "code",
   "execution_count": 84,
   "metadata": {},
   "outputs": [],
   "source": [
    "# # How do I assess accuracy\n",
    "# model.score(X_train, y_train)"
   ]
  },
  {
   "cell_type": "markdown",
   "metadata": {},
   "source": [
    "# Logistic Regression"
   ]
  },
  {
   "cell_type": "code",
   "execution_count": 85,
   "metadata": {},
   "outputs": [
    {
     "data": {
      "text/plain": [
       "LogisticRegression(C=1.0, class_weight=None, dual=False, fit_intercept=True,\n",
       "          intercept_scaling=1, max_iter=100, multi_class='warn',\n",
       "          n_jobs=None, penalty='l2', random_state=None, solver='warn',\n",
       "          tol=0.0001, verbose=0, warm_start=False)"
      ]
     },
     "execution_count": 85,
     "metadata": {},
     "output_type": "execute_result"
    }
   ],
   "source": [
    "from sklearn.linear_model import LogisticRegression\n",
    "classifier = LogisticRegression()\n",
    "classifier"
   ]
  },
  {
   "cell_type": "code",
   "execution_count": 86,
   "metadata": {},
   "outputs": [
    {
     "name": "stderr",
     "output_type": "stream",
     "text": [
      "/anaconda3/envs/PythonData/lib/python3.6/site-packages/sklearn/linear_model/logistic.py:432: FutureWarning: Default solver will be changed to 'lbfgs' in 0.22. Specify a solver to silence this warning.\n",
      "  FutureWarning)\n"
     ]
    },
    {
     "data": {
      "text/plain": [
       "LogisticRegression(C=1.0, class_weight=None, dual=False, fit_intercept=True,\n",
       "          intercept_scaling=1, max_iter=100, multi_class='warn',\n",
       "          n_jobs=None, penalty='l2', random_state=None, solver='warn',\n",
       "          tol=0.0001, verbose=0, warm_start=False)"
      ]
     },
     "execution_count": 86,
     "metadata": {},
     "output_type": "execute_result"
    }
   ],
   "source": [
    "classifier.fit(X_train, y_train)"
   ]
  },
  {
   "cell_type": "code",
   "execution_count": 87,
   "metadata": {},
   "outputs": [
    {
     "name": "stdout",
     "output_type": "stream",
     "text": [
      "Training Data Score: 0.991343669250646\n",
      "Testing Data Score: 0.9932170542635659\n"
     ]
    }
   ],
   "source": [
    "print(f\"Training Data Score: {classifier.score(X_train, y_train)}\")\n",
    "print(f\"Testing Data Score: {classifier.score(X_test, y_test)}\")"
   ]
  },
  {
   "cell_type": "code",
   "execution_count": 88,
   "metadata": {},
   "outputs": [
    {
     "data": {
      "text/html": [
       "<div>\n",
       "<style scoped>\n",
       "    .dataframe tbody tr th:only-of-type {\n",
       "        vertical-align: middle;\n",
       "    }\n",
       "\n",
       "    .dataframe tbody tr th {\n",
       "        vertical-align: top;\n",
       "    }\n",
       "\n",
       "    .dataframe thead th {\n",
       "        text-align: right;\n",
       "    }\n",
       "</style>\n",
       "<table border=\"1\" class=\"dataframe\">\n",
       "  <thead>\n",
       "    <tr style=\"text-align: right;\">\n",
       "      <th></th>\n",
       "      <th>Prediction</th>\n",
       "      <th>Actual</th>\n",
       "    </tr>\n",
       "  </thead>\n",
       "  <tbody>\n",
       "    <tr>\n",
       "      <th>20046</th>\n",
       "      <td>1.0</td>\n",
       "      <td>1.0</td>\n",
       "    </tr>\n",
       "    <tr>\n",
       "      <th>3024</th>\n",
       "      <td>0.0</td>\n",
       "      <td>0.0</td>\n",
       "    </tr>\n",
       "    <tr>\n",
       "      <th>15663</th>\n",
       "      <td>1.0</td>\n",
       "      <td>1.0</td>\n",
       "    </tr>\n",
       "    <tr>\n",
       "      <th>20484</th>\n",
       "      <td>1.0</td>\n",
       "      <td>1.0</td>\n",
       "    </tr>\n",
       "    <tr>\n",
       "      <th>9814</th>\n",
       "      <td>0.0</td>\n",
       "      <td>0.0</td>\n",
       "    </tr>\n",
       "  </tbody>\n",
       "</table>\n",
       "</div>"
      ],
      "text/plain": [
       "       Prediction  Actual\n",
       "20046         1.0     1.0\n",
       "3024          0.0     0.0\n",
       "15663         1.0     1.0\n",
       "20484         1.0     1.0\n",
       "9814          0.0     0.0"
      ]
     },
     "execution_count": 88,
     "metadata": {},
     "output_type": "execute_result"
    }
   ],
   "source": [
    "predictions = classifier.predict(X_test)\n",
    "pd.DataFrame({\"Prediction\": predictions, \"Actual\": y_test}).head()"
   ]
  },
  {
   "cell_type": "markdown",
   "metadata": {},
   "source": [
    "# K Nearest Neighbor"
   ]
  },
  {
   "cell_type": "code",
   "execution_count": 89,
   "metadata": {},
   "outputs": [
    {
     "name": "stdout",
     "output_type": "stream",
     "text": [
      "99.98\n"
     ]
    }
   ],
   "source": [
    "# KNN \n",
    "knn = KNeighborsClassifier(n_neighbors = 3) \n",
    "knn.fit(X_train, y_train)  \n",
    "Y_pred = knn.predict(X_test)  \n",
    "acc_knn = round(knn.score(X_train, y_train) * 100, 2)\n",
    "ac2_knn = round(knn.score(X_test, y_test) * 100, 2)\n",
    "\n",
    "print(acc_knn)"
   ]
  },
  {
   "cell_type": "code",
   "execution_count": null,
   "metadata": {},
   "outputs": [],
   "source": [
    "print(ac2_knn)"
   ]
  },
  {
   "cell_type": "code",
   "execution_count": null,
   "metadata": {},
   "outputs": [],
   "source": []
  }
 ],
 "metadata": {
  "kernelspec": {
   "display_name": "Python 3",
   "language": "python",
   "name": "python3"
  },
  "language_info": {
   "codemirror_mode": {
    "name": "ipython",
    "version": 3
   },
   "file_extension": ".py",
   "mimetype": "text/x-python",
   "name": "python",
   "nbconvert_exporter": "python",
   "pygments_lexer": "ipython3",
   "version": "3.6.5"
  }
 },
 "nbformat": 4,
 "nbformat_minor": 2
}
