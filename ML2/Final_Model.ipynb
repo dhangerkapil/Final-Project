{
 "cells": [
  {
   "cell_type": "markdown",
   "metadata": {},
   "source": [
    "Data Dictionary\n",
    "Variable\tDefinition\tKey\n",
    "survival\tSurvival\t0 = No, 1 = Yes\n",
    "pclass\tTicket class\t1 = 1st, 2 = 2nd, 3 = 3rd\n",
    "sex\tSex\t\n",
    "Age\tAge in years\t\n",
    "sibsp\t# of siblings / spouses aboard the Titanic\t\n",
    "parch\t# of parents / children aboard the Titanic\t\n",
    "ticket\tTicket number\t\n",
    "fare\tPassenger fare\t\n",
    "cabin\tCabin number\t\n",
    "embarked\tPort of Embarkation\tC = Cherbourg, Q = Queenstown, S = Southampton\n",
    "Variable Notes\n",
    "pclass: A proxy for socio-economic status (SES)\n",
    "1st = Upper\n",
    "2nd = Middle\n",
    "3rd = Lower\n",
    "\n",
    "age: Age is fractional if less than 1. If the age is estimated, is it in the form of xx.5\n",
    "\n",
    "sibsp: The dataset defines family relations in this way...\n",
    "Sibling = brother, sister, stepbrother, stepsister\n",
    "Spouse = husband, wife (mistresses and fiancés were ignored)\n",
    "\n",
    "parch: The dataset defines family relations in this way...\n",
    "Parent = mother, father\n",
    "Child = daughter, son, stepdaughter, stepson\n",
    "Some children travelled only with a nanny, therefore parch=0 for them.\n",
    "\n",
    "**survival:    Survival\n",
    "PassengerId: Unique Id of a passenger. \n",
    "pclass:    Ticket class     \n",
    "sex:    Sex     \n",
    "Age:    Age in years     \n",
    "sibsp:    # of siblings / spouses aboard the Titanic     \n",
    "parch:    # of parents / children aboard the Titanic     \n",
    "ticket:    Ticket number     \n",
    "fare:    Passenger fare     \n",
    "cabin:    Cabin number     \n",
    "embarked:    Port of Embarkation\n",
    "titanic_df.describe()**\n"
   ]
  },
  {
   "cell_type": "code",
   "execution_count": 20,
   "metadata": {},
   "outputs": [],
   "source": [
    "# linear algebra\n",
    "import numpy as np \n",
    "\n",
    "# data processing\n",
    "import pandas as pd \n",
    "\n",
    "# data visualization\n",
    "import seaborn as sns\n",
    "%matplotlib inline\n",
    "from matplotlib import pyplot as plt\n",
    "from matplotlib import style\n",
    "\n",
    "# Algorithms\n",
    "# from sklearn import linear_model\n",
    "# from sklearn.linear_model import LogisticRegression\n",
    "from sklearn.ensemble import RandomForestClassifier\n",
    "\n",
    "from sklearn import tree\n",
    "import pandas as pd\n",
    "import os\n",
    "from sklearn.neighbors import KNeighborsClassifier"
   ]
  },
  {
   "cell_type": "code",
   "execution_count": 21,
   "metadata": {},
   "outputs": [],
   "source": [
    "titanic_df = pd.read_csv(\"clean4ML2.csv\")\n"
   ]
  },
  {
   "cell_type": "code",
   "execution_count": 22,
   "metadata": {},
   "outputs": [
    {
     "data": {
      "text/html": [
       "<div>\n",
       "<style scoped>\n",
       "    .dataframe tbody tr th:only-of-type {\n",
       "        vertical-align: middle;\n",
       "    }\n",
       "\n",
       "    .dataframe tbody tr th {\n",
       "        vertical-align: top;\n",
       "    }\n",
       "\n",
       "    .dataframe thead th {\n",
       "        text-align: right;\n",
       "    }\n",
       "</style>\n",
       "<table border=\"1\" class=\"dataframe\">\n",
       "  <thead>\n",
       "    <tr style=\"text-align: right;\">\n",
       "      <th></th>\n",
       "      <th>algo</th>\n",
       "      <th>titanic</th>\n",
       "      <th>space</th>\n",
       "      <th>flights</th>\n",
       "      <th>housing</th>\n",
       "      <th>quakes</th>\n",
       "      <th>cancer</th>\n",
       "      <th>stocks</th>\n",
       "      <th>useful</th>\n",
       "    </tr>\n",
       "  </thead>\n",
       "  <tbody>\n",
       "    <tr>\n",
       "      <th>0</th>\n",
       "      <td>1.0</td>\n",
       "      <td>0.982036</td>\n",
       "      <td>1.000000</td>\n",
       "      <td>0.999881</td>\n",
       "      <td>0.854642</td>\n",
       "      <td>0.854642</td>\n",
       "      <td>1.000000</td>\n",
       "      <td>0.205761</td>\n",
       "      <td>1.0</td>\n",
       "    </tr>\n",
       "    <tr>\n",
       "      <th>1</th>\n",
       "      <td>2.0</td>\n",
       "      <td>0.744395</td>\n",
       "      <td>0.605505</td>\n",
       "      <td>0.999156</td>\n",
       "      <td>0.756146</td>\n",
       "      <td>0.754153</td>\n",
       "      <td>0.937062</td>\n",
       "      <td>0.086419</td>\n",
       "      <td>0.0</td>\n",
       "    </tr>\n",
       "    <tr>\n",
       "      <th>2</th>\n",
       "      <td>3.0</td>\n",
       "      <td>0.982036</td>\n",
       "      <td>1.000000</td>\n",
       "      <td>0.999853</td>\n",
       "      <td>1.000000</td>\n",
       "      <td>0.849285</td>\n",
       "      <td>1.000000</td>\n",
       "      <td>0.205761</td>\n",
       "      <td>1.0</td>\n",
       "    </tr>\n",
       "    <tr>\n",
       "      <th>3</th>\n",
       "      <td>4.0</td>\n",
       "      <td>0.802691</td>\n",
       "      <td>0.714577</td>\n",
       "      <td>0.999818</td>\n",
       "      <td>1.000000</td>\n",
       "      <td>0.845183</td>\n",
       "      <td>0.972027</td>\n",
       "      <td>0.092592</td>\n",
       "      <td>1.0</td>\n",
       "    </tr>\n",
       "  </tbody>\n",
       "</table>\n",
       "</div>"
      ],
      "text/plain": [
       "   algo   titanic     space   flights   housing    quakes    cancer    stocks  \\\n",
       "0   1.0  0.982036  1.000000  0.999881  0.854642  0.854642  1.000000  0.205761   \n",
       "1   2.0  0.744395  0.605505  0.999156  0.756146  0.754153  0.937062  0.086419   \n",
       "2   3.0  0.982036  1.000000  0.999853  1.000000  0.849285  1.000000  0.205761   \n",
       "3   4.0  0.802691  0.714577  0.999818  1.000000  0.845183  0.972027  0.092592   \n",
       "\n",
       "   useful  \n",
       "0     1.0  \n",
       "1     0.0  \n",
       "2     1.0  \n",
       "3     1.0  "
      ]
     },
     "execution_count": 22,
     "metadata": {},
     "output_type": "execute_result"
    }
   ],
   "source": [
    "titanic_df.head(4)"
   ]
  },
  {
   "cell_type": "code",
   "execution_count": 23,
   "metadata": {},
   "outputs": [],
   "source": [
    "#titanic_df['useful'] = titanic_df['useful'].map({'female': 1, 'male': 0})\n",
    "#titanic_df.head(4)"
   ]
  },
  {
   "cell_type": "code",
   "execution_count": 24,
   "metadata": {},
   "outputs": [
    {
     "data": {
      "text/html": [
       "<div>\n",
       "<style scoped>\n",
       "    .dataframe tbody tr th:only-of-type {\n",
       "        vertical-align: middle;\n",
       "    }\n",
       "\n",
       "    .dataframe tbody tr th {\n",
       "        vertical-align: top;\n",
       "    }\n",
       "\n",
       "    .dataframe thead th {\n",
       "        text-align: right;\n",
       "    }\n",
       "</style>\n",
       "<table border=\"1\" class=\"dataframe\">\n",
       "  <thead>\n",
       "    <tr style=\"text-align: right;\">\n",
       "      <th></th>\n",
       "      <th>algo</th>\n",
       "      <th>titanic</th>\n",
       "      <th>space</th>\n",
       "      <th>flights</th>\n",
       "      <th>housing</th>\n",
       "      <th>quakes</th>\n",
       "      <th>cancer</th>\n",
       "      <th>stocks</th>\n",
       "      <th>useful</th>\n",
       "    </tr>\n",
       "  </thead>\n",
       "  <tbody>\n",
       "    <tr>\n",
       "      <th>23</th>\n",
       "      <td>24.0</td>\n",
       "      <td>0.829341</td>\n",
       "      <td>3.899083e-01</td>\n",
       "      <td>0.000000e+00</td>\n",
       "      <td>0.000000e+00</td>\n",
       "      <td>0.000000</td>\n",
       "      <td>9.396320e-01</td>\n",
       "      <td>0.127572</td>\n",
       "      <td>1.0</td>\n",
       "    </tr>\n",
       "    <tr>\n",
       "      <th>18</th>\n",
       "      <td>19.0</td>\n",
       "      <td>0.000000</td>\n",
       "      <td>0.000000e+00</td>\n",
       "      <td>9.195876e-01</td>\n",
       "      <td>1.297626e-02</td>\n",
       "      <td>0.012976</td>\n",
       "      <td>0.000000e+00</td>\n",
       "      <td>0.000000</td>\n",
       "      <td>0.0</td>\n",
       "    </tr>\n",
       "    <tr>\n",
       "      <th>2</th>\n",
       "      <td>3.0</td>\n",
       "      <td>0.982036</td>\n",
       "      <td>1.000000e+00</td>\n",
       "      <td>9.998532e-01</td>\n",
       "      <td>1.000000e+00</td>\n",
       "      <td>0.849285</td>\n",
       "      <td>1.000000e+00</td>\n",
       "      <td>0.205761</td>\n",
       "      <td>1.0</td>\n",
       "    </tr>\n",
       "    <tr>\n",
       "      <th>22</th>\n",
       "      <td>23.0</td>\n",
       "      <td>0.780269</td>\n",
       "      <td>7.339450e-02</td>\n",
       "      <td>0.000000e+00</td>\n",
       "      <td>0.000000e+00</td>\n",
       "      <td>0.000000</td>\n",
       "      <td>9.414890e-01</td>\n",
       "      <td>0.074074</td>\n",
       "      <td>0.0</td>\n",
       "    </tr>\n",
       "    <tr>\n",
       "      <th>21</th>\n",
       "      <td>22.0</td>\n",
       "      <td>0.796407</td>\n",
       "      <td>7.577302e-02</td>\n",
       "      <td>0.000000e+00</td>\n",
       "      <td>0.000000e+00</td>\n",
       "      <td>0.000000</td>\n",
       "      <td>9.396320e-01</td>\n",
       "      <td>0.129629</td>\n",
       "      <td>1.0</td>\n",
       "    </tr>\n",
       "    <tr>\n",
       "      <th>17</th>\n",
       "      <td>18.0</td>\n",
       "      <td>0.000000</td>\n",
       "      <td>0.000000e+00</td>\n",
       "      <td>9.214893e-04</td>\n",
       "      <td>4.757037e-01</td>\n",
       "      <td>0.004504</td>\n",
       "      <td>0.000000e+00</td>\n",
       "      <td>0.000000</td>\n",
       "      <td>0.0</td>\n",
       "    </tr>\n",
       "    <tr>\n",
       "      <th>28</th>\n",
       "      <td>29.0</td>\n",
       "      <td>0.000000</td>\n",
       "      <td>0.000000e+00</td>\n",
       "      <td>0.000000e+00</td>\n",
       "      <td>0.000000e+00</td>\n",
       "      <td>0.000000</td>\n",
       "      <td>-1.920000e-04</td>\n",
       "      <td>0.823926</td>\n",
       "      <td>0.0</td>\n",
       "    </tr>\n",
       "    <tr>\n",
       "      <th>0</th>\n",
       "      <td>1.0</td>\n",
       "      <td>0.982036</td>\n",
       "      <td>1.000000e+00</td>\n",
       "      <td>9.998814e-01</td>\n",
       "      <td>8.546421e-01</td>\n",
       "      <td>0.854642</td>\n",
       "      <td>1.000000e+00</td>\n",
       "      <td>0.205761</td>\n",
       "      <td>1.0</td>\n",
       "    </tr>\n",
       "    <tr>\n",
       "      <th>8</th>\n",
       "      <td>9.0</td>\n",
       "      <td>0.838323</td>\n",
       "      <td>5.485899e-01</td>\n",
       "      <td>9.994000e+01</td>\n",
       "      <td>9.998000e+01</td>\n",
       "      <td>79.460000</td>\n",
       "      <td>9.201870e-01</td>\n",
       "      <td>0.000000</td>\n",
       "      <td>1.0</td>\n",
       "    </tr>\n",
       "    <tr>\n",
       "      <th>19</th>\n",
       "      <td>20.0</td>\n",
       "      <td>-813247.317400</td>\n",
       "      <td>-2.270000e+20</td>\n",
       "      <td>-8.017784e+09</td>\n",
       "      <td>-1.155489e+10</td>\n",
       "      <td>-458635.134613</td>\n",
       "      <td>-2.173117e+07</td>\n",
       "      <td>-342.638650</td>\n",
       "      <td>0.0</td>\n",
       "    </tr>\n",
       "  </tbody>\n",
       "</table>\n",
       "</div>"
      ],
      "text/plain": [
       "    algo        titanic         space       flights       housing  \\\n",
       "23  24.0       0.829341  3.899083e-01  0.000000e+00  0.000000e+00   \n",
       "18  19.0       0.000000  0.000000e+00  9.195876e-01  1.297626e-02   \n",
       "2    3.0       0.982036  1.000000e+00  9.998532e-01  1.000000e+00   \n",
       "22  23.0       0.780269  7.339450e-02  0.000000e+00  0.000000e+00   \n",
       "21  22.0       0.796407  7.577302e-02  0.000000e+00  0.000000e+00   \n",
       "17  18.0       0.000000  0.000000e+00  9.214893e-04  4.757037e-01   \n",
       "28  29.0       0.000000  0.000000e+00  0.000000e+00  0.000000e+00   \n",
       "0    1.0       0.982036  1.000000e+00  9.998814e-01  8.546421e-01   \n",
       "8    9.0       0.838323  5.485899e-01  9.994000e+01  9.998000e+01   \n",
       "19  20.0 -813247.317400 -2.270000e+20 -8.017784e+09 -1.155489e+10   \n",
       "\n",
       "           quakes        cancer      stocks  useful  \n",
       "23       0.000000  9.396320e-01    0.127572     1.0  \n",
       "18       0.012976  0.000000e+00    0.000000     0.0  \n",
       "2        0.849285  1.000000e+00    0.205761     1.0  \n",
       "22       0.000000  9.414890e-01    0.074074     0.0  \n",
       "21       0.000000  9.396320e-01    0.129629     1.0  \n",
       "17       0.004504  0.000000e+00    0.000000     0.0  \n",
       "28       0.000000 -1.920000e-04    0.823926     0.0  \n",
       "0        0.854642  1.000000e+00    0.205761     1.0  \n",
       "8       79.460000  9.201870e-01    0.000000     1.0  \n",
       "19 -458635.134613 -2.173117e+07 -342.638650     0.0  "
      ]
     },
     "execution_count": 24,
     "metadata": {},
     "output_type": "execute_result"
    }
   ],
   "source": [
    "data = titanic_df#.drop(columns=['PassengerId', 'Name', \"Ticket\", \"Embarked\", \"Cabin\"])\n",
    "data.sample(10)"
   ]
  },
  {
   "cell_type": "code",
   "execution_count": null,
   "metadata": {},
   "outputs": [],
   "source": [
    "\n"
   ]
  },
  {
   "cell_type": "code",
   "execution_count": null,
   "metadata": {},
   "outputs": [],
   "source": []
  },
  {
   "cell_type": "code",
   "execution_count": 25,
   "metadata": {},
   "outputs": [],
   "source": [
    "# data.info()"
   ]
  },
  {
   "cell_type": "markdown",
   "metadata": {},
   "source": [
    "# Decision Tree Algorithm"
   ]
  },
  {
   "cell_type": "code",
   "execution_count": 26,
   "metadata": {},
   "outputs": [],
   "source": [
    "target = data[\"useful\"]\n",
    "target_names = [\"yes\", \"no\"]"
   ]
  },
  {
   "cell_type": "code",
   "execution_count": 27,
   "metadata": {},
   "outputs": [
    {
     "data": {
      "text/html": [
       "<div>\n",
       "<style scoped>\n",
       "    .dataframe tbody tr th:only-of-type {\n",
       "        vertical-align: middle;\n",
       "    }\n",
       "\n",
       "    .dataframe tbody tr th {\n",
       "        vertical-align: top;\n",
       "    }\n",
       "\n",
       "    .dataframe thead th {\n",
       "        text-align: right;\n",
       "    }\n",
       "</style>\n",
       "<table border=\"1\" class=\"dataframe\">\n",
       "  <thead>\n",
       "    <tr style=\"text-align: right;\">\n",
       "      <th></th>\n",
       "      <th>algo</th>\n",
       "      <th>titanic</th>\n",
       "      <th>space</th>\n",
       "      <th>flights</th>\n",
       "      <th>housing</th>\n",
       "      <th>quakes</th>\n",
       "      <th>cancer</th>\n",
       "      <th>stocks</th>\n",
       "    </tr>\n",
       "  </thead>\n",
       "  <tbody>\n",
       "    <tr>\n",
       "      <th>0</th>\n",
       "      <td>1.0</td>\n",
       "      <td>0.982036</td>\n",
       "      <td>1.000000</td>\n",
       "      <td>0.999881</td>\n",
       "      <td>0.854642</td>\n",
       "      <td>0.854642</td>\n",
       "      <td>1.000000</td>\n",
       "      <td>0.205761</td>\n",
       "    </tr>\n",
       "    <tr>\n",
       "      <th>1</th>\n",
       "      <td>2.0</td>\n",
       "      <td>0.744395</td>\n",
       "      <td>0.605505</td>\n",
       "      <td>0.999156</td>\n",
       "      <td>0.756146</td>\n",
       "      <td>0.754153</td>\n",
       "      <td>0.937062</td>\n",
       "      <td>0.086419</td>\n",
       "    </tr>\n",
       "    <tr>\n",
       "      <th>2</th>\n",
       "      <td>3.0</td>\n",
       "      <td>0.982036</td>\n",
       "      <td>1.000000</td>\n",
       "      <td>0.999853</td>\n",
       "      <td>1.000000</td>\n",
       "      <td>0.849285</td>\n",
       "      <td>1.000000</td>\n",
       "      <td>0.205761</td>\n",
       "    </tr>\n",
       "    <tr>\n",
       "      <th>3</th>\n",
       "      <td>4.0</td>\n",
       "      <td>0.802691</td>\n",
       "      <td>0.714577</td>\n",
       "      <td>0.999818</td>\n",
       "      <td>1.000000</td>\n",
       "      <td>0.845183</td>\n",
       "      <td>0.972027</td>\n",
       "      <td>0.092592</td>\n",
       "    </tr>\n",
       "    <tr>\n",
       "      <th>4</th>\n",
       "      <td>5.0</td>\n",
       "      <td>0.898204</td>\n",
       "      <td>1.000000</td>\n",
       "      <td>0.999733</td>\n",
       "      <td>1.000000</td>\n",
       "      <td>0.793485</td>\n",
       "      <td>0.969483</td>\n",
       "      <td>0.123456</td>\n",
       "    </tr>\n",
       "  </tbody>\n",
       "</table>\n",
       "</div>"
      ],
      "text/plain": [
       "   algo   titanic     space   flights   housing    quakes    cancer    stocks\n",
       "0   1.0  0.982036  1.000000  0.999881  0.854642  0.854642  1.000000  0.205761\n",
       "1   2.0  0.744395  0.605505  0.999156  0.756146  0.754153  0.937062  0.086419\n",
       "2   3.0  0.982036  1.000000  0.999853  1.000000  0.849285  1.000000  0.205761\n",
       "3   4.0  0.802691  0.714577  0.999818  1.000000  0.845183  0.972027  0.092592\n",
       "4   5.0  0.898204  1.000000  0.999733  1.000000  0.793485  0.969483  0.123456"
      ]
     },
     "execution_count": 27,
     "metadata": {},
     "output_type": "execute_result"
    }
   ],
   "source": [
    "variable = data.drop(\"useful\", axis=1)\n",
    "feature_names = variable.columns\n",
    "variable.head()"
   ]
  },
  {
   "cell_type": "code",
   "execution_count": 28,
   "metadata": {},
   "outputs": [],
   "source": [
    "from sklearn.model_selection import train_test_split\n",
    "X_train, X_test, y_train, y_test = train_test_split(variable, target, random_state=42)"
   ]
  },
  {
   "cell_type": "code",
   "execution_count": 29,
   "metadata": {},
   "outputs": [
    {
     "data": {
      "text/plain": [
       "0.75"
      ]
     },
     "execution_count": 29,
     "metadata": {},
     "output_type": "execute_result"
    }
   ],
   "source": [
    "# y_test is what the outcome is, and y_predict is what the decision tree predicts it. \n",
    "#y_test is the survive column entries, and X_test the rest of the columns or the \n",
    "# variables we think affect the survivie. \n",
    "clf = tree.DecisionTreeClassifier()\n",
    "clf = clf.fit(X_train, y_train)\n",
    "clf.score(X_test, y_test) "
   ]
  },
  {
   "cell_type": "code",
   "execution_count": 30,
   "metadata": {},
   "outputs": [],
   "source": [
    "y_predict = clf.predict(X_test)"
   ]
  },
  {
   "cell_type": "markdown",
   "metadata": {},
   "source": [
    "# Random forest Algorithm"
   ]
  },
  {
   "cell_type": "code",
   "execution_count": 31,
   "metadata": {},
   "outputs": [
    {
     "data": {
      "text/plain": [
       "1.0"
      ]
     },
     "execution_count": 31,
     "metadata": {},
     "output_type": "execute_result"
    }
   ],
   "source": [
    "# Create a random forest classifier\n",
    "rf = RandomForestClassifier(n_estimators=200)\n",
    "rf = rf.fit(variable, target)\n",
    "rf.score(variable, target)\n",
    "# Have not done the cross validation"
   ]
  },
  {
   "cell_type": "code",
   "execution_count": 32,
   "metadata": {},
   "outputs": [
    {
     "data": {
      "text/plain": [
       "array([0.04761467, 0.30004572, 0.18615533, 0.10080796, 0.03713053,\n",
       "       0.03640811, 0.23566677, 0.0561709 ])"
      ]
     },
     "execution_count": 32,
     "metadata": {},
     "output_type": "execute_result"
    }
   ],
   "source": [
    "# Random Forests in sklearn will automatically calculate feature importance\n",
    "importances = rf.feature_importances_\n",
    "importances"
   ]
  },
  {
   "cell_type": "code",
   "execution_count": 33,
   "metadata": {},
   "outputs": [
    {
     "data": {
      "text/plain": [
       "[(0.3000457226498973, 'titanic'),\n",
       " (0.23566676899932143, 'cancer'),\n",
       " (0.18615533164377612, 'space'),\n",
       " (0.10080796401402939, 'flights'),\n",
       " (0.05617090185453117, 'stocks'),\n",
       " (0.0476146733380912, 'algo'),\n",
       " (0.03713053030586393, 'housing'),\n",
       " (0.03640810719448957, 'quakes')]"
      ]
     },
     "execution_count": 33,
     "metadata": {},
     "output_type": "execute_result"
    }
   ],
   "source": [
    "# We can sort the features by their importance\n",
    "sorted(zip(rf.feature_importances_, feature_names), reverse=True)"
   ]
  },
  {
   "cell_type": "markdown",
   "metadata": {},
   "source": [
    "# Support Vector Machine\n",
    "With Radial-basis-function kernel"
   ]
  },
  {
   "cell_type": "code",
   "execution_count": 34,
   "metadata": {},
   "outputs": [
    {
     "name": "stderr",
     "output_type": "stream",
     "text": [
      "/anaconda3/envs/PythonData/lib/python3.6/site-packages/sklearn/svm/base.py:196: FutureWarning: The default value of gamma will change from 'auto' to 'scale' in version 0.22 to account better for unscaled features. Set gamma explicitly to 'auto' or 'scale' to avoid this warning.\n",
      "  \"avoid this warning.\", FutureWarning)\n"
     ]
    }
   ],
   "source": [
    "from sklearn.svm import SVC \n",
    "# using X_train, X_test, y_train, y_test\n",
    "model = SVC(kernel='rbf')\n",
    "model.fit(X_train, y_train)\n",
    "y_predict = model.predict(X_test)\n",
    "# compare y_predict to y_test"
   ]
  },
  {
   "cell_type": "code",
   "execution_count": 35,
   "metadata": {},
   "outputs": [],
   "source": [
    "# if good prediction, what is y_predict - y_test = 0 "
   ]
  },
  {
   "cell_type": "code",
   "execution_count": 36,
   "metadata": {},
   "outputs": [
    {
     "name": "stdout",
     "output_type": "stream",
     "text": [
      "0.5\n"
     ]
    }
   ],
   "source": [
    "accuracy = model.score(X_test, y_test)\n",
    "print(accuracy)"
   ]
  },
  {
   "cell_type": "code",
   "execution_count": 37,
   "metadata": {},
   "outputs": [
    {
     "data": {
      "text/plain": [
       "1.0"
      ]
     },
     "execution_count": 37,
     "metadata": {},
     "output_type": "execute_result"
    }
   ],
   "source": [
    "# How do I assess accuracy\n",
    "model.score(X_train, y_train)"
   ]
  },
  {
   "cell_type": "markdown",
   "metadata": {},
   "source": [
    "# Logistic Regression"
   ]
  },
  {
   "cell_type": "code",
   "execution_count": 41,
   "metadata": {},
   "outputs": [
    {
     "data": {
      "text/plain": [
       "LogisticRegression(C=1.0, class_weight=None, dual=False, fit_intercept=True,\n",
       "          intercept_scaling=1, max_iter=100, multi_class='warn',\n",
       "          n_jobs=None, penalty='l2', random_state=None, solver='warn',\n",
       "          tol=0.0001, verbose=0, warm_start=False)"
      ]
     },
     "execution_count": 41,
     "metadata": {},
     "output_type": "execute_result"
    }
   ],
   "source": [
    "from sklearn.linear_model import LogisticRegression\n",
    "classifier = LogisticRegression()\n",
    "classifier"
   ]
  },
  {
   "cell_type": "code",
   "execution_count": 42,
   "metadata": {},
   "outputs": [
    {
     "name": "stderr",
     "output_type": "stream",
     "text": [
      "/anaconda3/envs/PythonData/lib/python3.6/site-packages/sklearn/linear_model/logistic.py:432: FutureWarning: Default solver will be changed to 'lbfgs' in 0.22. Specify a solver to silence this warning.\n",
      "  FutureWarning)\n"
     ]
    },
    {
     "data": {
      "text/plain": [
       "LogisticRegression(C=1.0, class_weight=None, dual=False, fit_intercept=True,\n",
       "          intercept_scaling=1, max_iter=100, multi_class='warn',\n",
       "          n_jobs=None, penalty='l2', random_state=None, solver='warn',\n",
       "          tol=0.0001, verbose=0, warm_start=False)"
      ]
     },
     "execution_count": 42,
     "metadata": {},
     "output_type": "execute_result"
    }
   ],
   "source": [
    "classifier.fit(X_train, y_train)"
   ]
  },
  {
   "cell_type": "code",
   "execution_count": 43,
   "metadata": {},
   "outputs": [
    {
     "name": "stdout",
     "output_type": "stream",
     "text": [
      "Training Data Score: 0.6190476190476191\n",
      "Testing Data Score: 0.625\n"
     ]
    }
   ],
   "source": [
    "print(f\"Training Data Score: {classifier.score(X_train, y_train)}\")\n",
    "print(f\"Testing Data Score: {classifier.score(X_test, y_test)}\")"
   ]
  },
  {
   "cell_type": "code",
   "execution_count": 46,
   "metadata": {},
   "outputs": [
    {
     "data": {
      "text/html": [
       "<div>\n",
       "<style scoped>\n",
       "    .dataframe tbody tr th:only-of-type {\n",
       "        vertical-align: middle;\n",
       "    }\n",
       "\n",
       "    .dataframe tbody tr th {\n",
       "        vertical-align: top;\n",
       "    }\n",
       "\n",
       "    .dataframe thead th {\n",
       "        text-align: right;\n",
       "    }\n",
       "</style>\n",
       "<table border=\"1\" class=\"dataframe\">\n",
       "  <thead>\n",
       "    <tr style=\"text-align: right;\">\n",
       "      <th></th>\n",
       "      <th>Prediction</th>\n",
       "      <th>Actual</th>\n",
       "    </tr>\n",
       "  </thead>\n",
       "  <tbody>\n",
       "    <tr>\n",
       "      <th>27</th>\n",
       "      <td>0.0</td>\n",
       "      <td>0.0</td>\n",
       "    </tr>\n",
       "    <tr>\n",
       "      <th>16</th>\n",
       "      <td>1.0</td>\n",
       "      <td>0.0</td>\n",
       "    </tr>\n",
       "    <tr>\n",
       "      <th>12</th>\n",
       "      <td>1.0</td>\n",
       "      <td>0.0</td>\n",
       "    </tr>\n",
       "    <tr>\n",
       "      <th>22</th>\n",
       "      <td>1.0</td>\n",
       "      <td>0.0</td>\n",
       "    </tr>\n",
       "    <tr>\n",
       "      <th>8</th>\n",
       "      <td>1.0</td>\n",
       "      <td>1.0</td>\n",
       "    </tr>\n",
       "    <tr>\n",
       "      <th>9</th>\n",
       "      <td>1.0</td>\n",
       "      <td>1.0</td>\n",
       "    </tr>\n",
       "    <tr>\n",
       "      <th>21</th>\n",
       "      <td>1.0</td>\n",
       "      <td>1.0</td>\n",
       "    </tr>\n",
       "    <tr>\n",
       "      <th>0</th>\n",
       "      <td>1.0</td>\n",
       "      <td>1.0</td>\n",
       "    </tr>\n",
       "  </tbody>\n",
       "</table>\n",
       "</div>"
      ],
      "text/plain": [
       "    Prediction  Actual\n",
       "27         0.0     0.0\n",
       "16         1.0     0.0\n",
       "12         1.0     0.0\n",
       "22         1.0     0.0\n",
       "8          1.0     1.0\n",
       "9          1.0     1.0\n",
       "21         1.0     1.0\n",
       "0          1.0     1.0"
      ]
     },
     "execution_count": 46,
     "metadata": {},
     "output_type": "execute_result"
    }
   ],
   "source": [
    "predictions = classifier.predict(X_test)\n",
    "pd.DataFrame({\"Prediction\": predictions, \"Actual\": y_test})"
   ]
  },
  {
   "cell_type": "markdown",
   "metadata": {},
   "source": [
    "# K Nearest Neighbor"
   ]
  },
  {
   "cell_type": "code",
   "execution_count": 45,
   "metadata": {},
   "outputs": [
    {
     "name": "stdout",
     "output_type": "stream",
     "text": [
      "85.71\n"
     ]
    }
   ],
   "source": [
    "# KNN \n",
    "knn = KNeighborsClassifier(n_neighbors = 3) \n",
    "knn.fit(X_train, y_train)  \n",
    "Y_pred = knn.predict(X_test)  \n",
    "acc_knn = round(knn.score(X_train, y_train) * 100, 2)\n",
    "print(acc_knn)"
   ]
  },
  {
   "cell_type": "code",
   "execution_count": null,
   "metadata": {},
   "outputs": [],
   "source": []
  },
  {
   "cell_type": "code",
   "execution_count": null,
   "metadata": {},
   "outputs": [],
   "source": []
  }
 ],
 "metadata": {
  "kernelspec": {
   "display_name": "Python 3",
   "language": "python",
   "name": "python3"
  },
  "language_info": {
   "codemirror_mode": {
    "name": "ipython",
    "version": 3
   },
   "file_extension": ".py",
   "mimetype": "text/x-python",
   "name": "python",
   "nbconvert_exporter": "python",
   "pygments_lexer": "ipython3",
   "version": "3.6.5"
  }
 },
 "nbformat": 4,
 "nbformat_minor": 2
}
