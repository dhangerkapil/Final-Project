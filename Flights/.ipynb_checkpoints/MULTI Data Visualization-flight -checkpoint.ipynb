{
 "cells": [
  {
   "cell_type": "markdown",
   "metadata": {},
   "source": [
    "Data Dictionary\n",
    "Variable\tDefinition\tKey\n",
    "survival\tSurvival\t0 = No, 1 = Yes\n",
    "pclass\tTicket class\t1 = 1st, 2 = 2nd, 3 = 3rd\n",
    "sex\tSex\t\n",
    "Age\tAge in years\t\n",
    "sibsp\t# of siblings / spouses aboard the Titanic\t\n",
    "parch\t# of parents / children aboard the Titanic\t\n",
    "ticket\tTicket number\t\n",
    "fare\tPassenger fare\t\n",
    "cabin\tCabin number\t\n",
    "embarked\tPort of Embarkation\tC = Cherbourg, Q = Queenstown, S = Southampton\n",
    "Variable Notes\n",
    "pclass: A proxy for socio-economic status (SES)\n",
    "1st = Upper\n",
    "2nd = Middle\n",
    "3rd = Lower\n",
    "\n",
    "age: Age is fractional if less than 1. If the age is estimated, is it in the form of xx.5\n",
    "\n",
    "sibsp: The dataset defines family relations in this way...\n",
    "Sibling = brother, sister, stepbrother, stepsister\n",
    "Spouse = husband, wife (mistresses and fiancés were ignored)\n",
    "\n",
    "parch: The dataset defines family relations in this way...\n",
    "Parent = mother, father\n",
    "Child = daughter, son, stepdaughter, stepson\n",
    "Some children travelled only with a nanny, therefore parch=0 for them.\n",
    "\n",
    "**survival:    Survival\n",
    "PassengerId: Unique Id of a passenger. \n",
    "pclass:    Ticket class     \n",
    "sex:    Sex     \n",
    "Age:    Age in years     \n",
    "sibsp:    # of siblings / spouses aboard the Titanic     \n",
    "parch:    # of parents / children aboard the Titanic     \n",
    "ticket:    Ticket number     \n",
    "fare:    Passenger fare     \n",
    "cabin:    Cabin number     \n",
    "embarked:    Port of Embarkation\n",
    "titanic_df.describe()**\n"
   ]
  },
  {
   "cell_type": "code",
   "execution_count": 1,
   "metadata": {},
   "outputs": [],
   "source": [
    "#NOV 4 2018 - Aref - updated for Flight dataset / PoC code / feeds into next layer ML analysis / code not for Prod "
   ]
  },
  {
   "cell_type": "code",
   "execution_count": 2,
   "metadata": {},
   "outputs": [],
   "source": [
    "# linear algebra\n",
    "import numpy as np \n",
    "\n",
    "# data processing\n",
    "import pandas as pd \n",
    "\n",
    "# data visualization\n",
    "import seaborn as sns\n",
    "%matplotlib inline\n",
    "from matplotlib import pyplot as plt\n",
    "from matplotlib import style\n",
    "\n",
    "# Algorithms\n",
    "# from sklearn import linear_model\n",
    "# from sklearn.linear_model import LogisticRegression\n",
    "from sklearn.ensemble import RandomForestClassifier\n",
    "\n",
    "from sklearn import tree\n",
    "import pandas as pd\n",
    "import os\n",
    "from sklearn.neighbors import KNeighborsClassifier"
   ]
  },
  {
   "cell_type": "code",
   "execution_count": 3,
   "metadata": {},
   "outputs": [],
   "source": [
    "titanic_df = pd.read_csv(\"flights-clean-50krows.csv\")\n",
    "# the 500k/200k/100k row files cannot be run on a regular laptop so using 50k out of 500k rows"
   ]
  },
  {
   "cell_type": "code",
   "execution_count": 4,
   "metadata": {},
   "outputs": [
    {
     "data": {
      "text/plain": [
       "<bound method NDFrame.head of        airline  orignum  deptime  depdelay  arrdelay  cancelled  distance\n",
       "0      19930.0     83.0      0.0       0.0       0.0        1.0    1448.0\n",
       "1      19930.0     65.0      0.0       0.0       0.0        1.0    1448.0\n",
       "2      19930.0     83.0      0.0       0.0       0.0        1.0     679.0\n",
       "3      19930.0     83.0      0.0       0.0       0.0        1.0     679.0\n",
       "4      19930.0     83.0      0.0       0.0       0.0        1.0     697.0\n",
       "5      19930.0     83.0      0.0       0.0       0.0        1.0     697.0\n",
       "6      19930.0     83.0      0.0       0.0       0.0        1.0     679.0\n",
       "7      19930.0     83.0      0.0       0.0       0.0        1.0     550.0\n",
       "8      20409.0     74.0      0.0       0.0       0.0        1.0     944.0\n",
       "9      20409.0     83.0      0.0       0.0       0.0        1.0     354.0\n",
       "10     20409.0     83.0      0.0       0.0       0.0        1.0    1504.0\n",
       "11     20409.0     80.0      0.0       0.0       0.0        1.0     496.0\n",
       "12     20409.0     66.0      0.0       0.0       0.0        1.0     496.0\n",
       "13     20366.0     73.0      0.0       0.0       0.0        1.0     534.0\n",
       "14     20366.0     76.0      0.0       0.0       0.0        1.0     552.0\n",
       "15     20366.0     73.0      0.0       0.0       0.0        1.0     212.0\n",
       "16     20366.0     67.0      0.0       0.0       0.0        1.0     419.0\n",
       "17     20366.0     76.0      0.0       0.0       0.0        1.0     419.0\n",
       "18     20366.0     68.0      0.0       0.0       0.0        1.0     199.0\n",
       "19     20366.0     69.0      0.0       0.0       0.0        1.0     199.0\n",
       "20     20366.0     67.0      0.0       0.0       0.0        1.0     463.0\n",
       "21     20366.0     69.0      0.0       0.0       0.0        1.0     463.0\n",
       "22     20366.0     67.0      0.0       0.0       0.0        1.0     912.0\n",
       "23     20366.0     77.0      0.0       0.0       0.0        1.0     316.0\n",
       "24     20366.0     76.0      0.0       0.0       0.0        1.0     419.0\n",
       "25     20366.0     80.0      0.0       0.0       0.0        1.0     335.0\n",
       "26     20366.0     66.0      0.0       0.0       0.0        1.0     854.0\n",
       "27     20366.0     79.0      0.0       0.0       0.0        1.0     282.0\n",
       "28     20366.0     77.0      0.0       0.0       0.0        1.0     726.0\n",
       "29     20366.0     67.0      0.0       0.0       0.0        1.0     441.0\n",
       "...        ...      ...      ...       ...       ...        ...       ...\n",
       "49970  19393.0     65.0    656.0       0.0       0.0        0.0    1670.0\n",
       "49971  19393.0     65.0    656.0       0.0       0.0        0.0    2237.0\n",
       "49972  19393.0     66.0    656.0       0.0       0.0        0.0     764.0\n",
       "49973  19393.0     77.0    656.0       0.0       0.0        0.0    1105.0\n",
       "49974  19393.0     77.0    656.0       0.0       0.0        0.0     271.0\n",
       "49975  19393.0     80.0    656.0       0.0       0.0        0.0    1910.0\n",
       "49976  19393.0     80.0    656.0       0.0       0.0        0.0    1136.0\n",
       "49977  19393.0     83.0    656.0       0.0       0.0        0.0     248.0\n",
       "49978  19393.0     83.0    656.0       0.0       0.0        0.0     342.0\n",
       "49979  19393.0     66.0    656.0       0.0       0.0        0.0     787.0\n",
       "49980  19393.0     68.0    656.0       0.0       2.0        0.0     533.0\n",
       "49981  19393.0     73.0    656.0       0.0       0.0        0.0     577.0\n",
       "49982  19805.0     76.0    656.0       0.0       0.0        0.0    2475.0\n",
       "49983  19805.0     76.0    656.0       0.0       0.0        0.0     236.0\n",
       "49984  19930.0     80.0    656.0       0.0       0.0        0.0     763.0\n",
       "49985  19930.0     79.0    656.0       0.0       2.0        0.0    2349.0\n",
       "49986  19930.0     83.0    656.0       0.0       0.0        0.0     679.0\n",
       "49987  19930.0     83.0    656.0       0.0       4.0        0.0     550.0\n",
       "49988  20409.0     80.0    656.0       0.0       5.0        0.0    1072.0\n",
       "49989  20409.0     66.0    656.0       0.0      11.0        0.0    1185.0\n",
       "49990  19790.0     68.0    656.0       0.0       0.0        0.0     547.0\n",
       "49991  19790.0     77.0    656.0       0.0       2.0        0.0     297.0\n",
       "49992  19790.0     72.0    656.0       0.0       3.0        0.0     696.0\n",
       "49993  19790.0     72.0    656.0       0.0       0.0        0.0     151.0\n",
       "49994  19790.0     67.0    656.0       0.0       0.0        0.0     192.0\n",
       "49995  19790.0     68.0    656.0       0.0       2.0        0.0     731.0\n",
       "49996  19790.0     68.0    656.0       0.0       0.0        0.0     432.0\n",
       "49997  19790.0     74.0    656.0       0.0       0.0        0.0    1598.0\n",
       "49998  20366.0     69.0    656.0       0.0       2.0        0.0     748.0\n",
       "49999  20366.0     79.0    656.0       0.0       0.0        0.0     594.0\n",
       "\n",
       "[50000 rows x 7 columns]>"
      ]
     },
     "execution_count": 4,
     "metadata": {},
     "output_type": "execute_result"
    }
   ],
   "source": [
    "titanic_df.head"
   ]
  },
  {
   "cell_type": "code",
   "execution_count": 5,
   "metadata": {},
   "outputs": [
    {
     "data": {
      "text/plain": [
       "0        1.0\n",
       "1        1.0\n",
       "2        1.0\n",
       "3        1.0\n",
       "4        1.0\n",
       "5        1.0\n",
       "6        1.0\n",
       "7        1.0\n",
       "8        1.0\n",
       "9        1.0\n",
       "10       1.0\n",
       "11       1.0\n",
       "12       1.0\n",
       "13       1.0\n",
       "14       1.0\n",
       "15       1.0\n",
       "16       1.0\n",
       "17       1.0\n",
       "18       1.0\n",
       "19       1.0\n",
       "20       1.0\n",
       "21       1.0\n",
       "22       1.0\n",
       "23       1.0\n",
       "24       1.0\n",
       "25       1.0\n",
       "26       1.0\n",
       "27       1.0\n",
       "28       1.0\n",
       "29       1.0\n",
       "        ... \n",
       "49970    0.0\n",
       "49971    0.0\n",
       "49972    0.0\n",
       "49973    0.0\n",
       "49974    0.0\n",
       "49975    0.0\n",
       "49976    0.0\n",
       "49977    0.0\n",
       "49978    0.0\n",
       "49979    0.0\n",
       "49980    0.0\n",
       "49981    0.0\n",
       "49982    0.0\n",
       "49983    0.0\n",
       "49984    0.0\n",
       "49985    0.0\n",
       "49986    0.0\n",
       "49987    0.0\n",
       "49988    0.0\n",
       "49989    0.0\n",
       "49990    0.0\n",
       "49991    0.0\n",
       "49992    0.0\n",
       "49993    0.0\n",
       "49994    0.0\n",
       "49995    0.0\n",
       "49996    0.0\n",
       "49997    0.0\n",
       "49998    0.0\n",
       "49999    0.0\n",
       "Name: cancelled, Length: 50000, dtype: float64"
      ]
     },
     "execution_count": 5,
     "metadata": {},
     "output_type": "execute_result"
    }
   ],
   "source": [
    "titanic_df['cancelled']"
   ]
  },
  {
   "cell_type": "code",
   "execution_count": 6,
   "metadata": {},
   "outputs": [
    {
     "data": {
      "text/plain": [
       "<bound method NDFrame.head of        airline  orignum  deptime  depdelay  arrdelay  cancelled  distance\n",
       "0      19930.0     83.0      0.0       0.0       0.0        1.0    1448.0\n",
       "1      19930.0     65.0      0.0       0.0       0.0        1.0    1448.0\n",
       "2      19930.0     83.0      0.0       0.0       0.0        1.0     679.0\n",
       "3      19930.0     83.0      0.0       0.0       0.0        1.0     679.0\n",
       "4      19930.0     83.0      0.0       0.0       0.0        1.0     697.0\n",
       "5      19930.0     83.0      0.0       0.0       0.0        1.0     697.0\n",
       "6      19930.0     83.0      0.0       0.0       0.0        1.0     679.0\n",
       "7      19930.0     83.0      0.0       0.0       0.0        1.0     550.0\n",
       "8      20409.0     74.0      0.0       0.0       0.0        1.0     944.0\n",
       "9      20409.0     83.0      0.0       0.0       0.0        1.0     354.0\n",
       "10     20409.0     83.0      0.0       0.0       0.0        1.0    1504.0\n",
       "11     20409.0     80.0      0.0       0.0       0.0        1.0     496.0\n",
       "12     20409.0     66.0      0.0       0.0       0.0        1.0     496.0\n",
       "13     20366.0     73.0      0.0       0.0       0.0        1.0     534.0\n",
       "14     20366.0     76.0      0.0       0.0       0.0        1.0     552.0\n",
       "15     20366.0     73.0      0.0       0.0       0.0        1.0     212.0\n",
       "16     20366.0     67.0      0.0       0.0       0.0        1.0     419.0\n",
       "17     20366.0     76.0      0.0       0.0       0.0        1.0     419.0\n",
       "18     20366.0     68.0      0.0       0.0       0.0        1.0     199.0\n",
       "19     20366.0     69.0      0.0       0.0       0.0        1.0     199.0\n",
       "20     20366.0     67.0      0.0       0.0       0.0        1.0     463.0\n",
       "21     20366.0     69.0      0.0       0.0       0.0        1.0     463.0\n",
       "22     20366.0     67.0      0.0       0.0       0.0        1.0     912.0\n",
       "23     20366.0     77.0      0.0       0.0       0.0        1.0     316.0\n",
       "24     20366.0     76.0      0.0       0.0       0.0        1.0     419.0\n",
       "25     20366.0     80.0      0.0       0.0       0.0        1.0     335.0\n",
       "26     20366.0     66.0      0.0       0.0       0.0        1.0     854.0\n",
       "27     20366.0     79.0      0.0       0.0       0.0        1.0     282.0\n",
       "28     20366.0     77.0      0.0       0.0       0.0        1.0     726.0\n",
       "29     20366.0     67.0      0.0       0.0       0.0        1.0     441.0\n",
       "...        ...      ...      ...       ...       ...        ...       ...\n",
       "49970  19393.0     65.0    656.0       0.0       0.0        0.0    1670.0\n",
       "49971  19393.0     65.0    656.0       0.0       0.0        0.0    2237.0\n",
       "49972  19393.0     66.0    656.0       0.0       0.0        0.0     764.0\n",
       "49973  19393.0     77.0    656.0       0.0       0.0        0.0    1105.0\n",
       "49974  19393.0     77.0    656.0       0.0       0.0        0.0     271.0\n",
       "49975  19393.0     80.0    656.0       0.0       0.0        0.0    1910.0\n",
       "49976  19393.0     80.0    656.0       0.0       0.0        0.0    1136.0\n",
       "49977  19393.0     83.0    656.0       0.0       0.0        0.0     248.0\n",
       "49978  19393.0     83.0    656.0       0.0       0.0        0.0     342.0\n",
       "49979  19393.0     66.0    656.0       0.0       0.0        0.0     787.0\n",
       "49980  19393.0     68.0    656.0       0.0       2.0        0.0     533.0\n",
       "49981  19393.0     73.0    656.0       0.0       0.0        0.0     577.0\n",
       "49982  19805.0     76.0    656.0       0.0       0.0        0.0    2475.0\n",
       "49983  19805.0     76.0    656.0       0.0       0.0        0.0     236.0\n",
       "49984  19930.0     80.0    656.0       0.0       0.0        0.0     763.0\n",
       "49985  19930.0     79.0    656.0       0.0       2.0        0.0    2349.0\n",
       "49986  19930.0     83.0    656.0       0.0       0.0        0.0     679.0\n",
       "49987  19930.0     83.0    656.0       0.0       4.0        0.0     550.0\n",
       "49988  20409.0     80.0    656.0       0.0       5.0        0.0    1072.0\n",
       "49989  20409.0     66.0    656.0       0.0      11.0        0.0    1185.0\n",
       "49990  19790.0     68.0    656.0       0.0       0.0        0.0     547.0\n",
       "49991  19790.0     77.0    656.0       0.0       2.0        0.0     297.0\n",
       "49992  19790.0     72.0    656.0       0.0       3.0        0.0     696.0\n",
       "49993  19790.0     72.0    656.0       0.0       0.0        0.0     151.0\n",
       "49994  19790.0     67.0    656.0       0.0       0.0        0.0     192.0\n",
       "49995  19790.0     68.0    656.0       0.0       2.0        0.0     731.0\n",
       "49996  19790.0     68.0    656.0       0.0       0.0        0.0     432.0\n",
       "49997  19790.0     74.0    656.0       0.0       0.0        0.0    1598.0\n",
       "49998  20366.0     69.0    656.0       0.0       2.0        0.0     748.0\n",
       "49999  20366.0     79.0    656.0       0.0       0.0        0.0     594.0\n",
       "\n",
       "[50000 rows x 7 columns]>"
      ]
     },
     "execution_count": 6,
     "metadata": {},
     "output_type": "execute_result"
    }
   ],
   "source": [
    "#titanic_df['cancelled'] = titanic_df['cancelled'].map({'cancelyes': 1.0, 'cancelno': 0.0})\n",
    "titanic_df.head"
   ]
  },
  {
   "cell_type": "code",
   "execution_count": 7,
   "metadata": {},
   "outputs": [
    {
     "data": {
      "text/html": [
       "<div>\n",
       "<style scoped>\n",
       "    .dataframe tbody tr th:only-of-type {\n",
       "        vertical-align: middle;\n",
       "    }\n",
       "\n",
       "    .dataframe tbody tr th {\n",
       "        vertical-align: top;\n",
       "    }\n",
       "\n",
       "    .dataframe thead th {\n",
       "        text-align: right;\n",
       "    }\n",
       "</style>\n",
       "<table border=\"1\" class=\"dataframe\">\n",
       "  <thead>\n",
       "    <tr style=\"text-align: right;\">\n",
       "      <th></th>\n",
       "      <th>airline</th>\n",
       "      <th>orignum</th>\n",
       "      <th>deptime</th>\n",
       "      <th>depdelay</th>\n",
       "      <th>arrdelay</th>\n",
       "      <th>cancelled</th>\n",
       "      <th>distance</th>\n",
       "    </tr>\n",
       "  </thead>\n",
       "  <tbody>\n",
       "    <tr>\n",
       "      <th>26226</th>\n",
       "      <td>19393.0</td>\n",
       "      <td>76.0</td>\n",
       "      <td>607.0</td>\n",
       "      <td>0.0</td>\n",
       "      <td>0.0</td>\n",
       "      <td>0.0</td>\n",
       "      <td>407.0</td>\n",
       "    </tr>\n",
       "    <tr>\n",
       "      <th>24974</th>\n",
       "      <td>20409.0</td>\n",
       "      <td>66.0</td>\n",
       "      <td>604.0</td>\n",
       "      <td>0.0</td>\n",
       "      <td>3.0</td>\n",
       "      <td>0.0</td>\n",
       "      <td>369.0</td>\n",
       "    </tr>\n",
       "    <tr>\n",
       "      <th>16788</th>\n",
       "      <td>20409.0</td>\n",
       "      <td>77.0</td>\n",
       "      <td>555.0</td>\n",
       "      <td>0.0</td>\n",
       "      <td>0.0</td>\n",
       "      <td>0.0</td>\n",
       "      <td>950.0</td>\n",
       "    </tr>\n",
       "    <tr>\n",
       "      <th>35182</th>\n",
       "      <td>19393.0</td>\n",
       "      <td>77.0</td>\n",
       "      <td>626.0</td>\n",
       "      <td>0.0</td>\n",
       "      <td>0.0</td>\n",
       "      <td>0.0</td>\n",
       "      <td>484.0</td>\n",
       "    </tr>\n",
       "    <tr>\n",
       "      <th>15879</th>\n",
       "      <td>20366.0</td>\n",
       "      <td>77.0</td>\n",
       "      <td>555.0</td>\n",
       "      <td>0.0</td>\n",
       "      <td>6.0</td>\n",
       "      <td>0.0</td>\n",
       "      <td>448.0</td>\n",
       "    </tr>\n",
       "    <tr>\n",
       "      <th>9027</th>\n",
       "      <td>20366.0</td>\n",
       "      <td>76.0</td>\n",
       "      <td>527.0</td>\n",
       "      <td>0.0</td>\n",
       "      <td>0.0</td>\n",
       "      <td>0.0</td>\n",
       "      <td>127.0</td>\n",
       "    </tr>\n",
       "    <tr>\n",
       "      <th>31971</th>\n",
       "      <td>19930.0</td>\n",
       "      <td>83.0</td>\n",
       "      <td>620.0</td>\n",
       "      <td>0.0</td>\n",
       "      <td>3.0</td>\n",
       "      <td>0.0</td>\n",
       "      <td>1050.0</td>\n",
       "    </tr>\n",
       "    <tr>\n",
       "      <th>20771</th>\n",
       "      <td>20304.0</td>\n",
       "      <td>77.0</td>\n",
       "      <td>558.0</td>\n",
       "      <td>0.0</td>\n",
       "      <td>2.0</td>\n",
       "      <td>0.0</td>\n",
       "      <td>78.0</td>\n",
       "    </tr>\n",
       "    <tr>\n",
       "      <th>11475</th>\n",
       "      <td>20304.0</td>\n",
       "      <td>69.0</td>\n",
       "      <td>546.0</td>\n",
       "      <td>0.0</td>\n",
       "      <td>0.0</td>\n",
       "      <td>0.0</td>\n",
       "      <td>200.0</td>\n",
       "    </tr>\n",
       "    <tr>\n",
       "      <th>30442</th>\n",
       "      <td>19393.0</td>\n",
       "      <td>66.0</td>\n",
       "      <td>616.0</td>\n",
       "      <td>1.0</td>\n",
       "      <td>0.0</td>\n",
       "      <td>0.0</td>\n",
       "      <td>787.0</td>\n",
       "    </tr>\n",
       "  </tbody>\n",
       "</table>\n",
       "</div>"
      ],
      "text/plain": [
       "       airline  orignum  deptime  depdelay  arrdelay  cancelled  distance\n",
       "26226  19393.0     76.0    607.0       0.0       0.0        0.0     407.0\n",
       "24974  20409.0     66.0    604.0       0.0       3.0        0.0     369.0\n",
       "16788  20409.0     77.0    555.0       0.0       0.0        0.0     950.0\n",
       "35182  19393.0     77.0    626.0       0.0       0.0        0.0     484.0\n",
       "15879  20366.0     77.0    555.0       0.0       6.0        0.0     448.0\n",
       "9027   20366.0     76.0    527.0       0.0       0.0        0.0     127.0\n",
       "31971  19930.0     83.0    620.0       0.0       3.0        0.0    1050.0\n",
       "20771  20304.0     77.0    558.0       0.0       2.0        0.0      78.0\n",
       "11475  20304.0     69.0    546.0       0.0       0.0        0.0     200.0\n",
       "30442  19393.0     66.0    616.0       1.0       0.0        0.0     787.0"
      ]
     },
     "execution_count": 7,
     "metadata": {},
     "output_type": "execute_result"
    }
   ],
   "source": [
    "data = titanic_df\n",
    "#.drop(columns=[\"flightdate\",\"origin\",'carrier', 'destination', \"depdelta\", \"arrtime\", \"arrdelta\"])\n",
    "#cleaned data for a clean set\n",
    "data.sample(10)"
   ]
  },
  {
   "cell_type": "code",
   "execution_count": 8,
   "metadata": {},
   "outputs": [
    {
     "name": "stdout",
     "output_type": "stream",
     "text": [
      "Mean Departure Delay\n"
     ]
    },
    {
     "data": {
      "text/plain": [
       "<Figure size 1224x720 with 0 Axes>"
      ]
     },
     "metadata": {},
     "output_type": "display_data"
    },
    {
     "data": {
      "image/png": "[encoded data removed]",
      "text/plain": [
       "<Figure size 432x288 with 1 Axes>"
      ]
     },
     "metadata": {},
     "output_type": "display_data"
    }
   ],
   "source": [
    "fig=plt.figure(figsize=(17,10))\n",
    "data.hist(column=\"depdelay\", bins=30)\n",
    "plt.xlabel(\"orignum\",fontsize=15)\n",
    "plt.ylabel(\"depdelay\",fontsize=15)\n",
    "plt.xlim([0.0,100.0])\n",
    "plt.axvline(data[\"orignum\"].mean(), color=\"red\")\n",
    "print('Mean Departure Delay'.format(data[\"depdelay\"].mean()))\n"
   ]
  },
  {
   "cell_type": "code",
   "execution_count": 9,
   "metadata": {},
   "outputs": [
    {
     "data": {
      "text/html": [
       "<div>\n",
       "<style scoped>\n",
       "    .dataframe tbody tr th:only-of-type {\n",
       "        vertical-align: middle;\n",
       "    }\n",
       "\n",
       "    .dataframe tbody tr th {\n",
       "        vertical-align: top;\n",
       "    }\n",
       "\n",
       "    .dataframe thead th {\n",
       "        text-align: right;\n",
       "    }\n",
       "</style>\n",
       "<table border=\"1\" class=\"dataframe\">\n",
       "  <thead>\n",
       "    <tr style=\"text-align: right;\">\n",
       "      <th></th>\n",
       "      <th>airline</th>\n",
       "      <th>orignum</th>\n",
       "      <th>deptime</th>\n",
       "      <th>depdelay</th>\n",
       "      <th>arrdelay</th>\n",
       "      <th>cancelled</th>\n",
       "      <th>distance</th>\n",
       "    </tr>\n",
       "  </thead>\n",
       "  <tbody>\n",
       "    <tr>\n",
       "      <th>0</th>\n",
       "      <td>19930.0</td>\n",
       "      <td>83.0</td>\n",
       "      <td>0.0</td>\n",
       "      <td>0.0</td>\n",
       "      <td>0.0</td>\n",
       "      <td>1.0</td>\n",
       "      <td>1448.0</td>\n",
       "    </tr>\n",
       "    <tr>\n",
       "      <th>1</th>\n",
       "      <td>19930.0</td>\n",
       "      <td>65.0</td>\n",
       "      <td>0.0</td>\n",
       "      <td>0.0</td>\n",
       "      <td>0.0</td>\n",
       "      <td>1.0</td>\n",
       "      <td>1448.0</td>\n",
       "    </tr>\n",
       "    <tr>\n",
       "      <th>2</th>\n",
       "      <td>19930.0</td>\n",
       "      <td>83.0</td>\n",
       "      <td>0.0</td>\n",
       "      <td>0.0</td>\n",
       "      <td>0.0</td>\n",
       "      <td>1.0</td>\n",
       "      <td>679.0</td>\n",
       "    </tr>\n",
       "    <tr>\n",
       "      <th>3</th>\n",
       "      <td>19930.0</td>\n",
       "      <td>83.0</td>\n",
       "      <td>0.0</td>\n",
       "      <td>0.0</td>\n",
       "      <td>0.0</td>\n",
       "      <td>1.0</td>\n",
       "      <td>679.0</td>\n",
       "    </tr>\n",
       "    <tr>\n",
       "      <th>4</th>\n",
       "      <td>19930.0</td>\n",
       "      <td>83.0</td>\n",
       "      <td>0.0</td>\n",
       "      <td>0.0</td>\n",
       "      <td>0.0</td>\n",
       "      <td>1.0</td>\n",
       "      <td>697.0</td>\n",
       "    </tr>\n",
       "    <tr>\n",
       "      <th>5</th>\n",
       "      <td>19930.0</td>\n",
       "      <td>83.0</td>\n",
       "      <td>0.0</td>\n",
       "      <td>0.0</td>\n",
       "      <td>0.0</td>\n",
       "      <td>1.0</td>\n",
       "      <td>697.0</td>\n",
       "    </tr>\n",
       "    <tr>\n",
       "      <th>6</th>\n",
       "      <td>19930.0</td>\n",
       "      <td>83.0</td>\n",
       "      <td>0.0</td>\n",
       "      <td>0.0</td>\n",
       "      <td>0.0</td>\n",
       "      <td>1.0</td>\n",
       "      <td>679.0</td>\n",
       "    </tr>\n",
       "    <tr>\n",
       "      <th>7</th>\n",
       "      <td>19930.0</td>\n",
       "      <td>83.0</td>\n",
       "      <td>0.0</td>\n",
       "      <td>0.0</td>\n",
       "      <td>0.0</td>\n",
       "      <td>1.0</td>\n",
       "      <td>550.0</td>\n",
       "    </tr>\n",
       "    <tr>\n",
       "      <th>8</th>\n",
       "      <td>20409.0</td>\n",
       "      <td>74.0</td>\n",
       "      <td>0.0</td>\n",
       "      <td>0.0</td>\n",
       "      <td>0.0</td>\n",
       "      <td>1.0</td>\n",
       "      <td>944.0</td>\n",
       "    </tr>\n",
       "    <tr>\n",
       "      <th>9</th>\n",
       "      <td>20409.0</td>\n",
       "      <td>83.0</td>\n",
       "      <td>0.0</td>\n",
       "      <td>0.0</td>\n",
       "      <td>0.0</td>\n",
       "      <td>1.0</td>\n",
       "      <td>354.0</td>\n",
       "    </tr>\n",
       "  </tbody>\n",
       "</table>\n",
       "</div>"
      ],
      "text/plain": [
       "   airline  orignum  deptime  depdelay  arrdelay  cancelled  distance\n",
       "0  19930.0     83.0      0.0       0.0       0.0        1.0    1448.0\n",
       "1  19930.0     65.0      0.0       0.0       0.0        1.0    1448.0\n",
       "2  19930.0     83.0      0.0       0.0       0.0        1.0     679.0\n",
       "3  19930.0     83.0      0.0       0.0       0.0        1.0     679.0\n",
       "4  19930.0     83.0      0.0       0.0       0.0        1.0     697.0\n",
       "5  19930.0     83.0      0.0       0.0       0.0        1.0     697.0\n",
       "6  19930.0     83.0      0.0       0.0       0.0        1.0     679.0\n",
       "7  19930.0     83.0      0.0       0.0       0.0        1.0     550.0\n",
       "8  20409.0     74.0      0.0       0.0       0.0        1.0     944.0\n",
       "9  20409.0     83.0      0.0       0.0       0.0        1.0     354.0"
      ]
     },
     "execution_count": 9,
     "metadata": {},
     "output_type": "execute_result"
    }
   ],
   "source": [
    "data_nona = data[\"depdelay\"].fillna(data[\"depdelay\"].mean())\n",
    "data[\"depdelay\"]=data_nona\n",
    "data.head(10)"
   ]
  },
  {
   "cell_type": "code",
   "execution_count": 10,
   "metadata": {},
   "outputs": [],
   "source": [
    "# data.info()"
   ]
  },
  {
   "cell_type": "markdown",
   "metadata": {},
   "source": [
    "# Decision Tree Algorithm"
   ]
  },
  {
   "cell_type": "code",
   "execution_count": 11,
   "metadata": {},
   "outputs": [],
   "source": [
    "target = data[\"cancelled\"]\n",
    "target_names = [\"yes\", \"no\"]"
   ]
  },
  {
   "cell_type": "code",
   "execution_count": 12,
   "metadata": {},
   "outputs": [
    {
     "data": {
      "text/html": [
       "<div>\n",
       "<style scoped>\n",
       "    .dataframe tbody tr th:only-of-type {\n",
       "        vertical-align: middle;\n",
       "    }\n",
       "\n",
       "    .dataframe tbody tr th {\n",
       "        vertical-align: top;\n",
       "    }\n",
       "\n",
       "    .dataframe thead th {\n",
       "        text-align: right;\n",
       "    }\n",
       "</style>\n",
       "<table border=\"1\" class=\"dataframe\">\n",
       "  <thead>\n",
       "    <tr style=\"text-align: right;\">\n",
       "      <th></th>\n",
       "      <th>airline</th>\n",
       "      <th>orignum</th>\n",
       "      <th>deptime</th>\n",
       "      <th>depdelay</th>\n",
       "      <th>arrdelay</th>\n",
       "      <th>distance</th>\n",
       "    </tr>\n",
       "  </thead>\n",
       "  <tbody>\n",
       "    <tr>\n",
       "      <th>0</th>\n",
       "      <td>19930.0</td>\n",
       "      <td>83.0</td>\n",
       "      <td>0.0</td>\n",
       "      <td>0.0</td>\n",
       "      <td>0.0</td>\n",
       "      <td>1448.0</td>\n",
       "    </tr>\n",
       "    <tr>\n",
       "      <th>1</th>\n",
       "      <td>19930.0</td>\n",
       "      <td>65.0</td>\n",
       "      <td>0.0</td>\n",
       "      <td>0.0</td>\n",
       "      <td>0.0</td>\n",
       "      <td>1448.0</td>\n",
       "    </tr>\n",
       "    <tr>\n",
       "      <th>2</th>\n",
       "      <td>19930.0</td>\n",
       "      <td>83.0</td>\n",
       "      <td>0.0</td>\n",
       "      <td>0.0</td>\n",
       "      <td>0.0</td>\n",
       "      <td>679.0</td>\n",
       "    </tr>\n",
       "    <tr>\n",
       "      <th>3</th>\n",
       "      <td>19930.0</td>\n",
       "      <td>83.0</td>\n",
       "      <td>0.0</td>\n",
       "      <td>0.0</td>\n",
       "      <td>0.0</td>\n",
       "      <td>679.0</td>\n",
       "    </tr>\n",
       "    <tr>\n",
       "      <th>4</th>\n",
       "      <td>19930.0</td>\n",
       "      <td>83.0</td>\n",
       "      <td>0.0</td>\n",
       "      <td>0.0</td>\n",
       "      <td>0.0</td>\n",
       "      <td>697.0</td>\n",
       "    </tr>\n",
       "  </tbody>\n",
       "</table>\n",
       "</div>"
      ],
      "text/plain": [
       "   airline  orignum  deptime  depdelay  arrdelay  distance\n",
       "0  19930.0     83.0      0.0       0.0       0.0    1448.0\n",
       "1  19930.0     65.0      0.0       0.0       0.0    1448.0\n",
       "2  19930.0     83.0      0.0       0.0       0.0     679.0\n",
       "3  19930.0     83.0      0.0       0.0       0.0     679.0\n",
       "4  19930.0     83.0      0.0       0.0       0.0     697.0"
      ]
     },
     "execution_count": 12,
     "metadata": {},
     "output_type": "execute_result"
    }
   ],
   "source": [
    "variable = data.drop(\"cancelled\", axis=1)\n",
    "feature_names = variable.columns\n",
    "variable.head()"
   ]
  },
  {
   "cell_type": "code",
   "execution_count": 13,
   "metadata": {},
   "outputs": [],
   "source": [
    "from sklearn.model_selection import train_test_split\n",
    "X_train, X_test, y_train, y_test = train_test_split(variable, target, random_state=42)"
   ]
  },
  {
   "cell_type": "code",
   "execution_count": 14,
   "metadata": {},
   "outputs": [
    {
     "data": {
      "text/plain": [
       "0.99912"
      ]
     },
     "execution_count": 14,
     "metadata": {},
     "output_type": "execute_result"
    }
   ],
   "source": [
    "# y_test is what the outcome is, and y_predict is what the decision tree predicts it. \n",
    "#y_test is the survive column entries, and X_test the rest of the columns or the \n",
    "# variables we think affect the survivie. \n",
    "clf = tree.DecisionTreeClassifier()\n",
    "clf = clf.fit(X_train, y_train)\n",
    "clf.score(X_test, y_test) "
   ]
  },
  {
   "cell_type": "code",
   "execution_count": 15,
   "metadata": {},
   "outputs": [
    {
     "data": {
      "text/plain": [
       "array([0., 0., 1., ..., 0., 0., 0.])"
      ]
     },
     "execution_count": 15,
     "metadata": {},
     "output_type": "execute_result"
    }
   ],
   "source": [
    "y_predict = clf.predict(X_test)\n",
    "y_predict"
   ]
  },
  {
   "cell_type": "markdown",
   "metadata": {},
   "source": [
    "# Random forest Algorithm"
   ]
  },
  {
   "cell_type": "code",
   "execution_count": 16,
   "metadata": {},
   "outputs": [
    {
     "data": {
      "text/plain": [
       "0.99982"
      ]
     },
     "execution_count": 16,
     "metadata": {},
     "output_type": "execute_result"
    }
   ],
   "source": [
    "# Create a random forest classifier\n",
    "rf = RandomForestClassifier(n_estimators=200)\n",
    "rf = rf.fit(variable, target)\n",
    "rf.score(variable, target)\n",
    "# Have not done the cross validation"
   ]
  },
  {
   "cell_type": "code",
   "execution_count": 17,
   "metadata": {},
   "outputs": [
    {
     "data": {
      "text/plain": [
       "array([0.03158936, 0.00302582, 0.93821525, 0.0040138 , 0.01384588,\n",
       "       0.00930988])"
      ]
     },
     "execution_count": 17,
     "metadata": {},
     "output_type": "execute_result"
    }
   ],
   "source": [
    "# Random Forests in sklearn will automatically calculate feature importance\n",
    "importances = rf.feature_importances_\n",
    "importances"
   ]
  },
  {
   "cell_type": "code",
   "execution_count": 18,
   "metadata": {},
   "outputs": [
    {
     "data": {
      "text/plain": [
       "[(0.9382152499864376, 'deptime'),\n",
       " (0.03158936291941332, 'airline'),\n",
       " (0.01384588487143872, 'arrdelay'),\n",
       " (0.00930988263084644, 'distance'),\n",
       " (0.004013799649297239, 'depdelay'),\n",
       " (0.003025819942566811, 'orignum')]"
      ]
     },
     "execution_count": 18,
     "metadata": {},
     "output_type": "execute_result"
    }
   ],
   "source": [
    "# We can sort the features by their importance\n",
    "sorted(zip(rf.feature_importances_, feature_names), reverse=True)"
   ]
  },
  {
   "cell_type": "markdown",
   "metadata": {},
   "source": [
    "# Support Vector Machine\n",
    "With Radial-basis-function kernel"
   ]
  },
  {
   "cell_type": "code",
   "execution_count": 19,
   "metadata": {},
   "outputs": [
    {
     "name": "stderr",
     "output_type": "stream",
     "text": [
      "/anaconda3/envs/PythonData/lib/python3.6/site-packages/sklearn/svm/base.py:196: FutureWarning: The default value of gamma will change from 'auto' to 'scale' in version 0.22 to account better for unscaled features. Set gamma explicitly to 'auto' or 'scale' to avoid this warning.\n",
      "  \"avoid this warning.\", FutureWarning)\n"
     ]
    }
   ],
   "source": [
    "from sklearn.svm import SVC \n",
    "# using X_train, X_test, y_train, y_test\n",
    "model = SVC(kernel='rbf')\n",
    "model.fit(X_train, y_train)\n",
    "y_predict = model.predict(X_test)\n",
    "# compare y_predict to y_test"
   ]
  },
  {
   "cell_type": "code",
   "execution_count": 21,
   "metadata": {},
   "outputs": [
    {
     "name": "stdout",
     "output_type": "stream",
     "text": [
      "SVM Checkpoint1\n"
     ]
    }
   ],
   "source": [
    "# if good prediction, what is y_predict - y_test = 0 \n",
    "print(\"SVM Checkpoint1\")"
   ]
  },
  {
   "cell_type": "code",
   "execution_count": 22,
   "metadata": {},
   "outputs": [
    {
     "name": "stdout",
     "output_type": "stream",
     "text": [
      "0.98048\n"
     ]
    }
   ],
   "source": [
    "accuracy = model.score(X_test, y_test)\n",
    "print(accuracy)"
   ]
  },
  {
   "cell_type": "code",
   "execution_count": 23,
   "metadata": {},
   "outputs": [
    {
     "data": {
      "text/plain": [
       "0.9997333333333334"
      ]
     },
     "execution_count": 23,
     "metadata": {},
     "output_type": "execute_result"
    }
   ],
   "source": [
    "# How do I assess accuracy\n",
    "model.score(X_train, y_train)"
   ]
  },
  {
   "cell_type": "markdown",
   "metadata": {},
   "source": [
    "# Support Vector Machine with Polynomial Kernel "
   ]
  },
  {
   "cell_type": "code",
   "execution_count": 24,
   "metadata": {},
   "outputs": [],
   "source": [
    "# from sklearn.svm import SVC \n",
    "# # using X_train, X_test, y_train, y_test\n",
    "# model = SVC(kernel='pol')\n",
    "# model.fit(X_train, y_train)\n",
    "# y_predict = model.predict(X_test)\n",
    "# # compare y_predict to y_test"
   ]
  },
  {
   "cell_type": "code",
   "execution_count": 25,
   "metadata": {},
   "outputs": [],
   "source": [
    "# accuracy = model.score(X_test, y_test)\n",
    "# print(accuracy)"
   ]
  },
  {
   "cell_type": "code",
   "execution_count": 26,
   "metadata": {},
   "outputs": [
    {
     "name": "stdout",
     "output_type": "stream",
     "text": [
      "end of SVM PK\n"
     ]
    }
   ],
   "source": [
    "# # How do I assess accuracy\n",
    "# model.score(X_train, y_train)\n",
    "print(\"end of SVM PK\")"
   ]
  },
  {
   "cell_type": "markdown",
   "metadata": {},
   "source": [
    "# Logistic Regression"
   ]
  },
  {
   "cell_type": "code",
   "execution_count": 27,
   "metadata": {},
   "outputs": [
    {
     "data": {
      "text/plain": [
       "LogisticRegression(C=1.0, class_weight=None, dual=False, fit_intercept=True,\n",
       "          intercept_scaling=1, max_iter=100, multi_class='warn',\n",
       "          n_jobs=None, penalty='l2', random_state=None, solver='warn',\n",
       "          tol=0.0001, verbose=0, warm_start=False)"
      ]
     },
     "execution_count": 27,
     "metadata": {},
     "output_type": "execute_result"
    }
   ],
   "source": [
    "from sklearn.linear_model import LogisticRegression\n",
    "classifier = LogisticRegression()\n",
    "classifier"
   ]
  },
  {
   "cell_type": "code",
   "execution_count": 28,
   "metadata": {},
   "outputs": [
    {
     "name": "stderr",
     "output_type": "stream",
     "text": [
      "/anaconda3/envs/PythonData/lib/python3.6/site-packages/sklearn/linear_model/logistic.py:432: FutureWarning: Default solver will be changed to 'lbfgs' in 0.22. Specify a solver to silence this warning.\n",
      "  FutureWarning)\n"
     ]
    },
    {
     "data": {
      "text/plain": [
       "LogisticRegression(C=1.0, class_weight=None, dual=False, fit_intercept=True,\n",
       "          intercept_scaling=1, max_iter=100, multi_class='warn',\n",
       "          n_jobs=None, penalty='l2', random_state=None, solver='warn',\n",
       "          tol=0.0001, verbose=0, warm_start=False)"
      ]
     },
     "execution_count": 28,
     "metadata": {},
     "output_type": "execute_result"
    }
   ],
   "source": [
    "classifier.fit(X_train, y_train)"
   ]
  },
  {
   "cell_type": "code",
   "execution_count": 29,
   "metadata": {},
   "outputs": [
    {
     "name": "stdout",
     "output_type": "stream",
     "text": [
      "Training Data Score: 0.9941866666666667\n",
      "Testing Data Score: 0.99432\n"
     ]
    }
   ],
   "source": [
    "print(f\"Training Data Score: {classifier.score(X_train, y_train)}\")\n",
    "print(f\"Testing Data Score: {classifier.score(X_test, y_test)}\")"
   ]
  },
  {
   "cell_type": "code",
   "execution_count": 30,
   "metadata": {},
   "outputs": [
    {
     "data": {
      "text/html": [
       "<div>\n",
       "<style scoped>\n",
       "    .dataframe tbody tr th:only-of-type {\n",
       "        vertical-align: middle;\n",
       "    }\n",
       "\n",
       "    .dataframe tbody tr th {\n",
       "        vertical-align: top;\n",
       "    }\n",
       "\n",
       "    .dataframe thead th {\n",
       "        text-align: right;\n",
       "    }\n",
       "</style>\n",
       "<table border=\"1\" class=\"dataframe\">\n",
       "  <thead>\n",
       "    <tr style=\"text-align: right;\">\n",
       "      <th></th>\n",
       "      <th>Prediction</th>\n",
       "      <th>Actual</th>\n",
       "    </tr>\n",
       "  </thead>\n",
       "  <tbody>\n",
       "    <tr>\n",
       "      <th>33553</th>\n",
       "      <td>0.0</td>\n",
       "      <td>0.0</td>\n",
       "    </tr>\n",
       "    <tr>\n",
       "      <th>9427</th>\n",
       "      <td>0.0</td>\n",
       "      <td>0.0</td>\n",
       "    </tr>\n",
       "    <tr>\n",
       "      <th>199</th>\n",
       "      <td>1.0</td>\n",
       "      <td>1.0</td>\n",
       "    </tr>\n",
       "    <tr>\n",
       "      <th>12447</th>\n",
       "      <td>0.0</td>\n",
       "      <td>0.0</td>\n",
       "    </tr>\n",
       "    <tr>\n",
       "      <th>39489</th>\n",
       "      <td>0.0</td>\n",
       "      <td>0.0</td>\n",
       "    </tr>\n",
       "  </tbody>\n",
       "</table>\n",
       "</div>"
      ],
      "text/plain": [
       "       Prediction  Actual\n",
       "33553         0.0     0.0\n",
       "9427          0.0     0.0\n",
       "199           1.0     1.0\n",
       "12447         0.0     0.0\n",
       "39489         0.0     0.0"
      ]
     },
     "execution_count": 30,
     "metadata": {},
     "output_type": "execute_result"
    }
   ],
   "source": [
    "predictions = classifier.predict(X_test)\n",
    "pd.DataFrame({\"Prediction\": predictions, \"Actual\": y_test}).head()"
   ]
  },
  {
   "cell_type": "markdown",
   "metadata": {},
   "source": [
    "# K Nearest Neighbor"
   ]
  },
  {
   "cell_type": "code",
   "execution_count": 31,
   "metadata": {},
   "outputs": [
    {
     "name": "stdout",
     "output_type": "stream",
     "text": [
      "99.89\n"
     ]
    }
   ],
   "source": [
    "# KNN \n",
    "knn = KNeighborsClassifier(n_neighbors = 3) \n",
    "knn.fit(X_train, y_train)  \n",
    "Y_pred = knn.predict(X_test)  \n",
    "acc_knn = round(knn.score(X_train, y_train) * 100, 2)\n",
    "print(acc_knn)"
   ]
  },
  {
   "cell_type": "code",
   "execution_count": null,
   "metadata": {},
   "outputs": [],
   "source": []
  }
 ],
 "metadata": {
  "kernelspec": {
   "display_name": "Python 3",
   "language": "python",
   "name": "python3"
  },
  "language_info": {
   "codemirror_mode": {
    "name": "ipython",
    "version": 3
   },
   "file_extension": ".py",
   "mimetype": "text/x-python",
   "name": "python",
   "nbconvert_exporter": "python",
   "pygments_lexer": "ipython3",
   "version": "3.6.5"
  }
 },
 "nbformat": 4,
 "nbformat_minor": 2
}
