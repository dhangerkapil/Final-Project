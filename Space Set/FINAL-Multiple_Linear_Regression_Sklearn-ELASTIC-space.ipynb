{
 "cells": [
  {
   "cell_type": "code",
   "execution_count": 1,
   "metadata": {
    "slideshow": {
     "slide_type": "skip"
    }
   },
   "outputs": [],
   "source": [
    "%matplotlib inline\n",
    "import matplotlib.pyplot as plt\n",
    "import numpy as np\n",
    "import pandas as pd\n",
    "from sklearn.datasets.samples_generator import make_blobs\n",
    "from sklearn.linear_model import ElasticNet\n",
    "from sklearn.datasets import make_regression\n",
    "\n",
    "\n",
    "\n",
    "\n",
    "\n",
    "\n"
   ]
  },
  {
   "cell_type": "code",
   "execution_count": 2,
   "metadata": {},
   "outputs": [
    {
     "data": {
      "text/html": [
       "<div>\n",
       "<style scoped>\n",
       "    .dataframe tbody tr th:only-of-type {\n",
       "        vertical-align: middle;\n",
       "    }\n",
       "\n",
       "    .dataframe tbody tr th {\n",
       "        vertical-align: top;\n",
       "    }\n",
       "\n",
       "    .dataframe thead th {\n",
       "        text-align: right;\n",
       "    }\n",
       "</style>\n",
       "<table border=\"1\" class=\"dataframe\">\n",
       "  <thead>\n",
       "    <tr style=\"text-align: right;\">\n",
       "      <th></th>\n",
       "      <th>object_id</th>\n",
       "      <th>mjd</th>\n",
       "      <th>passband</th>\n",
       "      <th>flux</th>\n",
       "      <th>flux_err</th>\n",
       "      <th>detected</th>\n",
       "    </tr>\n",
       "  </thead>\n",
       "  <tbody>\n",
       "    <tr>\n",
       "      <th>0</th>\n",
       "      <td>615</td>\n",
       "      <td>59750.4229</td>\n",
       "      <td>2</td>\n",
       "      <td>-544.810303</td>\n",
       "      <td>3.622952</td>\n",
       "      <td>1</td>\n",
       "    </tr>\n",
       "    <tr>\n",
       "      <th>1</th>\n",
       "      <td>615</td>\n",
       "      <td>59750.4306</td>\n",
       "      <td>1</td>\n",
       "      <td>-816.434326</td>\n",
       "      <td>5.553370</td>\n",
       "      <td>1</td>\n",
       "    </tr>\n",
       "    <tr>\n",
       "      <th>2</th>\n",
       "      <td>615</td>\n",
       "      <td>59750.4383</td>\n",
       "      <td>3</td>\n",
       "      <td>-471.385529</td>\n",
       "      <td>3.801213</td>\n",
       "      <td>1</td>\n",
       "    </tr>\n",
       "    <tr>\n",
       "      <th>3</th>\n",
       "      <td>615</td>\n",
       "      <td>59750.4450</td>\n",
       "      <td>4</td>\n",
       "      <td>-388.984985</td>\n",
       "      <td>11.395031</td>\n",
       "      <td>1</td>\n",
       "    </tr>\n",
       "    <tr>\n",
       "      <th>4</th>\n",
       "      <td>615</td>\n",
       "      <td>59752.4070</td>\n",
       "      <td>2</td>\n",
       "      <td>-681.858887</td>\n",
       "      <td>4.041204</td>\n",
       "      <td>1</td>\n",
       "    </tr>\n",
       "  </tbody>\n",
       "</table>\n",
       "</div>"
      ],
      "text/plain": [
       "   object_id         mjd  passband        flux   flux_err  detected\n",
       "0        615  59750.4229         2 -544.810303   3.622952         1\n",
       "1        615  59750.4306         1 -816.434326   5.553370         1\n",
       "2        615  59750.4383         3 -471.385529   3.801213         1\n",
       "3        615  59750.4450         4 -388.984985  11.395031         1\n",
       "4        615  59752.4070         2 -681.858887   4.041204         1"
      ]
     },
     "execution_count": 2,
     "metadata": {},
     "output_type": "execute_result"
    }
   ],
   "source": [
    "calhouse = pd.read_csv('space_training_set.csv')\n",
    "calhouse.head()"
   ]
  },
  {
   "cell_type": "code",
   "execution_count": 4,
   "metadata": {},
   "outputs": [
    {
     "name": "stdout",
     "output_type": "stream",
     "text": [
      "(1421705, 3) (1421705, 1)\n"
     ]
    },
    {
     "data": {
      "text/html": [
       "<div>\n",
       "<style scoped>\n",
       "    .dataframe tbody tr th:only-of-type {\n",
       "        vertical-align: middle;\n",
       "    }\n",
       "\n",
       "    .dataframe tbody tr th {\n",
       "        vertical-align: top;\n",
       "    }\n",
       "\n",
       "    .dataframe thead th {\n",
       "        text-align: right;\n",
       "    }\n",
       "</style>\n",
       "<table border=\"1\" class=\"dataframe\">\n",
       "  <thead>\n",
       "    <tr style=\"text-align: right;\">\n",
       "      <th></th>\n",
       "      <th>mjd</th>\n",
       "      <th>passband</th>\n",
       "      <th>flux_err</th>\n",
       "    </tr>\n",
       "  </thead>\n",
       "  <tbody>\n",
       "    <tr>\n",
       "      <th>0</th>\n",
       "      <td>59750.4229</td>\n",
       "      <td>2</td>\n",
       "      <td>3.622952</td>\n",
       "    </tr>\n",
       "    <tr>\n",
       "      <th>1</th>\n",
       "      <td>59750.4306</td>\n",
       "      <td>1</td>\n",
       "      <td>5.553370</td>\n",
       "    </tr>\n",
       "    <tr>\n",
       "      <th>2</th>\n",
       "      <td>59750.4383</td>\n",
       "      <td>3</td>\n",
       "      <td>3.801213</td>\n",
       "    </tr>\n",
       "    <tr>\n",
       "      <th>3</th>\n",
       "      <td>59750.4450</td>\n",
       "      <td>4</td>\n",
       "      <td>11.395031</td>\n",
       "    </tr>\n",
       "    <tr>\n",
       "      <th>4</th>\n",
       "      <td>59752.4070</td>\n",
       "      <td>2</td>\n",
       "      <td>4.041204</td>\n",
       "    </tr>\n",
       "    <tr>\n",
       "      <th>5</th>\n",
       "      <td>59752.4147</td>\n",
       "      <td>1</td>\n",
       "      <td>6.472994</td>\n",
       "    </tr>\n",
       "    <tr>\n",
       "      <th>6</th>\n",
       "      <td>59752.4224</td>\n",
       "      <td>3</td>\n",
       "      <td>3.552751</td>\n",
       "    </tr>\n",
       "    <tr>\n",
       "      <th>7</th>\n",
       "      <td>59752.4334</td>\n",
       "      <td>4</td>\n",
       "      <td>3.599346</td>\n",
       "    </tr>\n",
       "    <tr>\n",
       "      <th>8</th>\n",
       "      <td>59752.4435</td>\n",
       "      <td>5</td>\n",
       "      <td>10.421921</td>\n",
       "    </tr>\n",
       "    <tr>\n",
       "      <th>9</th>\n",
       "      <td>59767.2968</td>\n",
       "      <td>2</td>\n",
       "      <td>3.462291</td>\n",
       "    </tr>\n",
       "    <tr>\n",
       "      <th>10</th>\n",
       "      <td>59767.3045</td>\n",
       "      <td>1</td>\n",
       "      <td>5.293019</td>\n",
       "    </tr>\n",
       "    <tr>\n",
       "      <th>11</th>\n",
       "      <td>59767.3122</td>\n",
       "      <td>3</td>\n",
       "      <td>3.340643</td>\n",
       "    </tr>\n",
       "    <tr>\n",
       "      <th>12</th>\n",
       "      <td>59767.3233</td>\n",
       "      <td>4</td>\n",
       "      <td>3.496113</td>\n",
       "    </tr>\n",
       "    <tr>\n",
       "      <th>13</th>\n",
       "      <td>59767.3343</td>\n",
       "      <td>5</td>\n",
       "      <td>6.377517</td>\n",
       "    </tr>\n",
       "    <tr>\n",
       "      <th>14</th>\n",
       "      <td>59770.2179</td>\n",
       "      <td>2</td>\n",
       "      <td>3.927843</td>\n",
       "    </tr>\n",
       "    <tr>\n",
       "      <th>15</th>\n",
       "      <td>59770.2256</td>\n",
       "      <td>1</td>\n",
       "      <td>5.875329</td>\n",
       "    </tr>\n",
       "    <tr>\n",
       "      <th>16</th>\n",
       "      <td>59770.2334</td>\n",
       "      <td>3</td>\n",
       "      <td>3.736262</td>\n",
       "    </tr>\n",
       "    <tr>\n",
       "      <th>17</th>\n",
       "      <td>59770.2445</td>\n",
       "      <td>4</td>\n",
       "      <td>3.834955</td>\n",
       "    </tr>\n",
       "    <tr>\n",
       "      <th>18</th>\n",
       "      <td>59770.2557</td>\n",
       "      <td>5</td>\n",
       "      <td>7.435979</td>\n",
       "    </tr>\n",
       "    <tr>\n",
       "      <th>19</th>\n",
       "      <td>59779.3188</td>\n",
       "      <td>2</td>\n",
       "      <td>4.333287</td>\n",
       "    </tr>\n",
       "    <tr>\n",
       "      <th>20</th>\n",
       "      <td>59779.3265</td>\n",
       "      <td>1</td>\n",
       "      <td>6.306800</td>\n",
       "    </tr>\n",
       "    <tr>\n",
       "      <th>21</th>\n",
       "      <td>59779.3342</td>\n",
       "      <td>3</td>\n",
       "      <td>3.915225</td>\n",
       "    </tr>\n",
       "    <tr>\n",
       "      <th>22</th>\n",
       "      <td>59779.3452</td>\n",
       "      <td>4</td>\n",
       "      <td>4.089213</td>\n",
       "    </tr>\n",
       "    <tr>\n",
       "      <th>23</th>\n",
       "      <td>59779.3562</td>\n",
       "      <td>5</td>\n",
       "      <td>8.124096</td>\n",
       "    </tr>\n",
       "    <tr>\n",
       "      <th>24</th>\n",
       "      <td>59782.1897</td>\n",
       "      <td>2</td>\n",
       "      <td>2.819228</td>\n",
       "    </tr>\n",
       "    <tr>\n",
       "      <th>25</th>\n",
       "      <td>59782.1974</td>\n",
       "      <td>1</td>\n",
       "      <td>4.028310</td>\n",
       "    </tr>\n",
       "    <tr>\n",
       "      <th>26</th>\n",
       "      <td>59782.2051</td>\n",
       "      <td>3</td>\n",
       "      <td>3.491153</td>\n",
       "    </tr>\n",
       "    <tr>\n",
       "      <th>27</th>\n",
       "      <td>59782.2162</td>\n",
       "      <td>4</td>\n",
       "      <td>4.021619</td>\n",
       "    </tr>\n",
       "    <tr>\n",
       "      <th>28</th>\n",
       "      <td>59782.2274</td>\n",
       "      <td>5</td>\n",
       "      <td>8.514805</td>\n",
       "    </tr>\n",
       "    <tr>\n",
       "      <th>29</th>\n",
       "      <td>59797.2861</td>\n",
       "      <td>2</td>\n",
       "      <td>3.098059</td>\n",
       "    </tr>\n",
       "    <tr>\n",
       "      <th>...</th>\n",
       "      <td>...</td>\n",
       "      <td>...</td>\n",
       "      <td>...</td>\n",
       "    </tr>\n",
       "    <tr>\n",
       "      <th>1421675</th>\n",
       "      <td>60464.2127</td>\n",
       "      <td>2</td>\n",
       "      <td>23.675900</td>\n",
       "    </tr>\n",
       "    <tr>\n",
       "      <th>1421676</th>\n",
       "      <td>60466.2566</td>\n",
       "      <td>0</td>\n",
       "      <td>57.096981</td>\n",
       "    </tr>\n",
       "    <tr>\n",
       "      <th>1421677</th>\n",
       "      <td>60490.1588</td>\n",
       "      <td>2</td>\n",
       "      <td>23.430984</td>\n",
       "    </tr>\n",
       "    <tr>\n",
       "      <th>1421678</th>\n",
       "      <td>60491.1907</td>\n",
       "      <td>1</td>\n",
       "      <td>19.639900</td>\n",
       "    </tr>\n",
       "    <tr>\n",
       "      <th>1421679</th>\n",
       "      <td>60496.1248</td>\n",
       "      <td>2</td>\n",
       "      <td>23.485855</td>\n",
       "    </tr>\n",
       "    <tr>\n",
       "      <th>1421680</th>\n",
       "      <td>60497.1472</td>\n",
       "      <td>3</td>\n",
       "      <td>15.891281</td>\n",
       "    </tr>\n",
       "    <tr>\n",
       "      <th>1421681</th>\n",
       "      <td>60498.1867</td>\n",
       "      <td>3</td>\n",
       "      <td>19.349518</td>\n",
       "    </tr>\n",
       "    <tr>\n",
       "      <th>1421682</th>\n",
       "      <td>60499.1367</td>\n",
       "      <td>0</td>\n",
       "      <td>40.085011</td>\n",
       "    </tr>\n",
       "    <tr>\n",
       "      <th>1421683</th>\n",
       "      <td>60503.1145</td>\n",
       "      <td>3</td>\n",
       "      <td>27.719427</td>\n",
       "    </tr>\n",
       "    <tr>\n",
       "      <th>1421684</th>\n",
       "      <td>60505.1075</td>\n",
       "      <td>2</td>\n",
       "      <td>23.651981</td>\n",
       "    </tr>\n",
       "    <tr>\n",
       "      <th>1421685</th>\n",
       "      <td>60506.0962</td>\n",
       "      <td>5</td>\n",
       "      <td>57.588879</td>\n",
       "    </tr>\n",
       "    <tr>\n",
       "      <th>1421686</th>\n",
       "      <td>60510.2053</td>\n",
       "      <td>4</td>\n",
       "      <td>23.872086</td>\n",
       "    </tr>\n",
       "    <tr>\n",
       "      <th>1421687</th>\n",
       "      <td>60515.2731</td>\n",
       "      <td>5</td>\n",
       "      <td>46.094658</td>\n",
       "    </tr>\n",
       "    <tr>\n",
       "      <th>1421688</th>\n",
       "      <td>60524.0372</td>\n",
       "      <td>0</td>\n",
       "      <td>61.556919</td>\n",
       "    </tr>\n",
       "    <tr>\n",
       "      <th>1421689</th>\n",
       "      <td>60525.0621</td>\n",
       "      <td>0</td>\n",
       "      <td>59.821396</td>\n",
       "    </tr>\n",
       "    <tr>\n",
       "      <th>1421690</th>\n",
       "      <td>60526.1904</td>\n",
       "      <td>3</td>\n",
       "      <td>27.732946</td>\n",
       "    </tr>\n",
       "    <tr>\n",
       "      <th>1421691</th>\n",
       "      <td>60528.0336</td>\n",
       "      <td>3</td>\n",
       "      <td>27.752035</td>\n",
       "    </tr>\n",
       "    <tr>\n",
       "      <th>1421692</th>\n",
       "      <td>60530.0978</td>\n",
       "      <td>1</td>\n",
       "      <td>19.109673</td>\n",
       "    </tr>\n",
       "    <tr>\n",
       "      <th>1421693</th>\n",
       "      <td>60536.0451</td>\n",
       "      <td>5</td>\n",
       "      <td>53.119434</td>\n",
       "    </tr>\n",
       "    <tr>\n",
       "      <th>1421694</th>\n",
       "      <td>60537.1470</td>\n",
       "      <td>3</td>\n",
       "      <td>26.782366</td>\n",
       "    </tr>\n",
       "    <tr>\n",
       "      <th>1421695</th>\n",
       "      <td>60542.0489</td>\n",
       "      <td>4</td>\n",
       "      <td>14.743795</td>\n",
       "    </tr>\n",
       "    <tr>\n",
       "      <th>1421696</th>\n",
       "      <td>60543.0247</td>\n",
       "      <td>4</td>\n",
       "      <td>24.004080</td>\n",
       "    </tr>\n",
       "    <tr>\n",
       "      <th>1421697</th>\n",
       "      <td>60545.9844</td>\n",
       "      <td>5</td>\n",
       "      <td>77.931732</td>\n",
       "    </tr>\n",
       "    <tr>\n",
       "      <th>1421698</th>\n",
       "      <td>60546.9804</td>\n",
       "      <td>5</td>\n",
       "      <td>56.351048</td>\n",
       "    </tr>\n",
       "    <tr>\n",
       "      <th>1421699</th>\n",
       "      <td>60548.9789</td>\n",
       "      <td>4</td>\n",
       "      <td>34.353317</td>\n",
       "    </tr>\n",
       "    <tr>\n",
       "      <th>1421700</th>\n",
       "      <td>60555.9838</td>\n",
       "      <td>4</td>\n",
       "      <td>46.477093</td>\n",
       "    </tr>\n",
       "    <tr>\n",
       "      <th>1421701</th>\n",
       "      <td>60560.0459</td>\n",
       "      <td>1</td>\n",
       "      <td>18.947685</td>\n",
       "    </tr>\n",
       "    <tr>\n",
       "      <th>1421702</th>\n",
       "      <td>60571.0225</td>\n",
       "      <td>5</td>\n",
       "      <td>50.695290</td>\n",
       "    </tr>\n",
       "    <tr>\n",
       "      <th>1421703</th>\n",
       "      <td>60585.9974</td>\n",
       "      <td>4</td>\n",
       "      <td>44.819859</td>\n",
       "    </tr>\n",
       "    <tr>\n",
       "      <th>1421704</th>\n",
       "      <td>60588.0372</td>\n",
       "      <td>0</td>\n",
       "      <td>51.665123</td>\n",
       "    </tr>\n",
       "  </tbody>\n",
       "</table>\n",
       "<p>1421705 rows × 3 columns</p>\n",
       "</div>"
      ],
      "text/plain": [
       "                mjd  passband   flux_err\n",
       "0        59750.4229         2   3.622952\n",
       "1        59750.4306         1   5.553370\n",
       "2        59750.4383         3   3.801213\n",
       "3        59750.4450         4  11.395031\n",
       "4        59752.4070         2   4.041204\n",
       "5        59752.4147         1   6.472994\n",
       "6        59752.4224         3   3.552751\n",
       "7        59752.4334         4   3.599346\n",
       "8        59752.4435         5  10.421921\n",
       "9        59767.2968         2   3.462291\n",
       "10       59767.3045         1   5.293019\n",
       "11       59767.3122         3   3.340643\n",
       "12       59767.3233         4   3.496113\n",
       "13       59767.3343         5   6.377517\n",
       "14       59770.2179         2   3.927843\n",
       "15       59770.2256         1   5.875329\n",
       "16       59770.2334         3   3.736262\n",
       "17       59770.2445         4   3.834955\n",
       "18       59770.2557         5   7.435979\n",
       "19       59779.3188         2   4.333287\n",
       "20       59779.3265         1   6.306800\n",
       "21       59779.3342         3   3.915225\n",
       "22       59779.3452         4   4.089213\n",
       "23       59779.3562         5   8.124096\n",
       "24       59782.1897         2   2.819228\n",
       "25       59782.1974         1   4.028310\n",
       "26       59782.2051         3   3.491153\n",
       "27       59782.2162         4   4.021619\n",
       "28       59782.2274         5   8.514805\n",
       "29       59797.2861         2   3.098059\n",
       "...             ...       ...        ...\n",
       "1421675  60464.2127         2  23.675900\n",
       "1421676  60466.2566         0  57.096981\n",
       "1421677  60490.1588         2  23.430984\n",
       "1421678  60491.1907         1  19.639900\n",
       "1421679  60496.1248         2  23.485855\n",
       "1421680  60497.1472         3  15.891281\n",
       "1421681  60498.1867         3  19.349518\n",
       "1421682  60499.1367         0  40.085011\n",
       "1421683  60503.1145         3  27.719427\n",
       "1421684  60505.1075         2  23.651981\n",
       "1421685  60506.0962         5  57.588879\n",
       "1421686  60510.2053         4  23.872086\n",
       "1421687  60515.2731         5  46.094658\n",
       "1421688  60524.0372         0  61.556919\n",
       "1421689  60525.0621         0  59.821396\n",
       "1421690  60526.1904         3  27.732946\n",
       "1421691  60528.0336         3  27.752035\n",
       "1421692  60530.0978         1  19.109673\n",
       "1421693  60536.0451         5  53.119434\n",
       "1421694  60537.1470         3  26.782366\n",
       "1421695  60542.0489         4  14.743795\n",
       "1421696  60543.0247         4  24.004080\n",
       "1421697  60545.9844         5  77.931732\n",
       "1421698  60546.9804         5  56.351048\n",
       "1421699  60548.9789         4  34.353317\n",
       "1421700  60555.9838         4  46.477093\n",
       "1421701  60560.0459         1  18.947685\n",
       "1421702  60571.0225         5  50.695290\n",
       "1421703  60585.9974         4  44.819859\n",
       "1421704  60588.0372         0  51.665123\n",
       "\n",
       "[1421705 rows x 3 columns]"
      ]
     },
     "execution_count": 4,
     "metadata": {},
     "output_type": "execute_result"
    }
   ],
   "source": [
    "\n",
    "\n",
    "X = calhouse[[\"mjd\", \"passband\", \"flux_err\"]]\n",
    "y = calhouse[\"object_id\"].values.reshape(-1, 1)\n",
    "print(X.shape, y.shape)\n",
    "A=X\n",
    "b=y\n",
    "X"
   ]
  },
  {
   "cell_type": "markdown",
   "metadata": {
    "slideshow": {
     "slide_type": "slide"
    }
   },
   "source": [
    "# Multiple Linear Regression"
   ]
  },
  {
   "cell_type": "markdown",
   "metadata": {
    "slideshow": {
     "slide_type": "subslide"
    }
   },
   "source": [
    "Multiple Linear Regression simply means that you have more than one feature variable.\n",
    "\n",
    "For the Housing Price example, you may have features like this:\n",
    "\n",
    "$Y_i$ = $Bias_0$ + $Weight_1$ sq_feet + $Weight_2$ num_bedrooms + $Weight_3$ num_bathrooms\n",
    "\n",
    "Note: The weights are how important each feature is to the equation. This is the part that the algorithm has to learn."
   ]
  },
  {
   "cell_type": "markdown",
   "metadata": {
    "slideshow": {
     "slide_type": "fragment"
    }
   },
   "source": [
    "The generic formula is:\n",
    "\n",
    "$Y_i = Bias_0 + Weight_1 Feature_1 + Weight_2 Feature_2 + \\ldots + Weight_p Feature_p$"
   ]
  },
  {
   "cell_type": "markdown",
   "metadata": {
    "slideshow": {
     "slide_type": "fragment"
    }
   },
   "source": [
    "The equation is often written as:\n",
    "\n",
    "$Y_i = \\theta_0 + \\theta_1 X_{i1} + \\theta_2 X_{i2} + \\ldots + \\theta_p X_{ip}$"
   ]
  },
  {
   "cell_type": "markdown",
   "metadata": {
    "slideshow": {
     "slide_type": "subslide"
    }
   },
   "source": [
    "Generate a linear dataset with 3 features"
   ]
  },
  {
   "cell_type": "code",
   "execution_count": 5,
   "metadata": {
    "slideshow": {
     "slide_type": "fragment"
    }
   },
   "outputs": [
    {
     "name": "stdout",
     "output_type": "stream",
     "text": [
      "(1421705, 3)\n",
      "                mjd  passband   flux_err\n",
      "0        59750.4229         2   3.622952\n",
      "1        59750.4306         1   5.553370\n",
      "2        59750.4383         3   3.801213\n",
      "3        59750.4450         4  11.395031\n",
      "4        59752.4070         2   4.041204\n",
      "5        59752.4147         1   6.472994\n",
      "6        59752.4224         3   3.552751\n",
      "7        59752.4334         4   3.599346\n",
      "8        59752.4435         5  10.421921\n",
      "9        59767.2968         2   3.462291\n",
      "10       59767.3045         1   5.293019\n",
      "11       59767.3122         3   3.340643\n",
      "12       59767.3233         4   3.496113\n",
      "13       59767.3343         5   6.377517\n",
      "14       59770.2179         2   3.927843\n",
      "15       59770.2256         1   5.875329\n",
      "16       59770.2334         3   3.736262\n",
      "17       59770.2445         4   3.834955\n",
      "18       59770.2557         5   7.435979\n",
      "19       59779.3188         2   4.333287\n",
      "20       59779.3265         1   6.306800\n",
      "21       59779.3342         3   3.915225\n",
      "22       59779.3452         4   4.089213\n",
      "23       59779.3562         5   8.124096\n",
      "24       59782.1897         2   2.819228\n",
      "25       59782.1974         1   4.028310\n",
      "26       59782.2051         3   3.491153\n",
      "27       59782.2162         4   4.021619\n",
      "28       59782.2274         5   8.514805\n",
      "29       59797.2861         2   3.098059\n",
      "...             ...       ...        ...\n",
      "1421675  60464.2127         2  23.675900\n",
      "1421676  60466.2566         0  57.096981\n",
      "1421677  60490.1588         2  23.430984\n",
      "1421678  60491.1907         1  19.639900\n",
      "1421679  60496.1248         2  23.485855\n",
      "1421680  60497.1472         3  15.891281\n",
      "1421681  60498.1867         3  19.349518\n",
      "1421682  60499.1367         0  40.085011\n",
      "1421683  60503.1145         3  27.719427\n",
      "1421684  60505.1075         2  23.651981\n",
      "1421685  60506.0962         5  57.588879\n",
      "1421686  60510.2053         4  23.872086\n",
      "1421687  60515.2731         5  46.094658\n",
      "1421688  60524.0372         0  61.556919\n",
      "1421689  60525.0621         0  59.821396\n",
      "1421690  60526.1904         3  27.732946\n",
      "1421691  60528.0336         3  27.752035\n",
      "1421692  60530.0978         1  19.109673\n",
      "1421693  60536.0451         5  53.119434\n",
      "1421694  60537.1470         3  26.782366\n",
      "1421695  60542.0489         4  14.743795\n",
      "1421696  60543.0247         4  24.004080\n",
      "1421697  60545.9844         5  77.931732\n",
      "1421698  60546.9804         5  56.351048\n",
      "1421699  60548.9789         4  34.353317\n",
      "1421700  60555.9838         4  46.477093\n",
      "1421701  60560.0459         1  18.947685\n",
      "1421702  60571.0225         5  50.695290\n",
      "1421703  60585.9974         4  44.819859\n",
      "1421704  60588.0372         0  51.665123\n",
      "\n",
      "[1421705 rows x 3 columns]\n"
     ]
    }
   ],
   "source": [
    "from sklearn.datasets import make_regression\n",
    "\n",
    "#n_features = 3\n",
    "#X, y = make_regression(n_samples=30, n_features=n_features, \n",
    "#                     n_informative=n_features, random_state=42, \n",
    "#                       noise=0.5, bias=100.0)\n",
    "\n",
    "print(X.shape)\n",
    "df = pd.DataFrame(data=X)\n",
    "#del df['index']\n",
    "\n",
    "print (df)\n"
   ]
  },
  {
   "cell_type": "code",
   "execution_count": 6,
   "metadata": {},
   "outputs": [],
   "source": [
    "#X=X.values\n"
   ]
  },
  {
   "cell_type": "markdown",
   "metadata": {
    "slideshow": {
     "slide_type": "subslide"
    }
   },
   "source": [
    "With 3 or more dimensions, it becomes harder to visualize the linear trends in our data"
   ]
  },
  {
   "cell_type": "code",
   "execution_count": 7,
   "metadata": {
    "slideshow": {
     "slide_type": "fragment"
    }
   },
   "outputs": [
    {
     "data": {
      "image/png": "[encoded data removed]",
      "text/plain": [
       "<Figure size 360x360 with 1 Axes>"
      ]
     },
     "metadata": {},
     "output_type": "display_data"
    }
   ],
   "source": [
    "from mpl_toolkits.mplot3d import Axes3D\n",
    "X=X.values\n",
    "fig = plt.figure(1, figsize=(5, 5))\n",
    "axes = Axes3D(fig, elev=20, azim=45)\n",
    "axes.scatter(X[:,0], X[:,1], X[:,2], cmap=plt.cm.get_cmap(\"Spectral\"))\n",
    "plt.show()"
   ]
  },
  {
   "cell_type": "markdown",
   "metadata": {
    "slideshow": {
     "slide_type": "subslide"
    }
   },
   "source": [
    "We can still visualize 3 features as a 3D plot, but what about n-dimensions? This becomes very difficult for the human brain to visualize. "
   ]
  },
  {
   "cell_type": "markdown",
   "metadata": {
    "slideshow": {
     "slide_type": "notes"
    }
   },
   "source": [
    "We could pick just one feature from X to fit our model, but what we really want it to find a line that best fits the data in n-dimensional space. To achieve this, Linear Regression can be solved using the analytical approach called [Ordinary Least Squares](https://en.wikipedia.org/wiki/Ordinary_least_squares) or a computational approach [Gradient Descent](https://en.wikipedia.org/wiki/Gradient_descent) for estimating the parameters. Note that there are [tradeoffs](https://stats.stackexchange.com/questions/23128/solving-for-regression-parameters-in-closed-form-vs-gradient-descent) between using either approach. The Linear Regression model in Sklearn uses the Ordinary Least Squares method."
   ]
  },
  {
   "cell_type": "markdown",
   "metadata": {
    "slideshow": {
     "slide_type": "fragment"
    }
   },
   "source": [
    "Luckily, we can just supply our n-dimensional features and sklearn will fit the model using all of our features."
   ]
  },
  {
   "cell_type": "code",
   "execution_count": 8,
   "metadata": {
    "slideshow": {
     "slide_type": "subslide"
    }
   },
   "outputs": [
    {
     "name": "stdout",
     "output_type": "stream",
     "text": [
      "R2 Score: 0.022301427740605062\n"
     ]
    }
   ],
   "source": [
    "from sklearn.linear_model import LinearRegression\n",
    "model = LinearRegression()\n",
    "\n",
    "# Fitting our model with all of our features in X\n",
    "model.fit(X, y)\n",
    "\n",
    "score = model.score(X, y)\n",
    "print(f\"R2 Score: {score}\")"
   ]
  },
  {
   "cell_type": "markdown",
   "metadata": {
    "slideshow": {
     "slide_type": "slide"
    }
   },
   "source": [
    "## Residuals"
   ]
  },
  {
   "cell_type": "markdown",
   "metadata": {
    "slideshow": {
     "slide_type": "fragment"
    }
   },
   "source": [
    "Because we can't easily plot our line in 3D space, we can use a residual plot to check our predictions."
   ]
  },
  {
   "cell_type": "markdown",
   "metadata": {
    "slideshow": {
     "slide_type": "fragment"
    }
   },
   "source": [
    "Residuals are the difference between the true values of y and the predicted values of y."
   ]
  },
  {
   "cell_type": "code",
   "execution_count": 9,
   "metadata": {
    "slideshow": {
     "slide_type": "subslide"
    }
   },
   "outputs": [
    {
     "data": {
      "image/png": "[encoded data removed]",
      "text/plain": [
       "<Figure size 432x288 with 1 Axes>"
      ]
     },
     "metadata": {},
     "output_type": "display_data"
    }
   ],
   "source": [
    "predictions = model.predict(X)\n",
    "# Plot Residuals\n",
    "plt.scatter(predictions, predictions - y)\n",
    "plt.hlines(y=0, xmin=predictions.min(), xmax=predictions.max())\n",
    "plt.show()"
   ]
  },
  {
   "cell_type": "code",
   "execution_count": 10,
   "metadata": {},
   "outputs": [],
   "source": [
    "#We want our predictions to be close to zero on the y-axis in this plot."
   ]
  },
  {
   "cell_type": "code",
   "execution_count": 11,
   "metadata": {},
   "outputs": [],
   "source": [
    "#ELASTICNET ANALYSIS"
   ]
  },
  {
   "cell_type": "code",
   "execution_count": 12,
   "metadata": {},
   "outputs": [
    {
     "name": "stdout",
     "output_type": "stream",
     "text": [
      "[2.03957233e+02 3.18155758e+06 9.29354523e+01]\n",
      "[12795111.83087184]\n"
     ]
    }
   ],
   "source": [
    "#X, y = make_regression(n_features=2, random_state=0)\n",
    "# A and b are same as X and y\n",
    "\n",
    "regr = ElasticNet(random_state=0)\n",
    "\n",
    "#n12 = np.squeeze(np.asarray(n2))\n",
    "\n",
    "#X12 = np.squeeze(np.asarray(x1))\n",
    "\n",
    "regr.fit(A, b)\n",
    "\n",
    "ElasticNet(alpha=1.0, copy_X=True, fit_intercept=True, l1_ratio=0.5,\n",
    "      max_iter=1000, normalize=False, positive=False, precompute=False,\n",
    "      random_state=0, selection='cyclic', tol=0.0001, warm_start=False)\n",
    "      \n",
    "print(regr.coef_) \n",
    "\n",
    "print(regr.intercept_) \n",
    "\n",
    "#print(regr.predict([[0,0]])) "
   ]
  },
  {
   "cell_type": "markdown",
   "metadata": {
    "slideshow": {
     "slide_type": "fragment"
    }
   },
   "source": []
  },
  {
   "cell_type": "code",
   "execution_count": null,
   "metadata": {},
   "outputs": [],
   "source": []
  }
 ],
 "metadata": {
  "anaconda-cloud": {},
  "celltoolbar": "Slideshow",
  "kernelspec": {
   "display_name": "Python 3",
   "language": "python",
   "name": "python3"
  },
  "language_info": {
   "codemirror_mode": {
    "name": "ipython",
    "version": 3
   },
   "file_extension": ".py",
   "mimetype": "text/x-python",
   "name": "python",
   "nbconvert_exporter": "python",
   "pygments_lexer": "ipython3",
   "version": "3.6.5"
  },
  "varInspector": {
   "cols": {
    "lenName": 16,
    "lenType": 16,
    "lenVar": 40
   },
   "kernels_config": {
    "python": {
     "delete_cmd_postfix": "",
     "delete_cmd_prefix": "del ",
     "library": "var_list.py",
     "varRefreshCmd": "print(var_dic_list())"
    },
    "r": {
     "delete_cmd_postfix": ") ",
     "delete_cmd_prefix": "rm(",
     "library": "var_list.r",
     "varRefreshCmd": "cat(var_dic_list()) "
    }
   },
   "types_to_exclude": [
    "module",
    "function",
    "builtin_function_or_method",
    "instance",
    "_Feature"
   ],
   "window_display": false
  }
 },
 "nbformat": 4,
 "nbformat_minor": 2
}
